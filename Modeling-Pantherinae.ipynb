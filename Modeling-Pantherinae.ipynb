{
 "cells": [
  {
   "cell_type": "code",
   "execution_count": 1,
   "metadata": {},
   "outputs": [],
   "source": [
    "import pandas as pd\n",
    "import numpy as np\n",
    "import matplotlib.pyplot as plt\n",
    "%matplotlib inline\n",
    "import seaborn as sns\n",
    "from sklearn.metrics import confusion_matrix\n",
    "\n",
    "from sklearn.model_selection import train_test_split\n",
    "from sklearn.preprocessing import StandardScaler, MinMaxScaler, OneHotEncoder\n",
    "\n",
    "from xgboost import XGBClassifier\n",
    "from sklearn.svm import SVC\n",
    "from sklearn.naive_bayes import GaussianNB, CategoricalNB\n",
    "from sklearn.linear_model import LogisticRegression\n",
    "from sklearn.neighbors import KNeighborsClassifier\n",
    "from sklearn.tree import DecisionTreeClassifier\n",
    "from sklearn.ensemble import RandomForestClassifier\n",
    "\n",
    "from xgboost import plot_importance\n",
    "\n"
   ]
  },
  {
   "cell_type": "code",
   "execution_count": 2,
   "metadata": {},
   "outputs": [],
   "source": [
    "df = pd.read_csv('features_cleaned.csv')"
   ]
  },
  {
   "cell_type": "code",
   "execution_count": 3,
   "metadata": {},
   "outputs": [
    {
     "data": {
      "text/plain": [
       "(606, 18)"
      ]
     },
     "execution_count": 3,
     "metadata": {},
     "output_type": "execute_result"
    }
   ],
   "source": [
    "df.shape"
   ]
  },
  {
   "cell_type": "code",
   "execution_count": 4,
   "metadata": {},
   "outputs": [],
   "source": [
    "df = df[df.Species.isin(['Clouded leopard','Snow leopard', 'Jaguar','Leopard','Lion'])]"
   ]
  },
  {
   "cell_type": "code",
   "execution_count": 5,
   "metadata": {},
   "outputs": [
    {
     "data": {
      "text/plain": [
       "(143, 18)"
      ]
     },
     "execution_count": 5,
     "metadata": {},
     "output_type": "execute_result"
    }
   ],
   "source": [
    "df.shape"
   ]
  },
  {
   "cell_type": "code",
   "execution_count": 6,
   "metadata": {},
   "outputs": [
    {
     "data": {
      "text/plain": [
       "Index(['Partials', 'Zero_Crossings', 'Duration', 'Amp_range', 'Avg_amp',\n",
       "       'Freq_range', 'Pulses_per_Sec', 'MFCC', 'Spectral Rolloff',\n",
       "       'Melspectrogram', 'Spectral Contrast', 'Chromagram', 'Tempogram', 'Sex',\n",
       "       'Age', 'Species', 'Call', 'File Name'],\n",
       "      dtype='object')"
      ]
     },
     "execution_count": 6,
     "metadata": {},
     "output_type": "execute_result"
    }
   ],
   "source": [
    "df.columns"
   ]
  },
  {
   "cell_type": "code",
   "execution_count": 7,
   "metadata": {},
   "outputs": [],
   "source": [
    "X = df[pd.notnull(df['Call'])].drop(['Call','Sex','Age','Species','File Name'], axis=1)\n",
    "y = df[pd.notnull(df['Call'])][['Call','Species']]"
   ]
  },
  {
   "cell_type": "code",
   "execution_count": 8,
   "metadata": {},
   "outputs": [],
   "source": [
    "X_train, X_test, y_train, y_test = train_test_split(X, y, test_size = 0.30)"
   ]
  },
  {
   "cell_type": "code",
   "execution_count": 9,
   "metadata": {
    "scrolled": true
   },
   "outputs": [
    {
     "name": "stdout",
     "output_type": "stream",
     "text": [
      "(100, 13)\n",
      "(43, 13)\n",
      "(100, 2)\n",
      "(43, 2)\n"
     ]
    }
   ],
   "source": [
    "print(X_train.shape)\n",
    "print(X_test.shape)\n",
    "print(y_train.shape)\n",
    "print(y_test.shape)"
   ]
  },
  {
   "cell_type": "code",
   "execution_count": 10,
   "metadata": {},
   "outputs": [
    {
     "name": "stdout",
     "output_type": "stream",
     "text": [
      "Total Call Values\n",
      "roar       65\n",
      "prusten    44\n",
      "growl      20\n",
      "hiss        6\n",
      "puff        5\n",
      "Mew         3\n",
      "Name: Call, dtype: int64\n",
      "\n",
      "\n",
      "Call values for Training\n",
      "roar       43\n",
      "prusten    32\n",
      "growl      14\n",
      "puff        4\n",
      "hiss        4\n",
      "Mew         3\n",
      "Name: Call, dtype: int64\n",
      "\n",
      "\n",
      "Call values for Testing\n",
      "roar       22\n",
      "prusten    12\n",
      "growl       6\n",
      "hiss        2\n",
      "puff        1\n",
      "Name: Call, dtype: int64\n"
     ]
    }
   ],
   "source": [
    "print('Total Call Values')\n",
    "print(df['Call'].value_counts())\n",
    "print('\\n')\n",
    "print('Call values for Training')\n",
    "print(y_train.Call.value_counts())\n",
    "print('\\n')\n",
    "print('Call values for Testing')\n",
    "print(y_test.Call.value_counts())"
   ]
  },
  {
   "cell_type": "code",
   "execution_count": 11,
   "metadata": {},
   "outputs": [
    {
     "name": "stdout",
     "output_type": "stream",
     "text": [
      "Calls trained for but not tested for\n",
      "{'Mew'}\n",
      "Calls test for but not trained for\n",
      "set()\n"
     ]
    }
   ],
   "source": [
    "print('Calls trained for but not tested for')\n",
    "print(set(np.unique(y_train.Call))-set(np.unique(y_test.Call)))\n",
    "print('Calls test for but not trained for')\n",
    "print(set(np.unique(y_test.Call))-set(np.unique(y_train.Call)))"
   ]
  },
  {
   "cell_type": "code",
   "execution_count": 12,
   "metadata": {},
   "outputs": [
    {
     "name": "stdout",
     "output_type": "stream",
     "text": [
      "Total Species values\n",
      "Leopard            45\n",
      "Clouded leopard    35\n",
      "Lion               34\n",
      "Jaguar             22\n",
      "Snow leopard        7\n",
      "Name: Species, dtype: int64\n",
      "\n",
      "\n",
      "Species values for Training\n",
      "Leopard            32\n",
      "Clouded leopard    25\n",
      "Lion               22\n",
      "Jaguar             15\n",
      "Snow leopard        6\n",
      "Name: Species, dtype: int64\n",
      "\n",
      "\n",
      "Species values for Testing\n",
      "Leopard            13\n",
      "Lion               12\n",
      "Clouded leopard    10\n",
      "Jaguar              7\n",
      "Snow leopard        1\n",
      "Name: Species, dtype: int64\n"
     ]
    }
   ],
   "source": [
    "print('Total Species values')\n",
    "print(df['Species'].value_counts())\n",
    "print('\\n')\n",
    "print('Species values for Training')\n",
    "print(y_train.Species.value_counts())\n",
    "print('\\n')\n",
    "print('Species values for Testing')\n",
    "print(y_test.Species.value_counts())"
   ]
  },
  {
   "cell_type": "code",
   "execution_count": 13,
   "metadata": {},
   "outputs": [
    {
     "name": "stdout",
     "output_type": "stream",
     "text": [
      "Species trained for but not tested for\n",
      "set()\n",
      "Species test for but not trained for\n",
      "set()\n"
     ]
    }
   ],
   "source": [
    "print('Species trained for but not tested for')\n",
    "print(set(np.unique(y_train.Species))-set(np.unique(y_test.Species)))\n",
    "print('Species test for but not trained for')\n",
    "print(set(np.unique(y_test.Species))-set(np.unique(y_train.Species)))"
   ]
  },
  {
   "cell_type": "markdown",
   "metadata": {},
   "source": [
    "# Vocalization Classification"
   ]
  },
  {
   "cell_type": "markdown",
   "metadata": {},
   "source": [
    "## Splitting data"
   ]
  },
  {
   "cell_type": "code",
   "execution_count": 14,
   "metadata": {},
   "outputs": [],
   "source": [
    "y_train1 = y_train.Call\n",
    "y_test1 = y_test.Call"
   ]
  },
  {
   "cell_type": "markdown",
   "metadata": {},
   "source": [
    "## LightGBM"
   ]
  },
  {
   "cell_type": "code",
   "execution_count": 15,
   "metadata": {},
   "outputs": [
    {
     "data": {
      "text/plain": [
       "LGBMClassifier()"
      ]
     },
     "execution_count": 15,
     "metadata": {},
     "output_type": "execute_result"
    }
   ],
   "source": [
    "import lightgbm as lgb\n",
    "lgb1 = lgb.LGBMClassifier()\n",
    "lgb1.fit(X_train, y_train1)"
   ]
  },
  {
   "cell_type": "code",
   "execution_count": 16,
   "metadata": {},
   "outputs": [
    {
     "data": {
      "text/plain": [
       "0.8837209302325582"
      ]
     },
     "execution_count": 16,
     "metadata": {},
     "output_type": "execute_result"
    }
   ],
   "source": [
    "lgb1.score(X_test,y_test1)"
   ]
  },
  {
   "cell_type": "markdown",
   "metadata": {},
   "source": [
    "## XGBoost"
   ]
  },
  {
   "cell_type": "code",
   "execution_count": 17,
   "metadata": {},
   "outputs": [],
   "source": [
    "parameters = dict(\n",
    "    objective='multi:softprob',\n",
    "    random_state = 30,\n",
    "    max_depth=9,\n",
    "    learning_rate=0.01,\n",
    "    subsample=0.8,\n",
    "    colsample_bytree=0.4,\n",
    "    tree_method='gpu_hist')\n",
    "\n",
    "\n",
    "clf1 = XGBClassifier(**parameters, n_estimators=1200)"
   ]
  },
  {
   "cell_type": "code",
   "execution_count": 18,
   "metadata": {},
   "outputs": [
    {
     "name": "stderr",
     "output_type": "stream",
     "text": [
      "C:\\Users\\exant\\anaconda3\\lib\\site-packages\\xgboost\\sklearn.py:1146: UserWarning: The use of label encoder in XGBClassifier is deprecated and will be removed in a future release. To remove this warning, do the following: 1) Pass option use_label_encoder=False when constructing XGBClassifier object; and 2) Encode your labels (y) as integers starting with 0, i.e. 0, 1, 2, ..., [num_class - 1].\n",
      "  warnings.warn(label_encoder_deprecation_msg, UserWarning)\n"
     ]
    },
    {
     "name": "stdout",
     "output_type": "stream",
     "text": [
      "[02:30:30] WARNING: C:/Users/Administrator/workspace/xgboost-win64_release_1.4.0/src/learner.cc:1095: Starting in XGBoost 1.3.0, the default evaluation metric used with the objective 'multi:softprob' was changed from 'merror' to 'mlogloss'. Explicitly set eval_metric if you'd like to restore the old behavior.\n"
     ]
    },
    {
     "data": {
      "text/plain": [
       "XGBClassifier(base_score=0.5, booster='gbtree', colsample_bylevel=1,\n",
       "              colsample_bynode=1, colsample_bytree=0.4, gamma=0, gpu_id=0,\n",
       "              importance_type='gain', interaction_constraints='',\n",
       "              learning_rate=0.01, max_delta_step=0, max_depth=9,\n",
       "              min_child_weight=1, missing=nan, monotone_constraints='()',\n",
       "              n_estimators=1200, n_jobs=12, num_parallel_tree=1,\n",
       "              objective='multi:softprob', random_state=30, reg_alpha=0,\n",
       "              reg_lambda=1, scale_pos_weight=None, subsample=0.8,\n",
       "              tree_method='gpu_hist', validate_parameters=1, verbosity=None)"
      ]
     },
     "execution_count": 18,
     "metadata": {},
     "output_type": "execute_result"
    }
   ],
   "source": [
    "clf1.fit(X_train, y_train1)"
   ]
  },
  {
   "cell_type": "code",
   "execution_count": 19,
   "metadata": {},
   "outputs": [
    {
     "data": {
      "text/plain": [
       "0.8837209302325582"
      ]
     },
     "execution_count": 19,
     "metadata": {},
     "output_type": "execute_result"
    }
   ],
   "source": [
    "clf1.score(X_test,y_test1)"
   ]
  },
  {
   "cell_type": "code",
   "execution_count": 20,
   "metadata": {},
   "outputs": [],
   "source": [
    "y_clf1 = clf1.predict(X_test)\n",
    "prob_clf1 = clf1.predict_proba(X_test)"
   ]
  },
  {
   "cell_type": "code",
   "execution_count": 21,
   "metadata": {},
   "outputs": [
    {
     "name": "stdout",
     "output_type": "stream",
     "text": [
      "1. Tested Calls\n",
      "['growl' 'hiss' 'prusten' 'puff' 'roar']\n",
      "2. Predicted Calls\n",
      "['growl' 'prusten' 'puff' 'roar']\n",
      "3. Not tested for but predicted\n",
      "set()\n",
      "4. Tested for but not predicted\n",
      "{'hiss'}\n"
     ]
    }
   ],
   "source": [
    "print('1. Tested Calls')\n",
    "print(np.unique(y_test1))\n",
    "print('2. Predicted Calls')\n",
    "print(np.unique(y_clf1))\n",
    "print('3. Not tested for but predicted')\n",
    "print(set(np.unique(y_clf1))-set(np.unique(y_test1)))\n",
    "print('4. Tested for but not predicted')\n",
    "print(set(np.unique(y_test1))-set(np.unique(y_clf1)))"
   ]
  },
  {
   "cell_type": "code",
   "execution_count": 22,
   "metadata": {},
   "outputs": [
    {
     "name": "stdout",
     "output_type": "stream",
     "text": [
      "Accuracy 0.8837209302325582\n"
     ]
    },
    {
     "data": {
      "image/png": "[encoded data removed]",
      "text/plain": [
       "<Figure size 432x288 with 2 Axes>"
      ]
     },
     "metadata": {
      "needs_background": "light"
     },
     "output_type": "display_data"
    }
   ],
   "source": [
    "names = sorted(list(set(np.unique(y_test1)).union(set(y_clf1))))\n",
    "\n",
    "print('Accuracy',clf1.score(X_test, y_test1))\n",
    "\n",
    "cnf = confusion_matrix(y_test1, y_clf1)\n",
    "fig, ax = plt.subplots()\n",
    "tick_marks = np.arange(len(names))\n",
    "sns.heatmap(cnf, annot = True, xticklabels = names, cmap= \"YlGnBu\", yticklabels = names)\n",
    "ax.xaxis.set_label_position('top')\n",
    "plt.title('XGBoost Confusion Matrix')\n",
    "plt.ylabel('Actual label')\n",
    "plt.xlabel('Predicted label')\n",
    "plt.show()"
   ]
  },
  {
   "cell_type": "code",
   "execution_count": 23,
   "metadata": {},
   "outputs": [
    {
     "data": {
      "image/png": "[encoded data removed]",
      "text/plain": [
       "<Figure size 432x288 with 1 Axes>"
      ]
     },
     "metadata": {
      "needs_background": "light"
     },
     "output_type": "display_data"
    }
   ],
   "source": [
    "plot_importance(clf1)\n",
    "figsize=(5,10)"
   ]
  },
  {
   "cell_type": "markdown",
   "metadata": {},
   "source": [
    "## SVM"
   ]
  },
  {
   "cell_type": "code",
   "execution_count": 24,
   "metadata": {},
   "outputs": [],
   "source": [
    "svm1 = SVC(probability=True)"
   ]
  },
  {
   "cell_type": "code",
   "execution_count": 25,
   "metadata": {},
   "outputs": [
    {
     "data": {
      "text/plain": [
       "SVC(probability=True)"
      ]
     },
     "execution_count": 25,
     "metadata": {},
     "output_type": "execute_result"
    }
   ],
   "source": [
    "svm1.fit(X_train, y_train1)"
   ]
  },
  {
   "cell_type": "code",
   "execution_count": 26,
   "metadata": {},
   "outputs": [
    {
     "data": {
      "text/plain": [
       "0.8604651162790697"
      ]
     },
     "execution_count": 26,
     "metadata": {},
     "output_type": "execute_result"
    }
   ],
   "source": [
    "svm1.score(X_test, y_test1)"
   ]
  },
  {
   "cell_type": "code",
   "execution_count": 27,
   "metadata": {},
   "outputs": [],
   "source": [
    "y_svm1 = svm1.predict(X_test)\n",
    "prob_svm1 = svm1.predict_proba(X_test)"
   ]
  },
  {
   "cell_type": "code",
   "execution_count": 28,
   "metadata": {},
   "outputs": [
    {
     "name": "stdout",
     "output_type": "stream",
     "text": [
      "1. Tested Calls\n",
      "['growl' 'hiss' 'prusten' 'puff' 'roar']\n",
      "2. Predicted Calls\n",
      "['growl' 'prusten' 'puff' 'roar']\n",
      "3. False Positive\n",
      "set()\n",
      "4. False Negative\n",
      "{'hiss'}\n"
     ]
    }
   ],
   "source": [
    "print('1. Tested Calls')\n",
    "print(np.unique(y_test1))\n",
    "print('2. Predicted Calls')\n",
    "print(np.unique(y_svm1))\n",
    "print('3. False Positive')\n",
    "print(set(np.unique(y_svm1))-set(np.unique(y_test1)))\n",
    "print('4. False Negative')\n",
    "print(set(np.unique(y_test1))-set(np.unique(y_svm1)))"
   ]
  },
  {
   "cell_type": "code",
   "execution_count": 29,
   "metadata": {
    "scrolled": true
   },
   "outputs": [
    {
     "name": "stdout",
     "output_type": "stream",
     "text": [
      "Accuracy 0.8604651162790697\n"
     ]
    },
    {
     "data": {
      "image/png": "[encoded data removed]",
      "text/plain": [
       "<Figure size 432x288 with 2 Axes>"
      ]
     },
     "metadata": {
      "needs_background": "light"
     },
     "output_type": "display_data"
    }
   ],
   "source": [
    "names = sorted(list(set(np.unique(y_test1)).union(set(y_svm1))))\n",
    "\n",
    "print('Accuracy',svm1.score(X_test, y_test1))\n",
    "\n",
    "cnf = confusion_matrix(y_test1, y_svm1)\n",
    "fig, ax = plt.subplots()\n",
    "tick_marks = np.arange(len(names))\n",
    "sns.heatmap(cnf, annot = True, xticklabels = names, cmap= \"YlGnBu\", yticklabels = names)\n",
    "ax.xaxis.set_label_position('top')\n",
    "plt.title('SVM Confusion Matrix')\n",
    "plt.ylabel('Actual label')\n",
    "plt.xlabel('Predicted label')\n",
    "plt.show()"
   ]
  },
  {
   "cell_type": "code",
   "execution_count": 30,
   "metadata": {},
   "outputs": [
    {
     "data": {
      "text/html": [
       "<div>\n",
       "<style scoped>\n",
       "    .dataframe tbody tr th:only-of-type {\n",
       "        vertical-align: middle;\n",
       "    }\n",
       "\n",
       "    .dataframe tbody tr th {\n",
       "        vertical-align: top;\n",
       "    }\n",
       "\n",
       "    .dataframe thead th {\n",
       "        text-align: right;\n",
       "    }\n",
       "</style>\n",
       "<table border=\"1\" class=\"dataframe\">\n",
       "  <thead>\n",
       "    <tr style=\"text-align: right;\">\n",
       "      <th></th>\n",
       "      <th>File Name</th>\n",
       "      <th>Target</th>\n",
       "      <th>Mew</th>\n",
       "      <th>growl</th>\n",
       "      <th>hiss</th>\n",
       "      <th>prusten</th>\n",
       "      <th>puff</th>\n",
       "      <th>roar</th>\n",
       "      <th>Predicted</th>\n",
       "    </tr>\n",
       "  </thead>\n",
       "  <tbody>\n",
       "    <tr>\n",
       "      <th>573</th>\n",
       "      <td>LG1</td>\n",
       "      <td>growl</td>\n",
       "      <td>0.065004</td>\n",
       "      <td>0.273108</td>\n",
       "      <td>0.015987</td>\n",
       "      <td>0.016626</td>\n",
       "      <td>0.049120</td>\n",
       "      <td>0.580154</td>\n",
       "      <td>roar</td>\n",
       "    </tr>\n",
       "    <tr>\n",
       "      <th>407</th>\n",
       "      <td>Jaguar-Prusten-1</td>\n",
       "      <td>prusten</td>\n",
       "      <td>0.013055</td>\n",
       "      <td>0.444072</td>\n",
       "      <td>0.024558</td>\n",
       "      <td>0.237247</td>\n",
       "      <td>0.042519</td>\n",
       "      <td>0.238550</td>\n",
       "      <td>growl</td>\n",
       "    </tr>\n",
       "    <tr>\n",
       "      <th>576</th>\n",
       "      <td>LG2</td>\n",
       "      <td>growl</td>\n",
       "      <td>0.012610</td>\n",
       "      <td>0.325425</td>\n",
       "      <td>0.021076</td>\n",
       "      <td>0.232034</td>\n",
       "      <td>0.055797</td>\n",
       "      <td>0.353058</td>\n",
       "      <td>roar</td>\n",
       "    </tr>\n",
       "    <tr>\n",
       "      <th>401</th>\n",
       "      <td>CL-Prusten-10</td>\n",
       "      <td>prusten</td>\n",
       "      <td>0.009774</td>\n",
       "      <td>0.051372</td>\n",
       "      <td>0.024059</td>\n",
       "      <td>0.370828</td>\n",
       "      <td>0.010746</td>\n",
       "      <td>0.533220</td>\n",
       "      <td>roar</td>\n",
       "    </tr>\n",
       "    <tr>\n",
       "      <th>372</th>\n",
       "      <td>CL-Hiss</td>\n",
       "      <td>hiss</td>\n",
       "      <td>0.017037</td>\n",
       "      <td>0.023004</td>\n",
       "      <td>0.263298</td>\n",
       "      <td>0.643143</td>\n",
       "      <td>0.023865</td>\n",
       "      <td>0.029653</td>\n",
       "      <td>prusten</td>\n",
       "    </tr>\n",
       "    <tr>\n",
       "      <th>374</th>\n",
       "      <td>CL-Hiss</td>\n",
       "      <td>hiss</td>\n",
       "      <td>0.014261</td>\n",
       "      <td>0.021044</td>\n",
       "      <td>0.236319</td>\n",
       "      <td>0.690848</td>\n",
       "      <td>0.017615</td>\n",
       "      <td>0.019914</td>\n",
       "      <td>prusten</td>\n",
       "    </tr>\n",
       "  </tbody>\n",
       "</table>\n",
       "</div>"
      ],
      "text/plain": [
       "            File Name   Target       Mew     growl      hiss   prusten  \\\n",
       "573               LG1    growl  0.065004  0.273108  0.015987  0.016626   \n",
       "407  Jaguar-Prusten-1  prusten  0.013055  0.444072  0.024558  0.237247   \n",
       "576               LG2    growl  0.012610  0.325425  0.021076  0.232034   \n",
       "401     CL-Prusten-10  prusten  0.009774  0.051372  0.024059  0.370828   \n",
       "372           CL-Hiss     hiss  0.017037  0.023004  0.263298  0.643143   \n",
       "374           CL-Hiss     hiss  0.014261  0.021044  0.236319  0.690848   \n",
       "\n",
       "         puff      roar Predicted  \n",
       "573  0.049120  0.580154      roar  \n",
       "407  0.042519  0.238550     growl  \n",
       "576  0.055797  0.353058      roar  \n",
       "401  0.010746  0.533220      roar  \n",
       "372  0.023865  0.029653   prusten  \n",
       "374  0.017615  0.019914   prusten  "
      ]
     },
     "execution_count": 30,
     "metadata": {},
     "output_type": "execute_result"
    }
   ],
   "source": [
    "pred_df = pd.DataFrame(X_test.copy())\n",
    "pred_df = pred_df.drop(['Partials', 'Zero_Crossings', 'Duration', 'Amp_range', 'Avg_amp',\n",
    "       'Freq_range', 'Pulses_per_Sec', 'MFCC', 'Spectral Rolloff',\n",
    "       'Melspectrogram', 'Spectral Contrast', 'Chromagram', 'Tempogram'], axis=1)\n",
    "pred_df['File Name'] = df['File Name']\n",
    "pred_df['Target'] = y_test1\n",
    "pred_df[svm1.classes_[0]] = prob_svm1[:,0] \n",
    "pred_df[svm1.classes_[1]] = prob_svm1[:,1]\n",
    "pred_df[svm1.classes_[2]] = prob_svm1[:,2]\n",
    "pred_df[svm1.classes_[3]] = prob_svm1[:,3]\n",
    "pred_df[svm1.classes_[4]] = prob_svm1[:,4]\n",
    "pred_df[svm1.classes_[5]] = prob_svm1[:,5]\n",
    "pred_df['Predicted'] = y_svm1\n",
    "pred_df = pred_df[pred_df['Target'] != pred_df['Predicted']]\n",
    "pred_df.to_csv('Mislabeled Panterinae Calls With SVM.csv', index=False)\n",
    "pred_df.head(15)"
   ]
  },
  {
   "cell_type": "markdown",
   "metadata": {},
   "source": [
    "## Naive Bayes"
   ]
  },
  {
   "cell_type": "code",
   "execution_count": 31,
   "metadata": {},
   "outputs": [],
   "source": [
    "nb1 = GaussianNB()"
   ]
  },
  {
   "cell_type": "code",
   "execution_count": 32,
   "metadata": {},
   "outputs": [
    {
     "data": {
      "text/plain": [
       "GaussianNB()"
      ]
     },
     "execution_count": 32,
     "metadata": {},
     "output_type": "execute_result"
    }
   ],
   "source": [
    "nb1.fit(X_train, y_train1)"
   ]
  },
  {
   "cell_type": "code",
   "execution_count": 33,
   "metadata": {},
   "outputs": [
    {
     "data": {
      "text/plain": [
       "0.6976744186046512"
      ]
     },
     "execution_count": 33,
     "metadata": {},
     "output_type": "execute_result"
    }
   ],
   "source": [
    "nb1.score(X_test, y_test1)"
   ]
  },
  {
   "cell_type": "code",
   "execution_count": 34,
   "metadata": {},
   "outputs": [],
   "source": [
    "y_nb1 = nb1.predict(X_test)\n",
    "prob_nb1 = nb1.predict_proba(X_test)"
   ]
  },
  {
   "cell_type": "code",
   "execution_count": 35,
   "metadata": {},
   "outputs": [
    {
     "name": "stdout",
     "output_type": "stream",
     "text": [
      "1. Tested Calls\n",
      "['growl' 'hiss' 'prusten' 'puff' 'roar']\n",
      "2. Predicted Calls\n",
      "['growl' 'prusten' 'puff' 'roar']\n",
      "3. Not tested for but predicted\n",
      "set()\n",
      "4. Tested for but not predicted\n",
      "{'hiss'}\n"
     ]
    }
   ],
   "source": [
    "print('1. Tested Calls')\n",
    "print(np.unique(y_test1))\n",
    "print('2. Predicted Calls')\n",
    "print(np.unique(y_nb1))\n",
    "print('3. Not tested for but predicted')\n",
    "print(set(np.unique(y_nb1))-set(np.unique(y_test1)))\n",
    "print('4. Tested for but not predicted')\n",
    "print(set(np.unique(y_test1))-set(np.unique(y_nb1)))"
   ]
  },
  {
   "cell_type": "code",
   "execution_count": 36,
   "metadata": {},
   "outputs": [
    {
     "data": {
      "image/png": "[encoded data removed]",
      "text/plain": [
       "<Figure size 576x288 with 2 Axes>"
      ]
     },
     "metadata": {
      "needs_background": "light"
     },
     "output_type": "display_data"
    },
    {
     "name": "stdout",
     "output_type": "stream",
     "text": [
      "Accuracy 0.6976744186046512\n"
     ]
    }
   ],
   "source": [
    "names_nb = sorted(list(set(np.unique(y_test1)).union(set(y_nb1))))\n",
    "cnf = confusion_matrix(y_test1, y_nb1)\n",
    "fig, ax = plt.subplots(figsize=(8,4))\n",
    "\n",
    "sns.heatmap(cnf, annot=True, xticklabels=names_nb, yticklabels=names_nb,cmap= \"YlOrBr\")\n",
    "plt.title('Naive Bayes Confusion Matrix')\n",
    "ax.xaxis.set_label_position('top')\n",
    "plt.ylabel('Actual')\n",
    "plt.xlabel('Predicted')\n",
    "plt.show(block=False)\n",
    "print('Accuracy',nb1.score(X_test, y_test1))"
   ]
  },
  {
   "cell_type": "code",
   "execution_count": 37,
   "metadata": {},
   "outputs": [
    {
     "data": {
      "text/html": [
       "<div>\n",
       "<style scoped>\n",
       "    .dataframe tbody tr th:only-of-type {\n",
       "        vertical-align: middle;\n",
       "    }\n",
       "\n",
       "    .dataframe tbody tr th {\n",
       "        vertical-align: top;\n",
       "    }\n",
       "\n",
       "    .dataframe thead th {\n",
       "        text-align: right;\n",
       "    }\n",
       "</style>\n",
       "<table border=\"1\" class=\"dataframe\">\n",
       "  <thead>\n",
       "    <tr style=\"text-align: right;\">\n",
       "      <th></th>\n",
       "      <th>File Name</th>\n",
       "      <th>Target</th>\n",
       "      <th>Mew</th>\n",
       "      <th>growl</th>\n",
       "      <th>hiss</th>\n",
       "      <th>prusten</th>\n",
       "      <th>puff</th>\n",
       "      <th>roar</th>\n",
       "      <th>Predicted</th>\n",
       "    </tr>\n",
       "  </thead>\n",
       "  <tbody>\n",
       "    <tr>\n",
       "      <th>435</th>\n",
       "      <td>Leopard roaring sequence 4</td>\n",
       "      <td>roar</td>\n",
       "      <td>2.298912e-287</td>\n",
       "      <td>9.916778e-01</td>\n",
       "      <td>0.000000e+00</td>\n",
       "      <td>0.000000e+00</td>\n",
       "      <td>0.000000e+00</td>\n",
       "      <td>8.322226e-03</td>\n",
       "      <td>growl</td>\n",
       "    </tr>\n",
       "    <tr>\n",
       "      <th>407</th>\n",
       "      <td>Jaguar-Prusten-1</td>\n",
       "      <td>prusten</td>\n",
       "      <td>0.000000e+00</td>\n",
       "      <td>9.917149e-01</td>\n",
       "      <td>0.000000e+00</td>\n",
       "      <td>4.918524e-11</td>\n",
       "      <td>0.000000e+00</td>\n",
       "      <td>8.285053e-03</td>\n",
       "      <td>growl</td>\n",
       "    </tr>\n",
       "    <tr>\n",
       "      <th>605</th>\n",
       "      <td>Lion Roaring Sequence_19</td>\n",
       "      <td>roar</td>\n",
       "      <td>0.000000e+00</td>\n",
       "      <td>9.892184e-01</td>\n",
       "      <td>0.000000e+00</td>\n",
       "      <td>0.000000e+00</td>\n",
       "      <td>0.000000e+00</td>\n",
       "      <td>1.078159e-02</td>\n",
       "      <td>growl</td>\n",
       "    </tr>\n",
       "    <tr>\n",
       "      <th>591</th>\n",
       "      <td>Lion Roaring Sequence_10</td>\n",
       "      <td>roar</td>\n",
       "      <td>2.033057e-143</td>\n",
       "      <td>6.099523e-01</td>\n",
       "      <td>0.000000e+00</td>\n",
       "      <td>0.000000e+00</td>\n",
       "      <td>0.000000e+00</td>\n",
       "      <td>3.900477e-01</td>\n",
       "      <td>growl</td>\n",
       "    </tr>\n",
       "    <tr>\n",
       "      <th>585</th>\n",
       "      <td>Lion Roaring Sequence_5</td>\n",
       "      <td>roar</td>\n",
       "      <td>2.381094e-226</td>\n",
       "      <td>9.921562e-01</td>\n",
       "      <td>0.000000e+00</td>\n",
       "      <td>0.000000e+00</td>\n",
       "      <td>0.000000e+00</td>\n",
       "      <td>7.843764e-03</td>\n",
       "      <td>growl</td>\n",
       "    </tr>\n",
       "    <tr>\n",
       "      <th>420</th>\n",
       "      <td>Jaguar-Roar-2</td>\n",
       "      <td>roar</td>\n",
       "      <td>8.683888e-65</td>\n",
       "      <td>5.903876e-01</td>\n",
       "      <td>0.000000e+00</td>\n",
       "      <td>1.509058e-146</td>\n",
       "      <td>0.000000e+00</td>\n",
       "      <td>4.096124e-01</td>\n",
       "      <td>growl</td>\n",
       "    </tr>\n",
       "    <tr>\n",
       "      <th>581</th>\n",
       "      <td>Lion Roaring Sequence_1</td>\n",
       "      <td>roar</td>\n",
       "      <td>1.855343e-136</td>\n",
       "      <td>8.221171e-01</td>\n",
       "      <td>0.000000e+00</td>\n",
       "      <td>0.000000e+00</td>\n",
       "      <td>0.000000e+00</td>\n",
       "      <td>1.778829e-01</td>\n",
       "      <td>growl</td>\n",
       "    </tr>\n",
       "    <tr>\n",
       "      <th>401</th>\n",
       "      <td>CL-Prusten-10</td>\n",
       "      <td>prusten</td>\n",
       "      <td>0.000000e+00</td>\n",
       "      <td>2.645948e-02</td>\n",
       "      <td>0.000000e+00</td>\n",
       "      <td>9.304610e-10</td>\n",
       "      <td>0.000000e+00</td>\n",
       "      <td>9.735405e-01</td>\n",
       "      <td>roar</td>\n",
       "    </tr>\n",
       "    <tr>\n",
       "      <th>583</th>\n",
       "      <td>Lion Roaring Sequence_3</td>\n",
       "      <td>roar</td>\n",
       "      <td>1.072038e-318</td>\n",
       "      <td>7.391415e-01</td>\n",
       "      <td>0.000000e+00</td>\n",
       "      <td>0.000000e+00</td>\n",
       "      <td>0.000000e+00</td>\n",
       "      <td>2.608585e-01</td>\n",
       "      <td>growl</td>\n",
       "    </tr>\n",
       "    <tr>\n",
       "      <th>592</th>\n",
       "      <td>Lion Roaring Sequence_11</td>\n",
       "      <td>roar</td>\n",
       "      <td>4.617787e-308</td>\n",
       "      <td>9.970950e-01</td>\n",
       "      <td>0.000000e+00</td>\n",
       "      <td>0.000000e+00</td>\n",
       "      <td>0.000000e+00</td>\n",
       "      <td>2.904966e-03</td>\n",
       "      <td>growl</td>\n",
       "    </tr>\n",
       "    <tr>\n",
       "      <th>372</th>\n",
       "      <td>CL-Hiss</td>\n",
       "      <td>hiss</td>\n",
       "      <td>0.000000e+00</td>\n",
       "      <td>2.091787e-09</td>\n",
       "      <td>0.000000e+00</td>\n",
       "      <td>9.999993e-01</td>\n",
       "      <td>1.101706e-07</td>\n",
       "      <td>6.159280e-07</td>\n",
       "      <td>prusten</td>\n",
       "    </tr>\n",
       "    <tr>\n",
       "      <th>600</th>\n",
       "      <td>Lion Roaring Sequence_17</td>\n",
       "      <td>roar</td>\n",
       "      <td>1.148703e-144</td>\n",
       "      <td>5.023411e-01</td>\n",
       "      <td>0.000000e+00</td>\n",
       "      <td>0.000000e+00</td>\n",
       "      <td>0.000000e+00</td>\n",
       "      <td>4.976589e-01</td>\n",
       "      <td>growl</td>\n",
       "    </tr>\n",
       "    <tr>\n",
       "      <th>374</th>\n",
       "      <td>CL-Hiss</td>\n",
       "      <td>hiss</td>\n",
       "      <td>0.000000e+00</td>\n",
       "      <td>3.902826e-13</td>\n",
       "      <td>3.772903e-60</td>\n",
       "      <td>1.000000e+00</td>\n",
       "      <td>7.698377e-18</td>\n",
       "      <td>4.993593e-11</td>\n",
       "      <td>prusten</td>\n",
       "    </tr>\n",
       "  </tbody>\n",
       "</table>\n",
       "</div>"
      ],
      "text/plain": [
       "                      File Name   Target            Mew         growl  \\\n",
       "435  Leopard roaring sequence 4     roar  2.298912e-287  9.916778e-01   \n",
       "407            Jaguar-Prusten-1  prusten   0.000000e+00  9.917149e-01   \n",
       "605    Lion Roaring Sequence_19     roar   0.000000e+00  9.892184e-01   \n",
       "591    Lion Roaring Sequence_10     roar  2.033057e-143  6.099523e-01   \n",
       "585     Lion Roaring Sequence_5     roar  2.381094e-226  9.921562e-01   \n",
       "420               Jaguar-Roar-2     roar   8.683888e-65  5.903876e-01   \n",
       "581     Lion Roaring Sequence_1     roar  1.855343e-136  8.221171e-01   \n",
       "401               CL-Prusten-10  prusten   0.000000e+00  2.645948e-02   \n",
       "583     Lion Roaring Sequence_3     roar  1.072038e-318  7.391415e-01   \n",
       "592    Lion Roaring Sequence_11     roar  4.617787e-308  9.970950e-01   \n",
       "372                     CL-Hiss     hiss   0.000000e+00  2.091787e-09   \n",
       "600    Lion Roaring Sequence_17     roar  1.148703e-144  5.023411e-01   \n",
       "374                     CL-Hiss     hiss   0.000000e+00  3.902826e-13   \n",
       "\n",
       "             hiss        prusten          puff          roar Predicted  \n",
       "435  0.000000e+00   0.000000e+00  0.000000e+00  8.322226e-03     growl  \n",
       "407  0.000000e+00   4.918524e-11  0.000000e+00  8.285053e-03     growl  \n",
       "605  0.000000e+00   0.000000e+00  0.000000e+00  1.078159e-02     growl  \n",
       "591  0.000000e+00   0.000000e+00  0.000000e+00  3.900477e-01     growl  \n",
       "585  0.000000e+00   0.000000e+00  0.000000e+00  7.843764e-03     growl  \n",
       "420  0.000000e+00  1.509058e-146  0.000000e+00  4.096124e-01     growl  \n",
       "581  0.000000e+00   0.000000e+00  0.000000e+00  1.778829e-01     growl  \n",
       "401  0.000000e+00   9.304610e-10  0.000000e+00  9.735405e-01      roar  \n",
       "583  0.000000e+00   0.000000e+00  0.000000e+00  2.608585e-01     growl  \n",
       "592  0.000000e+00   0.000000e+00  0.000000e+00  2.904966e-03     growl  \n",
       "372  0.000000e+00   9.999993e-01  1.101706e-07  6.159280e-07   prusten  \n",
       "600  0.000000e+00   0.000000e+00  0.000000e+00  4.976589e-01     growl  \n",
       "374  3.772903e-60   1.000000e+00  7.698377e-18  4.993593e-11   prusten  "
      ]
     },
     "execution_count": 37,
     "metadata": {},
     "output_type": "execute_result"
    }
   ],
   "source": [
    "pred_df = pd.DataFrame(X_test.copy())\n",
    "pred_df = pred_df.drop(['Partials', 'Zero_Crossings', 'Duration', 'Amp_range', 'Avg_amp',\n",
    "       'Freq_range', 'Pulses_per_Sec', 'MFCC', 'Spectral Rolloff',\n",
    "       'Melspectrogram', 'Spectral Contrast', 'Chromagram', 'Tempogram'], axis=1)\n",
    "pred_df['File Name'] = df['File Name']\n",
    "pred_df['Target'] = y_test1\n",
    "pred_df[svm1.classes_[0]] = prob_nb1[:,0] \n",
    "pred_df[svm1.classes_[1]] = prob_nb1[:,1]\n",
    "pred_df[svm1.classes_[2]] = prob_nb1[:,2]\n",
    "pred_df[svm1.classes_[3]] = prob_nb1[:,3]\n",
    "pred_df[svm1.classes_[4]] = prob_nb1[:,4]\n",
    "pred_df[svm1.classes_[5]] = prob_nb1[:,5]\n",
    "pred_df['Predicted'] = y_nb1\n",
    "pred_df = pred_df[pred_df['Target'] != pred_df['Predicted']]\n",
    "pred_df.to_csv('Mislabeled Panterinae Calls With Naive Bayes.csv', index=False)\n",
    "pred_df.head(15)"
   ]
  },
  {
   "cell_type": "markdown",
   "metadata": {},
   "source": [
    "## Logistic Regression"
   ]
  },
  {
   "cell_type": "code",
   "execution_count": 38,
   "metadata": {},
   "outputs": [],
   "source": [
    "lr1 = LogisticRegression(solver='liblinear', multi_class='ovr',class_weight=\"balanced\")"
   ]
  },
  {
   "cell_type": "code",
   "execution_count": 39,
   "metadata": {},
   "outputs": [
    {
     "data": {
      "text/plain": [
       "LogisticRegression(class_weight='balanced', multi_class='ovr',\n",
       "                   solver='liblinear')"
      ]
     },
     "execution_count": 39,
     "metadata": {},
     "output_type": "execute_result"
    }
   ],
   "source": [
    "lr1.fit(X_train,y_train1)"
   ]
  },
  {
   "cell_type": "code",
   "execution_count": 40,
   "metadata": {},
   "outputs": [
    {
     "data": {
      "text/plain": [
       "0.8604651162790697"
      ]
     },
     "execution_count": 40,
     "metadata": {},
     "output_type": "execute_result"
    }
   ],
   "source": [
    "lr1.score(X_test, y_test1)"
   ]
  },
  {
   "cell_type": "code",
   "execution_count": 41,
   "metadata": {},
   "outputs": [],
   "source": [
    "y_lr1 = lr1.predict(X_test)\n",
    "prob_lr1 = lr1.predict_proba(X_test)"
   ]
  },
  {
   "cell_type": "code",
   "execution_count": 42,
   "metadata": {},
   "outputs": [
    {
     "name": "stdout",
     "output_type": "stream",
     "text": [
      "1. Tested Calls\n",
      "['growl' 'hiss' 'prusten' 'puff' 'roar']\n",
      "2. Predicted Calls\n",
      "['growl' 'hiss' 'prusten' 'puff' 'roar']\n",
      "3. Not tested for but predicted\n",
      "set()\n",
      "4. Tested for but not predicted\n",
      "set()\n"
     ]
    }
   ],
   "source": [
    "print('1. Tested Calls')\n",
    "print(np.unique(y_test1))\n",
    "print('2. Predicted Calls')\n",
    "print(np.unique(y_lr1))\n",
    "print('3. Not tested for but predicted')\n",
    "print(set(np.unique(y_lr1))-set(np.unique(y_test1)))\n",
    "print('4. Tested for but not predicted')\n",
    "print(set(np.unique(y_test1))-set(np.unique(y_lr1)))"
   ]
  },
  {
   "cell_type": "code",
   "execution_count": 43,
   "metadata": {},
   "outputs": [
    {
     "name": "stdout",
     "output_type": "stream",
     "text": [
      "Accuracy 0.8604651162790697\n"
     ]
    },
    {
     "data": {
      "image/png": "[encoded data removed]",
      "text/plain": [
       "<Figure size 576x288 with 2 Axes>"
      ]
     },
     "metadata": {
      "needs_background": "light"
     },
     "output_type": "display_data"
    }
   ],
   "source": [
    "names_lr = sorted(list(set(np.unique(y_test1)).union(set(y_lr1))))\n",
    "cnf = confusion_matrix(y_test1, y_lr1)\n",
    "fig, ax = plt.subplots(figsize=(8,4))\n",
    "\n",
    "print('Accuracy',lr1.score(X_test, y_test1))\n",
    "\n",
    "sns.heatmap(cnf, annot=True, xticklabels=names_lr, yticklabels=names_lr,cmap= \"YlOrBr\")\n",
    "plt.title('Logistic Regression')\n",
    "ax.xaxis.set_label_position('top')\n",
    "plt.ylabel('Actual')\n",
    "plt.xlabel('Predicted')\n",
    "plt.show(block=False)"
   ]
  },
  {
   "cell_type": "code",
   "execution_count": 44,
   "metadata": {},
   "outputs": [
    {
     "data": {
      "text/html": [
       "<div>\n",
       "<style scoped>\n",
       "    .dataframe tbody tr th:only-of-type {\n",
       "        vertical-align: middle;\n",
       "    }\n",
       "\n",
       "    .dataframe tbody tr th {\n",
       "        vertical-align: top;\n",
       "    }\n",
       "\n",
       "    .dataframe thead th {\n",
       "        text-align: right;\n",
       "    }\n",
       "</style>\n",
       "<table border=\"1\" class=\"dataframe\">\n",
       "  <thead>\n",
       "    <tr style=\"text-align: right;\">\n",
       "      <th></th>\n",
       "      <th>File Name</th>\n",
       "      <th>Target</th>\n",
       "      <th>Mew</th>\n",
       "      <th>growl</th>\n",
       "      <th>hiss</th>\n",
       "      <th>prusten</th>\n",
       "      <th>puff</th>\n",
       "      <th>roar</th>\n",
       "      <th>Predicted</th>\n",
       "    </tr>\n",
       "  </thead>\n",
       "  <tbody>\n",
       "    <tr>\n",
       "      <th>407</th>\n",
       "      <td>Jaguar-Prusten-1</td>\n",
       "      <td>prusten</td>\n",
       "      <td>0.014478</td>\n",
       "      <td>0.682299</td>\n",
       "      <td>0.037173</td>\n",
       "      <td>0.179413</td>\n",
       "      <td>0.047195</td>\n",
       "      <td>0.039443</td>\n",
       "      <td>growl</td>\n",
       "    </tr>\n",
       "    <tr>\n",
       "      <th>408</th>\n",
       "      <td>Jaguar-Prusten-1</td>\n",
       "      <td>prusten</td>\n",
       "      <td>0.032419</td>\n",
       "      <td>0.050453</td>\n",
       "      <td>0.053501</td>\n",
       "      <td>0.363560</td>\n",
       "      <td>0.374004</td>\n",
       "      <td>0.126064</td>\n",
       "      <td>puff</td>\n",
       "    </tr>\n",
       "    <tr>\n",
       "      <th>425</th>\n",
       "      <td>Jaguar-Roar-4</td>\n",
       "      <td>roar</td>\n",
       "      <td>0.245382</td>\n",
       "      <td>0.089348</td>\n",
       "      <td>0.262903</td>\n",
       "      <td>0.244034</td>\n",
       "      <td>0.042119</td>\n",
       "      <td>0.116214</td>\n",
       "      <td>hiss</td>\n",
       "    </tr>\n",
       "    <tr>\n",
       "      <th>446</th>\n",
       "      <td>Leopard roaring sequence 10d</td>\n",
       "      <td>roar</td>\n",
       "      <td>0.017737</td>\n",
       "      <td>0.084366</td>\n",
       "      <td>0.000026</td>\n",
       "      <td>0.072782</td>\n",
       "      <td>0.561371</td>\n",
       "      <td>0.263718</td>\n",
       "      <td>puff</td>\n",
       "    </tr>\n",
       "    <tr>\n",
       "      <th>401</th>\n",
       "      <td>CL-Prusten-10</td>\n",
       "      <td>prusten</td>\n",
       "      <td>0.011343</td>\n",
       "      <td>0.017614</td>\n",
       "      <td>0.012913</td>\n",
       "      <td>0.446081</td>\n",
       "      <td>0.002702</td>\n",
       "      <td>0.509347</td>\n",
       "      <td>roar</td>\n",
       "    </tr>\n",
       "    <tr>\n",
       "      <th>374</th>\n",
       "      <td>CL-Hiss</td>\n",
       "      <td>hiss</td>\n",
       "      <td>0.021152</td>\n",
       "      <td>0.037110</td>\n",
       "      <td>0.430554</td>\n",
       "      <td>0.467986</td>\n",
       "      <td>0.004450</td>\n",
       "      <td>0.038748</td>\n",
       "      <td>prusten</td>\n",
       "    </tr>\n",
       "  </tbody>\n",
       "</table>\n",
       "</div>"
      ],
      "text/plain": [
       "                        File Name   Target       Mew     growl      hiss  \\\n",
       "407              Jaguar-Prusten-1  prusten  0.014478  0.682299  0.037173   \n",
       "408              Jaguar-Prusten-1  prusten  0.032419  0.050453  0.053501   \n",
       "425                 Jaguar-Roar-4     roar  0.245382  0.089348  0.262903   \n",
       "446  Leopard roaring sequence 10d     roar  0.017737  0.084366  0.000026   \n",
       "401                 CL-Prusten-10  prusten  0.011343  0.017614  0.012913   \n",
       "374                       CL-Hiss     hiss  0.021152  0.037110  0.430554   \n",
       "\n",
       "      prusten      puff      roar Predicted  \n",
       "407  0.179413  0.047195  0.039443     growl  \n",
       "408  0.363560  0.374004  0.126064      puff  \n",
       "425  0.244034  0.042119  0.116214      hiss  \n",
       "446  0.072782  0.561371  0.263718      puff  \n",
       "401  0.446081  0.002702  0.509347      roar  \n",
       "374  0.467986  0.004450  0.038748   prusten  "
      ]
     },
     "execution_count": 44,
     "metadata": {},
     "output_type": "execute_result"
    }
   ],
   "source": [
    "pred_df = pd.DataFrame(X_test.copy())\n",
    "pred_df = pred_df.drop(['Partials', 'Zero_Crossings', 'Duration', 'Amp_range', 'Avg_amp',\n",
    "       'Freq_range', 'Pulses_per_Sec', 'MFCC', 'Spectral Rolloff',\n",
    "       'Melspectrogram', 'Spectral Contrast', 'Chromagram', 'Tempogram'], axis=1)\n",
    "pred_df['File Name'] = df['File Name']\n",
    "pred_df['Target'] = y_test1\n",
    "pred_df[lr1.classes_[0]] = prob_lr1[:,0] \n",
    "pred_df[lr1.classes_[1]] = prob_lr1[:,1]\n",
    "pred_df[lr1.classes_[2]] = prob_lr1[:,2]\n",
    "pred_df[lr1.classes_[3]] = prob_lr1[:,3]\n",
    "pred_df[lr1.classes_[4]] = prob_lr1[:,4]\n",
    "pred_df[lr1.classes_[5]] = prob_lr1[:,5]\n",
    "pred_df['Predicted'] = y_lr1\n",
    "pred_df = pred_df[pred_df['Target'] != pred_df['Predicted']]\n",
    "pred_df.to_csv('Mislabeled Panterinae Calls With Logistic Regression.csv', index=False)\n",
    "pred_df.head(15)"
   ]
  },
  {
   "cell_type": "markdown",
   "metadata": {},
   "source": [
    "## KNN"
   ]
  },
  {
   "cell_type": "code",
   "execution_count": 45,
   "metadata": {},
   "outputs": [],
   "source": [
    "knn1 = KNeighborsClassifier()"
   ]
  },
  {
   "cell_type": "code",
   "execution_count": 46,
   "metadata": {},
   "outputs": [
    {
     "data": {
      "text/plain": [
       "KNeighborsClassifier()"
      ]
     },
     "execution_count": 46,
     "metadata": {},
     "output_type": "execute_result"
    }
   ],
   "source": [
    "knn1.fit(X_train, y_train1)"
   ]
  },
  {
   "cell_type": "code",
   "execution_count": 48,
   "metadata": {},
   "outputs": [
    {
     "data": {
      "text/plain": [
       "0.8604651162790697"
      ]
     },
     "execution_count": 48,
     "metadata": {},
     "output_type": "execute_result"
    }
   ],
   "source": [
    "knn1.score(X_test, y_test1)"
   ]
  },
  {
   "cell_type": "code",
   "execution_count": 49,
   "metadata": {},
   "outputs": [],
   "source": [
    "y_knn1 = knn1.predict(X_test)\n",
    "prob_knn1 = knn1.predict_proba(X_test)"
   ]
  },
  {
   "cell_type": "code",
   "execution_count": 50,
   "metadata": {},
   "outputs": [
    {
     "name": "stdout",
     "output_type": "stream",
     "text": [
      "1. Tested Calls\n",
      "['growl' 'hiss' 'prusten' 'puff' 'roar']\n",
      "2. Predicted Calls\n",
      "['growl' 'hiss' 'prusten' 'puff' 'roar']\n",
      "3. Not tested for but predicted\n",
      "set()\n",
      "4. Tested for but not predicted\n",
      "set()\n"
     ]
    }
   ],
   "source": [
    "print('1. Tested Calls')\n",
    "print(np.unique(y_test1))\n",
    "print('2. Predicted Calls')\n",
    "print(np.unique(y_knn1))\n",
    "print('3. Not tested for but predicted')\n",
    "print(set(np.unique(y_knn1))-set(np.unique(y_test1)))\n",
    "print('4. Tested for but not predicted')\n",
    "print(set(np.unique(y_test1))-set(np.unique(y_knn1)))"
   ]
  },
  {
   "cell_type": "code",
   "execution_count": 51,
   "metadata": {},
   "outputs": [
    {
     "name": "stdout",
     "output_type": "stream",
     "text": [
      "Accuracy 0.8604651162790697\n"
     ]
    },
    {
     "data": {
      "image/png": "[encoded data removed]",
      "text/plain": [
       "<Figure size 576x288 with 2 Axes>"
      ]
     },
     "metadata": {
      "needs_background": "light"
     },
     "output_type": "display_data"
    }
   ],
   "source": [
    "names_knn = sorted(list(set(np.unique(y_test1)).union(set(y_knn1))))\n",
    "cnf = confusion_matrix(y_test1, y_knn1)\n",
    "fig, ax = plt.subplots(figsize=(8,4))\n",
    "\n",
    "print('Accuracy',knn1.score(X_test, y_test1))\n",
    "\n",
    "sns.heatmap(cnf, annot=True, xticklabels=names_knn, yticklabels=names_knn,cmap= \"YlOrBr\")\n",
    "plt.title('KNN')\n",
    "ax.xaxis.set_label_position('top')\n",
    "plt.ylabel('Actual')\n",
    "plt.xlabel('Predicted')\n",
    "plt.show(block=False)\n"
   ]
  },
  {
   "cell_type": "code",
   "execution_count": 52,
   "metadata": {},
   "outputs": [
    {
     "data": {
      "text/html": [
       "<div>\n",
       "<style scoped>\n",
       "    .dataframe tbody tr th:only-of-type {\n",
       "        vertical-align: middle;\n",
       "    }\n",
       "\n",
       "    .dataframe tbody tr th {\n",
       "        vertical-align: top;\n",
       "    }\n",
       "\n",
       "    .dataframe thead th {\n",
       "        text-align: right;\n",
       "    }\n",
       "</style>\n",
       "<table border=\"1\" class=\"dataframe\">\n",
       "  <thead>\n",
       "    <tr style=\"text-align: right;\">\n",
       "      <th></th>\n",
       "      <th>File Name</th>\n",
       "      <th>Target</th>\n",
       "      <th>Mew</th>\n",
       "      <th>growl</th>\n",
       "      <th>hiss</th>\n",
       "      <th>prusten</th>\n",
       "      <th>puff</th>\n",
       "      <th>roar</th>\n",
       "      <th>Predicted</th>\n",
       "    </tr>\n",
       "  </thead>\n",
       "  <tbody>\n",
       "    <tr>\n",
       "      <th>573</th>\n",
       "      <td>LG1</td>\n",
       "      <td>growl</td>\n",
       "      <td>0.2</td>\n",
       "      <td>0.2</td>\n",
       "      <td>0.0</td>\n",
       "      <td>0.0</td>\n",
       "      <td>0.0</td>\n",
       "      <td>0.6</td>\n",
       "      <td>roar</td>\n",
       "    </tr>\n",
       "    <tr>\n",
       "      <th>407</th>\n",
       "      <td>Jaguar-Prusten-1</td>\n",
       "      <td>prusten</td>\n",
       "      <td>0.0</td>\n",
       "      <td>0.4</td>\n",
       "      <td>0.0</td>\n",
       "      <td>0.4</td>\n",
       "      <td>0.0</td>\n",
       "      <td>0.2</td>\n",
       "      <td>growl</td>\n",
       "    </tr>\n",
       "    <tr>\n",
       "      <th>479</th>\n",
       "      <td>Snow Leopard Prusten_2</td>\n",
       "      <td>prusten</td>\n",
       "      <td>0.0</td>\n",
       "      <td>0.0</td>\n",
       "      <td>0.8</td>\n",
       "      <td>0.2</td>\n",
       "      <td>0.0</td>\n",
       "      <td>0.0</td>\n",
       "      <td>hiss</td>\n",
       "    </tr>\n",
       "    <tr>\n",
       "      <th>576</th>\n",
       "      <td>LG2</td>\n",
       "      <td>growl</td>\n",
       "      <td>0.0</td>\n",
       "      <td>0.2</td>\n",
       "      <td>0.0</td>\n",
       "      <td>0.2</td>\n",
       "      <td>0.0</td>\n",
       "      <td>0.6</td>\n",
       "      <td>roar</td>\n",
       "    </tr>\n",
       "    <tr>\n",
       "      <th>401</th>\n",
       "      <td>CL-Prusten-10</td>\n",
       "      <td>prusten</td>\n",
       "      <td>0.0</td>\n",
       "      <td>0.0</td>\n",
       "      <td>0.0</td>\n",
       "      <td>0.4</td>\n",
       "      <td>0.0</td>\n",
       "      <td>0.6</td>\n",
       "      <td>roar</td>\n",
       "    </tr>\n",
       "    <tr>\n",
       "      <th>459</th>\n",
       "      <td>Leopard_growl_3</td>\n",
       "      <td>growl</td>\n",
       "      <td>0.0</td>\n",
       "      <td>0.4</td>\n",
       "      <td>0.0</td>\n",
       "      <td>0.0</td>\n",
       "      <td>0.0</td>\n",
       "      <td>0.6</td>\n",
       "      <td>roar</td>\n",
       "    </tr>\n",
       "  </tbody>\n",
       "</table>\n",
       "</div>"
      ],
      "text/plain": [
       "                  File Name   Target  Mew  growl  hiss  prusten  puff  roar  \\\n",
       "573                     LG1    growl  0.2    0.2   0.0      0.0   0.0   0.6   \n",
       "407        Jaguar-Prusten-1  prusten  0.0    0.4   0.0      0.4   0.0   0.2   \n",
       "479  Snow Leopard Prusten_2  prusten  0.0    0.0   0.8      0.2   0.0   0.0   \n",
       "576                     LG2    growl  0.0    0.2   0.0      0.2   0.0   0.6   \n",
       "401           CL-Prusten-10  prusten  0.0    0.0   0.0      0.4   0.0   0.6   \n",
       "459         Leopard_growl_3    growl  0.0    0.4   0.0      0.0   0.0   0.6   \n",
       "\n",
       "    Predicted  \n",
       "573      roar  \n",
       "407     growl  \n",
       "479      hiss  \n",
       "576      roar  \n",
       "401      roar  \n",
       "459      roar  "
      ]
     },
     "execution_count": 52,
     "metadata": {},
     "output_type": "execute_result"
    }
   ],
   "source": [
    "pred_df = pd.DataFrame(X_test.copy())\n",
    "pred_df = pred_df.drop(['Partials', 'Zero_Crossings', 'Duration', 'Amp_range', 'Avg_amp',\n",
    "       'Freq_range', 'Pulses_per_Sec', 'MFCC', 'Spectral Rolloff',\n",
    "       'Melspectrogram', 'Spectral Contrast', 'Chromagram', 'Tempogram'], axis=1)\n",
    "pred_df['File Name'] = df['File Name']\n",
    "pred_df['Target'] = y_test1\n",
    "pred_df[knn1.classes_[0]] = prob_knn1[:,0] \n",
    "pred_df[knn1.classes_[1]] = prob_knn1[:,1]\n",
    "pred_df[knn1.classes_[2]] = prob_knn1[:,2]\n",
    "pred_df[knn1.classes_[3]] = prob_knn1[:,3]\n",
    "pred_df[knn1.classes_[4]] = prob_knn1[:,4]\n",
    "pred_df[knn1.classes_[5]] = prob_knn1[:,5]\n",
    "pred_df['Predicted'] = y_knn1\n",
    "pred_df = pred_df[pred_df['Target'] != pred_df['Predicted']]\n",
    "pred_df.to_csv('Mislabeled Panterinae Calls With KNN.csv', index=False)\n",
    "pred_df.head(15)"
   ]
  },
  {
   "cell_type": "markdown",
   "metadata": {},
   "source": [
    "## Decision Tree Classifier"
   ]
  },
  {
   "cell_type": "code",
   "execution_count": 53,
   "metadata": {},
   "outputs": [],
   "source": [
    "dt1 = DecisionTreeClassifier()"
   ]
  },
  {
   "cell_type": "code",
   "execution_count": 54,
   "metadata": {},
   "outputs": [
    {
     "data": {
      "text/plain": [
       "DecisionTreeClassifier()"
      ]
     },
     "execution_count": 54,
     "metadata": {},
     "output_type": "execute_result"
    }
   ],
   "source": [
    "dt1.fit(X_train, y_train1)"
   ]
  },
  {
   "cell_type": "code",
   "execution_count": 56,
   "metadata": {},
   "outputs": [
    {
     "data": {
      "text/plain": [
       "0.7674418604651163"
      ]
     },
     "execution_count": 56,
     "metadata": {},
     "output_type": "execute_result"
    }
   ],
   "source": [
    "dt1.score(X_test, y_test1)"
   ]
  },
  {
   "cell_type": "code",
   "execution_count": 57,
   "metadata": {},
   "outputs": [],
   "source": [
    "y_dt1 = dt1.predict(X_test)\n",
    "prob_dt1 = dt1.predict_proba(X_test)"
   ]
  },
  {
   "cell_type": "code",
   "execution_count": 58,
   "metadata": {},
   "outputs": [
    {
     "name": "stdout",
     "output_type": "stream",
     "text": [
      "1. Tested Calls\n",
      "['growl' 'hiss' 'prusten' 'puff' 'roar']\n",
      "2. Predicted Calls\n",
      "['Mew' 'growl' 'hiss' 'prusten' 'puff' 'roar']\n",
      "3. Not tested for but predicted\n",
      "{'Mew'}\n",
      "4. Tested for but not predicted\n",
      "set()\n"
     ]
    }
   ],
   "source": [
    "print('1. Tested Calls')\n",
    "print(np.unique(y_test1))\n",
    "print('2. Predicted Calls')\n",
    "print(np.unique(y_dt1))\n",
    "print('3. Not tested for but predicted')\n",
    "print(set(np.unique(y_dt1))-set(np.unique(y_test1)))\n",
    "print('4. Tested for but not predicted')\n",
    "print(set(np.unique(y_test1))-set(np.unique(y_dt1)))"
   ]
  },
  {
   "cell_type": "code",
   "execution_count": 59,
   "metadata": {},
   "outputs": [
    {
     "name": "stdout",
     "output_type": "stream",
     "text": [
      "Accuracy 0.7674418604651163\n"
     ]
    },
    {
     "data": {
      "image/png": "[encoded data removed]",
      "text/plain": [
       "<Figure size 576x288 with 2 Axes>"
      ]
     },
     "metadata": {
      "needs_background": "light"
     },
     "output_type": "display_data"
    }
   ],
   "source": [
    "names_cart = sorted(list(set(np.unique(y_test1)).union(set(y_dt1))))\n",
    "cnf = confusion_matrix(y_test1, y_dt1)\n",
    "fig, ax = plt.subplots(figsize=(8,4))\n",
    "\n",
    "print('Accuracy',dt1.score(X_test, y_test1))\n",
    "\n",
    "sns.heatmap(cnf, annot=True, xticklabels=names_cart, yticklabels=names_cart,cmap= \"YlOrBr\")\n",
    "plt.title('Decision Tree Classifier')\n",
    "ax.xaxis.set_label_position('top')\n",
    "plt.ylabel('Actual')\n",
    "plt.xlabel('Predicted')\n",
    "plt.show(block=False)\n"
   ]
  },
  {
   "cell_type": "markdown",
   "metadata": {},
   "source": [
    "## Random Forest Classifier"
   ]
  },
  {
   "cell_type": "code",
   "execution_count": 60,
   "metadata": {},
   "outputs": [],
   "source": [
    "rf1 = RandomForestClassifier()"
   ]
  },
  {
   "cell_type": "code",
   "execution_count": 61,
   "metadata": {},
   "outputs": [
    {
     "data": {
      "text/plain": [
       "RandomForestClassifier()"
      ]
     },
     "execution_count": 61,
     "metadata": {},
     "output_type": "execute_result"
    }
   ],
   "source": [
    "rf1.fit(X_train, y_train1)"
   ]
  },
  {
   "cell_type": "code",
   "execution_count": 63,
   "metadata": {},
   "outputs": [
    {
     "data": {
      "text/plain": [
       "0.8837209302325582"
      ]
     },
     "execution_count": 63,
     "metadata": {},
     "output_type": "execute_result"
    }
   ],
   "source": [
    "rf1.score(X_test, y_test1)"
   ]
  },
  {
   "cell_type": "code",
   "execution_count": 64,
   "metadata": {},
   "outputs": [],
   "source": [
    "y_rf1 = rf1.predict(X_test)\n",
    "prob_rf1 = rf1.predict_proba(X_test)"
   ]
  },
  {
   "cell_type": "code",
   "execution_count": 65,
   "metadata": {},
   "outputs": [
    {
     "name": "stdout",
     "output_type": "stream",
     "text": [
      "1. Tested Calls\n",
      "['growl' 'hiss' 'prusten' 'puff' 'roar']\n",
      "2. Predicted Calls\n",
      "['growl' 'prusten' 'puff' 'roar']\n",
      "3. Not tested for but predicted\n",
      "set()\n",
      "4. Tested for but not predicted\n",
      "{'hiss'}\n"
     ]
    }
   ],
   "source": [
    "print('1. Tested Calls')\n",
    "print(np.unique(y_test1))\n",
    "print('2. Predicted Calls')\n",
    "print(np.unique(y_rf1))\n",
    "print('3. Not tested for but predicted')\n",
    "print(set(np.unique(y_rf1))-set(np.unique(y_test1)))\n",
    "print('4. Tested for but not predicted')\n",
    "print(set(np.unique(y_test1))-set(np.unique(y_rf1)))"
   ]
  },
  {
   "cell_type": "code",
   "execution_count": 66,
   "metadata": {},
   "outputs": [
    {
     "name": "stdout",
     "output_type": "stream",
     "text": [
      "Accuracy 0.8837209302325582\n"
     ]
    },
    {
     "data": {
      "image/png": "[encoded data removed]",
      "text/plain": [
       "<Figure size 576x288 with 2 Axes>"
      ]
     },
     "metadata": {
      "needs_background": "light"
     },
     "output_type": "display_data"
    }
   ],
   "source": [
    "names_rf = sorted(list(set(np.unique(y_test1)).union(set(y_rf1))))\n",
    "cnf = confusion_matrix(y_test1, y_rf1)\n",
    "fig, ax = plt.subplots(figsize=(8,4))\n",
    "\n",
    "print('Accuracy',rf1.score(X_test, y_test1))\n",
    "\n",
    "sns.heatmap(cnf, annot=True, xticklabels=names_rf, yticklabels=names_rf,cmap= \"YlOrBr\")\n",
    "plt.title('Random Forest')\n",
    "ax.xaxis.set_label_position('top')\n",
    "plt.ylabel('Actual')\n",
    "plt.xlabel('Predicted')\n",
    "plt.show(block=False)\n"
   ]
  },
  {
   "cell_type": "code",
   "execution_count": 67,
   "metadata": {},
   "outputs": [
    {
     "data": {
      "text/html": [
       "<div>\n",
       "<style scoped>\n",
       "    .dataframe tbody tr th:only-of-type {\n",
       "        vertical-align: middle;\n",
       "    }\n",
       "\n",
       "    .dataframe tbody tr th {\n",
       "        vertical-align: top;\n",
       "    }\n",
       "\n",
       "    .dataframe thead th {\n",
       "        text-align: right;\n",
       "    }\n",
       "</style>\n",
       "<table border=\"1\" class=\"dataframe\">\n",
       "  <thead>\n",
       "    <tr style=\"text-align: right;\">\n",
       "      <th></th>\n",
       "      <th>File Name</th>\n",
       "      <th>Target</th>\n",
       "      <th>Mew</th>\n",
       "      <th>growl</th>\n",
       "      <th>hiss</th>\n",
       "      <th>prusten</th>\n",
       "      <th>puff</th>\n",
       "      <th>roar</th>\n",
       "      <th>Predicted</th>\n",
       "    </tr>\n",
       "  </thead>\n",
       "  <tbody>\n",
       "    <tr>\n",
       "      <th>573</th>\n",
       "      <td>LG1</td>\n",
       "      <td>growl</td>\n",
       "      <td>0.10</td>\n",
       "      <td>0.44</td>\n",
       "      <td>0.00</td>\n",
       "      <td>0.00</td>\n",
       "      <td>0.00</td>\n",
       "      <td>0.46</td>\n",
       "      <td>roar</td>\n",
       "    </tr>\n",
       "    <tr>\n",
       "      <th>407</th>\n",
       "      <td>Jaguar-Prusten-1</td>\n",
       "      <td>prusten</td>\n",
       "      <td>0.00</td>\n",
       "      <td>0.51</td>\n",
       "      <td>0.07</td>\n",
       "      <td>0.34</td>\n",
       "      <td>0.00</td>\n",
       "      <td>0.08</td>\n",
       "      <td>growl</td>\n",
       "    </tr>\n",
       "    <tr>\n",
       "      <th>459</th>\n",
       "      <td>Leopard_growl_3</td>\n",
       "      <td>growl</td>\n",
       "      <td>0.03</td>\n",
       "      <td>0.32</td>\n",
       "      <td>0.00</td>\n",
       "      <td>0.02</td>\n",
       "      <td>0.01</td>\n",
       "      <td>0.62</td>\n",
       "      <td>roar</td>\n",
       "    </tr>\n",
       "    <tr>\n",
       "      <th>372</th>\n",
       "      <td>CL-Hiss</td>\n",
       "      <td>hiss</td>\n",
       "      <td>0.00</td>\n",
       "      <td>0.02</td>\n",
       "      <td>0.39</td>\n",
       "      <td>0.55</td>\n",
       "      <td>0.00</td>\n",
       "      <td>0.04</td>\n",
       "      <td>prusten</td>\n",
       "    </tr>\n",
       "    <tr>\n",
       "      <th>374</th>\n",
       "      <td>CL-Hiss</td>\n",
       "      <td>hiss</td>\n",
       "      <td>0.00</td>\n",
       "      <td>0.00</td>\n",
       "      <td>0.24</td>\n",
       "      <td>0.76</td>\n",
       "      <td>0.00</td>\n",
       "      <td>0.00</td>\n",
       "      <td>prusten</td>\n",
       "    </tr>\n",
       "  </tbody>\n",
       "</table>\n",
       "</div>"
      ],
      "text/plain": [
       "            File Name   Target   Mew  growl  hiss  prusten  puff  roar  \\\n",
       "573               LG1    growl  0.10   0.44  0.00     0.00  0.00  0.46   \n",
       "407  Jaguar-Prusten-1  prusten  0.00   0.51  0.07     0.34  0.00  0.08   \n",
       "459   Leopard_growl_3    growl  0.03   0.32  0.00     0.02  0.01  0.62   \n",
       "372           CL-Hiss     hiss  0.00   0.02  0.39     0.55  0.00  0.04   \n",
       "374           CL-Hiss     hiss  0.00   0.00  0.24     0.76  0.00  0.00   \n",
       "\n",
       "    Predicted  \n",
       "573      roar  \n",
       "407     growl  \n",
       "459      roar  \n",
       "372   prusten  \n",
       "374   prusten  "
      ]
     },
     "execution_count": 67,
     "metadata": {},
     "output_type": "execute_result"
    }
   ],
   "source": [
    "pred_df = pd.DataFrame(X_test.copy())\n",
    "pred_df = pred_df.drop(['Partials', 'Zero_Crossings', 'Duration', 'Amp_range', 'Avg_amp',\n",
    "       'Freq_range', 'Pulses_per_Sec', 'MFCC', 'Spectral Rolloff',\n",
    "       'Melspectrogram', 'Spectral Contrast', 'Chromagram', 'Tempogram'], axis=1)\n",
    "pred_df['File Name'] = df['File Name']\n",
    "pred_df['Target'] = y_test1\n",
    "pred_df[rf1.classes_[0]] = prob_rf1[:,0] \n",
    "pred_df[rf1.classes_[1]] = prob_rf1[:,1]\n",
    "pred_df[rf1.classes_[2]] = prob_rf1[:,2]\n",
    "pred_df[rf1.classes_[3]] = prob_rf1[:,3]\n",
    "pred_df[rf1.classes_[4]] = prob_rf1[:,4]\n",
    "pred_df[rf1.classes_[5]] = prob_rf1[:,5]\n",
    "pred_df['Predicted'] = y_rf1\n",
    "pred_df = pred_df[pred_df['Target'] != pred_df['Predicted']]\n",
    "pred_df.to_csv('Mislabeled Panterinae Calls With Random Forest.csv', index=False)\n",
    "pred_df.head(15)"
   ]
  },
  {
   "cell_type": "code",
   "execution_count": 68,
   "metadata": {},
   "outputs": [
    {
     "data": {
      "text/plain": [
       "roar       65\n",
       "prusten    44\n",
       "growl      20\n",
       "hiss        6\n",
       "puff        5\n",
       "Mew         3\n",
       "Name: Call, dtype: int64"
      ]
     },
     "execution_count": 68,
     "metadata": {},
     "output_type": "execute_result"
    }
   ],
   "source": [
    "#The data is unbalanced, this could be fixed by updating the class weights \n",
    "#Or getting more varied data\n",
    "df['Call'].value_counts()"
   ]
  },
  {
   "cell_type": "markdown",
   "metadata": {},
   "source": [
    "# Species Classification"
   ]
  },
  {
   "cell_type": "markdown",
   "metadata": {},
   "source": [
    "## Splitting data"
   ]
  },
  {
   "cell_type": "code",
   "execution_count": 69,
   "metadata": {},
   "outputs": [],
   "source": [
    "y_train2 = y_train.Species\n",
    "y_test2 = y_test.Species"
   ]
  },
  {
   "cell_type": "code",
   "execution_count": 70,
   "metadata": {},
   "outputs": [],
   "source": [
    "## LightGBM"
   ]
  },
  {
   "cell_type": "code",
   "execution_count": 71,
   "metadata": {},
   "outputs": [
    {
     "data": {
      "text/plain": [
       "LGBMClassifier()"
      ]
     },
     "execution_count": 71,
     "metadata": {},
     "output_type": "execute_result"
    }
   ],
   "source": [
    "import lightgbm as lgb\n",
    "lgb2 = lgb.LGBMClassifier()\n",
    "lgb2.fit(X_train, y_train2)"
   ]
  },
  {
   "cell_type": "code",
   "execution_count": 73,
   "metadata": {},
   "outputs": [
    {
     "data": {
      "text/plain": [
       "0.7674418604651163"
      ]
     },
     "execution_count": 73,
     "metadata": {},
     "output_type": "execute_result"
    }
   ],
   "source": [
    "lgb2.score(X_test,y_test2)"
   ]
  },
  {
   "cell_type": "markdown",
   "metadata": {},
   "source": [
    "## XGBoost"
   ]
  },
  {
   "cell_type": "code",
   "execution_count": 74,
   "metadata": {},
   "outputs": [],
   "source": [
    "parameters = dict(\n",
    "    objective='multi:softprob',\n",
    "    random_state = 30,\n",
    "    max_depth=9,\n",
    "    learning_rate=0.01,\n",
    "    subsample=0.8,\n",
    "    colsample_bytree=0.4,\n",
    "    tree_method='gpu_hist')\n",
    "#eval_metric='mlogloss'\n",
    "\n",
    "clf2 = XGBClassifier(**parameters, n_estimators=1200)"
   ]
  },
  {
   "cell_type": "code",
   "execution_count": 75,
   "metadata": {},
   "outputs": [
    {
     "name": "stderr",
     "output_type": "stream",
     "text": [
      "C:\\Users\\exant\\anaconda3\\lib\\site-packages\\xgboost\\sklearn.py:1146: UserWarning: The use of label encoder in XGBClassifier is deprecated and will be removed in a future release. To remove this warning, do the following: 1) Pass option use_label_encoder=False when constructing XGBClassifier object; and 2) Encode your labels (y) as integers starting with 0, i.e. 0, 1, 2, ..., [num_class - 1].\n",
      "  warnings.warn(label_encoder_deprecation_msg, UserWarning)\n"
     ]
    },
    {
     "name": "stdout",
     "output_type": "stream",
     "text": [
      "[02:30:44] WARNING: C:/Users/Administrator/workspace/xgboost-win64_release_1.4.0/src/learner.cc:1095: Starting in XGBoost 1.3.0, the default evaluation metric used with the objective 'multi:softprob' was changed from 'merror' to 'mlogloss'. Explicitly set eval_metric if you'd like to restore the old behavior.\n"
     ]
    },
    {
     "data": {
      "text/plain": [
       "XGBClassifier(base_score=0.5, booster='gbtree', colsample_bylevel=1,\n",
       "              colsample_bynode=1, colsample_bytree=0.4, gamma=0, gpu_id=0,\n",
       "              importance_type='gain', interaction_constraints='',\n",
       "              learning_rate=0.01, max_delta_step=0, max_depth=9,\n",
       "              min_child_weight=1, missing=nan, monotone_constraints='()',\n",
       "              n_estimators=1200, n_jobs=12, num_parallel_tree=1,\n",
       "              objective='multi:softprob', random_state=30, reg_alpha=0,\n",
       "              reg_lambda=1, scale_pos_weight=None, subsample=0.8,\n",
       "              tree_method='gpu_hist', validate_parameters=1, verbosity=None)"
      ]
     },
     "execution_count": 75,
     "metadata": {},
     "output_type": "execute_result"
    }
   ],
   "source": [
    "clf2.fit(X_train, y_train2)"
   ]
  },
  {
   "cell_type": "code",
   "execution_count": 77,
   "metadata": {},
   "outputs": [
    {
     "data": {
      "text/plain": [
       "0.813953488372093"
      ]
     },
     "execution_count": 77,
     "metadata": {},
     "output_type": "execute_result"
    }
   ],
   "source": [
    "clf2.score(X_test,y_test2)"
   ]
  },
  {
   "cell_type": "code",
   "execution_count": 78,
   "metadata": {},
   "outputs": [],
   "source": [
    "y_clf2 = clf2.predict(X_test)\n",
    "prob_clf2 = clf2.predict_proba(X_test)"
   ]
  },
  {
   "cell_type": "code",
   "execution_count": 79,
   "metadata": {},
   "outputs": [
    {
     "name": "stdout",
     "output_type": "stream",
     "text": [
      "1. Tested Species\n",
      "['Clouded leopard' 'Jaguar' 'Leopard' 'Lion' 'Snow leopard']\n",
      "2. Predicted Species\n",
      "['Clouded leopard' 'Jaguar' 'Leopard' 'Lion']\n",
      "3. Not tested for but predicted\n",
      "set()\n",
      "4. Tested for but not predicted\n",
      "{'Snow leopard'}\n"
     ]
    }
   ],
   "source": [
    "print('1. Tested Species')\n",
    "print(np.unique(y_test2))\n",
    "print('2. Predicted Species')\n",
    "print(np.unique(y_clf2))\n",
    "print('3. Not tested for but predicted')\n",
    "print(set(np.unique(y_clf2))-set(np.unique(y_test2)))\n",
    "print('4. Tested for but not predicted')\n",
    "print(set(np.unique(y_test2))-set(np.unique(y_clf2)))"
   ]
  },
  {
   "cell_type": "code",
   "execution_count": 80,
   "metadata": {
    "scrolled": false
   },
   "outputs": [
    {
     "name": "stdout",
     "output_type": "stream",
     "text": [
      "Accuracy 0.813953488372093\n"
     ]
    },
    {
     "data": {
      "image/png": "[encoded data removed]",
      "text/plain": [
       "<Figure size 576x288 with 2 Axes>"
      ]
     },
     "metadata": {
      "needs_background": "light"
     },
     "output_type": "display_data"
    }
   ],
   "source": [
    "names = sorted(list(set(np.unique(y_test2)).union(set(y_clf2))))\n",
    "cnf = confusion_matrix(y_test2, y_clf2)\n",
    "fig, ax = plt.subplots(figsize=(8,4))\n",
    "\n",
    "print('Accuracy',clf2.score(X_test, y_test2))\n",
    "\n",
    "sns.heatmap(cnf, annot=True, xticklabels=names, yticklabels=names,cmap= \"YlOrBr\")\n",
    "plt.title('XGBoost')\n",
    "ax.xaxis.set_label_position('top')\n",
    "plt.ylabel('Actual')\n",
    "plt.xlabel('Predicted')\n",
    "plt.show(block=False)\n"
   ]
  },
  {
   "cell_type": "code",
   "execution_count": 81,
   "metadata": {},
   "outputs": [
    {
     "data": {
      "image/png": "[encoded data removed]",
      "text/plain": [
       "<Figure size 432x288 with 1 Axes>"
      ]
     },
     "metadata": {
      "needs_background": "light"
     },
     "output_type": "display_data"
    }
   ],
   "source": [
    "plot_importance(clf2)\n",
    "figsize=(8,4)"
   ]
  },
  {
   "cell_type": "markdown",
   "metadata": {},
   "source": [
    "## SVM"
   ]
  },
  {
   "cell_type": "code",
   "execution_count": 82,
   "metadata": {},
   "outputs": [],
   "source": [
    "svm2 = SVC(probability=True)"
   ]
  },
  {
   "cell_type": "code",
   "execution_count": 83,
   "metadata": {},
   "outputs": [
    {
     "data": {
      "text/plain": [
       "SVC(probability=True)"
      ]
     },
     "execution_count": 83,
     "metadata": {},
     "output_type": "execute_result"
    }
   ],
   "source": [
    "svm2.fit(X_train, y_train2)"
   ]
  },
  {
   "cell_type": "code",
   "execution_count": 85,
   "metadata": {},
   "outputs": [
    {
     "data": {
      "text/plain": [
       "0.813953488372093"
      ]
     },
     "execution_count": 85,
     "metadata": {},
     "output_type": "execute_result"
    }
   ],
   "source": [
    "svm2.score(X_test, y_test2)"
   ]
  },
  {
   "cell_type": "code",
   "execution_count": 86,
   "metadata": {},
   "outputs": [],
   "source": [
    "y_svm2=svm2.predict(X_test)\n",
    "prob_svm2 = svm2.predict_proba(X_test)"
   ]
  },
  {
   "cell_type": "code",
   "execution_count": 87,
   "metadata": {},
   "outputs": [
    {
     "name": "stdout",
     "output_type": "stream",
     "text": [
      "1. Tested Species\n",
      "['Clouded leopard' 'Jaguar' 'Leopard' 'Lion' 'Snow leopard']\n",
      "2. Predicted Species\n",
      "['Clouded leopard' 'Jaguar' 'Leopard' 'Lion']\n",
      "3. False Positive\n",
      "set()\n",
      "4. False Negative\n",
      "{'Snow leopard'}\n"
     ]
    }
   ],
   "source": [
    "print('1. Tested Species')\n",
    "print(np.unique(y_test2))\n",
    "print('2. Predicted Species')\n",
    "print(np.unique(y_svm2))\n",
    "print('3. False Positive')\n",
    "print(set(np.unique(y_svm2))-set(np.unique(y_test2)))\n",
    "print('4. False Negative')\n",
    "print(set(np.unique(y_test2))-set(np.unique(y_svm2)))"
   ]
  },
  {
   "cell_type": "code",
   "execution_count": 88,
   "metadata": {
    "scrolled": false
   },
   "outputs": [
    {
     "name": "stdout",
     "output_type": "stream",
     "text": [
      "Accuracy 0.813953488372093\n"
     ]
    },
    {
     "data": {
      "image/png": "[encoded data removed]",
      "text/plain": [
       "<Figure size 576x288 with 2 Axes>"
      ]
     },
     "metadata": {
      "needs_background": "light"
     },
     "output_type": "display_data"
    }
   ],
   "source": [
    "names_svc = sorted(list(set(np.unique(y_test2)).union(set(y_svm2))))\n",
    "cnf = confusion_matrix(y_test2, y_svm2)\n",
    "fig, ax = plt.subplots(figsize=(8,4))\n",
    "\n",
    "print('Accuracy',svm2.score(X_test, y_test2))\n",
    "\n",
    "sns.heatmap(cnf, annot=True, xticklabels=names_svc, yticklabels=names_svc,cmap= \"YlOrBr\")\n",
    "plt.title('SVM Confusion Matrix')\n",
    "ax.xaxis.set_label_position('top')\n",
    "plt.ylabel('Actual')\n",
    "plt.xlabel('Predicted')\n",
    "plt.show(block=False)\n",
    "\n"
   ]
  },
  {
   "cell_type": "markdown",
   "metadata": {},
   "source": [
    "## Naive Bayes"
   ]
  },
  {
   "cell_type": "code",
   "execution_count": 89,
   "metadata": {},
   "outputs": [],
   "source": [
    "nb2 = GaussianNB()"
   ]
  },
  {
   "cell_type": "code",
   "execution_count": 90,
   "metadata": {},
   "outputs": [
    {
     "data": {
      "text/plain": [
       "GaussianNB()"
      ]
     },
     "execution_count": 90,
     "metadata": {},
     "output_type": "execute_result"
    }
   ],
   "source": [
    "nb2.fit(X_train, y_train2)"
   ]
  },
  {
   "cell_type": "code",
   "execution_count": 92,
   "metadata": {},
   "outputs": [
    {
     "data": {
      "text/plain": [
       "0.813953488372093"
      ]
     },
     "execution_count": 92,
     "metadata": {},
     "output_type": "execute_result"
    }
   ],
   "source": [
    "nb2.score(X_test, y_test2)"
   ]
  },
  {
   "cell_type": "code",
   "execution_count": 93,
   "metadata": {},
   "outputs": [],
   "source": [
    "y_nb2 = nb2.predict(X_test)\n",
    "prob_nb2 = nb2.predict_proba(X_test)"
   ]
  },
  {
   "cell_type": "code",
   "execution_count": 94,
   "metadata": {},
   "outputs": [
    {
     "name": "stdout",
     "output_type": "stream",
     "text": [
      "1. Tested Species\n",
      "['Clouded leopard' 'Jaguar' 'Leopard' 'Lion' 'Snow leopard']\n",
      "2. Predicted Species\n",
      "['Clouded leopard' 'Jaguar' 'Leopard' 'Lion' 'Snow leopard']\n",
      "3. Not tested for but predicted\n",
      "set()\n",
      "4. Tested for but not predicted\n",
      "set()\n"
     ]
    }
   ],
   "source": [
    "print('1. Tested Species')\n",
    "print(np.unique(y_test2))\n",
    "print('2. Predicted Species')\n",
    "print(np.unique(y_nb2))\n",
    "print('3. Not tested for but predicted')\n",
    "print(set(np.unique(y_nb2))-set(np.unique(y_test2)))\n",
    "print('4. Tested for but not predicted')\n",
    "print(set(np.unique(y_test2))-set(np.unique(y_nb2)))"
   ]
  },
  {
   "cell_type": "code",
   "execution_count": 95,
   "metadata": {},
   "outputs": [
    {
     "name": "stdout",
     "output_type": "stream",
     "text": [
      "Accuracy 0.813953488372093\n"
     ]
    },
    {
     "data": {
      "image/png": "[encoded data removed]",
      "text/plain": [
       "<Figure size 576x288 with 2 Axes>"
      ]
     },
     "metadata": {
      "needs_background": "light"
     },
     "output_type": "display_data"
    }
   ],
   "source": [
    "names_nb = sorted(list(set(np.unique(y_test2)).union(set(y_nb2))))\n",
    "cnf = confusion_matrix(y_test2, y_nb2)\n",
    "fig, ax = plt.subplots(figsize=(8,4))\n",
    "\n",
    "print('Accuracy',nb2.score(X_test, y_test2))\n",
    "\n",
    "sns.heatmap(cnf, annot=True, xticklabels=names_nb, yticklabels=names_nb,cmap= \"YlOrBr\")\n",
    "plt.title('Naive Bayes Confusion Matrix')\n",
    "ax.xaxis.set_label_position('top')\n",
    "plt.ylabel('Actual')\n",
    "plt.xlabel('Predicted')\n",
    "plt.show(block=False)\n"
   ]
  },
  {
   "cell_type": "markdown",
   "metadata": {},
   "source": [
    "## Logistic Regression"
   ]
  },
  {
   "cell_type": "code",
   "execution_count": 96,
   "metadata": {},
   "outputs": [],
   "source": [
    "lr2 = LogisticRegression(solver='liblinear', multi_class='ovr')"
   ]
  },
  {
   "cell_type": "code",
   "execution_count": 97,
   "metadata": {},
   "outputs": [
    {
     "data": {
      "text/plain": [
       "LogisticRegression(multi_class='ovr', solver='liblinear')"
      ]
     },
     "execution_count": 97,
     "metadata": {},
     "output_type": "execute_result"
    }
   ],
   "source": [
    "lr2.fit(X_train,y_train2)"
   ]
  },
  {
   "cell_type": "code",
   "execution_count": 99,
   "metadata": {},
   "outputs": [
    {
     "data": {
      "text/plain": [
       "0.8372093023255814"
      ]
     },
     "execution_count": 99,
     "metadata": {},
     "output_type": "execute_result"
    }
   ],
   "source": [
    "lr2.score(X_test, y_test2)"
   ]
  },
  {
   "cell_type": "code",
   "execution_count": 100,
   "metadata": {},
   "outputs": [],
   "source": [
    "y_lr2 = lr2.predict(X_test)\n",
    "prob_lr2 = lr2.predict_proba(X_test)"
   ]
  },
  {
   "cell_type": "code",
   "execution_count": 101,
   "metadata": {},
   "outputs": [
    {
     "name": "stdout",
     "output_type": "stream",
     "text": [
      "1. Tested Species\n",
      "['Clouded leopard' 'Jaguar' 'Leopard' 'Lion' 'Snow leopard' 'growl' 'hiss'\n",
      " 'prusten' 'puff' 'roar']\n",
      "2. Predicted Species\n",
      "['Clouded leopard' 'Jaguar' 'Leopard' 'Lion']\n",
      "3. Not tested for but predicted\n",
      "set()\n",
      "4. Tested for but not predicted\n",
      "{'hiss', 'puff', 'Snow leopard', 'roar', 'growl', 'prusten'}\n"
     ]
    }
   ],
   "source": [
    "print('1. Tested Species')\n",
    "print(np.unique(y_test))\n",
    "print('2. Predicted Species')\n",
    "print(np.unique(y_lr2))\n",
    "print('3. Not tested for but predicted')\n",
    "print(set(np.unique(y_lr2))-set(np.unique(y_test)))\n",
    "print('4. Tested for but not predicted')\n",
    "print(set(np.unique(y_test))-set(np.unique(y_lr2)))"
   ]
  },
  {
   "cell_type": "code",
   "execution_count": 102,
   "metadata": {},
   "outputs": [
    {
     "name": "stdout",
     "output_type": "stream",
     "text": [
      "Accuracy 0.8372093023255814\n"
     ]
    },
    {
     "data": {
      "image/png": "[encoded data removed]",
      "text/plain": [
       "<Figure size 576x288 with 2 Axes>"
      ]
     },
     "metadata": {
      "needs_background": "light"
     },
     "output_type": "display_data"
    }
   ],
   "source": [
    "names_lr = sorted(list(set(np.unique(y_test2)).union(set(y_lr2))))\n",
    "cnf = confusion_matrix(y_test2, y_lr2)\n",
    "fig, ax = plt.subplots(figsize=(8,4))\n",
    "\n",
    "print('Accuracy',lr2.score(X_test, y_test2))\n",
    "\n",
    "sns.heatmap(cnf, annot=True, xticklabels=names_lr, yticklabels=names_lr,cmap= \"YlOrBr\")\n",
    "plt.title('Logistic Regression')\n",
    "ax.xaxis.set_label_position('top')\n",
    "plt.ylabel('Actual')\n",
    "plt.xlabel('Predicted')\n",
    "plt.show(block=False)\n"
   ]
  },
  {
   "cell_type": "markdown",
   "metadata": {},
   "source": [
    "## KNN"
   ]
  },
  {
   "cell_type": "code",
   "execution_count": 103,
   "metadata": {},
   "outputs": [],
   "source": [
    "knn2 = KNeighborsClassifier()"
   ]
  },
  {
   "cell_type": "code",
   "execution_count": 104,
   "metadata": {},
   "outputs": [
    {
     "data": {
      "text/plain": [
       "KNeighborsClassifier()"
      ]
     },
     "execution_count": 104,
     "metadata": {},
     "output_type": "execute_result"
    }
   ],
   "source": [
    "knn2.fit(X_train, y_train2)"
   ]
  },
  {
   "cell_type": "code",
   "execution_count": 106,
   "metadata": {},
   "outputs": [
    {
     "data": {
      "text/plain": [
       "0.7674418604651163"
      ]
     },
     "execution_count": 106,
     "metadata": {},
     "output_type": "execute_result"
    }
   ],
   "source": [
    "knn2.score(X_test, y_test2)"
   ]
  },
  {
   "cell_type": "code",
   "execution_count": 107,
   "metadata": {},
   "outputs": [],
   "source": [
    "y_knn2 = knn2.predict(X_test)\n",
    "prob_knn2 = knn2.predict_proba(X_test)"
   ]
  },
  {
   "cell_type": "code",
   "execution_count": 108,
   "metadata": {},
   "outputs": [
    {
     "name": "stdout",
     "output_type": "stream",
     "text": [
      "1. Tested Species\n",
      "['Clouded leopard' 'Jaguar' 'Leopard' 'Lion' 'Snow leopard']\n",
      "2. Predicted Species\n",
      "['Clouded leopard' 'Jaguar' 'Leopard' 'Lion']\n",
      "3. Not tested for but predicted\n",
      "set()\n",
      "4. Tested for but not predicted\n",
      "{'Snow leopard'}\n"
     ]
    }
   ],
   "source": [
    "print('1. Tested Species')\n",
    "print(np.unique(y_test2))\n",
    "print('2. Predicted Species')\n",
    "print(np.unique(y_knn2))\n",
    "print('3. Not tested for but predicted')\n",
    "print(set(np.unique(y_knn2))-set(np.unique(y_test2)))\n",
    "print('4. Tested for but not predicted')\n",
    "print(set(np.unique(y_test2))-set(np.unique(y_knn2)))"
   ]
  },
  {
   "cell_type": "code",
   "execution_count": 109,
   "metadata": {},
   "outputs": [
    {
     "name": "stdout",
     "output_type": "stream",
     "text": [
      "Accuracy 0.7674418604651163\n"
     ]
    },
    {
     "data": {
      "image/png": "[encoded data removed]",
      "text/plain": [
       "<Figure size 576x288 with 2 Axes>"
      ]
     },
     "metadata": {
      "needs_background": "light"
     },
     "output_type": "display_data"
    }
   ],
   "source": [
    "names_knn = sorted(list(set(np.unique(y_test2)).union(set(y_knn2))))\n",
    "cnf = confusion_matrix(y_test2, y_knn2)\n",
    "fig, ax = plt.subplots(figsize=(8,4))\n",
    "\n",
    "print('Accuracy',knn2.score(X_test, y_test2))\n",
    "\n",
    "sns.heatmap(cnf, annot=True, xticklabels=names_knn, yticklabels=names_knn,cmap= \"YlOrBr\")\n",
    "plt.title('KNN')\n",
    "ax.xaxis.set_label_position('top')\n",
    "plt.ylabel('Actual')\n",
    "plt.xlabel('Predicted')\n",
    "plt.show(block=False)\n"
   ]
  },
  {
   "cell_type": "markdown",
   "metadata": {},
   "source": [
    "## Decision Tree Classifier"
   ]
  },
  {
   "cell_type": "code",
   "execution_count": 110,
   "metadata": {},
   "outputs": [],
   "source": [
    "dt2 = DecisionTreeClassifier()"
   ]
  },
  {
   "cell_type": "code",
   "execution_count": 111,
   "metadata": {},
   "outputs": [
    {
     "data": {
      "text/plain": [
       "DecisionTreeClassifier()"
      ]
     },
     "execution_count": 111,
     "metadata": {},
     "output_type": "execute_result"
    }
   ],
   "source": [
    "dt2.fit(X_train, y_train2)"
   ]
  },
  {
   "cell_type": "code",
   "execution_count": 113,
   "metadata": {},
   "outputs": [
    {
     "data": {
      "text/plain": [
       "0.8837209302325582"
      ]
     },
     "execution_count": 113,
     "metadata": {},
     "output_type": "execute_result"
    }
   ],
   "source": [
    "dt2.score(X_test, y_test2)"
   ]
  },
  {
   "cell_type": "code",
   "execution_count": 114,
   "metadata": {},
   "outputs": [],
   "source": [
    "y_dt2 = dt2.predict(X_test)\n",
    "prob_dt2 = dt2.predict_proba(X_test)"
   ]
  },
  {
   "cell_type": "code",
   "execution_count": 115,
   "metadata": {},
   "outputs": [
    {
     "name": "stdout",
     "output_type": "stream",
     "text": [
      "1. Tested Species\n",
      "['Clouded leopard' 'Jaguar' 'Leopard' 'Lion' 'Snow leopard']\n",
      "2. Predicted Species\n",
      "['Clouded leopard' 'Jaguar' 'Leopard' 'Lion' 'Snow leopard']\n",
      "3. Not tested for but predicted\n",
      "set()\n",
      "4. Tested for but not predicted\n",
      "set()\n"
     ]
    }
   ],
   "source": [
    "print('1. Tested Species')\n",
    "print(np.unique(y_test2))\n",
    "print('2. Predicted Species')\n",
    "print(np.unique(y_dt2))\n",
    "print('3. Not tested for but predicted')\n",
    "print(set(np.unique(y_dt2))-set(np.unique(y_test2)))\n",
    "print('4. Tested for but not predicted')\n",
    "print(set(np.unique(y_test2))-set(np.unique(y_dt2)))"
   ]
  },
  {
   "cell_type": "code",
   "execution_count": 116,
   "metadata": {},
   "outputs": [
    {
     "name": "stdout",
     "output_type": "stream",
     "text": [
      "Accuracy 0.8837209302325582\n"
     ]
    },
    {
     "data": {
      "image/png": "[encoded data removed]",
      "text/plain": [
       "<Figure size 576x288 with 2 Axes>"
      ]
     },
     "metadata": {
      "needs_background": "light"
     },
     "output_type": "display_data"
    }
   ],
   "source": [
    "names_cart = sorted(list(set(np.unique(y_test2)).union(set(y_dt2))))\n",
    "cnf = confusion_matrix(y_test2, y_dt2)\n",
    "fig, ax = plt.subplots(figsize=(8,4))\n",
    "\n",
    "print('Accuracy',dt2.score(X_test, y_test2))\n",
    "\n",
    "sns.heatmap(cnf, annot=True, xticklabels=names_cart, yticklabels=names_cart,cmap= \"YlOrBr\")\n",
    "plt.title('Decision Tree Classifier')\n",
    "ax.xaxis.set_label_position('top')\n",
    "plt.ylabel('Actual')\n",
    "plt.xlabel('Predicted')\n",
    "plt.show(block=False)\n"
   ]
  },
  {
   "cell_type": "markdown",
   "metadata": {},
   "source": [
    "## Random Forest Classifier"
   ]
  },
  {
   "cell_type": "code",
   "execution_count": 117,
   "metadata": {},
   "outputs": [],
   "source": [
    "rf2 = RandomForestClassifier()"
   ]
  },
  {
   "cell_type": "code",
   "execution_count": 118,
   "metadata": {},
   "outputs": [
    {
     "data": {
      "text/plain": [
       "RandomForestClassifier()"
      ]
     },
     "execution_count": 118,
     "metadata": {},
     "output_type": "execute_result"
    }
   ],
   "source": [
    "rf2.fit(X_train, y_train2)"
   ]
  },
  {
   "cell_type": "code",
   "execution_count": 120,
   "metadata": {},
   "outputs": [
    {
     "data": {
      "text/plain": [
       "0.8604651162790697"
      ]
     },
     "execution_count": 120,
     "metadata": {},
     "output_type": "execute_result"
    }
   ],
   "source": [
    "rf2.score(X_test, y_test2)"
   ]
  },
  {
   "cell_type": "code",
   "execution_count": 121,
   "metadata": {},
   "outputs": [],
   "source": [
    "y_rf2 = rf2.predict(X_test)\n",
    "prob_rf2 = rf2.predict_proba(X_test)"
   ]
  },
  {
   "cell_type": "code",
   "execution_count": 122,
   "metadata": {},
   "outputs": [
    {
     "name": "stdout",
     "output_type": "stream",
     "text": [
      "1. Tested Species\n",
      "['Clouded leopard' 'Jaguar' 'Leopard' 'Lion' 'Snow leopard']\n",
      "2. Predicted Species\n",
      "['Clouded leopard' 'Jaguar' 'Leopard' 'Lion' 'Snow leopard']\n",
      "3. Not tested for but predicted\n",
      "set()\n",
      "4. Tested for but not predicted\n",
      "set()\n"
     ]
    }
   ],
   "source": [
    "print('1. Tested Species')\n",
    "print(np.unique(y_test2))\n",
    "print('2. Predicted Species')\n",
    "print(np.unique(y_rf2))\n",
    "print('3. Not tested for but predicted')\n",
    "print(set(np.unique(y_rf2))-set(np.unique(y_test2)))\n",
    "print('4. Tested for but not predicted')\n",
    "print(set(np.unique(y_test2))-set(np.unique(y_rf2)))"
   ]
  },
  {
   "cell_type": "code",
   "execution_count": 123,
   "metadata": {},
   "outputs": [
    {
     "name": "stdout",
     "output_type": "stream",
     "text": [
      "Accuracy 0.8604651162790697\n"
     ]
    },
    {
     "data": {
      "image/png": "[encoded data removed]",
      "text/plain": [
       "<Figure size 576x288 with 2 Axes>"
      ]
     },
     "metadata": {
      "needs_background": "light"
     },
     "output_type": "display_data"
    }
   ],
   "source": [
    "names_rf = sorted(list(set(np.unique(y_test2)).union(set(y_rf2))))\n",
    "cnf = confusion_matrix(y_test2, y_rf2)\n",
    "fig, ax = plt.subplots(figsize=(8,4))\n",
    "\n",
    "print('Accuracy',rf2.score(X_test, y_test2))\n",
    "\n",
    "sns.heatmap(cnf, annot=True, xticklabels=names_rf, yticklabels=names_rf,cmap= \"YlOrBr\")\n",
    "plt.title('Random Forest')\n",
    "ax.xaxis.set_label_position('top')\n",
    "plt.ylabel('Actual')\n",
    "plt.xlabel('Predicted')\n",
    "plt.show(block=False)"
   ]
  },
  {
   "cell_type": "code",
   "execution_count": 124,
   "metadata": {},
   "outputs": [
    {
     "data": {
      "text/html": [
       "<div>\n",
       "<style scoped>\n",
       "    .dataframe tbody tr th:only-of-type {\n",
       "        vertical-align: middle;\n",
       "    }\n",
       "\n",
       "    .dataframe tbody tr th {\n",
       "        vertical-align: top;\n",
       "    }\n",
       "\n",
       "    .dataframe thead th {\n",
       "        text-align: right;\n",
       "    }\n",
       "</style>\n",
       "<table border=\"1\" class=\"dataframe\">\n",
       "  <thead>\n",
       "    <tr style=\"text-align: right;\">\n",
       "      <th></th>\n",
       "      <th>File Name</th>\n",
       "      <th>Target</th>\n",
       "      <th>Clouded leopard</th>\n",
       "      <th>Jaguar</th>\n",
       "      <th>Leopard</th>\n",
       "      <th>Lion</th>\n",
       "      <th>Snow leopard</th>\n",
       "      <th>Predicted</th>\n",
       "    </tr>\n",
       "  </thead>\n",
       "  <tbody>\n",
       "    <tr>\n",
       "      <th>435</th>\n",
       "      <td>Leopard roaring sequence 4</td>\n",
       "      <td>Leopard</td>\n",
       "      <td>0.01</td>\n",
       "      <td>0.43</td>\n",
       "      <td>0.21</td>\n",
       "      <td>0.35</td>\n",
       "      <td>0.00</td>\n",
       "      <td>Jaguar</td>\n",
       "    </tr>\n",
       "    <tr>\n",
       "      <th>430</th>\n",
       "      <td>Leopard roaring sequence 1</td>\n",
       "      <td>Leopard</td>\n",
       "      <td>0.03</td>\n",
       "      <td>0.00</td>\n",
       "      <td>0.29</td>\n",
       "      <td>0.50</td>\n",
       "      <td>0.18</td>\n",
       "      <td>Lion</td>\n",
       "    </tr>\n",
       "    <tr>\n",
       "      <th>407</th>\n",
       "      <td>Jaguar-Prusten-1</td>\n",
       "      <td>Jaguar</td>\n",
       "      <td>0.14</td>\n",
       "      <td>0.22</td>\n",
       "      <td>0.39</td>\n",
       "      <td>0.14</td>\n",
       "      <td>0.11</td>\n",
       "      <td>Leopard</td>\n",
       "    </tr>\n",
       "    <tr>\n",
       "      <th>419</th>\n",
       "      <td>Jaguar-Roar-1</td>\n",
       "      <td>Jaguar</td>\n",
       "      <td>0.21</td>\n",
       "      <td>0.04</td>\n",
       "      <td>0.47</td>\n",
       "      <td>0.23</td>\n",
       "      <td>0.05</td>\n",
       "      <td>Leopard</td>\n",
       "    </tr>\n",
       "    <tr>\n",
       "      <th>420</th>\n",
       "      <td>Jaguar-Roar-2</td>\n",
       "      <td>Jaguar</td>\n",
       "      <td>0.02</td>\n",
       "      <td>0.22</td>\n",
       "      <td>0.53</td>\n",
       "      <td>0.18</td>\n",
       "      <td>0.05</td>\n",
       "      <td>Leopard</td>\n",
       "    </tr>\n",
       "    <tr>\n",
       "      <th>576</th>\n",
       "      <td>LG2</td>\n",
       "      <td>Lion</td>\n",
       "      <td>0.25</td>\n",
       "      <td>0.25</td>\n",
       "      <td>0.20</td>\n",
       "      <td>0.20</td>\n",
       "      <td>0.10</td>\n",
       "      <td>Clouded leopard</td>\n",
       "    </tr>\n",
       "  </tbody>\n",
       "</table>\n",
       "</div>"
      ],
      "text/plain": [
       "                      File Name   Target  Clouded leopard  Jaguar  Leopard  \\\n",
       "435  Leopard roaring sequence 4  Leopard             0.01    0.43     0.21   \n",
       "430  Leopard roaring sequence 1  Leopard             0.03    0.00     0.29   \n",
       "407            Jaguar-Prusten-1   Jaguar             0.14    0.22     0.39   \n",
       "419               Jaguar-Roar-1   Jaguar             0.21    0.04     0.47   \n",
       "420               Jaguar-Roar-2   Jaguar             0.02    0.22     0.53   \n",
       "576                         LG2     Lion             0.25    0.25     0.20   \n",
       "\n",
       "     Lion  Snow leopard        Predicted  \n",
       "435  0.35          0.00           Jaguar  \n",
       "430  0.50          0.18             Lion  \n",
       "407  0.14          0.11          Leopard  \n",
       "419  0.23          0.05          Leopard  \n",
       "420  0.18          0.05          Leopard  \n",
       "576  0.20          0.10  Clouded leopard  "
      ]
     },
     "execution_count": 124,
     "metadata": {},
     "output_type": "execute_result"
    }
   ],
   "source": [
    "df_test = pd.DataFrame(X_test.copy())\n",
    "df_test = df_test.drop(['Partials', 'Zero_Crossings', 'Duration', 'Amp_range', 'Avg_amp',\n",
    "       'Freq_range', 'Pulses_per_Sec', 'MFCC', 'Spectral Rolloff',\n",
    "       'Melspectrogram', 'Spectral Contrast', 'Chromagram', 'Tempogram'], axis=1)\n",
    "df_test['File Name'] = df['File Name']\n",
    "df_test['Target'] = y_test2\n",
    "df_test[rf2.classes_[0]] = prob_rf2[:,0] \n",
    "df_test[rf2.classes_[1]] = prob_rf2[:,1]\n",
    "df_test[rf2.classes_[2]] = prob_rf2[:,2]\n",
    "df_test[rf2.classes_[3]] = prob_rf2[:,3]\n",
    "df_test[rf2.classes_[4]] = prob_rf2[:,4]\n",
    "df_test['Predicted'] = y_rf2\n",
    "df_test = df_test[df_test['Target'] != df_test['Predicted']]\n",
    "df_test.to_csv('Mislabeled Panterinae Species With Random Forest.csv', index=False)\n",
    "df_test.head(15)"
   ]
  },
  {
   "cell_type": "markdown",
   "metadata": {},
   "source": [
    "#The data is unbalanced, this could be fixed by updating the class weights \n",
    "#Or getting more varied data\n",
    "df2['Species'].value_counts()"
   ]
  }
 ],
 "metadata": {
  "kernelspec": {
   "display_name": "Python 3",
   "language": "python",
   "name": "python3"
  },
  "language_info": {
   "codemirror_mode": {
    "name": "ipython",
    "version": 3
   },
   "file_extension": ".py",
   "mimetype": "text/x-python",
   "name": "python",
   "nbconvert_exporter": "python",
   "pygments_lexer": "ipython3",
   "version": "3.8.8"
  }
 },
 "nbformat": 4,
 "nbformat_minor": 4
}
