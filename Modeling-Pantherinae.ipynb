{
 "cells": [
  {
   "cell_type": "code",
   "execution_count": 1,
   "metadata": {},
   "outputs": [],
   "source": [
    "import pandas as pd\n",
    "import numpy as np\n",
    "import matplotlib.pyplot as plt\n",
    "%matplotlib inline\n",
    "import seaborn as sns\n",
    "from sklearn.metrics import confusion_matrix\n",
    "\n",
    "from sklearn.model_selection import train_test_split\n",
    "from sklearn.preprocessing import StandardScaler, MinMaxScaler, OneHotEncoder\n",
    "\n",
    "from xgboost import XGBClassifier\n",
    "from sklearn.svm import SVC\n",
    "from sklearn.naive_bayes import GaussianNB, CategoricalNB\n",
    "from sklearn.linear_model import LogisticRegression\n",
    "from sklearn.neighbors import KNeighborsClassifier\n",
    "from sklearn.tree import DecisionTreeClassifier\n",
    "from sklearn.ensemble import RandomForestClassifier\n",
    "\n",
    "from xgboost import plot_importance"
   ]
  },
  {
   "cell_type": "code",
   "execution_count": 2,
   "metadata": {},
   "outputs": [],
   "source": [
    "df = pd.read_csv('features_cleaned.csv')"
   ]
  },
  {
   "cell_type": "code",
   "execution_count": 3,
   "metadata": {},
   "outputs": [
    {
     "data": {
      "text/plain": [
       "(606, 17)"
      ]
     },
     "execution_count": 3,
     "metadata": {},
     "output_type": "execute_result"
    }
   ],
   "source": [
    "df.shape"
   ]
  },
  {
   "cell_type": "code",
   "execution_count": 4,
   "metadata": {},
   "outputs": [],
   "source": [
    "df = df[df.Species.isin(['Clouded leopard','Snow leopard', 'Jaguar','Leopard','Lion'])]"
   ]
  },
  {
   "cell_type": "code",
   "execution_count": 5,
   "metadata": {},
   "outputs": [
    {
     "data": {
      "text/plain": [
       "(143, 17)"
      ]
     },
     "execution_count": 5,
     "metadata": {},
     "output_type": "execute_result"
    }
   ],
   "source": [
    "df.shape"
   ]
  },
  {
   "cell_type": "code",
   "execution_count": 6,
   "metadata": {},
   "outputs": [
    {
     "data": {
      "text/plain": [
       "Index(['Partials', 'Zero_Crossings', 'Duration', 'Amp_range', 'Avg_amp',\n",
       "       'Freq_range', 'Pulses_per_Sec', 'MFCC', 'Spectral Rolloff',\n",
       "       'Melspectrogram', 'Spectral Contrast', 'Chroma_StFt', 'Tonnetz', 'Sex',\n",
       "       'Age', 'Species', 'Call'],\n",
       "      dtype='object')"
      ]
     },
     "execution_count": 6,
     "metadata": {},
     "output_type": "execute_result"
    }
   ],
   "source": [
    "df.columns"
   ]
  },
  {
   "cell_type": "code",
   "execution_count": 7,
   "metadata": {},
   "outputs": [],
   "source": [
    "X = df[pd.notnull(df['Call'])].drop(['Call','Sex','Age','Species'], axis=1)\n",
    "y = df[pd.notnull(df['Call'])][['Call','Species']]"
   ]
  },
  {
   "cell_type": "code",
   "execution_count": 8,
   "metadata": {},
   "outputs": [],
   "source": [
    "X_train, X_test, y_train, y_test = train_test_split(X, y, test_size = 0.30)"
   ]
  },
  {
   "cell_type": "code",
   "execution_count": 9,
   "metadata": {
    "scrolled": true
   },
   "outputs": [
    {
     "name": "stdout",
     "output_type": "stream",
     "text": [
      "(100, 13)\n",
      "(43, 13)\n",
      "(100, 2)\n",
      "(43, 2)\n"
     ]
    }
   ],
   "source": [
    "print(X_train.shape)\n",
    "print(X_test.shape)\n",
    "print(y_train.shape)\n",
    "print(y_test.shape)"
   ]
  },
  {
   "cell_type": "code",
   "execution_count": 10,
   "metadata": {},
   "outputs": [
    {
     "name": "stdout",
     "output_type": "stream",
     "text": [
      "Total Call Values\n",
      "roar       65\n",
      "prusten    44\n",
      "growl      20\n",
      "hiss        6\n",
      "puff        5\n",
      "mew         3\n",
      "Name: Call, dtype: int64\n",
      "\n",
      "\n",
      "Call values for Training\n",
      "roar       44\n",
      "prusten    33\n",
      "growl      13\n",
      "puff        4\n",
      "mew         3\n",
      "hiss        3\n",
      "Name: Call, dtype: int64\n",
      "\n",
      "\n",
      "Call values for Testing\n",
      "roar       21\n",
      "prusten    11\n",
      "growl       7\n",
      "hiss        3\n",
      "puff        1\n",
      "Name: Call, dtype: int64\n"
     ]
    }
   ],
   "source": [
    "print('Total Call Values')\n",
    "print(df['Call'].value_counts())\n",
    "print('\\n')\n",
    "print('Call values for Training')\n",
    "print(y_train.Call.value_counts())\n",
    "print('\\n')\n",
    "print('Call values for Testing')\n",
    "print(y_test.Call.value_counts())"
   ]
  },
  {
   "cell_type": "code",
   "execution_count": 11,
   "metadata": {},
   "outputs": [
    {
     "name": "stdout",
     "output_type": "stream",
     "text": [
      "Calls trained for but not tested for\n",
      "{'mew'}\n",
      "Calls test for but not trained for\n",
      "set()\n"
     ]
    }
   ],
   "source": [
    "print('Calls trained for but not tested for')\n",
    "print(set(np.unique(y_train.Call))-set(np.unique(y_test.Call)))\n",
    "print('Calls test for but not trained for')\n",
    "print(set(np.unique(y_test.Call))-set(np.unique(y_train.Call)))"
   ]
  },
  {
   "cell_type": "code",
   "execution_count": 12,
   "metadata": {},
   "outputs": [
    {
     "name": "stdout",
     "output_type": "stream",
     "text": [
      "Total Species values\n",
      "Leopard            45\n",
      "Clouded leopard    35\n",
      "Lion               34\n",
      "Jaguar             22\n",
      "Snow leopard        7\n",
      "Name: Species, dtype: int64\n",
      "\n",
      "\n",
      "Species values for Training\n",
      "Leopard            29\n",
      "Clouded leopard    24\n",
      "Lion               23\n",
      "Jaguar             17\n",
      "Snow leopard        7\n",
      "Name: Species, dtype: int64\n",
      "\n",
      "\n",
      "Species values for Testing\n",
      "Leopard            16\n",
      "Clouded leopard    11\n",
      "Lion               11\n",
      "Jaguar              5\n",
      "Name: Species, dtype: int64\n"
     ]
    }
   ],
   "source": [
    "print('Total Species values')\n",
    "print(df['Species'].value_counts())\n",
    "print('\\n')\n",
    "print('Species values for Training')\n",
    "print(y_train.Species.value_counts())\n",
    "print('\\n')\n",
    "print('Species values for Testing')\n",
    "print(y_test.Species.value_counts())"
   ]
  },
  {
   "cell_type": "code",
   "execution_count": 13,
   "metadata": {},
   "outputs": [
    {
     "name": "stdout",
     "output_type": "stream",
     "text": [
      "Species trained for but not tested for\n",
      "{'Snow leopard'}\n",
      "Species test for but not trained for\n",
      "set()\n"
     ]
    }
   ],
   "source": [
    "print('Species trained for but not tested for')\n",
    "print(set(np.unique(y_train.Species))-set(np.unique(y_test.Species)))\n",
    "print('Species test for but not trained for')\n",
    "print(set(np.unique(y_test.Species))-set(np.unique(y_train.Species)))"
   ]
  },
  {
   "cell_type": "markdown",
   "metadata": {},
   "source": [
    "# Vocalization Classification"
   ]
  },
  {
   "cell_type": "markdown",
   "metadata": {},
   "source": [
    "## Splitting data"
   ]
  },
  {
   "cell_type": "code",
   "execution_count": 14,
   "metadata": {},
   "outputs": [],
   "source": [
    "y_train1 = y_train.Call\n",
    "y_test1 = y_test.Call"
   ]
  },
  {
   "cell_type": "markdown",
   "metadata": {},
   "source": [
    "## LightGBM"
   ]
  },
  {
   "cell_type": "code",
   "execution_count": 15,
   "metadata": {},
   "outputs": [
    {
     "data": {
      "text/plain": [
       "LGBMClassifier()"
      ]
     },
     "execution_count": 15,
     "metadata": {},
     "output_type": "execute_result"
    }
   ],
   "source": [
    "import lightgbm as lgb\n",
    "lgb1 = lgb.LGBMClassifier()\n",
    "lgb1.fit(X_train, y_train1)"
   ]
  },
  {
   "cell_type": "code",
   "execution_count": 16,
   "metadata": {},
   "outputs": [
    {
     "data": {
      "text/plain": [
       "1.0"
      ]
     },
     "execution_count": 16,
     "metadata": {},
     "output_type": "execute_result"
    }
   ],
   "source": [
    "lgb1.score(X_train, y_train1)"
   ]
  },
  {
   "cell_type": "code",
   "execution_count": 17,
   "metadata": {},
   "outputs": [
    {
     "data": {
      "text/plain": [
       "0.8604651162790697"
      ]
     },
     "execution_count": 17,
     "metadata": {},
     "output_type": "execute_result"
    }
   ],
   "source": [
    "lgb1.score(X_test,y_test1)"
   ]
  },
  {
   "cell_type": "markdown",
   "metadata": {},
   "source": [
    "## XGBoost"
   ]
  },
  {
   "cell_type": "code",
   "execution_count": 18,
   "metadata": {},
   "outputs": [],
   "source": [
    "parameters = dict(\n",
    "    objective='multi:softprob',\n",
    "    random_state = 30,\n",
    "    max_depth=9,\n",
    "    learning_rate=0.01,\n",
    "    subsample=0.8,\n",
    "    colsample_bytree=0.4,\n",
    "    tree_method='gpu_hist')\n",
    "\n",
    "\n",
    "clf1 = XGBClassifier(**parameters, n_estimators=1200)"
   ]
  },
  {
   "cell_type": "code",
   "execution_count": 19,
   "metadata": {},
   "outputs": [
    {
     "name": "stderr",
     "output_type": "stream",
     "text": [
      "C:\\Users\\exant\\anaconda3\\lib\\site-packages\\xgboost\\sklearn.py:1146: UserWarning: The use of label encoder in XGBClassifier is deprecated and will be removed in a future release. To remove this warning, do the following: 1) Pass option use_label_encoder=False when constructing XGBClassifier object; and 2) Encode your labels (y) as integers starting with 0, i.e. 0, 1, 2, ..., [num_class - 1].\n",
      "  warnings.warn(label_encoder_deprecation_msg, UserWarning)\n"
     ]
    },
    {
     "name": "stdout",
     "output_type": "stream",
     "text": [
      "[18:41:17] WARNING: C:/Users/Administrator/workspace/xgboost-win64_release_1.4.0/src/learner.cc:1095: Starting in XGBoost 1.3.0, the default evaluation metric used with the objective 'multi:softprob' was changed from 'merror' to 'mlogloss'. Explicitly set eval_metric if you'd like to restore the old behavior.\n"
     ]
    },
    {
     "data": {
      "text/plain": [
       "XGBClassifier(base_score=0.5, booster='gbtree', colsample_bylevel=1,\n",
       "              colsample_bynode=1, colsample_bytree=0.4, gamma=0, gpu_id=0,\n",
       "              importance_type='gain', interaction_constraints='',\n",
       "              learning_rate=0.01, max_delta_step=0, max_depth=9,\n",
       "              min_child_weight=1, missing=nan, monotone_constraints='()',\n",
       "              n_estimators=1200, n_jobs=12, num_parallel_tree=1,\n",
       "              objective='multi:softprob', random_state=30, reg_alpha=0,\n",
       "              reg_lambda=1, scale_pos_weight=None, subsample=0.8,\n",
       "              tree_method='gpu_hist', validate_parameters=1, verbosity=None)"
      ]
     },
     "execution_count": 19,
     "metadata": {},
     "output_type": "execute_result"
    }
   ],
   "source": [
    "clf1.fit(X_train, y_train1)"
   ]
  },
  {
   "cell_type": "code",
   "execution_count": 20,
   "metadata": {},
   "outputs": [
    {
     "data": {
      "text/plain": [
       "1.0"
      ]
     },
     "execution_count": 20,
     "metadata": {},
     "output_type": "execute_result"
    }
   ],
   "source": [
    "clf1.score(X_train, y_train1)"
   ]
  },
  {
   "cell_type": "code",
   "execution_count": 21,
   "metadata": {},
   "outputs": [
    {
     "data": {
      "text/plain": [
       "0.7674418604651163"
      ]
     },
     "execution_count": 21,
     "metadata": {},
     "output_type": "execute_result"
    }
   ],
   "source": [
    "clf1.score(X_test,y_test1)"
   ]
  },
  {
   "cell_type": "code",
   "execution_count": 22,
   "metadata": {},
   "outputs": [],
   "source": [
    "y_clf1 = clf1.predict(X_test)\n",
    "prob_clf1 = clf1.predict_proba(X_test)"
   ]
  },
  {
   "cell_type": "code",
   "execution_count": 23,
   "metadata": {},
   "outputs": [
    {
     "name": "stdout",
     "output_type": "stream",
     "text": [
      "1. Tested Calls\n",
      "['growl' 'hiss' 'prusten' 'puff' 'roar']\n",
      "2. Predicted Calls\n",
      "['growl' 'prusten' 'puff' 'roar']\n",
      "3. Not tested for but predicted\n",
      "set()\n",
      "4. Tested for but not predicted\n",
      "{'hiss'}\n"
     ]
    }
   ],
   "source": [
    "print('1. Tested Calls')\n",
    "print(np.unique(y_test1))\n",
    "print('2. Predicted Calls')\n",
    "print(np.unique(y_clf1))\n",
    "print('3. Not tested for but predicted')\n",
    "print(set(np.unique(y_clf1))-set(np.unique(y_test1)))\n",
    "print('4. Tested for but not predicted')\n",
    "print(set(np.unique(y_test1))-set(np.unique(y_clf1)))"
   ]
  },
  {
   "cell_type": "code",
   "execution_count": 24,
   "metadata": {},
   "outputs": [
    {
     "name": "stdout",
     "output_type": "stream",
     "text": [
      "Accuracy 0.7674418604651163\n"
     ]
    },
    {
     "data": {
      "image/png": "[encoded data removed]",
      "text/plain": [
       "<Figure size 432x288 with 2 Axes>"
      ]
     },
     "metadata": {
      "needs_background": "light"
     },
     "output_type": "display_data"
    }
   ],
   "source": [
    "names = sorted(list(set(np.unique(y_test1)).union(set(y_clf1))))\n",
    "\n",
    "print('Accuracy',clf1.score(X_test, y_test1))\n",
    "\n",
    "cnf = confusion_matrix(y_test1, y_clf1)\n",
    "fig, ax = plt.subplots()\n",
    "tick_marks = np.arange(len(names))\n",
    "sns.heatmap(cnf, annot = True, xticklabels = names, cmap= \"YlGnBu\", yticklabels = names)\n",
    "ax.xaxis.set_label_position('top')\n",
    "plt.title('XGBoost Confusion Matrix')\n",
    "plt.ylabel('Actual label')\n",
    "plt.xlabel('Predicted label')\n",
    "plt.show()"
   ]
  },
  {
   "cell_type": "code",
   "execution_count": 25,
   "metadata": {},
   "outputs": [
    {
     "data": {
      "image/png": "[encoded data removed]",
      "text/plain": [
       "<Figure size 432x288 with 1 Axes>"
      ]
     },
     "metadata": {
      "needs_background": "light"
     },
     "output_type": "display_data"
    }
   ],
   "source": [
    "plot_importance(clf1)\n",
    "figsize=(5,10)"
   ]
  },
  {
   "cell_type": "markdown",
   "metadata": {},
   "source": [
    "## SVM"
   ]
  },
  {
   "cell_type": "code",
   "execution_count": 26,
   "metadata": {},
   "outputs": [],
   "source": [
    "svm1 = SVC(probability=True)"
   ]
  },
  {
   "cell_type": "code",
   "execution_count": 27,
   "metadata": {},
   "outputs": [
    {
     "data": {
      "text/plain": [
       "SVC(probability=True)"
      ]
     },
     "execution_count": 27,
     "metadata": {},
     "output_type": "execute_result"
    }
   ],
   "source": [
    "svm1.fit(X_train, y_train1)"
   ]
  },
  {
   "cell_type": "code",
   "execution_count": 28,
   "metadata": {},
   "outputs": [
    {
     "data": {
      "text/plain": [
       "0.85"
      ]
     },
     "execution_count": 28,
     "metadata": {},
     "output_type": "execute_result"
    }
   ],
   "source": [
    "svm1.score(X_train, y_train1)"
   ]
  },
  {
   "cell_type": "code",
   "execution_count": 29,
   "metadata": {},
   "outputs": [
    {
     "data": {
      "text/plain": [
       "0.7441860465116279"
      ]
     },
     "execution_count": 29,
     "metadata": {},
     "output_type": "execute_result"
    }
   ],
   "source": [
    "svm1.score(X_test, y_test1)"
   ]
  },
  {
   "cell_type": "code",
   "execution_count": 30,
   "metadata": {},
   "outputs": [],
   "source": [
    "y_svm1 = svm1.predict(X_test)\n",
    "prob_svm1 = svm1.predict_proba(X_test)"
   ]
  },
  {
   "cell_type": "code",
   "execution_count": 31,
   "metadata": {},
   "outputs": [
    {
     "name": "stdout",
     "output_type": "stream",
     "text": [
      "1. Tested Calls\n",
      "['growl' 'hiss' 'prusten' 'puff' 'roar']\n",
      "2. Predicted Calls\n",
      "['growl' 'prusten' 'puff' 'roar']\n",
      "3. False Positive\n",
      "set()\n",
      "4. False Negative\n",
      "{'hiss'}\n"
     ]
    }
   ],
   "source": [
    "print('1. Tested Calls')\n",
    "print(np.unique(y_test1))\n",
    "print('2. Predicted Calls')\n",
    "print(np.unique(y_svm1))\n",
    "print('3. False Positive')\n",
    "print(set(np.unique(y_svm1))-set(np.unique(y_test1)))\n",
    "print('4. False Negative')\n",
    "print(set(np.unique(y_test1))-set(np.unique(y_svm1)))"
   ]
  },
  {
   "cell_type": "code",
   "execution_count": 32,
   "metadata": {
    "scrolled": true
   },
   "outputs": [
    {
     "name": "stdout",
     "output_type": "stream",
     "text": [
      "Accuracy 0.7441860465116279\n"
     ]
    },
    {
     "data": {
      "image/png": "[encoded data removed]",
      "text/plain": [
       "<Figure size 432x288 with 2 Axes>"
      ]
     },
     "metadata": {
      "needs_background": "light"
     },
     "output_type": "display_data"
    }
   ],
   "source": [
    "names = sorted(list(set(np.unique(y_test1)).union(set(y_svm1))))\n",
    "\n",
    "print('Accuracy',svm1.score(X_test, y_test1))\n",
    "\n",
    "cnf = confusion_matrix(y_test1, y_svm1)\n",
    "fig, ax = plt.subplots()\n",
    "tick_marks = np.arange(len(names))\n",
    "sns.heatmap(cnf, annot = True, xticklabels = names, cmap= \"YlGnBu\", yticklabels = names)\n",
    "ax.xaxis.set_label_position('top')\n",
    "plt.title('SVM Confusion Matrix')\n",
    "plt.ylabel('Actual label')\n",
    "plt.xlabel('Predicted label')\n",
    "plt.show()"
   ]
  },
  {
   "cell_type": "code",
   "execution_count": 33,
   "metadata": {},
   "outputs": [
    {
     "data": {
      "text/html": [
       "<div>\n",
       "<style scoped>\n",
       "    .dataframe tbody tr th:only-of-type {\n",
       "        vertical-align: middle;\n",
       "    }\n",
       "\n",
       "    .dataframe tbody tr th {\n",
       "        vertical-align: top;\n",
       "    }\n",
       "\n",
       "    .dataframe thead th {\n",
       "        text-align: right;\n",
       "    }\n",
       "</style>\n",
       "<table border=\"1\" class=\"dataframe\">\n",
       "  <thead>\n",
       "    <tr style=\"text-align: right;\">\n",
       "      <th></th>\n",
       "      <th>Partials</th>\n",
       "      <th>Zero_Crossings</th>\n",
       "      <th>Duration</th>\n",
       "      <th>Amp_range</th>\n",
       "      <th>Avg_amp</th>\n",
       "      <th>Freq_range</th>\n",
       "      <th>Pulses_per_Sec</th>\n",
       "      <th>MFCC</th>\n",
       "      <th>Spectral Rolloff</th>\n",
       "      <th>Melspectrogram</th>\n",
       "      <th>...</th>\n",
       "      <th>Chroma_StFt</th>\n",
       "      <th>Tonnetz</th>\n",
       "      <th>Target</th>\n",
       "      <th>growl</th>\n",
       "      <th>hiss</th>\n",
       "      <th>mew</th>\n",
       "      <th>prusten</th>\n",
       "      <th>puff</th>\n",
       "      <th>roar</th>\n",
       "      <th>Predicted</th>\n",
       "    </tr>\n",
       "  </thead>\n",
       "  <tbody>\n",
       "    <tr>\n",
       "      <th>577</th>\n",
       "      <td>2.701873</td>\n",
       "      <td>2.055306</td>\n",
       "      <td>7.008787</td>\n",
       "      <td>1.738077</td>\n",
       "      <td>0.999292</td>\n",
       "      <td>0.272444</td>\n",
       "      <td>-0.227260</td>\n",
       "      <td>1.338170</td>\n",
       "      <td>-0.893441</td>\n",
       "      <td>0.179111</td>\n",
       "      <td>...</td>\n",
       "      <td>0.299618</td>\n",
       "      <td>0.022864</td>\n",
       "      <td>growl</td>\n",
       "      <td>0.154629</td>\n",
       "      <td>0.019913</td>\n",
       "      <td>0.017305</td>\n",
       "      <td>0.012132</td>\n",
       "      <td>0.066084</td>\n",
       "      <td>0.729936</td>\n",
       "      <td>roar</td>\n",
       "    </tr>\n",
       "    <tr>\n",
       "      <th>407</th>\n",
       "      <td>0.103108</td>\n",
       "      <td>-0.515473</td>\n",
       "      <td>-0.605682</td>\n",
       "      <td>1.593539</td>\n",
       "      <td>0.601862</td>\n",
       "      <td>0.517530</td>\n",
       "      <td>1.055904</td>\n",
       "      <td>1.566079</td>\n",
       "      <td>0.444750</td>\n",
       "      <td>0.268902</td>\n",
       "      <td>...</td>\n",
       "      <td>1.175930</td>\n",
       "      <td>-0.398267</td>\n",
       "      <td>prusten</td>\n",
       "      <td>0.614269</td>\n",
       "      <td>0.032522</td>\n",
       "      <td>0.026762</td>\n",
       "      <td>0.110775</td>\n",
       "      <td>0.070649</td>\n",
       "      <td>0.145022</td>\n",
       "      <td>growl</td>\n",
       "    </tr>\n",
       "    <tr>\n",
       "      <th>573</th>\n",
       "      <td>4.773353</td>\n",
       "      <td>2.470318</td>\n",
       "      <td>0.555847</td>\n",
       "      <td>3.489610</td>\n",
       "      <td>1.248329</td>\n",
       "      <td>1.439245</td>\n",
       "      <td>3.150666</td>\n",
       "      <td>-0.491383</td>\n",
       "      <td>0.587264</td>\n",
       "      <td>0.624672</td>\n",
       "      <td>...</td>\n",
       "      <td>-1.609842</td>\n",
       "      <td>0.570504</td>\n",
       "      <td>growl</td>\n",
       "      <td>0.249565</td>\n",
       "      <td>0.025879</td>\n",
       "      <td>0.104238</td>\n",
       "      <td>0.009973</td>\n",
       "      <td>0.067336</td>\n",
       "      <td>0.543008</td>\n",
       "      <td>roar</td>\n",
       "    </tr>\n",
       "    <tr>\n",
       "      <th>372</th>\n",
       "      <td>-0.386515</td>\n",
       "      <td>-0.455732</td>\n",
       "      <td>-0.476623</td>\n",
       "      <td>-0.710965</td>\n",
       "      <td>-0.643014</td>\n",
       "      <td>-0.315035</td>\n",
       "      <td>-0.409196</td>\n",
       "      <td>-0.475736</td>\n",
       "      <td>-0.198949</td>\n",
       "      <td>-0.267468</td>\n",
       "      <td>...</td>\n",
       "      <td>1.189604</td>\n",
       "      <td>-0.696705</td>\n",
       "      <td>hiss</td>\n",
       "      <td>0.005955</td>\n",
       "      <td>0.124488</td>\n",
       "      <td>0.009023</td>\n",
       "      <td>0.840939</td>\n",
       "      <td>0.010820</td>\n",
       "      <td>0.008775</td>\n",
       "      <td>prusten</td>\n",
       "    </tr>\n",
       "    <tr>\n",
       "      <th>376</th>\n",
       "      <td>-0.424178</td>\n",
       "      <td>-0.537129</td>\n",
       "      <td>-0.605682</td>\n",
       "      <td>-0.732839</td>\n",
       "      <td>-0.585146</td>\n",
       "      <td>-0.753001</td>\n",
       "      <td>-0.064694</td>\n",
       "      <td>-0.047318</td>\n",
       "      <td>-0.124902</td>\n",
       "      <td>-0.266568</td>\n",
       "      <td>...</td>\n",
       "      <td>1.154942</td>\n",
       "      <td>-1.740241</td>\n",
       "      <td>hiss</td>\n",
       "      <td>0.006674</td>\n",
       "      <td>0.185602</td>\n",
       "      <td>0.010829</td>\n",
       "      <td>0.782793</td>\n",
       "      <td>0.010212</td>\n",
       "      <td>0.003890</td>\n",
       "      <td>prusten</td>\n",
       "    </tr>\n",
       "    <tr>\n",
       "      <th>401</th>\n",
       "      <td>-0.311188</td>\n",
       "      <td>-0.556295</td>\n",
       "      <td>-0.605682</td>\n",
       "      <td>1.313578</td>\n",
       "      <td>0.527838</td>\n",
       "      <td>0.180961</td>\n",
       "      <td>-0.594935</td>\n",
       "      <td>-0.188759</td>\n",
       "      <td>-0.315786</td>\n",
       "      <td>0.530820</td>\n",
       "      <td>...</td>\n",
       "      <td>-0.371188</td>\n",
       "      <td>-0.775198</td>\n",
       "      <td>prusten</td>\n",
       "      <td>0.031022</td>\n",
       "      <td>0.061142</td>\n",
       "      <td>0.013796</td>\n",
       "      <td>0.276683</td>\n",
       "      <td>0.012627</td>\n",
       "      <td>0.604730</td>\n",
       "      <td>roar</td>\n",
       "    </tr>\n",
       "    <tr>\n",
       "      <th>574</th>\n",
       "      <td>-0.085208</td>\n",
       "      <td>-0.501658</td>\n",
       "      <td>-0.476623</td>\n",
       "      <td>0.282499</td>\n",
       "      <td>0.372900</td>\n",
       "      <td>-0.359014</td>\n",
       "      <td>-0.082420</td>\n",
       "      <td>0.793963</td>\n",
       "      <td>-0.237299</td>\n",
       "      <td>-0.042978</td>\n",
       "      <td>...</td>\n",
       "      <td>-0.276659</td>\n",
       "      <td>-0.233913</td>\n",
       "      <td>growl</td>\n",
       "      <td>0.049586</td>\n",
       "      <td>0.027938</td>\n",
       "      <td>0.015188</td>\n",
       "      <td>0.433618</td>\n",
       "      <td>0.022881</td>\n",
       "      <td>0.450789</td>\n",
       "      <td>prusten</td>\n",
       "    </tr>\n",
       "    <tr>\n",
       "      <th>464</th>\n",
       "      <td>0.931700</td>\n",
       "      <td>0.674799</td>\n",
       "      <td>1.330200</td>\n",
       "      <td>2.907062</td>\n",
       "      <td>2.451925</td>\n",
       "      <td>1.713177</td>\n",
       "      <td>0.366128</td>\n",
       "      <td>0.861109</td>\n",
       "      <td>-0.744215</td>\n",
       "      <td>1.520430</td>\n",
       "      <td>...</td>\n",
       "      <td>-0.302878</td>\n",
       "      <td>-1.004574</td>\n",
       "      <td>growl</td>\n",
       "      <td>0.456969</td>\n",
       "      <td>0.008351</td>\n",
       "      <td>0.041581</td>\n",
       "      <td>0.002847</td>\n",
       "      <td>0.039804</td>\n",
       "      <td>0.450448</td>\n",
       "      <td>roar</td>\n",
       "    </tr>\n",
       "    <tr>\n",
       "      <th>458</th>\n",
       "      <td>0.178434</td>\n",
       "      <td>1.055459</td>\n",
       "      <td>0.426788</td>\n",
       "      <td>2.357792</td>\n",
       "      <td>-0.184416</td>\n",
       "      <td>0.853963</td>\n",
       "      <td>1.141366</td>\n",
       "      <td>-0.446963</td>\n",
       "      <td>0.178915</td>\n",
       "      <td>-0.190837</td>\n",
       "      <td>...</td>\n",
       "      <td>-0.100714</td>\n",
       "      <td>-0.240032</td>\n",
       "      <td>growl</td>\n",
       "      <td>0.236189</td>\n",
       "      <td>0.019945</td>\n",
       "      <td>0.026154</td>\n",
       "      <td>0.037633</td>\n",
       "      <td>0.026185</td>\n",
       "      <td>0.653893</td>\n",
       "      <td>roar</td>\n",
       "    </tr>\n",
       "    <tr>\n",
       "      <th>375</th>\n",
       "      <td>-0.386515</td>\n",
       "      <td>-0.479441</td>\n",
       "      <td>-0.605682</td>\n",
       "      <td>-0.796778</td>\n",
       "      <td>-0.598478</td>\n",
       "      <td>-0.286325</td>\n",
       "      <td>0.488669</td>\n",
       "      <td>-0.382277</td>\n",
       "      <td>-0.029835</td>\n",
       "      <td>-0.267777</td>\n",
       "      <td>...</td>\n",
       "      <td>1.333358</td>\n",
       "      <td>-0.952526</td>\n",
       "      <td>hiss</td>\n",
       "      <td>0.007126</td>\n",
       "      <td>0.146794</td>\n",
       "      <td>0.010198</td>\n",
       "      <td>0.821287</td>\n",
       "      <td>0.010697</td>\n",
       "      <td>0.003899</td>\n",
       "      <td>prusten</td>\n",
       "    </tr>\n",
       "    <tr>\n",
       "      <th>433</th>\n",
       "      <td>1.948608</td>\n",
       "      <td>0.210128</td>\n",
       "      <td>0.684906</td>\n",
       "      <td>3.082510</td>\n",
       "      <td>1.470375</td>\n",
       "      <td>1.689439</td>\n",
       "      <td>0.540936</td>\n",
       "      <td>0.841702</td>\n",
       "      <td>-0.529984</td>\n",
       "      <td>0.656554</td>\n",
       "      <td>...</td>\n",
       "      <td>0.894175</td>\n",
       "      <td>0.116718</td>\n",
       "      <td>roar</td>\n",
       "      <td>0.545398</td>\n",
       "      <td>0.009865</td>\n",
       "      <td>0.038151</td>\n",
       "      <td>0.004181</td>\n",
       "      <td>0.042349</td>\n",
       "      <td>0.360056</td>\n",
       "      <td>growl</td>\n",
       "    </tr>\n",
       "  </tbody>\n",
       "</table>\n",
       "<p>11 rows × 21 columns</p>\n",
       "</div>"
      ],
      "text/plain": [
       "     Partials  Zero_Crossings  Duration  Amp_range   Avg_amp  Freq_range  \\\n",
       "577  2.701873        2.055306  7.008787   1.738077  0.999292    0.272444   \n",
       "407  0.103108       -0.515473 -0.605682   1.593539  0.601862    0.517530   \n",
       "573  4.773353        2.470318  0.555847   3.489610  1.248329    1.439245   \n",
       "372 -0.386515       -0.455732 -0.476623  -0.710965 -0.643014   -0.315035   \n",
       "376 -0.424178       -0.537129 -0.605682  -0.732839 -0.585146   -0.753001   \n",
       "401 -0.311188       -0.556295 -0.605682   1.313578  0.527838    0.180961   \n",
       "574 -0.085208       -0.501658 -0.476623   0.282499  0.372900   -0.359014   \n",
       "464  0.931700        0.674799  1.330200   2.907062  2.451925    1.713177   \n",
       "458  0.178434        1.055459  0.426788   2.357792 -0.184416    0.853963   \n",
       "375 -0.386515       -0.479441 -0.605682  -0.796778 -0.598478   -0.286325   \n",
       "433  1.948608        0.210128  0.684906   3.082510  1.470375    1.689439   \n",
       "\n",
       "     Pulses_per_Sec      MFCC  Spectral Rolloff  Melspectrogram  ...  \\\n",
       "577       -0.227260  1.338170         -0.893441        0.179111  ...   \n",
       "407        1.055904  1.566079          0.444750        0.268902  ...   \n",
       "573        3.150666 -0.491383          0.587264        0.624672  ...   \n",
       "372       -0.409196 -0.475736         -0.198949       -0.267468  ...   \n",
       "376       -0.064694 -0.047318         -0.124902       -0.266568  ...   \n",
       "401       -0.594935 -0.188759         -0.315786        0.530820  ...   \n",
       "574       -0.082420  0.793963         -0.237299       -0.042978  ...   \n",
       "464        0.366128  0.861109         -0.744215        1.520430  ...   \n",
       "458        1.141366 -0.446963          0.178915       -0.190837  ...   \n",
       "375        0.488669 -0.382277         -0.029835       -0.267777  ...   \n",
       "433        0.540936  0.841702         -0.529984        0.656554  ...   \n",
       "\n",
       "     Chroma_StFt   Tonnetz   Target     growl      hiss       mew   prusten  \\\n",
       "577     0.299618  0.022864    growl  0.154629  0.019913  0.017305  0.012132   \n",
       "407     1.175930 -0.398267  prusten  0.614269  0.032522  0.026762  0.110775   \n",
       "573    -1.609842  0.570504    growl  0.249565  0.025879  0.104238  0.009973   \n",
       "372     1.189604 -0.696705     hiss  0.005955  0.124488  0.009023  0.840939   \n",
       "376     1.154942 -1.740241     hiss  0.006674  0.185602  0.010829  0.782793   \n",
       "401    -0.371188 -0.775198  prusten  0.031022  0.061142  0.013796  0.276683   \n",
       "574    -0.276659 -0.233913    growl  0.049586  0.027938  0.015188  0.433618   \n",
       "464    -0.302878 -1.004574    growl  0.456969  0.008351  0.041581  0.002847   \n",
       "458    -0.100714 -0.240032    growl  0.236189  0.019945  0.026154  0.037633   \n",
       "375     1.333358 -0.952526     hiss  0.007126  0.146794  0.010198  0.821287   \n",
       "433     0.894175  0.116718     roar  0.545398  0.009865  0.038151  0.004181   \n",
       "\n",
       "         puff      roar  Predicted  \n",
       "577  0.066084  0.729936       roar  \n",
       "407  0.070649  0.145022      growl  \n",
       "573  0.067336  0.543008       roar  \n",
       "372  0.010820  0.008775    prusten  \n",
       "376  0.010212  0.003890    prusten  \n",
       "401  0.012627  0.604730       roar  \n",
       "574  0.022881  0.450789    prusten  \n",
       "464  0.039804  0.450448       roar  \n",
       "458  0.026185  0.653893       roar  \n",
       "375  0.010697  0.003899    prusten  \n",
       "433  0.042349  0.360056      growl  \n",
       "\n",
       "[11 rows x 21 columns]"
      ]
     },
     "execution_count": 33,
     "metadata": {},
     "output_type": "execute_result"
    }
   ],
   "source": [
    "pred_df = pd.DataFrame(X_test.copy())\n",
    "pred_df['Target'] = y_test1\n",
    "pred_df['growl'] = prob_svm1[:,0] \n",
    "pred_df['hiss'] = prob_svm1[:,1]\n",
    "pred_df['mew'] = prob_svm1[:,2]\n",
    "pred_df['prusten'] = prob_svm1[:,3]\n",
    "pred_df['puff'] = prob_svm1[:,4]\n",
    "pred_df['roar'] = prob_svm1[:,5]\n",
    "pred_df['Predicted'] = y_svm1\n",
    "pred_df = pred_df[pred_df['Target'] != pred_df['Predicted']]\n",
    "pred_df.to_csv('Mislabeled Panterinae Calls With SVM.csv', index=False)\n",
    "pred_df.head(15)"
   ]
  },
  {
   "cell_type": "markdown",
   "metadata": {},
   "source": [
    "## Naive Bayes"
   ]
  },
  {
   "cell_type": "code",
   "execution_count": 34,
   "metadata": {},
   "outputs": [],
   "source": [
    "nb1 = GaussianNB()"
   ]
  },
  {
   "cell_type": "code",
   "execution_count": 35,
   "metadata": {},
   "outputs": [
    {
     "data": {
      "text/plain": [
       "GaussianNB()"
      ]
     },
     "execution_count": 35,
     "metadata": {},
     "output_type": "execute_result"
    }
   ],
   "source": [
    "nb1.fit(X_train, y_train1)"
   ]
  },
  {
   "cell_type": "code",
   "execution_count": 36,
   "metadata": {},
   "outputs": [
    {
     "data": {
      "text/plain": [
       "0.93"
      ]
     },
     "execution_count": 36,
     "metadata": {},
     "output_type": "execute_result"
    }
   ],
   "source": [
    "nb1.score(X_train, y_train1)"
   ]
  },
  {
   "cell_type": "code",
   "execution_count": 37,
   "metadata": {},
   "outputs": [
    {
     "data": {
      "text/plain": [
       "0.7209302325581395"
      ]
     },
     "execution_count": 37,
     "metadata": {},
     "output_type": "execute_result"
    }
   ],
   "source": [
    "nb1.score(X_test, y_test1)"
   ]
  },
  {
   "cell_type": "code",
   "execution_count": 38,
   "metadata": {},
   "outputs": [],
   "source": [
    "y_nb1 = nb1.predict(X_test)\n",
    "prob_nb1 = nb1.predict_proba(X_test)"
   ]
  },
  {
   "cell_type": "code",
   "execution_count": 39,
   "metadata": {},
   "outputs": [
    {
     "name": "stdout",
     "output_type": "stream",
     "text": [
      "1. Tested Calls\n",
      "['growl' 'hiss' 'prusten' 'puff' 'roar']\n",
      "2. Predicted Calls\n",
      "['growl' 'hiss' 'prusten' 'puff' 'roar']\n",
      "3. Not tested for but predicted\n",
      "set()\n",
      "4. Tested for but not predicted\n",
      "set()\n"
     ]
    }
   ],
   "source": [
    "print('1. Tested Calls')\n",
    "print(np.unique(y_test1))\n",
    "print('2. Predicted Calls')\n",
    "print(np.unique(y_nb1))\n",
    "print('3. Not tested for but predicted')\n",
    "print(set(np.unique(y_nb1))-set(np.unique(y_test1)))\n",
    "print('4. Tested for but not predicted')\n",
    "print(set(np.unique(y_test1))-set(np.unique(y_nb1)))"
   ]
  },
  {
   "cell_type": "code",
   "execution_count": 40,
   "metadata": {},
   "outputs": [
    {
     "data": {
      "image/png": "[encoded data removed]",
      "text/plain": [
       "<Figure size 576x288 with 2 Axes>"
      ]
     },
     "metadata": {
      "needs_background": "light"
     },
     "output_type": "display_data"
    },
    {
     "name": "stdout",
     "output_type": "stream",
     "text": [
      "Accuracy 0.7209302325581395\n"
     ]
    }
   ],
   "source": [
    "names_nb = sorted(list(set(np.unique(y_test1)).union(set(y_nb1))))\n",
    "cnf = confusion_matrix(y_test1, y_nb1)\n",
    "fig, ax = plt.subplots(figsize=(8,4))\n",
    "\n",
    "sns.heatmap(cnf, annot=True, xticklabels=names_nb, yticklabels=names_nb,cmap= \"YlOrBr\")\n",
    "plt.title('Naive Bayes Confusion Matrix')\n",
    "ax.xaxis.set_label_position('top')\n",
    "plt.ylabel('Actual')\n",
    "plt.xlabel('Predicted')\n",
    "plt.show(block=False)\n",
    "print('Accuracy',nb1.score(X_test, y_test1))"
   ]
  },
  {
   "cell_type": "code",
   "execution_count": 41,
   "metadata": {},
   "outputs": [
    {
     "data": {
      "text/html": [
       "<div>\n",
       "<style scoped>\n",
       "    .dataframe tbody tr th:only-of-type {\n",
       "        vertical-align: middle;\n",
       "    }\n",
       "\n",
       "    .dataframe tbody tr th {\n",
       "        vertical-align: top;\n",
       "    }\n",
       "\n",
       "    .dataframe thead th {\n",
       "        text-align: right;\n",
       "    }\n",
       "</style>\n",
       "<table border=\"1\" class=\"dataframe\">\n",
       "  <thead>\n",
       "    <tr style=\"text-align: right;\">\n",
       "      <th></th>\n",
       "      <th>Partials</th>\n",
       "      <th>Zero_Crossings</th>\n",
       "      <th>Duration</th>\n",
       "      <th>Amp_range</th>\n",
       "      <th>Avg_amp</th>\n",
       "      <th>Freq_range</th>\n",
       "      <th>Pulses_per_Sec</th>\n",
       "      <th>MFCC</th>\n",
       "      <th>Spectral Rolloff</th>\n",
       "      <th>Melspectrogram</th>\n",
       "      <th>...</th>\n",
       "      <th>Chroma_StFt</th>\n",
       "      <th>Tonnetz</th>\n",
       "      <th>Target</th>\n",
       "      <th>growl</th>\n",
       "      <th>hiss</th>\n",
       "      <th>mew</th>\n",
       "      <th>prusten</th>\n",
       "      <th>puff</th>\n",
       "      <th>roar</th>\n",
       "      <th>Predicted</th>\n",
       "    </tr>\n",
       "  </thead>\n",
       "  <tbody>\n",
       "    <tr>\n",
       "      <th>407</th>\n",
       "      <td>0.103108</td>\n",
       "      <td>-0.515473</td>\n",
       "      <td>-0.605682</td>\n",
       "      <td>1.593539</td>\n",
       "      <td>0.601862</td>\n",
       "      <td>0.517530</td>\n",
       "      <td>1.055904</td>\n",
       "      <td>1.566079</td>\n",
       "      <td>0.444750</td>\n",
       "      <td>0.268902</td>\n",
       "      <td>...</td>\n",
       "      <td>1.175930</td>\n",
       "      <td>-0.398267</td>\n",
       "      <td>prusten</td>\n",
       "      <td>9.979663e-01</td>\n",
       "      <td>0.000000e+00</td>\n",
       "      <td>0.000000e+00</td>\n",
       "      <td>2.596785e-14</td>\n",
       "      <td>0.000000e+00</td>\n",
       "      <td>2.033706e-03</td>\n",
       "      <td>growl</td>\n",
       "    </tr>\n",
       "    <tr>\n",
       "      <th>372</th>\n",
       "      <td>-0.386515</td>\n",
       "      <td>-0.455732</td>\n",
       "      <td>-0.476623</td>\n",
       "      <td>-0.710965</td>\n",
       "      <td>-0.643014</td>\n",
       "      <td>-0.315035</td>\n",
       "      <td>-0.409196</td>\n",
       "      <td>-0.475736</td>\n",
       "      <td>-0.198949</td>\n",
       "      <td>-0.267468</td>\n",
       "      <td>...</td>\n",
       "      <td>1.189604</td>\n",
       "      <td>-0.696705</td>\n",
       "      <td>hiss</td>\n",
       "      <td>2.982533e-08</td>\n",
       "      <td>0.000000e+00</td>\n",
       "      <td>0.000000e+00</td>\n",
       "      <td>9.262923e-01</td>\n",
       "      <td>7.121354e-02</td>\n",
       "      <td>2.494137e-03</td>\n",
       "      <td>prusten</td>\n",
       "    </tr>\n",
       "    <tr>\n",
       "      <th>401</th>\n",
       "      <td>-0.311188</td>\n",
       "      <td>-0.556295</td>\n",
       "      <td>-0.605682</td>\n",
       "      <td>1.313578</td>\n",
       "      <td>0.527838</td>\n",
       "      <td>0.180961</td>\n",
       "      <td>-0.594935</td>\n",
       "      <td>-0.188759</td>\n",
       "      <td>-0.315786</td>\n",
       "      <td>0.530820</td>\n",
       "      <td>...</td>\n",
       "      <td>-0.371188</td>\n",
       "      <td>-0.775198</td>\n",
       "      <td>prusten</td>\n",
       "      <td>2.487869e-02</td>\n",
       "      <td>0.000000e+00</td>\n",
       "      <td>0.000000e+00</td>\n",
       "      <td>4.132017e-10</td>\n",
       "      <td>0.000000e+00</td>\n",
       "      <td>9.751213e-01</td>\n",
       "      <td>roar</td>\n",
       "    </tr>\n",
       "    <tr>\n",
       "      <th>574</th>\n",
       "      <td>-0.085208</td>\n",
       "      <td>-0.501658</td>\n",
       "      <td>-0.476623</td>\n",
       "      <td>0.282499</td>\n",
       "      <td>0.372900</td>\n",
       "      <td>-0.359014</td>\n",
       "      <td>-0.082420</td>\n",
       "      <td>0.793963</td>\n",
       "      <td>-0.237299</td>\n",
       "      <td>-0.042978</td>\n",
       "      <td>...</td>\n",
       "      <td>-0.276659</td>\n",
       "      <td>-0.233913</td>\n",
       "      <td>growl</td>\n",
       "      <td>1.412344e-02</td>\n",
       "      <td>0.000000e+00</td>\n",
       "      <td>0.000000e+00</td>\n",
       "      <td>7.068812e-05</td>\n",
       "      <td>0.000000e+00</td>\n",
       "      <td>9.858059e-01</td>\n",
       "      <td>roar</td>\n",
       "    </tr>\n",
       "    <tr>\n",
       "      <th>464</th>\n",
       "      <td>0.931700</td>\n",
       "      <td>0.674799</td>\n",
       "      <td>1.330200</td>\n",
       "      <td>2.907062</td>\n",
       "      <td>2.451925</td>\n",
       "      <td>1.713177</td>\n",
       "      <td>0.366128</td>\n",
       "      <td>0.861109</td>\n",
       "      <td>-0.744215</td>\n",
       "      <td>1.520430</td>\n",
       "      <td>...</td>\n",
       "      <td>-0.302878</td>\n",
       "      <td>-1.004574</td>\n",
       "      <td>growl</td>\n",
       "      <td>1.439530e-01</td>\n",
       "      <td>0.000000e+00</td>\n",
       "      <td>2.125175e-88</td>\n",
       "      <td>0.000000e+00</td>\n",
       "      <td>0.000000e+00</td>\n",
       "      <td>8.560470e-01</td>\n",
       "      <td>roar</td>\n",
       "    </tr>\n",
       "    <tr>\n",
       "      <th>379</th>\n",
       "      <td>-0.198198</td>\n",
       "      <td>-0.407504</td>\n",
       "      <td>-0.605682</td>\n",
       "      <td>2.747402</td>\n",
       "      <td>-0.244153</td>\n",
       "      <td>0.228606</td>\n",
       "      <td>1.959164</td>\n",
       "      <td>-1.921262</td>\n",
       "      <td>-0.142267</td>\n",
       "      <td>-0.222932</td>\n",
       "      <td>...</td>\n",
       "      <td>0.069013</td>\n",
       "      <td>-0.772128</td>\n",
       "      <td>prusten</td>\n",
       "      <td>2.898024e-03</td>\n",
       "      <td>3.203031e-297</td>\n",
       "      <td>0.000000e+00</td>\n",
       "      <td>5.001948e-03</td>\n",
       "      <td>1.362127e-71</td>\n",
       "      <td>9.921000e-01</td>\n",
       "      <td>roar</td>\n",
       "    </tr>\n",
       "    <tr>\n",
       "      <th>458</th>\n",
       "      <td>0.178434</td>\n",
       "      <td>1.055459</td>\n",
       "      <td>0.426788</td>\n",
       "      <td>2.357792</td>\n",
       "      <td>-0.184416</td>\n",
       "      <td>0.853963</td>\n",
       "      <td>1.141366</td>\n",
       "      <td>-0.446963</td>\n",
       "      <td>0.178915</td>\n",
       "      <td>-0.190837</td>\n",
       "      <td>...</td>\n",
       "      <td>-0.100714</td>\n",
       "      <td>-0.240032</td>\n",
       "      <td>growl</td>\n",
       "      <td>3.945745e-02</td>\n",
       "      <td>0.000000e+00</td>\n",
       "      <td>0.000000e+00</td>\n",
       "      <td>0.000000e+00</td>\n",
       "      <td>4.006136e-94</td>\n",
       "      <td>9.605425e-01</td>\n",
       "      <td>roar</td>\n",
       "    </tr>\n",
       "    <tr>\n",
       "      <th>375</th>\n",
       "      <td>-0.386515</td>\n",
       "      <td>-0.479441</td>\n",
       "      <td>-0.605682</td>\n",
       "      <td>-0.796778</td>\n",
       "      <td>-0.598478</td>\n",
       "      <td>-0.286325</td>\n",
       "      <td>0.488669</td>\n",
       "      <td>-0.382277</td>\n",
       "      <td>-0.029835</td>\n",
       "      <td>-0.267777</td>\n",
       "      <td>...</td>\n",
       "      <td>1.333358</td>\n",
       "      <td>-0.952526</td>\n",
       "      <td>hiss</td>\n",
       "      <td>6.784145e-15</td>\n",
       "      <td>1.422884e-08</td>\n",
       "      <td>0.000000e+00</td>\n",
       "      <td>1.000000e+00</td>\n",
       "      <td>1.086927e-13</td>\n",
       "      <td>1.209831e-10</td>\n",
       "      <td>prusten</td>\n",
       "    </tr>\n",
       "    <tr>\n",
       "      <th>433</th>\n",
       "      <td>1.948608</td>\n",
       "      <td>0.210128</td>\n",
       "      <td>0.684906</td>\n",
       "      <td>3.082510</td>\n",
       "      <td>1.470375</td>\n",
       "      <td>1.689439</td>\n",
       "      <td>0.540936</td>\n",
       "      <td>0.841702</td>\n",
       "      <td>-0.529984</td>\n",
       "      <td>0.656554</td>\n",
       "      <td>...</td>\n",
       "      <td>0.894175</td>\n",
       "      <td>0.116718</td>\n",
       "      <td>roar</td>\n",
       "      <td>9.645741e-01</td>\n",
       "      <td>0.000000e+00</td>\n",
       "      <td>1.102824e-68</td>\n",
       "      <td>0.000000e+00</td>\n",
       "      <td>0.000000e+00</td>\n",
       "      <td>3.542592e-02</td>\n",
       "      <td>growl</td>\n",
       "    </tr>\n",
       "    <tr>\n",
       "      <th>595</th>\n",
       "      <td>3.907098</td>\n",
       "      <td>5.161947</td>\n",
       "      <td>3.911376</td>\n",
       "      <td>3.090183</td>\n",
       "      <td>1.594722</td>\n",
       "      <td>1.541590</td>\n",
       "      <td>0.618832</td>\n",
       "      <td>0.371786</td>\n",
       "      <td>0.034500</td>\n",
       "      <td>1.302399</td>\n",
       "      <td>...</td>\n",
       "      <td>-0.673258</td>\n",
       "      <td>-0.739795</td>\n",
       "      <td>roar</td>\n",
       "      <td>9.155008e-01</td>\n",
       "      <td>0.000000e+00</td>\n",
       "      <td>2.322767e-212</td>\n",
       "      <td>0.000000e+00</td>\n",
       "      <td>0.000000e+00</td>\n",
       "      <td>8.449919e-02</td>\n",
       "      <td>growl</td>\n",
       "    </tr>\n",
       "    <tr>\n",
       "      <th>585</th>\n",
       "      <td>1.195343</td>\n",
       "      <td>3.438055</td>\n",
       "      <td>6.234434</td>\n",
       "      <td>2.061427</td>\n",
       "      <td>1.067648</td>\n",
       "      <td>1.557506</td>\n",
       "      <td>-0.324819</td>\n",
       "      <td>0.203484</td>\n",
       "      <td>-0.310410</td>\n",
       "      <td>0.644313</td>\n",
       "      <td>...</td>\n",
       "      <td>-0.391450</td>\n",
       "      <td>-0.238836</td>\n",
       "      <td>roar</td>\n",
       "      <td>7.459130e-01</td>\n",
       "      <td>0.000000e+00</td>\n",
       "      <td>5.863328e-226</td>\n",
       "      <td>0.000000e+00</td>\n",
       "      <td>0.000000e+00</td>\n",
       "      <td>2.540870e-01</td>\n",
       "      <td>growl</td>\n",
       "    </tr>\n",
       "    <tr>\n",
       "      <th>581</th>\n",
       "      <td>3.944761</td>\n",
       "      <td>3.206808</td>\n",
       "      <td>2.620788</td>\n",
       "      <td>2.066188</td>\n",
       "      <td>1.054440</td>\n",
       "      <td>1.727119</td>\n",
       "      <td>-0.057579</td>\n",
       "      <td>-0.617610</td>\n",
       "      <td>0.705331</td>\n",
       "      <td>0.740748</td>\n",
       "      <td>...</td>\n",
       "      <td>0.106174</td>\n",
       "      <td>0.046918</td>\n",
       "      <td>roar</td>\n",
       "      <td>7.474976e-01</td>\n",
       "      <td>0.000000e+00</td>\n",
       "      <td>1.925231e-127</td>\n",
       "      <td>0.000000e+00</td>\n",
       "      <td>0.000000e+00</td>\n",
       "      <td>2.525024e-01</td>\n",
       "      <td>growl</td>\n",
       "    </tr>\n",
       "  </tbody>\n",
       "</table>\n",
       "<p>12 rows × 21 columns</p>\n",
       "</div>"
      ],
      "text/plain": [
       "     Partials  Zero_Crossings  Duration  Amp_range   Avg_amp  Freq_range  \\\n",
       "407  0.103108       -0.515473 -0.605682   1.593539  0.601862    0.517530   \n",
       "372 -0.386515       -0.455732 -0.476623  -0.710965 -0.643014   -0.315035   \n",
       "401 -0.311188       -0.556295 -0.605682   1.313578  0.527838    0.180961   \n",
       "574 -0.085208       -0.501658 -0.476623   0.282499  0.372900   -0.359014   \n",
       "464  0.931700        0.674799  1.330200   2.907062  2.451925    1.713177   \n",
       "379 -0.198198       -0.407504 -0.605682   2.747402 -0.244153    0.228606   \n",
       "458  0.178434        1.055459  0.426788   2.357792 -0.184416    0.853963   \n",
       "375 -0.386515       -0.479441 -0.605682  -0.796778 -0.598478   -0.286325   \n",
       "433  1.948608        0.210128  0.684906   3.082510  1.470375    1.689439   \n",
       "595  3.907098        5.161947  3.911376   3.090183  1.594722    1.541590   \n",
       "585  1.195343        3.438055  6.234434   2.061427  1.067648    1.557506   \n",
       "581  3.944761        3.206808  2.620788   2.066188  1.054440    1.727119   \n",
       "\n",
       "     Pulses_per_Sec      MFCC  Spectral Rolloff  Melspectrogram  ...  \\\n",
       "407        1.055904  1.566079          0.444750        0.268902  ...   \n",
       "372       -0.409196 -0.475736         -0.198949       -0.267468  ...   \n",
       "401       -0.594935 -0.188759         -0.315786        0.530820  ...   \n",
       "574       -0.082420  0.793963         -0.237299       -0.042978  ...   \n",
       "464        0.366128  0.861109         -0.744215        1.520430  ...   \n",
       "379        1.959164 -1.921262         -0.142267       -0.222932  ...   \n",
       "458        1.141366 -0.446963          0.178915       -0.190837  ...   \n",
       "375        0.488669 -0.382277         -0.029835       -0.267777  ...   \n",
       "433        0.540936  0.841702         -0.529984        0.656554  ...   \n",
       "595        0.618832  0.371786          0.034500        1.302399  ...   \n",
       "585       -0.324819  0.203484         -0.310410        0.644313  ...   \n",
       "581       -0.057579 -0.617610          0.705331        0.740748  ...   \n",
       "\n",
       "     Chroma_StFt   Tonnetz   Target         growl           hiss  \\\n",
       "407     1.175930 -0.398267  prusten  9.979663e-01   0.000000e+00   \n",
       "372     1.189604 -0.696705     hiss  2.982533e-08   0.000000e+00   \n",
       "401    -0.371188 -0.775198  prusten  2.487869e-02   0.000000e+00   \n",
       "574    -0.276659 -0.233913    growl  1.412344e-02   0.000000e+00   \n",
       "464    -0.302878 -1.004574    growl  1.439530e-01   0.000000e+00   \n",
       "379     0.069013 -0.772128  prusten  2.898024e-03  3.203031e-297   \n",
       "458    -0.100714 -0.240032    growl  3.945745e-02   0.000000e+00   \n",
       "375     1.333358 -0.952526     hiss  6.784145e-15   1.422884e-08   \n",
       "433     0.894175  0.116718     roar  9.645741e-01   0.000000e+00   \n",
       "595    -0.673258 -0.739795     roar  9.155008e-01   0.000000e+00   \n",
       "585    -0.391450 -0.238836     roar  7.459130e-01   0.000000e+00   \n",
       "581     0.106174  0.046918     roar  7.474976e-01   0.000000e+00   \n",
       "\n",
       "               mew       prusten          puff          roar  Predicted  \n",
       "407   0.000000e+00  2.596785e-14  0.000000e+00  2.033706e-03      growl  \n",
       "372   0.000000e+00  9.262923e-01  7.121354e-02  2.494137e-03    prusten  \n",
       "401   0.000000e+00  4.132017e-10  0.000000e+00  9.751213e-01       roar  \n",
       "574   0.000000e+00  7.068812e-05  0.000000e+00  9.858059e-01       roar  \n",
       "464   2.125175e-88  0.000000e+00  0.000000e+00  8.560470e-01       roar  \n",
       "379   0.000000e+00  5.001948e-03  1.362127e-71  9.921000e-01       roar  \n",
       "458   0.000000e+00  0.000000e+00  4.006136e-94  9.605425e-01       roar  \n",
       "375   0.000000e+00  1.000000e+00  1.086927e-13  1.209831e-10    prusten  \n",
       "433   1.102824e-68  0.000000e+00  0.000000e+00  3.542592e-02      growl  \n",
       "595  2.322767e-212  0.000000e+00  0.000000e+00  8.449919e-02      growl  \n",
       "585  5.863328e-226  0.000000e+00  0.000000e+00  2.540870e-01      growl  \n",
       "581  1.925231e-127  0.000000e+00  0.000000e+00  2.525024e-01      growl  \n",
       "\n",
       "[12 rows x 21 columns]"
      ]
     },
     "execution_count": 41,
     "metadata": {},
     "output_type": "execute_result"
    }
   ],
   "source": [
    "pred_df = pd.DataFrame(X_test.copy())\n",
    "pred_df['Target'] = y_test1\n",
    "pred_df['growl'] = prob_nb1[:,0] \n",
    "pred_df['hiss'] = prob_nb1[:,1]\n",
    "pred_df['mew'] = prob_nb1[:,2]\n",
    "pred_df['prusten'] = prob_nb1[:,3]\n",
    "pred_df['puff'] = prob_nb1[:,4]\n",
    "pred_df['roar'] = prob_nb1[:,5]\n",
    "pred_df['Predicted'] = y_nb1\n",
    "pred_df = pred_df[pred_df['Target'] != pred_df['Predicted']]\n",
    "pred_df.to_csv('Mislabeled Panterinae Calls With Naive Bayes.csv', index=False)\n",
    "pred_df.head(15)"
   ]
  },
  {
   "cell_type": "markdown",
   "metadata": {},
   "source": [
    "## Logistic Regression"
   ]
  },
  {
   "cell_type": "code",
   "execution_count": 42,
   "metadata": {},
   "outputs": [],
   "source": [
    "lr1 = LogisticRegression(solver='liblinear', multi_class='ovr',class_weight=\"balanced\")"
   ]
  },
  {
   "cell_type": "code",
   "execution_count": 43,
   "metadata": {},
   "outputs": [
    {
     "data": {
      "text/plain": [
       "LogisticRegression(class_weight='balanced', multi_class='ovr',\n",
       "                   solver='liblinear')"
      ]
     },
     "execution_count": 43,
     "metadata": {},
     "output_type": "execute_result"
    }
   ],
   "source": [
    "lr1.fit(X_train,y_train1)"
   ]
  },
  {
   "cell_type": "code",
   "execution_count": 44,
   "metadata": {},
   "outputs": [
    {
     "data": {
      "text/plain": [
       "0.9"
      ]
     },
     "execution_count": 44,
     "metadata": {},
     "output_type": "execute_result"
    }
   ],
   "source": [
    "lr1.score(X_train, y_train1)"
   ]
  },
  {
   "cell_type": "code",
   "execution_count": 45,
   "metadata": {},
   "outputs": [
    {
     "data": {
      "text/plain": [
       "0.813953488372093"
      ]
     },
     "execution_count": 45,
     "metadata": {},
     "output_type": "execute_result"
    }
   ],
   "source": [
    "lr1.score(X_test, y_test1)"
   ]
  },
  {
   "cell_type": "code",
   "execution_count": 46,
   "metadata": {},
   "outputs": [],
   "source": [
    "y_lr1 = lr1.predict(X_test)\n",
    "prob_lr1 = lr1.predict_proba(X_test)"
   ]
  },
  {
   "cell_type": "code",
   "execution_count": 47,
   "metadata": {},
   "outputs": [
    {
     "name": "stdout",
     "output_type": "stream",
     "text": [
      "1. Tested Calls\n",
      "['growl' 'hiss' 'prusten' 'puff' 'roar']\n",
      "2. Predicted Calls\n",
      "['growl' 'hiss' 'prusten' 'puff' 'roar']\n",
      "3. Not tested for but predicted\n",
      "set()\n",
      "4. Tested for but not predicted\n",
      "set()\n"
     ]
    }
   ],
   "source": [
    "print('1. Tested Calls')\n",
    "print(np.unique(y_test1))\n",
    "print('2. Predicted Calls')\n",
    "print(np.unique(y_lr1))\n",
    "print('3. Not tested for but predicted')\n",
    "print(set(np.unique(y_lr1))-set(np.unique(y_test1)))\n",
    "print('4. Tested for but not predicted')\n",
    "print(set(np.unique(y_test1))-set(np.unique(y_lr1)))"
   ]
  },
  {
   "cell_type": "code",
   "execution_count": 48,
   "metadata": {},
   "outputs": [
    {
     "name": "stdout",
     "output_type": "stream",
     "text": [
      "Accuracy 0.813953488372093\n"
     ]
    },
    {
     "data": {
      "image/png": "[encoded data removed]",
      "text/plain": [
       "<Figure size 576x288 with 2 Axes>"
      ]
     },
     "metadata": {
      "needs_background": "light"
     },
     "output_type": "display_data"
    }
   ],
   "source": [
    "names_lr = sorted(list(set(np.unique(y_test1)).union(set(y_lr1))))\n",
    "cnf = confusion_matrix(y_test1, y_lr1)\n",
    "fig, ax = plt.subplots(figsize=(8,4))\n",
    "\n",
    "print('Accuracy',lr1.score(X_test, y_test1))\n",
    "\n",
    "sns.heatmap(cnf, annot=True, xticklabels=names_lr, yticklabels=names_lr,cmap= \"YlOrBr\")\n",
    "plt.title('Logistic Regression')\n",
    "ax.xaxis.set_label_position('top')\n",
    "plt.ylabel('Actual')\n",
    "plt.xlabel('Predicted')\n",
    "plt.show(block=False)"
   ]
  },
  {
   "cell_type": "code",
   "execution_count": 49,
   "metadata": {},
   "outputs": [
    {
     "data": {
      "text/html": [
       "<div>\n",
       "<style scoped>\n",
       "    .dataframe tbody tr th:only-of-type {\n",
       "        vertical-align: middle;\n",
       "    }\n",
       "\n",
       "    .dataframe tbody tr th {\n",
       "        vertical-align: top;\n",
       "    }\n",
       "\n",
       "    .dataframe thead th {\n",
       "        text-align: right;\n",
       "    }\n",
       "</style>\n",
       "<table border=\"1\" class=\"dataframe\">\n",
       "  <thead>\n",
       "    <tr style=\"text-align: right;\">\n",
       "      <th></th>\n",
       "      <th>Partials</th>\n",
       "      <th>Zero_Crossings</th>\n",
       "      <th>Duration</th>\n",
       "      <th>Amp_range</th>\n",
       "      <th>Avg_amp</th>\n",
       "      <th>Freq_range</th>\n",
       "      <th>Pulses_per_Sec</th>\n",
       "      <th>MFCC</th>\n",
       "      <th>Spectral Rolloff</th>\n",
       "      <th>Melspectrogram</th>\n",
       "      <th>...</th>\n",
       "      <th>Chroma_StFt</th>\n",
       "      <th>Tonnetz</th>\n",
       "      <th>Target</th>\n",
       "      <th>growl</th>\n",
       "      <th>hiss</th>\n",
       "      <th>mew</th>\n",
       "      <th>prusten</th>\n",
       "      <th>puff</th>\n",
       "      <th>roar</th>\n",
       "      <th>Predicted</th>\n",
       "    </tr>\n",
       "  </thead>\n",
       "  <tbody>\n",
       "    <tr>\n",
       "      <th>577</th>\n",
       "      <td>2.701873</td>\n",
       "      <td>2.055306</td>\n",
       "      <td>7.008787</td>\n",
       "      <td>1.738077</td>\n",
       "      <td>0.999292</td>\n",
       "      <td>0.272444</td>\n",
       "      <td>-0.227260</td>\n",
       "      <td>1.338170</td>\n",
       "      <td>-0.893441</td>\n",
       "      <td>0.179111</td>\n",
       "      <td>...</td>\n",
       "      <td>0.299618</td>\n",
       "      <td>0.022864</td>\n",
       "      <td>growl</td>\n",
       "      <td>0.106794</td>\n",
       "      <td>0.077781</td>\n",
       "      <td>0.000047</td>\n",
       "      <td>3.450088e-07</td>\n",
       "      <td>0.009986</td>\n",
       "      <td>0.805392</td>\n",
       "      <td>roar</td>\n",
       "    </tr>\n",
       "    <tr>\n",
       "      <th>407</th>\n",
       "      <td>0.103108</td>\n",
       "      <td>-0.515473</td>\n",
       "      <td>-0.605682</td>\n",
       "      <td>1.593539</td>\n",
       "      <td>0.601862</td>\n",
       "      <td>0.517530</td>\n",
       "      <td>1.055904</td>\n",
       "      <td>1.566079</td>\n",
       "      <td>0.444750</td>\n",
       "      <td>0.268902</td>\n",
       "      <td>...</td>\n",
       "      <td>1.175930</td>\n",
       "      <td>-0.398267</td>\n",
       "      <td>prusten</td>\n",
       "      <td>0.678088</td>\n",
       "      <td>0.088279</td>\n",
       "      <td>0.036959</td>\n",
       "      <td>1.315344e-01</td>\n",
       "      <td>0.027595</td>\n",
       "      <td>0.037544</td>\n",
       "      <td>growl</td>\n",
       "    </tr>\n",
       "    <tr>\n",
       "      <th>372</th>\n",
       "      <td>-0.386515</td>\n",
       "      <td>-0.455732</td>\n",
       "      <td>-0.476623</td>\n",
       "      <td>-0.710965</td>\n",
       "      <td>-0.643014</td>\n",
       "      <td>-0.315035</td>\n",
       "      <td>-0.409196</td>\n",
       "      <td>-0.475736</td>\n",
       "      <td>-0.198949</td>\n",
       "      <td>-0.267468</td>\n",
       "      <td>...</td>\n",
       "      <td>1.189604</td>\n",
       "      <td>-0.696705</td>\n",
       "      <td>hiss</td>\n",
       "      <td>0.022114</td>\n",
       "      <td>0.417350</td>\n",
       "      <td>0.017526</td>\n",
       "      <td>4.704501e-01</td>\n",
       "      <td>0.016500</td>\n",
       "      <td>0.056060</td>\n",
       "      <td>prusten</td>\n",
       "    </tr>\n",
       "    <tr>\n",
       "      <th>401</th>\n",
       "      <td>-0.311188</td>\n",
       "      <td>-0.556295</td>\n",
       "      <td>-0.605682</td>\n",
       "      <td>1.313578</td>\n",
       "      <td>0.527838</td>\n",
       "      <td>0.180961</td>\n",
       "      <td>-0.594935</td>\n",
       "      <td>-0.188759</td>\n",
       "      <td>-0.315786</td>\n",
       "      <td>0.530820</td>\n",
       "      <td>...</td>\n",
       "      <td>-0.371188</td>\n",
       "      <td>-0.775198</td>\n",
       "      <td>prusten</td>\n",
       "      <td>0.014739</td>\n",
       "      <td>0.042648</td>\n",
       "      <td>0.023083</td>\n",
       "      <td>4.402376e-01</td>\n",
       "      <td>0.001745</td>\n",
       "      <td>0.477548</td>\n",
       "      <td>roar</td>\n",
       "    </tr>\n",
       "    <tr>\n",
       "      <th>574</th>\n",
       "      <td>-0.085208</td>\n",
       "      <td>-0.501658</td>\n",
       "      <td>-0.476623</td>\n",
       "      <td>0.282499</td>\n",
       "      <td>0.372900</td>\n",
       "      <td>-0.359014</td>\n",
       "      <td>-0.082420</td>\n",
       "      <td>0.793963</td>\n",
       "      <td>-0.237299</td>\n",
       "      <td>-0.042978</td>\n",
       "      <td>...</td>\n",
       "      <td>-0.276659</td>\n",
       "      <td>-0.233913</td>\n",
       "      <td>growl</td>\n",
       "      <td>0.221034</td>\n",
       "      <td>0.043336</td>\n",
       "      <td>0.083207</td>\n",
       "      <td>4.582037e-01</td>\n",
       "      <td>0.060969</td>\n",
       "      <td>0.133251</td>\n",
       "      <td>prusten</td>\n",
       "    </tr>\n",
       "    <tr>\n",
       "      <th>464</th>\n",
       "      <td>0.931700</td>\n",
       "      <td>0.674799</td>\n",
       "      <td>1.330200</td>\n",
       "      <td>2.907062</td>\n",
       "      <td>2.451925</td>\n",
       "      <td>1.713177</td>\n",
       "      <td>0.366128</td>\n",
       "      <td>0.861109</td>\n",
       "      <td>-0.744215</td>\n",
       "      <td>1.520430</td>\n",
       "      <td>...</td>\n",
       "      <td>-0.302878</td>\n",
       "      <td>-1.004574</td>\n",
       "      <td>growl</td>\n",
       "      <td>0.460929</td>\n",
       "      <td>0.004279</td>\n",
       "      <td>0.018767</td>\n",
       "      <td>1.120488e-04</td>\n",
       "      <td>0.008976</td>\n",
       "      <td>0.506937</td>\n",
       "      <td>roar</td>\n",
       "    </tr>\n",
       "    <tr>\n",
       "      <th>375</th>\n",
       "      <td>-0.386515</td>\n",
       "      <td>-0.479441</td>\n",
       "      <td>-0.605682</td>\n",
       "      <td>-0.796778</td>\n",
       "      <td>-0.598478</td>\n",
       "      <td>-0.286325</td>\n",
       "      <td>0.488669</td>\n",
       "      <td>-0.382277</td>\n",
       "      <td>-0.029835</td>\n",
       "      <td>-0.267777</td>\n",
       "      <td>...</td>\n",
       "      <td>1.333358</td>\n",
       "      <td>-0.952526</td>\n",
       "      <td>hiss</td>\n",
       "      <td>0.034826</td>\n",
       "      <td>0.439922</td>\n",
       "      <td>0.023173</td>\n",
       "      <td>4.784339e-01</td>\n",
       "      <td>0.009319</td>\n",
       "      <td>0.014326</td>\n",
       "      <td>prusten</td>\n",
       "    </tr>\n",
       "    <tr>\n",
       "      <th>433</th>\n",
       "      <td>1.948608</td>\n",
       "      <td>0.210128</td>\n",
       "      <td>0.684906</td>\n",
       "      <td>3.082510</td>\n",
       "      <td>1.470375</td>\n",
       "      <td>1.689439</td>\n",
       "      <td>0.540936</td>\n",
       "      <td>0.841702</td>\n",
       "      <td>-0.529984</td>\n",
       "      <td>0.656554</td>\n",
       "      <td>...</td>\n",
       "      <td>0.894175</td>\n",
       "      <td>0.116718</td>\n",
       "      <td>roar</td>\n",
       "      <td>0.681925</td>\n",
       "      <td>0.022184</td>\n",
       "      <td>0.083746</td>\n",
       "      <td>8.542996e-04</td>\n",
       "      <td>0.007063</td>\n",
       "      <td>0.204227</td>\n",
       "      <td>growl</td>\n",
       "    </tr>\n",
       "  </tbody>\n",
       "</table>\n",
       "<p>8 rows × 21 columns</p>\n",
       "</div>"
      ],
      "text/plain": [
       "     Partials  Zero_Crossings  Duration  Amp_range   Avg_amp  Freq_range  \\\n",
       "577  2.701873        2.055306  7.008787   1.738077  0.999292    0.272444   \n",
       "407  0.103108       -0.515473 -0.605682   1.593539  0.601862    0.517530   \n",
       "372 -0.386515       -0.455732 -0.476623  -0.710965 -0.643014   -0.315035   \n",
       "401 -0.311188       -0.556295 -0.605682   1.313578  0.527838    0.180961   \n",
       "574 -0.085208       -0.501658 -0.476623   0.282499  0.372900   -0.359014   \n",
       "464  0.931700        0.674799  1.330200   2.907062  2.451925    1.713177   \n",
       "375 -0.386515       -0.479441 -0.605682  -0.796778 -0.598478   -0.286325   \n",
       "433  1.948608        0.210128  0.684906   3.082510  1.470375    1.689439   \n",
       "\n",
       "     Pulses_per_Sec      MFCC  Spectral Rolloff  Melspectrogram  ...  \\\n",
       "577       -0.227260  1.338170         -0.893441        0.179111  ...   \n",
       "407        1.055904  1.566079          0.444750        0.268902  ...   \n",
       "372       -0.409196 -0.475736         -0.198949       -0.267468  ...   \n",
       "401       -0.594935 -0.188759         -0.315786        0.530820  ...   \n",
       "574       -0.082420  0.793963         -0.237299       -0.042978  ...   \n",
       "464        0.366128  0.861109         -0.744215        1.520430  ...   \n",
       "375        0.488669 -0.382277         -0.029835       -0.267777  ...   \n",
       "433        0.540936  0.841702         -0.529984        0.656554  ...   \n",
       "\n",
       "     Chroma_StFt   Tonnetz   Target     growl      hiss       mew  \\\n",
       "577     0.299618  0.022864    growl  0.106794  0.077781  0.000047   \n",
       "407     1.175930 -0.398267  prusten  0.678088  0.088279  0.036959   \n",
       "372     1.189604 -0.696705     hiss  0.022114  0.417350  0.017526   \n",
       "401    -0.371188 -0.775198  prusten  0.014739  0.042648  0.023083   \n",
       "574    -0.276659 -0.233913    growl  0.221034  0.043336  0.083207   \n",
       "464    -0.302878 -1.004574    growl  0.460929  0.004279  0.018767   \n",
       "375     1.333358 -0.952526     hiss  0.034826  0.439922  0.023173   \n",
       "433     0.894175  0.116718     roar  0.681925  0.022184  0.083746   \n",
       "\n",
       "          prusten      puff      roar  Predicted  \n",
       "577  3.450088e-07  0.009986  0.805392       roar  \n",
       "407  1.315344e-01  0.027595  0.037544      growl  \n",
       "372  4.704501e-01  0.016500  0.056060    prusten  \n",
       "401  4.402376e-01  0.001745  0.477548       roar  \n",
       "574  4.582037e-01  0.060969  0.133251    prusten  \n",
       "464  1.120488e-04  0.008976  0.506937       roar  \n",
       "375  4.784339e-01  0.009319  0.014326    prusten  \n",
       "433  8.542996e-04  0.007063  0.204227      growl  \n",
       "\n",
       "[8 rows x 21 columns]"
      ]
     },
     "execution_count": 49,
     "metadata": {},
     "output_type": "execute_result"
    }
   ],
   "source": [
    "pred_df = pd.DataFrame(X_test.copy())\n",
    "pred_df['Target'] = y_test1\n",
    "pred_df['growl'] = prob_lr1[:,0] \n",
    "pred_df['hiss'] = prob_lr1[:,1]\n",
    "pred_df['mew'] = prob_lr1[:,2]\n",
    "pred_df['prusten'] = prob_lr1[:,3]\n",
    "pred_df['puff'] = prob_lr1[:,4]\n",
    "pred_df['roar'] = prob_lr1[:,5]\n",
    "pred_df['Predicted'] = y_lr1\n",
    "pred_df = pred_df[pred_df['Target'] != pred_df['Predicted']]\n",
    "pred_df.to_csv('Mislabeled Panterinae Calls With Logistic Regression.csv', index=False)\n",
    "pred_df.head(15)"
   ]
  },
  {
   "cell_type": "markdown",
   "metadata": {},
   "source": [
    "## KNN"
   ]
  },
  {
   "cell_type": "code",
   "execution_count": 50,
   "metadata": {},
   "outputs": [],
   "source": [
    "knn1 = KNeighborsClassifier()"
   ]
  },
  {
   "cell_type": "code",
   "execution_count": 51,
   "metadata": {},
   "outputs": [
    {
     "data": {
      "text/plain": [
       "KNeighborsClassifier()"
      ]
     },
     "execution_count": 51,
     "metadata": {},
     "output_type": "execute_result"
    }
   ],
   "source": [
    "knn1.fit(X_train, y_train1)"
   ]
  },
  {
   "cell_type": "code",
   "execution_count": 52,
   "metadata": {},
   "outputs": [
    {
     "data": {
      "text/plain": [
       "0.87"
      ]
     },
     "execution_count": 52,
     "metadata": {},
     "output_type": "execute_result"
    }
   ],
   "source": [
    "knn1.score(X_train, y_train1)"
   ]
  },
  {
   "cell_type": "code",
   "execution_count": 53,
   "metadata": {},
   "outputs": [
    {
     "data": {
      "text/plain": [
       "0.7674418604651163"
      ]
     },
     "execution_count": 53,
     "metadata": {},
     "output_type": "execute_result"
    }
   ],
   "source": [
    "knn1.score(X_test, y_test1)"
   ]
  },
  {
   "cell_type": "code",
   "execution_count": 54,
   "metadata": {},
   "outputs": [],
   "source": [
    "y_knn1 = knn1.predict(X_test)\n",
    "prob_knn1 = knn1.predict_proba(X_test)"
   ]
  },
  {
   "cell_type": "code",
   "execution_count": 55,
   "metadata": {},
   "outputs": [
    {
     "name": "stdout",
     "output_type": "stream",
     "text": [
      "1. Tested Calls\n",
      "['growl' 'hiss' 'prusten' 'puff' 'roar']\n",
      "2. Predicted Calls\n",
      "['growl' 'hiss' 'prusten' 'puff' 'roar']\n",
      "3. Not tested for but predicted\n",
      "set()\n",
      "4. Tested for but not predicted\n",
      "set()\n"
     ]
    }
   ],
   "source": [
    "print('1. Tested Calls')\n",
    "print(np.unique(y_test1))\n",
    "print('2. Predicted Calls')\n",
    "print(np.unique(y_knn1))\n",
    "print('3. Not tested for but predicted')\n",
    "print(set(np.unique(y_knn1))-set(np.unique(y_test1)))\n",
    "print('4. Tested for but not predicted')\n",
    "print(set(np.unique(y_test1))-set(np.unique(y_knn1)))"
   ]
  },
  {
   "cell_type": "code",
   "execution_count": 56,
   "metadata": {},
   "outputs": [
    {
     "name": "stdout",
     "output_type": "stream",
     "text": [
      "Accuracy 0.7674418604651163\n"
     ]
    },
    {
     "data": {
      "image/png": "[encoded data removed]",
      "text/plain": [
       "<Figure size 576x288 with 2 Axes>"
      ]
     },
     "metadata": {
      "needs_background": "light"
     },
     "output_type": "display_data"
    }
   ],
   "source": [
    "names_knn = sorted(list(set(np.unique(y_test1)).union(set(y_knn1))))\n",
    "cnf = confusion_matrix(y_test1, y_knn1)\n",
    "fig, ax = plt.subplots(figsize=(8,4))\n",
    "\n",
    "print('Accuracy',knn1.score(X_test, y_test1))\n",
    "\n",
    "sns.heatmap(cnf, annot=True, xticklabels=names_knn, yticklabels=names_knn,cmap= \"YlOrBr\")\n",
    "plt.title('KNN')\n",
    "ax.xaxis.set_label_position('top')\n",
    "plt.ylabel('Actual')\n",
    "plt.xlabel('Predicted')\n",
    "plt.show(block=False)\n"
   ]
  },
  {
   "cell_type": "code",
   "execution_count": 57,
   "metadata": {},
   "outputs": [
    {
     "data": {
      "text/html": [
       "<div>\n",
       "<style scoped>\n",
       "    .dataframe tbody tr th:only-of-type {\n",
       "        vertical-align: middle;\n",
       "    }\n",
       "\n",
       "    .dataframe tbody tr th {\n",
       "        vertical-align: top;\n",
       "    }\n",
       "\n",
       "    .dataframe thead th {\n",
       "        text-align: right;\n",
       "    }\n",
       "</style>\n",
       "<table border=\"1\" class=\"dataframe\">\n",
       "  <thead>\n",
       "    <tr style=\"text-align: right;\">\n",
       "      <th></th>\n",
       "      <th>Partials</th>\n",
       "      <th>Zero_Crossings</th>\n",
       "      <th>Duration</th>\n",
       "      <th>Amp_range</th>\n",
       "      <th>Avg_amp</th>\n",
       "      <th>Freq_range</th>\n",
       "      <th>Pulses_per_Sec</th>\n",
       "      <th>MFCC</th>\n",
       "      <th>Spectral Rolloff</th>\n",
       "      <th>Melspectrogram</th>\n",
       "      <th>...</th>\n",
       "      <th>Chroma_StFt</th>\n",
       "      <th>Tonnetz</th>\n",
       "      <th>Target</th>\n",
       "      <th>growl</th>\n",
       "      <th>hiss</th>\n",
       "      <th>mew</th>\n",
       "      <th>prusten</th>\n",
       "      <th>puff</th>\n",
       "      <th>roar</th>\n",
       "      <th>Predicted</th>\n",
       "    </tr>\n",
       "  </thead>\n",
       "  <tbody>\n",
       "    <tr>\n",
       "      <th>577</th>\n",
       "      <td>2.701873</td>\n",
       "      <td>2.055306</td>\n",
       "      <td>7.008787</td>\n",
       "      <td>1.738077</td>\n",
       "      <td>0.999292</td>\n",
       "      <td>0.272444</td>\n",
       "      <td>-0.227260</td>\n",
       "      <td>1.338170</td>\n",
       "      <td>-0.893441</td>\n",
       "      <td>0.179111</td>\n",
       "      <td>...</td>\n",
       "      <td>0.299618</td>\n",
       "      <td>0.022864</td>\n",
       "      <td>growl</td>\n",
       "      <td>0.0</td>\n",
       "      <td>0.0</td>\n",
       "      <td>0.0</td>\n",
       "      <td>0.0</td>\n",
       "      <td>0.0</td>\n",
       "      <td>1.0</td>\n",
       "      <td>roar</td>\n",
       "    </tr>\n",
       "    <tr>\n",
       "      <th>407</th>\n",
       "      <td>0.103108</td>\n",
       "      <td>-0.515473</td>\n",
       "      <td>-0.605682</td>\n",
       "      <td>1.593539</td>\n",
       "      <td>0.601862</td>\n",
       "      <td>0.517530</td>\n",
       "      <td>1.055904</td>\n",
       "      <td>1.566079</td>\n",
       "      <td>0.444750</td>\n",
       "      <td>0.268902</td>\n",
       "      <td>...</td>\n",
       "      <td>1.175930</td>\n",
       "      <td>-0.398267</td>\n",
       "      <td>prusten</td>\n",
       "      <td>0.8</td>\n",
       "      <td>0.0</td>\n",
       "      <td>0.0</td>\n",
       "      <td>0.0</td>\n",
       "      <td>0.0</td>\n",
       "      <td>0.2</td>\n",
       "      <td>growl</td>\n",
       "    </tr>\n",
       "    <tr>\n",
       "      <th>573</th>\n",
       "      <td>4.773353</td>\n",
       "      <td>2.470318</td>\n",
       "      <td>0.555847</td>\n",
       "      <td>3.489610</td>\n",
       "      <td>1.248329</td>\n",
       "      <td>1.439245</td>\n",
       "      <td>3.150666</td>\n",
       "      <td>-0.491383</td>\n",
       "      <td>0.587264</td>\n",
       "      <td>0.624672</td>\n",
       "      <td>...</td>\n",
       "      <td>-1.609842</td>\n",
       "      <td>0.570504</td>\n",
       "      <td>growl</td>\n",
       "      <td>0.2</td>\n",
       "      <td>0.0</td>\n",
       "      <td>0.2</td>\n",
       "      <td>0.0</td>\n",
       "      <td>0.0</td>\n",
       "      <td>0.6</td>\n",
       "      <td>roar</td>\n",
       "    </tr>\n",
       "    <tr>\n",
       "      <th>372</th>\n",
       "      <td>-0.386515</td>\n",
       "      <td>-0.455732</td>\n",
       "      <td>-0.476623</td>\n",
       "      <td>-0.710965</td>\n",
       "      <td>-0.643014</td>\n",
       "      <td>-0.315035</td>\n",
       "      <td>-0.409196</td>\n",
       "      <td>-0.475736</td>\n",
       "      <td>-0.198949</td>\n",
       "      <td>-0.267468</td>\n",
       "      <td>...</td>\n",
       "      <td>1.189604</td>\n",
       "      <td>-0.696705</td>\n",
       "      <td>hiss</td>\n",
       "      <td>0.0</td>\n",
       "      <td>0.4</td>\n",
       "      <td>0.0</td>\n",
       "      <td>0.6</td>\n",
       "      <td>0.0</td>\n",
       "      <td>0.0</td>\n",
       "      <td>prusten</td>\n",
       "    </tr>\n",
       "    <tr>\n",
       "      <th>401</th>\n",
       "      <td>-0.311188</td>\n",
       "      <td>-0.556295</td>\n",
       "      <td>-0.605682</td>\n",
       "      <td>1.313578</td>\n",
       "      <td>0.527838</td>\n",
       "      <td>0.180961</td>\n",
       "      <td>-0.594935</td>\n",
       "      <td>-0.188759</td>\n",
       "      <td>-0.315786</td>\n",
       "      <td>0.530820</td>\n",
       "      <td>...</td>\n",
       "      <td>-0.371188</td>\n",
       "      <td>-0.775198</td>\n",
       "      <td>prusten</td>\n",
       "      <td>0.0</td>\n",
       "      <td>0.0</td>\n",
       "      <td>0.0</td>\n",
       "      <td>0.4</td>\n",
       "      <td>0.0</td>\n",
       "      <td>0.6</td>\n",
       "      <td>roar</td>\n",
       "    </tr>\n",
       "    <tr>\n",
       "      <th>574</th>\n",
       "      <td>-0.085208</td>\n",
       "      <td>-0.501658</td>\n",
       "      <td>-0.476623</td>\n",
       "      <td>0.282499</td>\n",
       "      <td>0.372900</td>\n",
       "      <td>-0.359014</td>\n",
       "      <td>-0.082420</td>\n",
       "      <td>0.793963</td>\n",
       "      <td>-0.237299</td>\n",
       "      <td>-0.042978</td>\n",
       "      <td>...</td>\n",
       "      <td>-0.276659</td>\n",
       "      <td>-0.233913</td>\n",
       "      <td>growl</td>\n",
       "      <td>0.0</td>\n",
       "      <td>0.0</td>\n",
       "      <td>0.0</td>\n",
       "      <td>0.2</td>\n",
       "      <td>0.0</td>\n",
       "      <td>0.8</td>\n",
       "      <td>roar</td>\n",
       "    </tr>\n",
       "    <tr>\n",
       "      <th>464</th>\n",
       "      <td>0.931700</td>\n",
       "      <td>0.674799</td>\n",
       "      <td>1.330200</td>\n",
       "      <td>2.907062</td>\n",
       "      <td>2.451925</td>\n",
       "      <td>1.713177</td>\n",
       "      <td>0.366128</td>\n",
       "      <td>0.861109</td>\n",
       "      <td>-0.744215</td>\n",
       "      <td>1.520430</td>\n",
       "      <td>...</td>\n",
       "      <td>-0.302878</td>\n",
       "      <td>-1.004574</td>\n",
       "      <td>growl</td>\n",
       "      <td>0.4</td>\n",
       "      <td>0.0</td>\n",
       "      <td>0.0</td>\n",
       "      <td>0.0</td>\n",
       "      <td>0.0</td>\n",
       "      <td>0.6</td>\n",
       "      <td>roar</td>\n",
       "    </tr>\n",
       "    <tr>\n",
       "      <th>458</th>\n",
       "      <td>0.178434</td>\n",
       "      <td>1.055459</td>\n",
       "      <td>0.426788</td>\n",
       "      <td>2.357792</td>\n",
       "      <td>-0.184416</td>\n",
       "      <td>0.853963</td>\n",
       "      <td>1.141366</td>\n",
       "      <td>-0.446963</td>\n",
       "      <td>0.178915</td>\n",
       "      <td>-0.190837</td>\n",
       "      <td>...</td>\n",
       "      <td>-0.100714</td>\n",
       "      <td>-0.240032</td>\n",
       "      <td>growl</td>\n",
       "      <td>0.2</td>\n",
       "      <td>0.0</td>\n",
       "      <td>0.0</td>\n",
       "      <td>0.0</td>\n",
       "      <td>0.0</td>\n",
       "      <td>0.8</td>\n",
       "      <td>roar</td>\n",
       "    </tr>\n",
       "    <tr>\n",
       "      <th>375</th>\n",
       "      <td>-0.386515</td>\n",
       "      <td>-0.479441</td>\n",
       "      <td>-0.605682</td>\n",
       "      <td>-0.796778</td>\n",
       "      <td>-0.598478</td>\n",
       "      <td>-0.286325</td>\n",
       "      <td>0.488669</td>\n",
       "      <td>-0.382277</td>\n",
       "      <td>-0.029835</td>\n",
       "      <td>-0.267777</td>\n",
       "      <td>...</td>\n",
       "      <td>1.333358</td>\n",
       "      <td>-0.952526</td>\n",
       "      <td>hiss</td>\n",
       "      <td>0.0</td>\n",
       "      <td>0.4</td>\n",
       "      <td>0.0</td>\n",
       "      <td>0.6</td>\n",
       "      <td>0.0</td>\n",
       "      <td>0.0</td>\n",
       "      <td>prusten</td>\n",
       "    </tr>\n",
       "    <tr>\n",
       "      <th>433</th>\n",
       "      <td>1.948608</td>\n",
       "      <td>0.210128</td>\n",
       "      <td>0.684906</td>\n",
       "      <td>3.082510</td>\n",
       "      <td>1.470375</td>\n",
       "      <td>1.689439</td>\n",
       "      <td>0.540936</td>\n",
       "      <td>0.841702</td>\n",
       "      <td>-0.529984</td>\n",
       "      <td>0.656554</td>\n",
       "      <td>...</td>\n",
       "      <td>0.894175</td>\n",
       "      <td>0.116718</td>\n",
       "      <td>roar</td>\n",
       "      <td>0.6</td>\n",
       "      <td>0.0</td>\n",
       "      <td>0.0</td>\n",
       "      <td>0.0</td>\n",
       "      <td>0.0</td>\n",
       "      <td>0.4</td>\n",
       "      <td>growl</td>\n",
       "    </tr>\n",
       "  </tbody>\n",
       "</table>\n",
       "<p>10 rows × 21 columns</p>\n",
       "</div>"
      ],
      "text/plain": [
       "     Partials  Zero_Crossings  Duration  Amp_range   Avg_amp  Freq_range  \\\n",
       "577  2.701873        2.055306  7.008787   1.738077  0.999292    0.272444   \n",
       "407  0.103108       -0.515473 -0.605682   1.593539  0.601862    0.517530   \n",
       "573  4.773353        2.470318  0.555847   3.489610  1.248329    1.439245   \n",
       "372 -0.386515       -0.455732 -0.476623  -0.710965 -0.643014   -0.315035   \n",
       "401 -0.311188       -0.556295 -0.605682   1.313578  0.527838    0.180961   \n",
       "574 -0.085208       -0.501658 -0.476623   0.282499  0.372900   -0.359014   \n",
       "464  0.931700        0.674799  1.330200   2.907062  2.451925    1.713177   \n",
       "458  0.178434        1.055459  0.426788   2.357792 -0.184416    0.853963   \n",
       "375 -0.386515       -0.479441 -0.605682  -0.796778 -0.598478   -0.286325   \n",
       "433  1.948608        0.210128  0.684906   3.082510  1.470375    1.689439   \n",
       "\n",
       "     Pulses_per_Sec      MFCC  Spectral Rolloff  Melspectrogram  ...  \\\n",
       "577       -0.227260  1.338170         -0.893441        0.179111  ...   \n",
       "407        1.055904  1.566079          0.444750        0.268902  ...   \n",
       "573        3.150666 -0.491383          0.587264        0.624672  ...   \n",
       "372       -0.409196 -0.475736         -0.198949       -0.267468  ...   \n",
       "401       -0.594935 -0.188759         -0.315786        0.530820  ...   \n",
       "574       -0.082420  0.793963         -0.237299       -0.042978  ...   \n",
       "464        0.366128  0.861109         -0.744215        1.520430  ...   \n",
       "458        1.141366 -0.446963          0.178915       -0.190837  ...   \n",
       "375        0.488669 -0.382277         -0.029835       -0.267777  ...   \n",
       "433        0.540936  0.841702         -0.529984        0.656554  ...   \n",
       "\n",
       "     Chroma_StFt   Tonnetz   Target growl  hiss  mew  prusten  puff  roar  \\\n",
       "577     0.299618  0.022864    growl   0.0   0.0  0.0      0.0   0.0   1.0   \n",
       "407     1.175930 -0.398267  prusten   0.8   0.0  0.0      0.0   0.0   0.2   \n",
       "573    -1.609842  0.570504    growl   0.2   0.0  0.2      0.0   0.0   0.6   \n",
       "372     1.189604 -0.696705     hiss   0.0   0.4  0.0      0.6   0.0   0.0   \n",
       "401    -0.371188 -0.775198  prusten   0.0   0.0  0.0      0.4   0.0   0.6   \n",
       "574    -0.276659 -0.233913    growl   0.0   0.0  0.0      0.2   0.0   0.8   \n",
       "464    -0.302878 -1.004574    growl   0.4   0.0  0.0      0.0   0.0   0.6   \n",
       "458    -0.100714 -0.240032    growl   0.2   0.0  0.0      0.0   0.0   0.8   \n",
       "375     1.333358 -0.952526     hiss   0.0   0.4  0.0      0.6   0.0   0.0   \n",
       "433     0.894175  0.116718     roar   0.6   0.0  0.0      0.0   0.0   0.4   \n",
       "\n",
       "     Predicted  \n",
       "577       roar  \n",
       "407      growl  \n",
       "573       roar  \n",
       "372    prusten  \n",
       "401       roar  \n",
       "574       roar  \n",
       "464       roar  \n",
       "458       roar  \n",
       "375    prusten  \n",
       "433      growl  \n",
       "\n",
       "[10 rows x 21 columns]"
      ]
     },
     "execution_count": 57,
     "metadata": {},
     "output_type": "execute_result"
    }
   ],
   "source": [
    "pred_df = pd.DataFrame(X_test.copy())\n",
    "pred_df['Target'] = y_test1\n",
    "pred_df['growl'] = prob_knn1[:,0] \n",
    "pred_df['hiss'] = prob_knn1[:,1]\n",
    "pred_df['mew'] = prob_knn1[:,2]\n",
    "pred_df['prusten'] = prob_knn1[:,3]\n",
    "pred_df['puff'] = prob_knn1[:,4]\n",
    "pred_df['roar'] = prob_knn1[:,5]\n",
    "pred_df['Predicted'] = y_knn1\n",
    "pred_df = pred_df[pred_df['Target'] != pred_df['Predicted']]\n",
    "pred_df.to_csv('Mislabeled Panterinae Calls With KNN.csv', index=False)\n",
    "pred_df.head(15)"
   ]
  },
  {
   "cell_type": "markdown",
   "metadata": {},
   "source": [
    "## Decision Tree Classifier"
   ]
  },
  {
   "cell_type": "code",
   "execution_count": 58,
   "metadata": {},
   "outputs": [],
   "source": [
    "dt1 = DecisionTreeClassifier()"
   ]
  },
  {
   "cell_type": "code",
   "execution_count": 59,
   "metadata": {},
   "outputs": [
    {
     "data": {
      "text/plain": [
       "DecisionTreeClassifier()"
      ]
     },
     "execution_count": 59,
     "metadata": {},
     "output_type": "execute_result"
    }
   ],
   "source": [
    "dt1.fit(X_train, y_train1)"
   ]
  },
  {
   "cell_type": "code",
   "execution_count": 60,
   "metadata": {},
   "outputs": [
    {
     "data": {
      "text/plain": [
       "1.0"
      ]
     },
     "execution_count": 60,
     "metadata": {},
     "output_type": "execute_result"
    }
   ],
   "source": [
    "dt1.score(X_train, y_train1)"
   ]
  },
  {
   "cell_type": "code",
   "execution_count": 61,
   "metadata": {},
   "outputs": [
    {
     "data": {
      "text/plain": [
       "0.7209302325581395"
      ]
     },
     "execution_count": 61,
     "metadata": {},
     "output_type": "execute_result"
    }
   ],
   "source": [
    "dt1.score(X_test, y_test1)"
   ]
  },
  {
   "cell_type": "code",
   "execution_count": 62,
   "metadata": {},
   "outputs": [],
   "source": [
    "y_dt1 = dt1.predict(X_test)\n",
    "prob_dt1 = dt1.predict_proba(X_test)"
   ]
  },
  {
   "cell_type": "code",
   "execution_count": 63,
   "metadata": {},
   "outputs": [
    {
     "name": "stdout",
     "output_type": "stream",
     "text": [
      "1. Tested Calls\n",
      "['growl' 'hiss' 'prusten' 'puff' 'roar']\n",
      "2. Predicted Calls\n",
      "['growl' 'hiss' 'mew' 'prusten' 'puff' 'roar']\n",
      "3. Not tested for but predicted\n",
      "{'mew'}\n",
      "4. Tested for but not predicted\n",
      "set()\n"
     ]
    }
   ],
   "source": [
    "print('1. Tested Calls')\n",
    "print(np.unique(y_test1))\n",
    "print('2. Predicted Calls')\n",
    "print(np.unique(y_dt1))\n",
    "print('3. Not tested for but predicted')\n",
    "print(set(np.unique(y_dt1))-set(np.unique(y_test1)))\n",
    "print('4. Tested for but not predicted')\n",
    "print(set(np.unique(y_test1))-set(np.unique(y_dt1)))"
   ]
  },
  {
   "cell_type": "code",
   "execution_count": 64,
   "metadata": {},
   "outputs": [
    {
     "name": "stdout",
     "output_type": "stream",
     "text": [
      "Accuracy 0.7209302325581395\n"
     ]
    },
    {
     "data": {
      "image/png": "[encoded data removed]",
      "text/plain": [
       "<Figure size 576x288 with 2 Axes>"
      ]
     },
     "metadata": {
      "needs_background": "light"
     },
     "output_type": "display_data"
    }
   ],
   "source": [
    "names_cart = sorted(list(set(np.unique(y_test1)).union(set(y_dt1))))\n",
    "cnf = confusion_matrix(y_test1, y_dt1)\n",
    "fig, ax = plt.subplots(figsize=(8,4))\n",
    "\n",
    "print('Accuracy',dt1.score(X_test, y_test1))\n",
    "\n",
    "sns.heatmap(cnf, annot=True, xticklabels=names_cart, yticklabels=names_cart,cmap= \"YlOrBr\")\n",
    "plt.title('Decision Tree Classifier')\n",
    "ax.xaxis.set_label_position('top')\n",
    "plt.ylabel('Actual')\n",
    "plt.xlabel('Predicted')\n",
    "plt.show(block=False)\n"
   ]
  },
  {
   "cell_type": "markdown",
   "metadata": {},
   "source": [
    "## Random Forest Classifier"
   ]
  },
  {
   "cell_type": "code",
   "execution_count": 65,
   "metadata": {},
   "outputs": [],
   "source": [
    "rf1 = RandomForestClassifier()"
   ]
  },
  {
   "cell_type": "code",
   "execution_count": 66,
   "metadata": {},
   "outputs": [
    {
     "data": {
      "text/plain": [
       "RandomForestClassifier()"
      ]
     },
     "execution_count": 66,
     "metadata": {},
     "output_type": "execute_result"
    }
   ],
   "source": [
    "rf1.fit(X_train, y_train1)"
   ]
  },
  {
   "cell_type": "code",
   "execution_count": 67,
   "metadata": {},
   "outputs": [
    {
     "data": {
      "text/plain": [
       "1.0"
      ]
     },
     "execution_count": 67,
     "metadata": {},
     "output_type": "execute_result"
    }
   ],
   "source": [
    "rf1.score(X_train, y_train1)"
   ]
  },
  {
   "cell_type": "code",
   "execution_count": 68,
   "metadata": {},
   "outputs": [
    {
     "data": {
      "text/plain": [
       "0.7674418604651163"
      ]
     },
     "execution_count": 68,
     "metadata": {},
     "output_type": "execute_result"
    }
   ],
   "source": [
    "rf1.score(X_test, y_test1)"
   ]
  },
  {
   "cell_type": "code",
   "execution_count": 69,
   "metadata": {},
   "outputs": [],
   "source": [
    "y_rf1 = rf1.predict(X_test)\n",
    "prob_rf1 = rf1.predict_proba(X_test)"
   ]
  },
  {
   "cell_type": "code",
   "execution_count": 70,
   "metadata": {},
   "outputs": [
    {
     "name": "stdout",
     "output_type": "stream",
     "text": [
      "1. Tested Calls\n",
      "['growl' 'hiss' 'prusten' 'puff' 'roar']\n",
      "2. Predicted Calls\n",
      "['growl' 'prusten' 'puff' 'roar']\n",
      "3. Not tested for but predicted\n",
      "set()\n",
      "4. Tested for but not predicted\n",
      "{'hiss'}\n"
     ]
    }
   ],
   "source": [
    "print('1. Tested Calls')\n",
    "print(np.unique(y_test1))\n",
    "print('2. Predicted Calls')\n",
    "print(np.unique(y_rf1))\n",
    "print('3. Not tested for but predicted')\n",
    "print(set(np.unique(y_rf1))-set(np.unique(y_test1)))\n",
    "print('4. Tested for but not predicted')\n",
    "print(set(np.unique(y_test1))-set(np.unique(y_rf1)))"
   ]
  },
  {
   "cell_type": "code",
   "execution_count": 71,
   "metadata": {},
   "outputs": [
    {
     "name": "stdout",
     "output_type": "stream",
     "text": [
      "Accuracy 0.7674418604651163\n"
     ]
    },
    {
     "data": {
      "image/png": "[encoded data removed]",
      "text/plain": [
       "<Figure size 576x288 with 2 Axes>"
      ]
     },
     "metadata": {
      "needs_background": "light"
     },
     "output_type": "display_data"
    }
   ],
   "source": [
    "names_rf = sorted(list(set(np.unique(y_test1)).union(set(y_rf1))))\n",
    "cnf = confusion_matrix(y_test1, y_rf1)\n",
    "fig, ax = plt.subplots(figsize=(8,4))\n",
    "\n",
    "print('Accuracy',rf1.score(X_test, y_test1))\n",
    "\n",
    "sns.heatmap(cnf, annot=True, xticklabels=names_rf, yticklabels=names_rf,cmap= \"YlOrBr\")\n",
    "plt.title('Random Forest')\n",
    "ax.xaxis.set_label_position('top')\n",
    "plt.ylabel('Actual')\n",
    "plt.xlabel('Predicted')\n",
    "plt.show(block=False)\n"
   ]
  },
  {
   "cell_type": "code",
   "execution_count": 72,
   "metadata": {},
   "outputs": [
    {
     "data": {
      "text/html": [
       "<div>\n",
       "<style scoped>\n",
       "    .dataframe tbody tr th:only-of-type {\n",
       "        vertical-align: middle;\n",
       "    }\n",
       "\n",
       "    .dataframe tbody tr th {\n",
       "        vertical-align: top;\n",
       "    }\n",
       "\n",
       "    .dataframe thead th {\n",
       "        text-align: right;\n",
       "    }\n",
       "</style>\n",
       "<table border=\"1\" class=\"dataframe\">\n",
       "  <thead>\n",
       "    <tr style=\"text-align: right;\">\n",
       "      <th></th>\n",
       "      <th>Partials</th>\n",
       "      <th>Zero_Crossings</th>\n",
       "      <th>Duration</th>\n",
       "      <th>Amp_range</th>\n",
       "      <th>Avg_amp</th>\n",
       "      <th>Freq_range</th>\n",
       "      <th>Pulses_per_Sec</th>\n",
       "      <th>MFCC</th>\n",
       "      <th>Spectral Rolloff</th>\n",
       "      <th>Melspectrogram</th>\n",
       "      <th>...</th>\n",
       "      <th>Chroma_StFt</th>\n",
       "      <th>Tonnetz</th>\n",
       "      <th>Target</th>\n",
       "      <th>growl</th>\n",
       "      <th>hiss</th>\n",
       "      <th>mew</th>\n",
       "      <th>prusten</th>\n",
       "      <th>puff</th>\n",
       "      <th>roar</th>\n",
       "      <th>Predicted</th>\n",
       "    </tr>\n",
       "  </thead>\n",
       "  <tbody>\n",
       "    <tr>\n",
       "      <th>577</th>\n",
       "      <td>2.701873</td>\n",
       "      <td>2.055306</td>\n",
       "      <td>7.008787</td>\n",
       "      <td>1.738077</td>\n",
       "      <td>0.999292</td>\n",
       "      <td>0.272444</td>\n",
       "      <td>-0.227260</td>\n",
       "      <td>1.338170</td>\n",
       "      <td>-0.893441</td>\n",
       "      <td>0.179111</td>\n",
       "      <td>...</td>\n",
       "      <td>0.299618</td>\n",
       "      <td>0.022864</td>\n",
       "      <td>growl</td>\n",
       "      <td>0.29</td>\n",
       "      <td>0.00</td>\n",
       "      <td>0.01</td>\n",
       "      <td>0.01</td>\n",
       "      <td>0.00</td>\n",
       "      <td>0.69</td>\n",
       "      <td>roar</td>\n",
       "    </tr>\n",
       "    <tr>\n",
       "      <th>407</th>\n",
       "      <td>0.103108</td>\n",
       "      <td>-0.515473</td>\n",
       "      <td>-0.605682</td>\n",
       "      <td>1.593539</td>\n",
       "      <td>0.601862</td>\n",
       "      <td>0.517530</td>\n",
       "      <td>1.055904</td>\n",
       "      <td>1.566079</td>\n",
       "      <td>0.444750</td>\n",
       "      <td>0.268902</td>\n",
       "      <td>...</td>\n",
       "      <td>1.175930</td>\n",
       "      <td>-0.398267</td>\n",
       "      <td>prusten</td>\n",
       "      <td>0.59</td>\n",
       "      <td>0.04</td>\n",
       "      <td>0.00</td>\n",
       "      <td>0.29</td>\n",
       "      <td>0.00</td>\n",
       "      <td>0.08</td>\n",
       "      <td>growl</td>\n",
       "    </tr>\n",
       "    <tr>\n",
       "      <th>372</th>\n",
       "      <td>-0.386515</td>\n",
       "      <td>-0.455732</td>\n",
       "      <td>-0.476623</td>\n",
       "      <td>-0.710965</td>\n",
       "      <td>-0.643014</td>\n",
       "      <td>-0.315035</td>\n",
       "      <td>-0.409196</td>\n",
       "      <td>-0.475736</td>\n",
       "      <td>-0.198949</td>\n",
       "      <td>-0.267468</td>\n",
       "      <td>...</td>\n",
       "      <td>1.189604</td>\n",
       "      <td>-0.696705</td>\n",
       "      <td>hiss</td>\n",
       "      <td>0.00</td>\n",
       "      <td>0.30</td>\n",
       "      <td>0.00</td>\n",
       "      <td>0.68</td>\n",
       "      <td>0.01</td>\n",
       "      <td>0.01</td>\n",
       "      <td>prusten</td>\n",
       "    </tr>\n",
       "    <tr>\n",
       "      <th>376</th>\n",
       "      <td>-0.424178</td>\n",
       "      <td>-0.537129</td>\n",
       "      <td>-0.605682</td>\n",
       "      <td>-0.732839</td>\n",
       "      <td>-0.585146</td>\n",
       "      <td>-0.753001</td>\n",
       "      <td>-0.064694</td>\n",
       "      <td>-0.047318</td>\n",
       "      <td>-0.124902</td>\n",
       "      <td>-0.266568</td>\n",
       "      <td>...</td>\n",
       "      <td>1.154942</td>\n",
       "      <td>-1.740241</td>\n",
       "      <td>hiss</td>\n",
       "      <td>0.00</td>\n",
       "      <td>0.46</td>\n",
       "      <td>0.00</td>\n",
       "      <td>0.54</td>\n",
       "      <td>0.00</td>\n",
       "      <td>0.00</td>\n",
       "      <td>prusten</td>\n",
       "    </tr>\n",
       "    <tr>\n",
       "      <th>574</th>\n",
       "      <td>-0.085208</td>\n",
       "      <td>-0.501658</td>\n",
       "      <td>-0.476623</td>\n",
       "      <td>0.282499</td>\n",
       "      <td>0.372900</td>\n",
       "      <td>-0.359014</td>\n",
       "      <td>-0.082420</td>\n",
       "      <td>0.793963</td>\n",
       "      <td>-0.237299</td>\n",
       "      <td>-0.042978</td>\n",
       "      <td>...</td>\n",
       "      <td>-0.276659</td>\n",
       "      <td>-0.233913</td>\n",
       "      <td>growl</td>\n",
       "      <td>0.17</td>\n",
       "      <td>0.00</td>\n",
       "      <td>0.00</td>\n",
       "      <td>0.62</td>\n",
       "      <td>0.00</td>\n",
       "      <td>0.21</td>\n",
       "      <td>prusten</td>\n",
       "    </tr>\n",
       "    <tr>\n",
       "      <th>464</th>\n",
       "      <td>0.931700</td>\n",
       "      <td>0.674799</td>\n",
       "      <td>1.330200</td>\n",
       "      <td>2.907062</td>\n",
       "      <td>2.451925</td>\n",
       "      <td>1.713177</td>\n",
       "      <td>0.366128</td>\n",
       "      <td>0.861109</td>\n",
       "      <td>-0.744215</td>\n",
       "      <td>1.520430</td>\n",
       "      <td>...</td>\n",
       "      <td>-0.302878</td>\n",
       "      <td>-1.004574</td>\n",
       "      <td>growl</td>\n",
       "      <td>0.29</td>\n",
       "      <td>0.00</td>\n",
       "      <td>0.05</td>\n",
       "      <td>0.00</td>\n",
       "      <td>0.00</td>\n",
       "      <td>0.66</td>\n",
       "      <td>roar</td>\n",
       "    </tr>\n",
       "    <tr>\n",
       "      <th>458</th>\n",
       "      <td>0.178434</td>\n",
       "      <td>1.055459</td>\n",
       "      <td>0.426788</td>\n",
       "      <td>2.357792</td>\n",
       "      <td>-0.184416</td>\n",
       "      <td>0.853963</td>\n",
       "      <td>1.141366</td>\n",
       "      <td>-0.446963</td>\n",
       "      <td>0.178915</td>\n",
       "      <td>-0.190837</td>\n",
       "      <td>...</td>\n",
       "      <td>-0.100714</td>\n",
       "      <td>-0.240032</td>\n",
       "      <td>growl</td>\n",
       "      <td>0.20</td>\n",
       "      <td>0.00</td>\n",
       "      <td>0.03</td>\n",
       "      <td>0.04</td>\n",
       "      <td>0.01</td>\n",
       "      <td>0.72</td>\n",
       "      <td>roar</td>\n",
       "    </tr>\n",
       "    <tr>\n",
       "      <th>375</th>\n",
       "      <td>-0.386515</td>\n",
       "      <td>-0.479441</td>\n",
       "      <td>-0.605682</td>\n",
       "      <td>-0.796778</td>\n",
       "      <td>-0.598478</td>\n",
       "      <td>-0.286325</td>\n",
       "      <td>0.488669</td>\n",
       "      <td>-0.382277</td>\n",
       "      <td>-0.029835</td>\n",
       "      <td>-0.267777</td>\n",
       "      <td>...</td>\n",
       "      <td>1.333358</td>\n",
       "      <td>-0.952526</td>\n",
       "      <td>hiss</td>\n",
       "      <td>0.01</td>\n",
       "      <td>0.44</td>\n",
       "      <td>0.00</td>\n",
       "      <td>0.53</td>\n",
       "      <td>0.01</td>\n",
       "      <td>0.01</td>\n",
       "      <td>prusten</td>\n",
       "    </tr>\n",
       "    <tr>\n",
       "      <th>459</th>\n",
       "      <td>0.743383</td>\n",
       "      <td>-0.030266</td>\n",
       "      <td>-0.218505</td>\n",
       "      <td>2.959513</td>\n",
       "      <td>1.687206</td>\n",
       "      <td>1.625198</td>\n",
       "      <td>1.896738</td>\n",
       "      <td>0.210251</td>\n",
       "      <td>0.137189</td>\n",
       "      <td>0.694801</td>\n",
       "      <td>...</td>\n",
       "      <td>-0.066508</td>\n",
       "      <td>-0.333012</td>\n",
       "      <td>growl</td>\n",
       "      <td>0.38</td>\n",
       "      <td>0.00</td>\n",
       "      <td>0.11</td>\n",
       "      <td>0.01</td>\n",
       "      <td>0.00</td>\n",
       "      <td>0.50</td>\n",
       "      <td>roar</td>\n",
       "    </tr>\n",
       "    <tr>\n",
       "      <th>433</th>\n",
       "      <td>1.948608</td>\n",
       "      <td>0.210128</td>\n",
       "      <td>0.684906</td>\n",
       "      <td>3.082510</td>\n",
       "      <td>1.470375</td>\n",
       "      <td>1.689439</td>\n",
       "      <td>0.540936</td>\n",
       "      <td>0.841702</td>\n",
       "      <td>-0.529984</td>\n",
       "      <td>0.656554</td>\n",
       "      <td>...</td>\n",
       "      <td>0.894175</td>\n",
       "      <td>0.116718</td>\n",
       "      <td>roar</td>\n",
       "      <td>0.51</td>\n",
       "      <td>0.00</td>\n",
       "      <td>0.11</td>\n",
       "      <td>0.01</td>\n",
       "      <td>0.00</td>\n",
       "      <td>0.37</td>\n",
       "      <td>growl</td>\n",
       "    </tr>\n",
       "  </tbody>\n",
       "</table>\n",
       "<p>10 rows × 21 columns</p>\n",
       "</div>"
      ],
      "text/plain": [
       "     Partials  Zero_Crossings  Duration  Amp_range   Avg_amp  Freq_range  \\\n",
       "577  2.701873        2.055306  7.008787   1.738077  0.999292    0.272444   \n",
       "407  0.103108       -0.515473 -0.605682   1.593539  0.601862    0.517530   \n",
       "372 -0.386515       -0.455732 -0.476623  -0.710965 -0.643014   -0.315035   \n",
       "376 -0.424178       -0.537129 -0.605682  -0.732839 -0.585146   -0.753001   \n",
       "574 -0.085208       -0.501658 -0.476623   0.282499  0.372900   -0.359014   \n",
       "464  0.931700        0.674799  1.330200   2.907062  2.451925    1.713177   \n",
       "458  0.178434        1.055459  0.426788   2.357792 -0.184416    0.853963   \n",
       "375 -0.386515       -0.479441 -0.605682  -0.796778 -0.598478   -0.286325   \n",
       "459  0.743383       -0.030266 -0.218505   2.959513  1.687206    1.625198   \n",
       "433  1.948608        0.210128  0.684906   3.082510  1.470375    1.689439   \n",
       "\n",
       "     Pulses_per_Sec      MFCC  Spectral Rolloff  Melspectrogram  ...  \\\n",
       "577       -0.227260  1.338170         -0.893441        0.179111  ...   \n",
       "407        1.055904  1.566079          0.444750        0.268902  ...   \n",
       "372       -0.409196 -0.475736         -0.198949       -0.267468  ...   \n",
       "376       -0.064694 -0.047318         -0.124902       -0.266568  ...   \n",
       "574       -0.082420  0.793963         -0.237299       -0.042978  ...   \n",
       "464        0.366128  0.861109         -0.744215        1.520430  ...   \n",
       "458        1.141366 -0.446963          0.178915       -0.190837  ...   \n",
       "375        0.488669 -0.382277         -0.029835       -0.267777  ...   \n",
       "459        1.896738  0.210251          0.137189        0.694801  ...   \n",
       "433        0.540936  0.841702         -0.529984        0.656554  ...   \n",
       "\n",
       "     Chroma_StFt   Tonnetz   Target growl  hiss   mew  prusten  puff  roar  \\\n",
       "577     0.299618  0.022864    growl  0.29  0.00  0.01     0.01  0.00  0.69   \n",
       "407     1.175930 -0.398267  prusten  0.59  0.04  0.00     0.29  0.00  0.08   \n",
       "372     1.189604 -0.696705     hiss  0.00  0.30  0.00     0.68  0.01  0.01   \n",
       "376     1.154942 -1.740241     hiss  0.00  0.46  0.00     0.54  0.00  0.00   \n",
       "574    -0.276659 -0.233913    growl  0.17  0.00  0.00     0.62  0.00  0.21   \n",
       "464    -0.302878 -1.004574    growl  0.29  0.00  0.05     0.00  0.00  0.66   \n",
       "458    -0.100714 -0.240032    growl  0.20  0.00  0.03     0.04  0.01  0.72   \n",
       "375     1.333358 -0.952526     hiss  0.01  0.44  0.00     0.53  0.01  0.01   \n",
       "459    -0.066508 -0.333012    growl  0.38  0.00  0.11     0.01  0.00  0.50   \n",
       "433     0.894175  0.116718     roar  0.51  0.00  0.11     0.01  0.00  0.37   \n",
       "\n",
       "     Predicted  \n",
       "577       roar  \n",
       "407      growl  \n",
       "372    prusten  \n",
       "376    prusten  \n",
       "574    prusten  \n",
       "464       roar  \n",
       "458       roar  \n",
       "375    prusten  \n",
       "459       roar  \n",
       "433      growl  \n",
       "\n",
       "[10 rows x 21 columns]"
      ]
     },
     "execution_count": 72,
     "metadata": {},
     "output_type": "execute_result"
    }
   ],
   "source": [
    "pred_df = pd.DataFrame(X_test.copy())\n",
    "pred_df['Target'] = y_test1\n",
    "pred_df['growl'] = prob_rf1[:,0] \n",
    "pred_df['hiss'] = prob_rf1[:,1]\n",
    "pred_df['mew'] = prob_rf1[:,2]\n",
    "pred_df['prusten'] = prob_rf1[:,3]\n",
    "pred_df['puff'] = prob_rf1[:,4]\n",
    "pred_df['roar'] = prob_rf1[:,5]\n",
    "pred_df['Predicted'] = y_rf1\n",
    "pred_df = pred_df[pred_df['Target'] != pred_df['Predicted']]\n",
    "pred_df.to_csv('Mislabeled Panterinae Calls With Random Forest.csv', index=False)\n",
    "pred_df.head(15)"
   ]
  },
  {
   "cell_type": "code",
   "execution_count": 73,
   "metadata": {},
   "outputs": [
    {
     "data": {
      "text/plain": [
       "roar       65\n",
       "prusten    44\n",
       "growl      20\n",
       "hiss        6\n",
       "puff        5\n",
       "mew         3\n",
       "Name: Call, dtype: int64"
      ]
     },
     "execution_count": 73,
     "metadata": {},
     "output_type": "execute_result"
    }
   ],
   "source": [
    "#The data is unbalanced, this could be fixed by updating the class weights \n",
    "#Or getting more varied data\n",
    "df['Call'].value_counts()"
   ]
  },
  {
   "cell_type": "markdown",
   "metadata": {},
   "source": [
    "# Species Classification"
   ]
  },
  {
   "cell_type": "markdown",
   "metadata": {},
   "source": [
    "## Splitting data"
   ]
  },
  {
   "cell_type": "code",
   "execution_count": 74,
   "metadata": {},
   "outputs": [],
   "source": [
    "y_train2 = y_train.Species\n",
    "y_test2 = y_test.Species"
   ]
  },
  {
   "cell_type": "code",
   "execution_count": 75,
   "metadata": {},
   "outputs": [],
   "source": [
    "## LightGBM"
   ]
  },
  {
   "cell_type": "code",
   "execution_count": 76,
   "metadata": {},
   "outputs": [
    {
     "data": {
      "text/plain": [
       "LGBMClassifier()"
      ]
     },
     "execution_count": 76,
     "metadata": {},
     "output_type": "execute_result"
    }
   ],
   "source": [
    "import lightgbm as lgb\n",
    "lgb2 = lgb.LGBMClassifier()\n",
    "lgb2.fit(X_train, y_train2)"
   ]
  },
  {
   "cell_type": "code",
   "execution_count": 77,
   "metadata": {},
   "outputs": [
    {
     "data": {
      "text/plain": [
       "1.0"
      ]
     },
     "execution_count": 77,
     "metadata": {},
     "output_type": "execute_result"
    }
   ],
   "source": [
    "lgb2.score(X_train, y_train2)"
   ]
  },
  {
   "cell_type": "code",
   "execution_count": 78,
   "metadata": {},
   "outputs": [
    {
     "data": {
      "text/plain": [
       "0.8604651162790697"
      ]
     },
     "execution_count": 78,
     "metadata": {},
     "output_type": "execute_result"
    }
   ],
   "source": [
    "lgb2.score(X_test,y_test2)"
   ]
  },
  {
   "cell_type": "markdown",
   "metadata": {},
   "source": [
    "## XGBoost"
   ]
  },
  {
   "cell_type": "code",
   "execution_count": 79,
   "metadata": {},
   "outputs": [],
   "source": [
    "parameters = dict(\n",
    "    objective='multi:softprob',\n",
    "    random_state = 30,\n",
    "    max_depth=9,\n",
    "    learning_rate=0.01,\n",
    "    subsample=0.8,\n",
    "    colsample_bytree=0.4,\n",
    "    tree_method='gpu_hist')\n",
    "#eval_metric='mlogloss'\n",
    "\n",
    "clf2 = XGBClassifier(**parameters, n_estimators=1200)"
   ]
  },
  {
   "cell_type": "code",
   "execution_count": 80,
   "metadata": {},
   "outputs": [
    {
     "name": "stderr",
     "output_type": "stream",
     "text": [
      "C:\\Users\\exant\\anaconda3\\lib\\site-packages\\xgboost\\sklearn.py:1146: UserWarning: The use of label encoder in XGBClassifier is deprecated and will be removed in a future release. To remove this warning, do the following: 1) Pass option use_label_encoder=False when constructing XGBClassifier object; and 2) Encode your labels (y) as integers starting with 0, i.e. 0, 1, 2, ..., [num_class - 1].\n",
      "  warnings.warn(label_encoder_deprecation_msg, UserWarning)\n"
     ]
    },
    {
     "name": "stdout",
     "output_type": "stream",
     "text": [
      "[18:41:29] WARNING: C:/Users/Administrator/workspace/xgboost-win64_release_1.4.0/src/learner.cc:1095: Starting in XGBoost 1.3.0, the default evaluation metric used with the objective 'multi:softprob' was changed from 'merror' to 'mlogloss'. Explicitly set eval_metric if you'd like to restore the old behavior.\n"
     ]
    },
    {
     "data": {
      "text/plain": [
       "XGBClassifier(base_score=0.5, booster='gbtree', colsample_bylevel=1,\n",
       "              colsample_bynode=1, colsample_bytree=0.4, gamma=0, gpu_id=0,\n",
       "              importance_type='gain', interaction_constraints='',\n",
       "              learning_rate=0.01, max_delta_step=0, max_depth=9,\n",
       "              min_child_weight=1, missing=nan, monotone_constraints='()',\n",
       "              n_estimators=1200, n_jobs=12, num_parallel_tree=1,\n",
       "              objective='multi:softprob', random_state=30, reg_alpha=0,\n",
       "              reg_lambda=1, scale_pos_weight=None, subsample=0.8,\n",
       "              tree_method='gpu_hist', validate_parameters=1, verbosity=None)"
      ]
     },
     "execution_count": 80,
     "metadata": {},
     "output_type": "execute_result"
    }
   ],
   "source": [
    "clf2.fit(X_train, y_train2)"
   ]
  },
  {
   "cell_type": "code",
   "execution_count": 81,
   "metadata": {},
   "outputs": [
    {
     "data": {
      "text/plain": [
       "1.0"
      ]
     },
     "execution_count": 81,
     "metadata": {},
     "output_type": "execute_result"
    }
   ],
   "source": [
    "clf2.score(X_train, y_train2)"
   ]
  },
  {
   "cell_type": "code",
   "execution_count": 82,
   "metadata": {},
   "outputs": [
    {
     "data": {
      "text/plain": [
       "0.9069767441860465"
      ]
     },
     "execution_count": 82,
     "metadata": {},
     "output_type": "execute_result"
    }
   ],
   "source": [
    "clf2.score(X_test,y_test2)"
   ]
  },
  {
   "cell_type": "code",
   "execution_count": 83,
   "metadata": {},
   "outputs": [],
   "source": [
    "y_clf2 = clf2.predict(X_test)\n",
    "prob_clf2 = clf2.predict_proba(X_test)"
   ]
  },
  {
   "cell_type": "code",
   "execution_count": 84,
   "metadata": {},
   "outputs": [
    {
     "name": "stdout",
     "output_type": "stream",
     "text": [
      "1. Tested Species\n",
      "['Clouded leopard' 'Jaguar' 'Leopard' 'Lion']\n",
      "2. Predicted Species\n",
      "['Clouded leopard' 'Jaguar' 'Leopard' 'Lion']\n",
      "3. Not tested for but predicted\n",
      "set()\n",
      "4. Tested for but not predicted\n",
      "set()\n"
     ]
    }
   ],
   "source": [
    "print('1. Tested Species')\n",
    "print(np.unique(y_test2))\n",
    "print('2. Predicted Species')\n",
    "print(np.unique(y_clf2))\n",
    "print('3. Not tested for but predicted')\n",
    "print(set(np.unique(y_clf2))-set(np.unique(y_test2)))\n",
    "print('4. Tested for but not predicted')\n",
    "print(set(np.unique(y_test2))-set(np.unique(y_clf2)))"
   ]
  },
  {
   "cell_type": "code",
   "execution_count": 85,
   "metadata": {
    "scrolled": false
   },
   "outputs": [
    {
     "name": "stdout",
     "output_type": "stream",
     "text": [
      "Accuracy 0.9069767441860465\n"
     ]
    },
    {
     "data": {
      "image/png": "[encoded data removed]",
      "text/plain": [
       "<Figure size 576x288 with 2 Axes>"
      ]
     },
     "metadata": {
      "needs_background": "light"
     },
     "output_type": "display_data"
    }
   ],
   "source": [
    "names = sorted(list(set(np.unique(y_test2)).union(set(y_clf2))))\n",
    "cnf = confusion_matrix(y_test2, y_clf2)\n",
    "fig, ax = plt.subplots(figsize=(8,4))\n",
    "\n",
    "print('Accuracy',clf2.score(X_test, y_test2))\n",
    "\n",
    "sns.heatmap(cnf, annot=True, xticklabels=names, yticklabels=names,cmap= \"YlOrBr\")\n",
    "plt.title('XGBoost')\n",
    "ax.xaxis.set_label_position('top')\n",
    "plt.ylabel('Actual')\n",
    "plt.xlabel('Predicted')\n",
    "plt.show(block=False)\n"
   ]
  },
  {
   "cell_type": "code",
   "execution_count": 86,
   "metadata": {},
   "outputs": [
    {
     "data": {
      "image/png": "[encoded data removed]",
      "text/plain": [
       "<Figure size 432x288 with 1 Axes>"
      ]
     },
     "metadata": {
      "needs_background": "light"
     },
     "output_type": "display_data"
    }
   ],
   "source": [
    "plot_importance(clf2)\n",
    "figsize=(8,4)"
   ]
  },
  {
   "cell_type": "markdown",
   "metadata": {},
   "source": [
    "## SVM"
   ]
  },
  {
   "cell_type": "code",
   "execution_count": 87,
   "metadata": {},
   "outputs": [],
   "source": [
    "svm2 = SVC(probability=True)"
   ]
  },
  {
   "cell_type": "code",
   "execution_count": 88,
   "metadata": {},
   "outputs": [
    {
     "data": {
      "text/plain": [
       "SVC(probability=True)"
      ]
     },
     "execution_count": 88,
     "metadata": {},
     "output_type": "execute_result"
    }
   ],
   "source": [
    "svm2.fit(X_train, y_train2)"
   ]
  },
  {
   "cell_type": "code",
   "execution_count": 89,
   "metadata": {},
   "outputs": [
    {
     "data": {
      "text/plain": [
       "0.8"
      ]
     },
     "execution_count": 89,
     "metadata": {},
     "output_type": "execute_result"
    }
   ],
   "source": [
    "svm2.score(X_train, y_train2)"
   ]
  },
  {
   "cell_type": "code",
   "execution_count": 90,
   "metadata": {},
   "outputs": [
    {
     "data": {
      "text/plain": [
       "0.8837209302325582"
      ]
     },
     "execution_count": 90,
     "metadata": {},
     "output_type": "execute_result"
    }
   ],
   "source": [
    "svm2.score(X_test, y_test2)"
   ]
  },
  {
   "cell_type": "code",
   "execution_count": 91,
   "metadata": {},
   "outputs": [],
   "source": [
    "y_svm2=svm2.predict(X_test)\n",
    "prob_svm2 = svm2.predict_proba(X_test)"
   ]
  },
  {
   "cell_type": "code",
   "execution_count": 92,
   "metadata": {},
   "outputs": [
    {
     "name": "stdout",
     "output_type": "stream",
     "text": [
      "1. Tested Species\n",
      "['Clouded leopard' 'Jaguar' 'Leopard' 'Lion']\n",
      "2. Predicted Species\n",
      "['Clouded leopard' 'Jaguar' 'Leopard' 'Lion']\n",
      "3. False Positive\n",
      "set()\n",
      "4. False Negative\n",
      "set()\n"
     ]
    }
   ],
   "source": [
    "print('1. Tested Species')\n",
    "print(np.unique(y_test2))\n",
    "print('2. Predicted Species')\n",
    "print(np.unique(y_svm2))\n",
    "print('3. False Positive')\n",
    "print(set(np.unique(y_svm2))-set(np.unique(y_test2)))\n",
    "print('4. False Negative')\n",
    "print(set(np.unique(y_test2))-set(np.unique(y_svm2)))"
   ]
  },
  {
   "cell_type": "code",
   "execution_count": 93,
   "metadata": {
    "scrolled": false
   },
   "outputs": [
    {
     "name": "stdout",
     "output_type": "stream",
     "text": [
      "Accuracy 0.8837209302325582\n"
     ]
    },
    {
     "data": {
      "image/png": "[encoded data removed]",
      "text/plain": [
       "<Figure size 576x288 with 2 Axes>"
      ]
     },
     "metadata": {
      "needs_background": "light"
     },
     "output_type": "display_data"
    }
   ],
   "source": [
    "names_svc = sorted(list(set(np.unique(y_test2)).union(set(y_svm2))))\n",
    "cnf = confusion_matrix(y_test2, y_svm2)\n",
    "fig, ax = plt.subplots(figsize=(8,4))\n",
    "\n",
    "print('Accuracy',svm2.score(X_test, y_test2))\n",
    "\n",
    "sns.heatmap(cnf, annot=True, xticklabels=names_svc, yticklabels=names_svc,cmap= \"YlOrBr\")\n",
    "plt.title('SVM Confusion Matrix')\n",
    "ax.xaxis.set_label_position('top')\n",
    "plt.ylabel('Actual')\n",
    "plt.xlabel('Predicted')\n",
    "plt.show(block=False)\n",
    "\n"
   ]
  },
  {
   "cell_type": "markdown",
   "metadata": {},
   "source": [
    "## Naive Bayes"
   ]
  },
  {
   "cell_type": "code",
   "execution_count": 94,
   "metadata": {},
   "outputs": [],
   "source": [
    "nb2 = GaussianNB()"
   ]
  },
  {
   "cell_type": "code",
   "execution_count": 95,
   "metadata": {},
   "outputs": [
    {
     "data": {
      "text/plain": [
       "GaussianNB()"
      ]
     },
     "execution_count": 95,
     "metadata": {},
     "output_type": "execute_result"
    }
   ],
   "source": [
    "nb2.fit(X_train, y_train2)"
   ]
  },
  {
   "cell_type": "code",
   "execution_count": 96,
   "metadata": {},
   "outputs": [
    {
     "data": {
      "text/plain": [
       "0.71"
      ]
     },
     "execution_count": 96,
     "metadata": {},
     "output_type": "execute_result"
    }
   ],
   "source": [
    "nb2.score(X_train, y_train2)"
   ]
  },
  {
   "cell_type": "code",
   "execution_count": 97,
   "metadata": {},
   "outputs": [
    {
     "data": {
      "text/plain": [
       "0.627906976744186"
      ]
     },
     "execution_count": 97,
     "metadata": {},
     "output_type": "execute_result"
    }
   ],
   "source": [
    "nb2.score(X_test, y_test2)"
   ]
  },
  {
   "cell_type": "code",
   "execution_count": 98,
   "metadata": {},
   "outputs": [],
   "source": [
    "y_nb2 = nb2.predict(X_test)\n",
    "prob_nb2 = nb2.predict_proba(X_test)"
   ]
  },
  {
   "cell_type": "code",
   "execution_count": 99,
   "metadata": {},
   "outputs": [
    {
     "name": "stdout",
     "output_type": "stream",
     "text": [
      "1. Tested Species\n",
      "['Clouded leopard' 'Jaguar' 'Leopard' 'Lion']\n",
      "2. Predicted Species\n",
      "['Clouded leopard' 'Jaguar' 'Leopard' 'Lion' 'Snow leopard']\n",
      "3. Not tested for but predicted\n",
      "{'Snow leopard'}\n",
      "4. Tested for but not predicted\n",
      "set()\n"
     ]
    }
   ],
   "source": [
    "print('1. Tested Species')\n",
    "print(np.unique(y_test2))\n",
    "print('2. Predicted Species')\n",
    "print(np.unique(y_nb2))\n",
    "print('3. Not tested for but predicted')\n",
    "print(set(np.unique(y_nb2))-set(np.unique(y_test2)))\n",
    "print('4. Tested for but not predicted')\n",
    "print(set(np.unique(y_test2))-set(np.unique(y_nb2)))"
   ]
  },
  {
   "cell_type": "code",
   "execution_count": 100,
   "metadata": {},
   "outputs": [
    {
     "name": "stdout",
     "output_type": "stream",
     "text": [
      "Accuracy 0.627906976744186\n"
     ]
    },
    {
     "data": {
      "image/png": "[encoded data removed]",
      "text/plain": [
       "<Figure size 576x288 with 2 Axes>"
      ]
     },
     "metadata": {
      "needs_background": "light"
     },
     "output_type": "display_data"
    }
   ],
   "source": [
    "names_nb = sorted(list(set(np.unique(y_test2)).union(set(y_nb2))))\n",
    "cnf = confusion_matrix(y_test2, y_nb2)\n",
    "fig, ax = plt.subplots(figsize=(8,4))\n",
    "\n",
    "print('Accuracy',nb2.score(X_test, y_test2))\n",
    "\n",
    "sns.heatmap(cnf, annot=True, xticklabels=names_nb, yticklabels=names_nb,cmap= \"YlOrBr\")\n",
    "plt.title('Naive Bayes Confusion Matrix')\n",
    "ax.xaxis.set_label_position('top')\n",
    "plt.ylabel('Actual')\n",
    "plt.xlabel('Predicted')\n",
    "plt.show(block=False)\n"
   ]
  },
  {
   "cell_type": "markdown",
   "metadata": {},
   "source": [
    "## Logistic Regression"
   ]
  },
  {
   "cell_type": "code",
   "execution_count": 101,
   "metadata": {},
   "outputs": [],
   "source": [
    "lr2 = LogisticRegression(solver='liblinear', multi_class='ovr')"
   ]
  },
  {
   "cell_type": "code",
   "execution_count": 102,
   "metadata": {},
   "outputs": [
    {
     "data": {
      "text/plain": [
       "LogisticRegression(multi_class='ovr', solver='liblinear')"
      ]
     },
     "execution_count": 102,
     "metadata": {},
     "output_type": "execute_result"
    }
   ],
   "source": [
    "lr2.fit(X_train,y_train2)"
   ]
  },
  {
   "cell_type": "code",
   "execution_count": 103,
   "metadata": {},
   "outputs": [
    {
     "data": {
      "text/plain": [
       "0.82"
      ]
     },
     "execution_count": 103,
     "metadata": {},
     "output_type": "execute_result"
    }
   ],
   "source": [
    "lr2.score(X_train, y_train2)"
   ]
  },
  {
   "cell_type": "code",
   "execution_count": 104,
   "metadata": {},
   "outputs": [
    {
     "data": {
      "text/plain": [
       "0.7674418604651163"
      ]
     },
     "execution_count": 104,
     "metadata": {},
     "output_type": "execute_result"
    }
   ],
   "source": [
    "lr2.score(X_test, y_test2)"
   ]
  },
  {
   "cell_type": "code",
   "execution_count": 105,
   "metadata": {},
   "outputs": [],
   "source": [
    "y_lr2 = lr2.predict(X_test)\n",
    "prob_lr2 = lr2.predict_proba(X_test)"
   ]
  },
  {
   "cell_type": "code",
   "execution_count": 106,
   "metadata": {},
   "outputs": [
    {
     "name": "stdout",
     "output_type": "stream",
     "text": [
      "1. Tested Species\n",
      "['Clouded leopard' 'Jaguar' 'Leopard' 'Lion' 'growl' 'hiss' 'prusten'\n",
      " 'puff' 'roar']\n",
      "2. Predicted Species\n",
      "['Clouded leopard' 'Jaguar' 'Leopard' 'Lion']\n",
      "3. Not tested for but predicted\n",
      "set()\n",
      "4. Tested for but not predicted\n",
      "{'prusten', 'hiss', 'growl', 'puff', 'roar'}\n"
     ]
    }
   ],
   "source": [
    "print('1. Tested Species')\n",
    "print(np.unique(y_test))\n",
    "print('2. Predicted Species')\n",
    "print(np.unique(y_lr2))\n",
    "print('3. Not tested for but predicted')\n",
    "print(set(np.unique(y_lr2))-set(np.unique(y_test)))\n",
    "print('4. Tested for but not predicted')\n",
    "print(set(np.unique(y_test))-set(np.unique(y_lr2)))"
   ]
  },
  {
   "cell_type": "code",
   "execution_count": 107,
   "metadata": {},
   "outputs": [
    {
     "name": "stdout",
     "output_type": "stream",
     "text": [
      "Accuracy 0.7674418604651163\n"
     ]
    },
    {
     "data": {
      "image/png": "[encoded data removed]",
      "text/plain": [
       "<Figure size 576x288 with 2 Axes>"
      ]
     },
     "metadata": {
      "needs_background": "light"
     },
     "output_type": "display_data"
    }
   ],
   "source": [
    "names_lr = sorted(list(set(np.unique(y_test2)).union(set(y_lr2))))\n",
    "cnf = confusion_matrix(y_test2, y_lr2)\n",
    "fig, ax = plt.subplots(figsize=(8,4))\n",
    "\n",
    "print('Accuracy',lr2.score(X_test, y_test2))\n",
    "\n",
    "sns.heatmap(cnf, annot=True, xticklabels=names_lr, yticklabels=names_lr,cmap= \"YlOrBr\")\n",
    "plt.title('Logistic Regression')\n",
    "ax.xaxis.set_label_position('top')\n",
    "plt.ylabel('Actual')\n",
    "plt.xlabel('Predicted')\n",
    "plt.show(block=False)\n"
   ]
  },
  {
   "cell_type": "markdown",
   "metadata": {},
   "source": [
    "## KNN"
   ]
  },
  {
   "cell_type": "code",
   "execution_count": 108,
   "metadata": {},
   "outputs": [],
   "source": [
    "knn2 = KNeighborsClassifier()"
   ]
  },
  {
   "cell_type": "code",
   "execution_count": 109,
   "metadata": {},
   "outputs": [
    {
     "data": {
      "text/plain": [
       "KNeighborsClassifier()"
      ]
     },
     "execution_count": 109,
     "metadata": {},
     "output_type": "execute_result"
    }
   ],
   "source": [
    "knn2.fit(X_train, y_train2)"
   ]
  },
  {
   "cell_type": "code",
   "execution_count": 110,
   "metadata": {},
   "outputs": [
    {
     "data": {
      "text/plain": [
       "0.8"
      ]
     },
     "execution_count": 110,
     "metadata": {},
     "output_type": "execute_result"
    }
   ],
   "source": [
    "knn2.score(X_train, y_train2)"
   ]
  },
  {
   "cell_type": "code",
   "execution_count": 111,
   "metadata": {},
   "outputs": [
    {
     "data": {
      "text/plain": [
       "0.813953488372093"
      ]
     },
     "execution_count": 111,
     "metadata": {},
     "output_type": "execute_result"
    }
   ],
   "source": [
    "knn2.score(X_test, y_test2)"
   ]
  },
  {
   "cell_type": "code",
   "execution_count": 112,
   "metadata": {},
   "outputs": [],
   "source": [
    "y_knn2 = knn2.predict(X_test)\n",
    "prob_knn2 = knn2.predict_proba(X_test)"
   ]
  },
  {
   "cell_type": "code",
   "execution_count": 113,
   "metadata": {},
   "outputs": [
    {
     "name": "stdout",
     "output_type": "stream",
     "text": [
      "1. Tested Species\n",
      "['Clouded leopard' 'Jaguar' 'Leopard' 'Lion']\n",
      "2. Predicted Species\n",
      "['Clouded leopard' 'Jaguar' 'Leopard' 'Lion']\n",
      "3. Not tested for but predicted\n",
      "set()\n",
      "4. Tested for but not predicted\n",
      "set()\n"
     ]
    }
   ],
   "source": [
    "print('1. Tested Species')\n",
    "print(np.unique(y_test2))\n",
    "print('2. Predicted Species')\n",
    "print(np.unique(y_knn2))\n",
    "print('3. Not tested for but predicted')\n",
    "print(set(np.unique(y_knn2))-set(np.unique(y_test2)))\n",
    "print('4. Tested for but not predicted')\n",
    "print(set(np.unique(y_test2))-set(np.unique(y_knn2)))"
   ]
  },
  {
   "cell_type": "code",
   "execution_count": 114,
   "metadata": {},
   "outputs": [
    {
     "name": "stdout",
     "output_type": "stream",
     "text": [
      "Accuracy 0.813953488372093\n"
     ]
    },
    {
     "data": {
      "image/png": "[encoded data removed]",
      "text/plain": [
       "<Figure size 576x288 with 2 Axes>"
      ]
     },
     "metadata": {
      "needs_background": "light"
     },
     "output_type": "display_data"
    }
   ],
   "source": [
    "names_knn = sorted(list(set(np.unique(y_test2)).union(set(y_knn2))))\n",
    "cnf = confusion_matrix(y_test2, y_knn2)\n",
    "fig, ax = plt.subplots(figsize=(8,4))\n",
    "\n",
    "print('Accuracy',knn2.score(X_test, y_test2))\n",
    "\n",
    "sns.heatmap(cnf, annot=True, xticklabels=names_knn, yticklabels=names_knn,cmap= \"YlOrBr\")\n",
    "plt.title('KNN')\n",
    "ax.xaxis.set_label_position('top')\n",
    "plt.ylabel('Actual')\n",
    "plt.xlabel('Predicted')\n",
    "plt.show(block=False)\n"
   ]
  },
  {
   "cell_type": "markdown",
   "metadata": {},
   "source": [
    "## Decision Tree Classifier"
   ]
  },
  {
   "cell_type": "code",
   "execution_count": 115,
   "metadata": {},
   "outputs": [],
   "source": [
    "dt2 = DecisionTreeClassifier()"
   ]
  },
  {
   "cell_type": "code",
   "execution_count": 116,
   "metadata": {},
   "outputs": [
    {
     "data": {
      "text/plain": [
       "DecisionTreeClassifier()"
      ]
     },
     "execution_count": 116,
     "metadata": {},
     "output_type": "execute_result"
    }
   ],
   "source": [
    "dt2.fit(X_train, y_train2)"
   ]
  },
  {
   "cell_type": "code",
   "execution_count": 117,
   "metadata": {},
   "outputs": [
    {
     "data": {
      "text/plain": [
       "1.0"
      ]
     },
     "execution_count": 117,
     "metadata": {},
     "output_type": "execute_result"
    }
   ],
   "source": [
    "dt2.score(X_train, y_train2)"
   ]
  },
  {
   "cell_type": "code",
   "execution_count": 118,
   "metadata": {},
   "outputs": [
    {
     "data": {
      "text/plain": [
       "0.813953488372093"
      ]
     },
     "execution_count": 118,
     "metadata": {},
     "output_type": "execute_result"
    }
   ],
   "source": [
    "dt2.score(X_test, y_test2)"
   ]
  },
  {
   "cell_type": "code",
   "execution_count": 119,
   "metadata": {},
   "outputs": [],
   "source": [
    "y_dt2 = dt2.predict(X_test)\n",
    "prob_dt2 = dt2.predict_proba(X_test)"
   ]
  },
  {
   "cell_type": "code",
   "execution_count": 120,
   "metadata": {},
   "outputs": [
    {
     "name": "stdout",
     "output_type": "stream",
     "text": [
      "1. Tested Species\n",
      "['Clouded leopard' 'Jaguar' 'Leopard' 'Lion']\n",
      "2. Predicted Species\n",
      "['Clouded leopard' 'Jaguar' 'Leopard' 'Lion']\n",
      "3. Not tested for but predicted\n",
      "set()\n",
      "4. Tested for but not predicted\n",
      "set()\n"
     ]
    }
   ],
   "source": [
    "print('1. Tested Species')\n",
    "print(np.unique(y_test2))\n",
    "print('2. Predicted Species')\n",
    "print(np.unique(y_dt2))\n",
    "print('3. Not tested for but predicted')\n",
    "print(set(np.unique(y_dt2))-set(np.unique(y_test2)))\n",
    "print('4. Tested for but not predicted')\n",
    "print(set(np.unique(y_test2))-set(np.unique(y_dt2)))"
   ]
  },
  {
   "cell_type": "code",
   "execution_count": 121,
   "metadata": {},
   "outputs": [
    {
     "name": "stdout",
     "output_type": "stream",
     "text": [
      "Accuracy 0.813953488372093\n"
     ]
    },
    {
     "data": {
      "image/png": "[encoded data removed]",
      "text/plain": [
       "<Figure size 576x288 with 2 Axes>"
      ]
     },
     "metadata": {
      "needs_background": "light"
     },
     "output_type": "display_data"
    }
   ],
   "source": [
    "names_cart = sorted(list(set(np.unique(y_test2)).union(set(y_dt2))))\n",
    "cnf = confusion_matrix(y_test2, y_dt2)\n",
    "fig, ax = plt.subplots(figsize=(8,4))\n",
    "\n",
    "print('Accuracy',dt2.score(X_test, y_test2))\n",
    "\n",
    "sns.heatmap(cnf, annot=True, xticklabels=names_cart, yticklabels=names_cart,cmap= \"YlOrBr\")\n",
    "plt.title('Decision Tree Classifier')\n",
    "ax.xaxis.set_label_position('top')\n",
    "plt.ylabel('Actual')\n",
    "plt.xlabel('Predicted')\n",
    "plt.show(block=False)\n"
   ]
  },
  {
   "cell_type": "markdown",
   "metadata": {},
   "source": [
    "## Random Forest Classifier"
   ]
  },
  {
   "cell_type": "code",
   "execution_count": 122,
   "metadata": {},
   "outputs": [],
   "source": [
    "rf2 = RandomForestClassifier()"
   ]
  },
  {
   "cell_type": "code",
   "execution_count": 123,
   "metadata": {},
   "outputs": [
    {
     "data": {
      "text/plain": [
       "RandomForestClassifier()"
      ]
     },
     "execution_count": 123,
     "metadata": {},
     "output_type": "execute_result"
    }
   ],
   "source": [
    "rf2.fit(X_train, y_train2)"
   ]
  },
  {
   "cell_type": "code",
   "execution_count": 124,
   "metadata": {},
   "outputs": [
    {
     "data": {
      "text/plain": [
       "1.0"
      ]
     },
     "execution_count": 124,
     "metadata": {},
     "output_type": "execute_result"
    }
   ],
   "source": [
    "rf2.score(X_train, y_train2)"
   ]
  },
  {
   "cell_type": "code",
   "execution_count": 125,
   "metadata": {},
   "outputs": [
    {
     "data": {
      "text/plain": [
       "0.8837209302325582"
      ]
     },
     "execution_count": 125,
     "metadata": {},
     "output_type": "execute_result"
    }
   ],
   "source": [
    "rf2.score(X_test, y_test2)"
   ]
  },
  {
   "cell_type": "code",
   "execution_count": 126,
   "metadata": {},
   "outputs": [],
   "source": [
    "y_rf2 = rf2.predict(X_test)\n",
    "prob_rf2 = rf2.predict_proba(X_test)"
   ]
  },
  {
   "cell_type": "code",
   "execution_count": 127,
   "metadata": {},
   "outputs": [
    {
     "name": "stdout",
     "output_type": "stream",
     "text": [
      "1. Tested Species\n",
      "['Clouded leopard' 'Jaguar' 'Leopard' 'Lion']\n",
      "2. Predicted Species\n",
      "['Clouded leopard' 'Jaguar' 'Leopard' 'Lion']\n",
      "3. Not tested for but predicted\n",
      "set()\n",
      "4. Tested for but not predicted\n",
      "set()\n"
     ]
    }
   ],
   "source": [
    "print('1. Tested Species')\n",
    "print(np.unique(y_test2))\n",
    "print('2. Predicted Species')\n",
    "print(np.unique(y_rf2))\n",
    "print('3. Not tested for but predicted')\n",
    "print(set(np.unique(y_rf2))-set(np.unique(y_test2)))\n",
    "print('4. Tested for but not predicted')\n",
    "print(set(np.unique(y_test2))-set(np.unique(y_rf2)))"
   ]
  },
  {
   "cell_type": "code",
   "execution_count": 128,
   "metadata": {},
   "outputs": [
    {
     "name": "stdout",
     "output_type": "stream",
     "text": [
      "Accuracy 0.8837209302325582\n"
     ]
    },
    {
     "data": {
      "image/png": "[encoded data removed]",
      "text/plain": [
       "<Figure size 576x288 with 2 Axes>"
      ]
     },
     "metadata": {
      "needs_background": "light"
     },
     "output_type": "display_data"
    }
   ],
   "source": [
    "names_rf = sorted(list(set(np.unique(y_test2)).union(set(y_rf2))))\n",
    "cnf = confusion_matrix(y_test2, y_rf2)\n",
    "fig, ax = plt.subplots(figsize=(8,4))\n",
    "\n",
    "print('Accuracy',rf2.score(X_test, y_test2))\n",
    "\n",
    "sns.heatmap(cnf, annot=True, xticklabels=names_rf, yticklabels=names_rf,cmap= \"YlOrBr\")\n",
    "plt.title('Random Forest')\n",
    "ax.xaxis.set_label_position('top')\n",
    "plt.ylabel('Actual')\n",
    "plt.xlabel('Predicted')\n",
    "plt.show(block=False)"
   ]
  },
  {
   "cell_type": "code",
   "execution_count": 129,
   "metadata": {},
   "outputs": [
    {
     "data": {
      "text/html": [
       "<div>\n",
       "<style scoped>\n",
       "    .dataframe tbody tr th:only-of-type {\n",
       "        vertical-align: middle;\n",
       "    }\n",
       "\n",
       "    .dataframe tbody tr th {\n",
       "        vertical-align: top;\n",
       "    }\n",
       "\n",
       "    .dataframe thead th {\n",
       "        text-align: right;\n",
       "    }\n",
       "</style>\n",
       "<table border=\"1\" class=\"dataframe\">\n",
       "  <thead>\n",
       "    <tr style=\"text-align: right;\">\n",
       "      <th></th>\n",
       "      <th>Partials</th>\n",
       "      <th>Zero_Crossings</th>\n",
       "      <th>Duration</th>\n",
       "      <th>Amp_range</th>\n",
       "      <th>Avg_amp</th>\n",
       "      <th>Freq_range</th>\n",
       "      <th>Pulses_per_Sec</th>\n",
       "      <th>MFCC</th>\n",
       "      <th>Spectral Rolloff</th>\n",
       "      <th>Melspectrogram</th>\n",
       "      <th>Spectral Contrast</th>\n",
       "      <th>Chroma_StFt</th>\n",
       "      <th>Tonnetz</th>\n",
       "      <th>Target</th>\n",
       "      <th>Clouded leopard</th>\n",
       "      <th>Jaguar</th>\n",
       "      <th>Leopard</th>\n",
       "      <th>Lion</th>\n",
       "      <th>Snow leopard</th>\n",
       "      <th>Predicted</th>\n",
       "    </tr>\n",
       "  </thead>\n",
       "  <tbody>\n",
       "    <tr>\n",
       "      <th>407</th>\n",
       "      <td>0.103108</td>\n",
       "      <td>-0.515473</td>\n",
       "      <td>-0.605682</td>\n",
       "      <td>1.593539</td>\n",
       "      <td>0.601862</td>\n",
       "      <td>0.517530</td>\n",
       "      <td>1.055904</td>\n",
       "      <td>1.566079</td>\n",
       "      <td>0.444750</td>\n",
       "      <td>0.268902</td>\n",
       "      <td>-0.782793</td>\n",
       "      <td>1.175930</td>\n",
       "      <td>-0.398267</td>\n",
       "      <td>Jaguar</td>\n",
       "      <td>0.12</td>\n",
       "      <td>0.24</td>\n",
       "      <td>0.37</td>\n",
       "      <td>0.22</td>\n",
       "      <td>0.05</td>\n",
       "      <td>Leopard</td>\n",
       "    </tr>\n",
       "    <tr>\n",
       "      <th>597</th>\n",
       "      <td>0.479741</td>\n",
       "      <td>1.002003</td>\n",
       "      <td>0.168671</td>\n",
       "      <td>0.938346</td>\n",
       "      <td>-0.342325</td>\n",
       "      <td>1.443202</td>\n",
       "      <td>0.542398</td>\n",
       "      <td>-1.564324</td>\n",
       "      <td>0.424325</td>\n",
       "      <td>-0.203654</td>\n",
       "      <td>0.466191</td>\n",
       "      <td>-0.042270</td>\n",
       "      <td>0.492505</td>\n",
       "      <td>Lion</td>\n",
       "      <td>0.04</td>\n",
       "      <td>0.27</td>\n",
       "      <td>0.40</td>\n",
       "      <td>0.22</td>\n",
       "      <td>0.07</td>\n",
       "      <td>Leopard</td>\n",
       "    </tr>\n",
       "    <tr>\n",
       "      <th>419</th>\n",
       "      <td>0.103108</td>\n",
       "      <td>-0.516406</td>\n",
       "      <td>-0.218505</td>\n",
       "      <td>1.921980</td>\n",
       "      <td>1.855391</td>\n",
       "      <td>0.425600</td>\n",
       "      <td>-0.463531</td>\n",
       "      <td>0.437863</td>\n",
       "      <td>-1.318881</td>\n",
       "      <td>1.107530</td>\n",
       "      <td>2.558327</td>\n",
       "      <td>-0.501650</td>\n",
       "      <td>-0.248803</td>\n",
       "      <td>Jaguar</td>\n",
       "      <td>0.22</td>\n",
       "      <td>0.03</td>\n",
       "      <td>0.47</td>\n",
       "      <td>0.24</td>\n",
       "      <td>0.04</td>\n",
       "      <td>Leopard</td>\n",
       "    </tr>\n",
       "    <tr>\n",
       "      <th>574</th>\n",
       "      <td>-0.085208</td>\n",
       "      <td>-0.501658</td>\n",
       "      <td>-0.476623</td>\n",
       "      <td>0.282499</td>\n",
       "      <td>0.372900</td>\n",
       "      <td>-0.359014</td>\n",
       "      <td>-0.082420</td>\n",
       "      <td>0.793963</td>\n",
       "      <td>-0.237299</td>\n",
       "      <td>-0.042978</td>\n",
       "      <td>-0.124910</td>\n",
       "      <td>-0.276659</td>\n",
       "      <td>-0.233913</td>\n",
       "      <td>Lion</td>\n",
       "      <td>0.29</td>\n",
       "      <td>0.38</td>\n",
       "      <td>0.15</td>\n",
       "      <td>0.07</td>\n",
       "      <td>0.11</td>\n",
       "      <td>Jaguar</td>\n",
       "    </tr>\n",
       "    <tr>\n",
       "      <th>435</th>\n",
       "      <td>0.404414</td>\n",
       "      <td>6.969290</td>\n",
       "      <td>4.298552</td>\n",
       "      <td>0.814830</td>\n",
       "      <td>-0.267440</td>\n",
       "      <td>1.540642</td>\n",
       "      <td>-0.310092</td>\n",
       "      <td>-0.321139</td>\n",
       "      <td>0.720737</td>\n",
       "      <td>-0.163044</td>\n",
       "      <td>-0.506030</td>\n",
       "      <td>-0.080896</td>\n",
       "      <td>-0.408211</td>\n",
       "      <td>Leopard</td>\n",
       "      <td>0.00</td>\n",
       "      <td>0.46</td>\n",
       "      <td>0.25</td>\n",
       "      <td>0.29</td>\n",
       "      <td>0.00</td>\n",
       "      <td>Jaguar</td>\n",
       "    </tr>\n",
       "  </tbody>\n",
       "</table>\n",
       "</div>"
      ],
      "text/plain": [
       "     Partials  Zero_Crossings  Duration  Amp_range   Avg_amp  Freq_range  \\\n",
       "407  0.103108       -0.515473 -0.605682   1.593539  0.601862    0.517530   \n",
       "597  0.479741        1.002003  0.168671   0.938346 -0.342325    1.443202   \n",
       "419  0.103108       -0.516406 -0.218505   1.921980  1.855391    0.425600   \n",
       "574 -0.085208       -0.501658 -0.476623   0.282499  0.372900   -0.359014   \n",
       "435  0.404414        6.969290  4.298552   0.814830 -0.267440    1.540642   \n",
       "\n",
       "     Pulses_per_Sec      MFCC  Spectral Rolloff  Melspectrogram  \\\n",
       "407        1.055904  1.566079          0.444750        0.268902   \n",
       "597        0.542398 -1.564324          0.424325       -0.203654   \n",
       "419       -0.463531  0.437863         -1.318881        1.107530   \n",
       "574       -0.082420  0.793963         -0.237299       -0.042978   \n",
       "435       -0.310092 -0.321139          0.720737       -0.163044   \n",
       "\n",
       "     Spectral Contrast  Chroma_StFt   Tonnetz   Target  Clouded leopard  \\\n",
       "407          -0.782793     1.175930 -0.398267   Jaguar             0.12   \n",
       "597           0.466191    -0.042270  0.492505     Lion             0.04   \n",
       "419           2.558327    -0.501650 -0.248803   Jaguar             0.22   \n",
       "574          -0.124910    -0.276659 -0.233913     Lion             0.29   \n",
       "435          -0.506030    -0.080896 -0.408211  Leopard             0.00   \n",
       "\n",
       "     Jaguar  Leopard  Lion  Snow leopard Predicted  \n",
       "407    0.24     0.37  0.22          0.05   Leopard  \n",
       "597    0.27     0.40  0.22          0.07   Leopard  \n",
       "419    0.03     0.47  0.24          0.04   Leopard  \n",
       "574    0.38     0.15  0.07          0.11    Jaguar  \n",
       "435    0.46     0.25  0.29          0.00    Jaguar  "
      ]
     },
     "execution_count": 129,
     "metadata": {},
     "output_type": "execute_result"
    }
   ],
   "source": [
    "df_test = pd.DataFrame(X_test.copy())\n",
    "df_test['Target'] = y_test2\n",
    "df_test['Clouded leopard'] = prob_rf2[:,0] \n",
    "df_test['Jaguar'] = prob_rf2[:,1]\n",
    "df_test['Leopard'] = prob_rf2[:,2]\n",
    "df_test['Lion'] = prob_rf2[:,3]\n",
    "df_test['Snow leopard'] = prob_rf2[:,4]\n",
    "df_test['Predicted'] = y_rf2\n",
    "df_test = df_test[df_test['Target'] != df_test['Predicted']]\n",
    "pred_df.to_csv('Mislabeled Panterinae Species With Random Forest.csv', index=False)\n",
    "df_test.head(15)"
   ]
  },
  {
   "cell_type": "markdown",
   "metadata": {},
   "source": [
    "#The data is unbalanced, this could be fixed by updating the class weights \n",
    "#Or getting more varied data\n",
    "df2['Species'].value_counts()"
   ]
  }
 ],
 "metadata": {
  "kernelspec": {
   "display_name": "Python 3",
   "language": "python",
   "name": "python3"
  },
  "language_info": {
   "codemirror_mode": {
    "name": "ipython",
    "version": 3
   },
   "file_extension": ".py",
   "mimetype": "text/x-python",
   "name": "python",
   "nbconvert_exporter": "python",
   "pygments_lexer": "ipython3",
   "version": "3.8.8"
  }
 },
 "nbformat": 4,
 "nbformat_minor": 4
}
