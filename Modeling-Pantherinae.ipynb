{
 "cells": [
  {
   "cell_type": "code",
   "execution_count": 1,
   "metadata": {},
   "outputs": [],
   "source": [
    "import pandas as pd\n",
    "import numpy as np\n",
    "import matplotlib.pyplot as plt\n",
    "%matplotlib inline\n",
    "import seaborn as sns\n",
    "from sklearn.metrics import confusion_matrix\n",
    "\n",
    "from sklearn.model_selection import train_test_split\n",
    "from sklearn.preprocessing import StandardScaler, MinMaxScaler, OneHotEncoder\n",
    "\n",
    "from xgboost import XGBClassifier\n",
    "from sklearn.svm import SVC\n",
    "from sklearn.naive_bayes import GaussianNB, CategoricalNB\n",
    "from sklearn.linear_model import LogisticRegression\n",
    "from sklearn.neighbors import KNeighborsClassifier\n",
    "from sklearn.tree import DecisionTreeClassifier\n",
    "from sklearn.ensemble import RandomForestClassifier\n",
    "\n",
    "from xgboost import plot_importance\n",
    "\n",
    "import warnings\n",
    "warnings.filterwarnings('ignore')\n",
    "\n",
    "pd.set_option('display.max_columns', 50)"
   ]
  },
  {
   "cell_type": "code",
   "execution_count": 2,
   "metadata": {},
   "outputs": [
    {
     "data": {
      "text/html": [
       "<div>\n",
       "<style scoped>\n",
       "    .dataframe tbody tr th:only-of-type {\n",
       "        vertical-align: middle;\n",
       "    }\n",
       "\n",
       "    .dataframe tbody tr th {\n",
       "        vertical-align: top;\n",
       "    }\n",
       "\n",
       "    .dataframe thead th {\n",
       "        text-align: right;\n",
       "    }\n",
       "</style>\n",
       "<table border=\"1\" class=\"dataframe\">\n",
       "  <thead>\n",
       "    <tr style=\"text-align: right;\">\n",
       "      <th></th>\n",
       "      <th>File Name</th>\n",
       "      <th>Duration_in_Sec</th>\n",
       "      <th>Zero_Crossings</th>\n",
       "      <th>Amp_range</th>\n",
       "      <th>Avg_amp</th>\n",
       "      <th>Freq_range</th>\n",
       "      <th>Pulses_per_Sec</th>\n",
       "      <th>Mean_MFCC</th>\n",
       "      <th>Mean_Spectral Rolloff</th>\n",
       "      <th>Mean_Melspectrogram</th>\n",
       "      <th>Mean_Spectral Contrast</th>\n",
       "      <th>Mean_Chromagram</th>\n",
       "      <th>Mean_Tempogram</th>\n",
       "      <th>Mean_Tonnetz</th>\n",
       "      <th>Partials</th>\n",
       "      <th>Mean RMS</th>\n",
       "    </tr>\n",
       "  </thead>\n",
       "  <tbody>\n",
       "    <tr>\n",
       "      <th>0</th>\n",
       "      <td>Acinonyx_jubatus_S0612_02</td>\n",
       "      <td>1</td>\n",
       "      <td>706</td>\n",
       "      <td>0.083313</td>\n",
       "      <td>0.015951</td>\n",
       "      <td>848.000000</td>\n",
       "      <td>263.000000</td>\n",
       "      <td>-3.270038</td>\n",
       "      <td>1526.165771</td>\n",
       "      <td>0.101744</td>\n",
       "      <td>18.307605</td>\n",
       "      <td>0.734437</td>\n",
       "      <td>0.117970</td>\n",
       "      <td>-0.008915</td>\n",
       "      <td>2</td>\n",
       "      <td>0.019846</td>\n",
       "    </tr>\n",
       "    <tr>\n",
       "      <th>1</th>\n",
       "      <td>Acinonyx_jubatus_S0612_02</td>\n",
       "      <td>4</td>\n",
       "      <td>3456</td>\n",
       "      <td>0.296424</td>\n",
       "      <td>0.035485</td>\n",
       "      <td>3645.500000</td>\n",
       "      <td>452.250000</td>\n",
       "      <td>-2.419156</td>\n",
       "      <td>1377.502653</td>\n",
       "      <td>0.625990</td>\n",
       "      <td>18.523777</td>\n",
       "      <td>0.682254</td>\n",
       "      <td>0.112089</td>\n",
       "      <td>-0.009319</td>\n",
       "      <td>21</td>\n",
       "      <td>0.043695</td>\n",
       "    </tr>\n",
       "    <tr>\n",
       "      <th>2</th>\n",
       "      <td>Acinonyx_jubatus_S0612_02</td>\n",
       "      <td>5</td>\n",
       "      <td>2984</td>\n",
       "      <td>0.171860</td>\n",
       "      <td>0.022913</td>\n",
       "      <td>2181.800000</td>\n",
       "      <td>308.000000</td>\n",
       "      <td>-2.863807</td>\n",
       "      <td>1011.861165</td>\n",
       "      <td>0.214492</td>\n",
       "      <td>18.676903</td>\n",
       "      <td>0.664394</td>\n",
       "      <td>0.211802</td>\n",
       "      <td>0.006031</td>\n",
       "      <td>8</td>\n",
       "      <td>0.028763</td>\n",
       "    </tr>\n",
       "    <tr>\n",
       "      <th>3</th>\n",
       "      <td>Acinonyx_jubatus_S0612_02</td>\n",
       "      <td>5</td>\n",
       "      <td>3108</td>\n",
       "      <td>0.243933</td>\n",
       "      <td>0.023587</td>\n",
       "      <td>3437.000000</td>\n",
       "      <td>314.000000</td>\n",
       "      <td>-3.096756</td>\n",
       "      <td>1207.803345</td>\n",
       "      <td>0.279397</td>\n",
       "      <td>18.298732</td>\n",
       "      <td>0.731459</td>\n",
       "      <td>0.147876</td>\n",
       "      <td>0.003965</td>\n",
       "      <td>11</td>\n",
       "      <td>0.028987</td>\n",
       "    </tr>\n",
       "    <tr>\n",
       "      <th>4</th>\n",
       "      <td>Acinonyx_jubatus_S0612_02</td>\n",
       "      <td>3</td>\n",
       "      <td>1919</td>\n",
       "      <td>0.194653</td>\n",
       "      <td>0.029304</td>\n",
       "      <td>2189.000000</td>\n",
       "      <td>331.000000</td>\n",
       "      <td>-2.780607</td>\n",
       "      <td>942.326097</td>\n",
       "      <td>0.370894</td>\n",
       "      <td>18.787422</td>\n",
       "      <td>0.632496</td>\n",
       "      <td>0.193519</td>\n",
       "      <td>0.001523</td>\n",
       "      <td>5</td>\n",
       "      <td>0.037000</td>\n",
       "    </tr>\n",
       "    <tr>\n",
       "      <th>...</th>\n",
       "      <td>...</td>\n",
       "      <td>...</td>\n",
       "      <td>...</td>\n",
       "      <td>...</td>\n",
       "      <td>...</td>\n",
       "      <td>...</td>\n",
       "      <td>...</td>\n",
       "      <td>...</td>\n",
       "      <td>...</td>\n",
       "      <td>...</td>\n",
       "      <td>...</td>\n",
       "      <td>...</td>\n",
       "      <td>...</td>\n",
       "      <td>...</td>\n",
       "      <td>...</td>\n",
       "      <td>...</td>\n",
       "    </tr>\n",
       "    <tr>\n",
       "      <th>601</th>\n",
       "      <td>Lion Roaring Sequence_17</td>\n",
       "      <td>40</td>\n",
       "      <td>22436</td>\n",
       "      <td>0.652970</td>\n",
       "      <td>0.073732</td>\n",
       "      <td>10092.625000</td>\n",
       "      <td>295.250000</td>\n",
       "      <td>-4.387553</td>\n",
       "      <td>1458.415228</td>\n",
       "      <td>3.050521</td>\n",
       "      <td>20.184006</td>\n",
       "      <td>0.580697</td>\n",
       "      <td>0.190296</td>\n",
       "      <td>-0.000172</td>\n",
       "      <td>85</td>\n",
       "      <td>0.088674</td>\n",
       "    </tr>\n",
       "    <tr>\n",
       "      <th>602</th>\n",
       "      <td>Lion Roaring Sequence_18</td>\n",
       "      <td>45</td>\n",
       "      <td>127303</td>\n",
       "      <td>1.039453</td>\n",
       "      <td>0.117559</td>\n",
       "      <td>10681.044444</td>\n",
       "      <td>1159.066667</td>\n",
       "      <td>-5.522057</td>\n",
       "      <td>4116.969550</td>\n",
       "      <td>12.378446</td>\n",
       "      <td>20.695561</td>\n",
       "      <td>0.593314</td>\n",
       "      <td>0.184751</td>\n",
       "      <td>0.001714</td>\n",
       "      <td>139</td>\n",
       "      <td>0.141392</td>\n",
       "    </tr>\n",
       "    <tr>\n",
       "      <th>603</th>\n",
       "      <td>Lion Roaring Sequence_18</td>\n",
       "      <td>17</td>\n",
       "      <td>32072</td>\n",
       "      <td>1.021872</td>\n",
       "      <td>0.181167</td>\n",
       "      <td>10494.470588</td>\n",
       "      <td>898.411765</td>\n",
       "      <td>-3.991339</td>\n",
       "      <td>3033.963691</td>\n",
       "      <td>24.540840</td>\n",
       "      <td>20.218510</td>\n",
       "      <td>0.616647</td>\n",
       "      <td>0.182995</td>\n",
       "      <td>-0.004780</td>\n",
       "      <td>98</td>\n",
       "      <td>0.219604</td>\n",
       "    </tr>\n",
       "    <tr>\n",
       "      <th>604</th>\n",
       "      <td>Lion Roaring Sequence_19</td>\n",
       "      <td>19</td>\n",
       "      <td>23112</td>\n",
       "      <td>0.747216</td>\n",
       "      <td>0.123384</td>\n",
       "      <td>5462.315789</td>\n",
       "      <td>315.631579</td>\n",
       "      <td>-5.297592</td>\n",
       "      <td>2002.811373</td>\n",
       "      <td>9.278934</td>\n",
       "      <td>21.174380</td>\n",
       "      <td>0.515771</td>\n",
       "      <td>0.224227</td>\n",
       "      <td>0.006657</td>\n",
       "      <td>38</td>\n",
       "      <td>0.142555</td>\n",
       "    </tr>\n",
       "    <tr>\n",
       "      <th>605</th>\n",
       "      <td>Lion Roaring Sequence_19</td>\n",
       "      <td>41</td>\n",
       "      <td>101920</td>\n",
       "      <td>0.770082</td>\n",
       "      <td>0.066351</td>\n",
       "      <td>5470.756098</td>\n",
       "      <td>490.878049</td>\n",
       "      <td>-5.330621</td>\n",
       "      <td>3146.517969</td>\n",
       "      <td>5.418606</td>\n",
       "      <td>19.120536</td>\n",
       "      <td>0.744117</td>\n",
       "      <td>0.200815</td>\n",
       "      <td>-0.008008</td>\n",
       "      <td>79</td>\n",
       "      <td>0.081159</td>\n",
       "    </tr>\n",
       "  </tbody>\n",
       "</table>\n",
       "<p>606 rows × 16 columns</p>\n",
       "</div>"
      ],
      "text/plain": [
       "                     File Name  Duration_in_Sec  Zero_Crossings  Amp_range  \\\n",
       "0    Acinonyx_jubatus_S0612_02                1             706   0.083313   \n",
       "1    Acinonyx_jubatus_S0612_02                4            3456   0.296424   \n",
       "2    Acinonyx_jubatus_S0612_02                5            2984   0.171860   \n",
       "3    Acinonyx_jubatus_S0612_02                5            3108   0.243933   \n",
       "4    Acinonyx_jubatus_S0612_02                3            1919   0.194653   \n",
       "..                         ...              ...             ...        ...   \n",
       "601   Lion Roaring Sequence_17               40           22436   0.652970   \n",
       "602   Lion Roaring Sequence_18               45          127303   1.039453   \n",
       "603   Lion Roaring Sequence_18               17           32072   1.021872   \n",
       "604   Lion Roaring Sequence_19               19           23112   0.747216   \n",
       "605   Lion Roaring Sequence_19               41          101920   0.770082   \n",
       "\n",
       "      Avg_amp    Freq_range  Pulses_per_Sec  Mean_MFCC  Mean_Spectral Rolloff  \\\n",
       "0    0.015951    848.000000      263.000000  -3.270038            1526.165771   \n",
       "1    0.035485   3645.500000      452.250000  -2.419156            1377.502653   \n",
       "2    0.022913   2181.800000      308.000000  -2.863807            1011.861165   \n",
       "3    0.023587   3437.000000      314.000000  -3.096756            1207.803345   \n",
       "4    0.029304   2189.000000      331.000000  -2.780607             942.326097   \n",
       "..        ...           ...             ...        ...                    ...   \n",
       "601  0.073732  10092.625000      295.250000  -4.387553            1458.415228   \n",
       "602  0.117559  10681.044444     1159.066667  -5.522057            4116.969550   \n",
       "603  0.181167  10494.470588      898.411765  -3.991339            3033.963691   \n",
       "604  0.123384   5462.315789      315.631579  -5.297592            2002.811373   \n",
       "605  0.066351   5470.756098      490.878049  -5.330621            3146.517969   \n",
       "\n",
       "     Mean_Melspectrogram  Mean_Spectral Contrast  Mean_Chromagram  \\\n",
       "0               0.101744               18.307605         0.734437   \n",
       "1               0.625990               18.523777         0.682254   \n",
       "2               0.214492               18.676903         0.664394   \n",
       "3               0.279397               18.298732         0.731459   \n",
       "4               0.370894               18.787422         0.632496   \n",
       "..                   ...                     ...              ...   \n",
       "601             3.050521               20.184006         0.580697   \n",
       "602            12.378446               20.695561         0.593314   \n",
       "603            24.540840               20.218510         0.616647   \n",
       "604             9.278934               21.174380         0.515771   \n",
       "605             5.418606               19.120536         0.744117   \n",
       "\n",
       "     Mean_Tempogram  Mean_Tonnetz  Partials  Mean RMS  \n",
       "0          0.117970     -0.008915         2  0.019846  \n",
       "1          0.112089     -0.009319        21  0.043695  \n",
       "2          0.211802      0.006031         8  0.028763  \n",
       "3          0.147876      0.003965        11  0.028987  \n",
       "4          0.193519      0.001523         5  0.037000  \n",
       "..              ...           ...       ...       ...  \n",
       "601        0.190296     -0.000172        85  0.088674  \n",
       "602        0.184751      0.001714       139  0.141392  \n",
       "603        0.182995     -0.004780        98  0.219604  \n",
       "604        0.224227      0.006657        38  0.142555  \n",
       "605        0.200815     -0.008008        79  0.081159  \n",
       "\n",
       "[606 rows x 16 columns]"
      ]
     },
     "execution_count": 2,
     "metadata": {},
     "output_type": "execute_result"
    }
   ],
   "source": [
    "df_raw = pd.read_csv('features.csv').drop(['Sex','Age', 'Species', 'Call'], axis=1)\n",
    "df_raw"
   ]
  },
  {
   "cell_type": "code",
   "execution_count": 3,
   "metadata": {},
   "outputs": [
    {
     "data": {
      "text/html": [
       "<div>\n",
       "<style scoped>\n",
       "    .dataframe tbody tr th:only-of-type {\n",
       "        vertical-align: middle;\n",
       "    }\n",
       "\n",
       "    .dataframe tbody tr th {\n",
       "        vertical-align: top;\n",
       "    }\n",
       "\n",
       "    .dataframe thead th {\n",
       "        text-align: right;\n",
       "    }\n",
       "</style>\n",
       "<table border=\"1\" class=\"dataframe\">\n",
       "  <thead>\n",
       "    <tr style=\"text-align: right;\">\n",
       "      <th></th>\n",
       "      <th>File Name</th>\n",
       "      <th>Duration_in_Sec</th>\n",
       "      <th>Zero_Crossings</th>\n",
       "      <th>Amp_range</th>\n",
       "      <th>Avg_amp</th>\n",
       "      <th>Freq_range</th>\n",
       "      <th>Pulses_per_Sec</th>\n",
       "      <th>Mean_MFCC</th>\n",
       "      <th>Mean_Spectral Rolloff</th>\n",
       "      <th>Mean_Melspectrogram</th>\n",
       "      <th>Mean_Spectral Contrast</th>\n",
       "      <th>Mean_Chromagram</th>\n",
       "      <th>Mean_Tempogram</th>\n",
       "      <th>Mean_Tonnetz</th>\n",
       "      <th>Partials</th>\n",
       "      <th>Mean RMS</th>\n",
       "      <th>Sex</th>\n",
       "      <th>Age</th>\n",
       "      <th>Species</th>\n",
       "      <th>Call</th>\n",
       "    </tr>\n",
       "  </thead>\n",
       "  <tbody>\n",
       "    <tr>\n",
       "      <th>0</th>\n",
       "      <td>Acinonyx_jubatus_S0612_02</td>\n",
       "      <td>-0.605682</td>\n",
       "      <td>-0.601727</td>\n",
       "      <td>-0.652219</td>\n",
       "      <td>-0.302150</td>\n",
       "      <td>-1.253581</td>\n",
       "      <td>-0.627236</td>\n",
       "      <td>0.821527</td>\n",
       "      <td>-1.137651</td>\n",
       "      <td>-0.238886</td>\n",
       "      <td>-0.135234</td>\n",
       "      <td>0.330343</td>\n",
       "      <td>-0.822152</td>\n",
       "      <td>-0.922610</td>\n",
       "      <td>-0.424178</td>\n",
       "      <td>-0.316481</td>\n",
       "      <td>Unknown</td>\n",
       "      <td>Adult</td>\n",
       "      <td>A. jubatus</td>\n",
       "      <td>growl</td>\n",
       "    </tr>\n",
       "    <tr>\n",
       "      <th>1</th>\n",
       "      <td>Acinonyx_jubatus_S0612_02</td>\n",
       "      <td>-0.218505</td>\n",
       "      <td>-0.430594</td>\n",
       "      <td>0.216786</td>\n",
       "      <td>0.373251</td>\n",
       "      <td>-0.399175</td>\n",
       "      <td>-0.335683</td>\n",
       "      <td>1.097614</td>\n",
       "      <td>-1.213548</td>\n",
       "      <td>-0.057318</td>\n",
       "      <td>0.016933</td>\n",
       "      <td>-0.257340</td>\n",
       "      <td>-0.923002</td>\n",
       "      <td>-0.954407</td>\n",
       "      <td>0.291424</td>\n",
       "      <td>0.336062</td>\n",
       "      <td>Unknown</td>\n",
       "      <td>Adult</td>\n",
       "      <td>A. jubatus</td>\n",
       "      <td>NaN</td>\n",
       "    </tr>\n",
       "    <tr>\n",
       "      <th>2</th>\n",
       "      <td>Acinonyx_jubatus_S0612_02</td>\n",
       "      <td>-0.089447</td>\n",
       "      <td>-0.459967</td>\n",
       "      <td>-0.291151</td>\n",
       "      <td>-0.061413</td>\n",
       "      <td>-0.846215</td>\n",
       "      <td>-0.557911</td>\n",
       "      <td>0.953337</td>\n",
       "      <td>-1.400217</td>\n",
       "      <td>-0.199837</td>\n",
       "      <td>0.124721</td>\n",
       "      <td>-0.458477</td>\n",
       "      <td>0.787031</td>\n",
       "      <td>0.254189</td>\n",
       "      <td>-0.198198</td>\n",
       "      <td>-0.072508</td>\n",
       "      <td>Unknown</td>\n",
       "      <td>Adult</td>\n",
       "      <td>A. jubatus</td>\n",
       "      <td>growl</td>\n",
       "    </tr>\n",
       "    <tr>\n",
       "      <th>3</th>\n",
       "      <td>Acinonyx_jubatus_S0612_02</td>\n",
       "      <td>-0.089447</td>\n",
       "      <td>-0.452250</td>\n",
       "      <td>0.002743</td>\n",
       "      <td>-0.038130</td>\n",
       "      <td>-0.462855</td>\n",
       "      <td>-0.548667</td>\n",
       "      <td>0.877752</td>\n",
       "      <td>-1.300183</td>\n",
       "      <td>-0.177357</td>\n",
       "      <td>-0.141480</td>\n",
       "      <td>0.296804</td>\n",
       "      <td>-0.309274</td>\n",
       "      <td>0.091535</td>\n",
       "      <td>-0.085208</td>\n",
       "      <td>-0.066355</td>\n",
       "      <td>Unknown</td>\n",
       "      <td>Adult</td>\n",
       "      <td>A. jubatus</td>\n",
       "      <td>NaN</td>\n",
       "    </tr>\n",
       "    <tr>\n",
       "      <th>4</th>\n",
       "      <td>Acinonyx_jubatus_S0612_02</td>\n",
       "      <td>-0.347564</td>\n",
       "      <td>-0.526242</td>\n",
       "      <td>-0.198208</td>\n",
       "      <td>0.159550</td>\n",
       "      <td>-0.844016</td>\n",
       "      <td>-0.522477</td>\n",
       "      <td>0.980334</td>\n",
       "      <td>-1.435716</td>\n",
       "      <td>-0.145668</td>\n",
       "      <td>0.202517</td>\n",
       "      <td>-0.817708</td>\n",
       "      <td>0.473492</td>\n",
       "      <td>-0.100777</td>\n",
       "      <td>-0.311188</td>\n",
       "      <td>0.152876</td>\n",
       "      <td>Unknown</td>\n",
       "      <td>Adult</td>\n",
       "      <td>A. jubatus</td>\n",
       "      <td>growl</td>\n",
       "    </tr>\n",
       "    <tr>\n",
       "      <th>...</th>\n",
       "      <td>...</td>\n",
       "      <td>...</td>\n",
       "      <td>...</td>\n",
       "      <td>...</td>\n",
       "      <td>...</td>\n",
       "      <td>...</td>\n",
       "      <td>...</td>\n",
       "      <td>...</td>\n",
       "      <td>...</td>\n",
       "      <td>...</td>\n",
       "      <td>...</td>\n",
       "      <td>...</td>\n",
       "      <td>...</td>\n",
       "      <td>...</td>\n",
       "      <td>...</td>\n",
       "      <td>...</td>\n",
       "      <td>...</td>\n",
       "      <td>...</td>\n",
       "      <td>...</td>\n",
       "      <td>...</td>\n",
       "    </tr>\n",
       "    <tr>\n",
       "      <th>601</th>\n",
       "      <td>Lion Roaring Sequence_17</td>\n",
       "      <td>4.427611</td>\n",
       "      <td>0.750531</td>\n",
       "      <td>1.670677</td>\n",
       "      <td>1.695678</td>\n",
       "      <td>1.569890</td>\n",
       "      <td>-0.577553</td>\n",
       "      <td>0.458927</td>\n",
       "      <td>-1.172240</td>\n",
       "      <td>0.782396</td>\n",
       "      <td>1.185597</td>\n",
       "      <td>-1.401070</td>\n",
       "      <td>0.418225</td>\n",
       "      <td>-0.234203</td>\n",
       "      <td>2.701873</td>\n",
       "      <td>1.566768</td>\n",
       "      <td>Male</td>\n",
       "      <td>Adult</td>\n",
       "      <td>Lion</td>\n",
       "      <td>roar</td>\n",
       "    </tr>\n",
       "    <tr>\n",
       "      <th>602</th>\n",
       "      <td>Lion Roaring Sequence_18</td>\n",
       "      <td>5.072905</td>\n",
       "      <td>7.276403</td>\n",
       "      <td>3.246647</td>\n",
       "      <td>3.211052</td>\n",
       "      <td>1.749604</td>\n",
       "      <td>0.753217</td>\n",
       "      <td>0.090813</td>\n",
       "      <td>0.185017</td>\n",
       "      <td>4.013036</td>\n",
       "      <td>1.545689</td>\n",
       "      <td>-1.258973</td>\n",
       "      <td>0.323122</td>\n",
       "      <td>-0.085715</td>\n",
       "      <td>4.735690</td>\n",
       "      <td>3.009221</td>\n",
       "      <td>Male</td>\n",
       "      <td>Adult</td>\n",
       "      <td>Lion</td>\n",
       "      <td>roar</td>\n",
       "    </tr>\n",
       "    <tr>\n",
       "      <th>603</th>\n",
       "      <td>Lion Roaring Sequence_18</td>\n",
       "      <td>1.459259</td>\n",
       "      <td>1.350179</td>\n",
       "      <td>3.174955</td>\n",
       "      <td>5.410373</td>\n",
       "      <td>1.692621</td>\n",
       "      <td>0.351660</td>\n",
       "      <td>0.587486</td>\n",
       "      <td>-0.367884</td>\n",
       "      <td>8.225368</td>\n",
       "      <td>1.209885</td>\n",
       "      <td>-0.996199</td>\n",
       "      <td>0.293001</td>\n",
       "      <td>-0.597020</td>\n",
       "      <td>3.191496</td>\n",
       "      <td>5.149242</td>\n",
       "      <td>Male</td>\n",
       "      <td>Adult</td>\n",
       "      <td>Lion</td>\n",
       "      <td>roar</td>\n",
       "    </tr>\n",
       "    <tr>\n",
       "      <th>604</th>\n",
       "      <td>Lion Roaring Sequence_19</td>\n",
       "      <td>1.717376</td>\n",
       "      <td>0.792598</td>\n",
       "      <td>2.054986</td>\n",
       "      <td>3.412455</td>\n",
       "      <td>0.155712</td>\n",
       "      <td>-0.546154</td>\n",
       "      <td>0.163645</td>\n",
       "      <td>-0.894312</td>\n",
       "      <td>2.939548</td>\n",
       "      <td>1.882738</td>\n",
       "      <td>-2.132262</td>\n",
       "      <td>1.000131</td>\n",
       "      <td>0.303535</td>\n",
       "      <td>0.931700</td>\n",
       "      <td>3.041052</td>\n",
       "      <td>Male</td>\n",
       "      <td>Adult</td>\n",
       "      <td>Lion</td>\n",
       "      <td>roar</td>\n",
       "    </tr>\n",
       "    <tr>\n",
       "      <th>605</th>\n",
       "      <td>Lion Roaring Sequence_19</td>\n",
       "      <td>4.556670</td>\n",
       "      <td>5.696819</td>\n",
       "      <td>2.148230</td>\n",
       "      <td>1.440493</td>\n",
       "      <td>0.158290</td>\n",
       "      <td>-0.276174</td>\n",
       "      <td>0.152928</td>\n",
       "      <td>-0.310422</td>\n",
       "      <td>1.602560</td>\n",
       "      <td>0.437002</td>\n",
       "      <td>0.439353</td>\n",
       "      <td>0.598617</td>\n",
       "      <td>-0.851177</td>\n",
       "      <td>2.475894</td>\n",
       "      <td>1.361157</td>\n",
       "      <td>Male</td>\n",
       "      <td>Adult</td>\n",
       "      <td>Lion</td>\n",
       "      <td>roar</td>\n",
       "    </tr>\n",
       "  </tbody>\n",
       "</table>\n",
       "<p>606 rows × 20 columns</p>\n",
       "</div>"
      ],
      "text/plain": [
       "                     File Name  Duration_in_Sec  Zero_Crossings  Amp_range  \\\n",
       "0    Acinonyx_jubatus_S0612_02        -0.605682       -0.601727  -0.652219   \n",
       "1    Acinonyx_jubatus_S0612_02        -0.218505       -0.430594   0.216786   \n",
       "2    Acinonyx_jubatus_S0612_02        -0.089447       -0.459967  -0.291151   \n",
       "3    Acinonyx_jubatus_S0612_02        -0.089447       -0.452250   0.002743   \n",
       "4    Acinonyx_jubatus_S0612_02        -0.347564       -0.526242  -0.198208   \n",
       "..                         ...              ...             ...        ...   \n",
       "601   Lion Roaring Sequence_17         4.427611        0.750531   1.670677   \n",
       "602   Lion Roaring Sequence_18         5.072905        7.276403   3.246647   \n",
       "603   Lion Roaring Sequence_18         1.459259        1.350179   3.174955   \n",
       "604   Lion Roaring Sequence_19         1.717376        0.792598   2.054986   \n",
       "605   Lion Roaring Sequence_19         4.556670        5.696819   2.148230   \n",
       "\n",
       "      Avg_amp  Freq_range  Pulses_per_Sec  Mean_MFCC  Mean_Spectral Rolloff  \\\n",
       "0   -0.302150   -1.253581       -0.627236   0.821527              -1.137651   \n",
       "1    0.373251   -0.399175       -0.335683   1.097614              -1.213548   \n",
       "2   -0.061413   -0.846215       -0.557911   0.953337              -1.400217   \n",
       "3   -0.038130   -0.462855       -0.548667   0.877752              -1.300183   \n",
       "4    0.159550   -0.844016       -0.522477   0.980334              -1.435716   \n",
       "..        ...         ...             ...        ...                    ...   \n",
       "601  1.695678    1.569890       -0.577553   0.458927              -1.172240   \n",
       "602  3.211052    1.749604        0.753217   0.090813               0.185017   \n",
       "603  5.410373    1.692621        0.351660   0.587486              -0.367884   \n",
       "604  3.412455    0.155712       -0.546154   0.163645              -0.894312   \n",
       "605  1.440493    0.158290       -0.276174   0.152928              -0.310422   \n",
       "\n",
       "     Mean_Melspectrogram  Mean_Spectral Contrast  Mean_Chromagram  \\\n",
       "0              -0.238886               -0.135234         0.330343   \n",
       "1              -0.057318                0.016933        -0.257340   \n",
       "2              -0.199837                0.124721        -0.458477   \n",
       "3              -0.177357               -0.141480         0.296804   \n",
       "4              -0.145668                0.202517        -0.817708   \n",
       "..                   ...                     ...              ...   \n",
       "601             0.782396                1.185597        -1.401070   \n",
       "602             4.013036                1.545689        -1.258973   \n",
       "603             8.225368                1.209885        -0.996199   \n",
       "604             2.939548                1.882738        -2.132262   \n",
       "605             1.602560                0.437002         0.439353   \n",
       "\n",
       "     Mean_Tempogram  Mean_Tonnetz  Partials  Mean RMS      Sex    Age  \\\n",
       "0         -0.822152     -0.922610 -0.424178 -0.316481  Unknown  Adult   \n",
       "1         -0.923002     -0.954407  0.291424  0.336062  Unknown  Adult   \n",
       "2          0.787031      0.254189 -0.198198 -0.072508  Unknown  Adult   \n",
       "3         -0.309274      0.091535 -0.085208 -0.066355  Unknown  Adult   \n",
       "4          0.473492     -0.100777 -0.311188  0.152876  Unknown  Adult   \n",
       "..              ...           ...       ...       ...      ...    ...   \n",
       "601        0.418225     -0.234203  2.701873  1.566768     Male  Adult   \n",
       "602        0.323122     -0.085715  4.735690  3.009221     Male  Adult   \n",
       "603        0.293001     -0.597020  3.191496  5.149242     Male  Adult   \n",
       "604        1.000131      0.303535  0.931700  3.041052     Male  Adult   \n",
       "605        0.598617     -0.851177  2.475894  1.361157     Male  Adult   \n",
       "\n",
       "        Species   Call  \n",
       "0    A. jubatus  growl  \n",
       "1    A. jubatus    NaN  \n",
       "2    A. jubatus  growl  \n",
       "3    A. jubatus    NaN  \n",
       "4    A. jubatus  growl  \n",
       "..          ...    ...  \n",
       "601        Lion   roar  \n",
       "602        Lion   roar  \n",
       "603        Lion   roar  \n",
       "604        Lion   roar  \n",
       "605        Lion   roar  \n",
       "\n",
       "[606 rows x 20 columns]"
      ]
     },
     "execution_count": 3,
     "metadata": {},
     "output_type": "execute_result"
    }
   ],
   "source": [
    "df = pd.read_csv('features_cleaned.csv')\n",
    "df"
   ]
  },
  {
   "cell_type": "code",
   "execution_count": 4,
   "metadata": {},
   "outputs": [
    {
     "data": {
      "text/plain": [
       "(606, 20)"
      ]
     },
     "execution_count": 4,
     "metadata": {},
     "output_type": "execute_result"
    }
   ],
   "source": [
    "df.shape"
   ]
  },
  {
   "cell_type": "code",
   "execution_count": 5,
   "metadata": {},
   "outputs": [],
   "source": [
    "\"Pull records containing 'Clouded leopard','Jaguar','Leopard','Lion' but not Snow Leopard due to unbalanced data\"\n",
    "\n",
    "df = df[df.Species.isin(['Clouded leopard','Jaguar','Leopard','Lion'])]\n",
    "\n",
    "\"Remove records with mew, hiss, puff\"\n",
    "df = df[df.Call.isin(['roar','prusten','growl'])]"
   ]
  },
  {
   "cell_type": "code",
   "execution_count": 6,
   "metadata": {},
   "outputs": [
    {
     "data": {
      "text/plain": [
       "(125, 20)"
      ]
     },
     "execution_count": 6,
     "metadata": {},
     "output_type": "execute_result"
    }
   ],
   "source": [
    "df.shape"
   ]
  },
  {
   "cell_type": "code",
   "execution_count": 7,
   "metadata": {},
   "outputs": [
    {
     "data": {
      "text/plain": [
       "Index(['File Name', 'Duration_in_Sec', 'Zero_Crossings', 'Amp_range',\n",
       "       'Avg_amp', 'Freq_range', 'Pulses_per_Sec', 'Mean_MFCC',\n",
       "       'Mean_Spectral Rolloff', 'Mean_Melspectrogram',\n",
       "       'Mean_Spectral Contrast', 'Mean_Chromagram', 'Mean_Tempogram',\n",
       "       'Mean_Tonnetz', 'Partials', 'Mean RMS', 'Sex', 'Age', 'Species',\n",
       "       'Call'],\n",
       "      dtype='object')"
      ]
     },
     "execution_count": 7,
     "metadata": {},
     "output_type": "execute_result"
    }
   ],
   "source": [
    "df.columns"
   ]
  },
  {
   "cell_type": "code",
   "execution_count": 8,
   "metadata": {},
   "outputs": [],
   "source": [
    "X = df[pd.notnull(df['Call'])][['Partials', 'Zero_Crossings', 'Duration_in_Sec', 'Amp_range', 'Avg_amp',\n",
    "       'Freq_range', 'Pulses_per_Sec', 'Mean_MFCC', 'Mean_Spectral Rolloff',\n",
    "'Mean_Melspectrogram', 'Mean_Spectral Contrast', 'Mean_Chromagram', 'Mean_Tempogram']]\n",
    "y = df[pd.notnull(df['Call'])][['Call','Species']]"
   ]
  },
  {
   "cell_type": "code",
   "execution_count": 9,
   "metadata": {},
   "outputs": [],
   "source": [
    "X_train, X_test, y_train, y_test = train_test_split(X, y, test_size = 0.30, random_state=42)"
   ]
  },
  {
   "cell_type": "code",
   "execution_count": 10,
   "metadata": {
    "scrolled": true
   },
   "outputs": [
    {
     "name": "stdout",
     "output_type": "stream",
     "text": [
      "(87, 13)\n",
      "(38, 13)\n",
      "(87, 2)\n",
      "(38, 2)\n"
     ]
    }
   ],
   "source": [
    "print(X_train.shape)\n",
    "print(X_test.shape)\n",
    "print(y_train.shape)\n",
    "print(y_test.shape)"
   ]
  },
  {
   "cell_type": "code",
   "execution_count": 11,
   "metadata": {},
   "outputs": [
    {
     "name": "stdout",
     "output_type": "stream",
     "text": [
      "Total Call Values\n",
      "roar       65\n",
      "prusten    40\n",
      "growl      20\n",
      "Name: Call, dtype: int64\n",
      "\n",
      "\n",
      "Call values for Training\n",
      "roar       46\n",
      "prusten    26\n",
      "growl      15\n",
      "Name: Call, dtype: int64\n",
      "\n",
      "\n",
      "Call values for Testing\n",
      "roar       19\n",
      "prusten    14\n",
      "growl       5\n",
      "Name: Call, dtype: int64\n"
     ]
    }
   ],
   "source": [
    "print('Total Call Values')\n",
    "print(df['Call'].value_counts())\n",
    "print('\\n')\n",
    "print('Call values for Training')\n",
    "print(y_train.Call.value_counts())\n",
    "print('\\n')\n",
    "print('Call values for Testing')\n",
    "print(y_test.Call.value_counts())"
   ]
  },
  {
   "cell_type": "code",
   "execution_count": 12,
   "metadata": {},
   "outputs": [
    {
     "name": "stdout",
     "output_type": "stream",
     "text": [
      "Calls trained for but not tested for\n",
      "set()\n",
      "Calls test for but not trained for\n",
      "set()\n"
     ]
    }
   ],
   "source": [
    "print('Calls trained for but not tested for')\n",
    "print(set(np.unique(y_train.Call))-set(np.unique(y_test.Call)))\n",
    "print('Calls test for but not trained for')\n",
    "print(set(np.unique(y_test.Call))-set(np.unique(y_train.Call)))"
   ]
  },
  {
   "cell_type": "code",
   "execution_count": 13,
   "metadata": {},
   "outputs": [
    {
     "name": "stdout",
     "output_type": "stream",
     "text": [
      "Total Species values\n",
      "Leopard            41\n",
      "Lion               33\n",
      "Clouded leopard    29\n",
      "Jaguar             22\n",
      "Name: Species, dtype: int64\n",
      "\n",
      "\n",
      "Species values for Training\n",
      "Leopard            30\n",
      "Lion               25\n",
      "Clouded leopard    17\n",
      "Jaguar             15\n",
      "Name: Species, dtype: int64\n",
      "\n",
      "\n",
      "Species values for Testing\n",
      "Clouded leopard    12\n",
      "Leopard            11\n",
      "Lion                8\n",
      "Jaguar              7\n",
      "Name: Species, dtype: int64\n"
     ]
    }
   ],
   "source": [
    "print('Total Species values')\n",
    "print(df['Species'].value_counts())\n",
    "print('\\n')\n",
    "print('Species values for Training')\n",
    "print(y_train.Species.value_counts())\n",
    "print('\\n')\n",
    "print('Species values for Testing')\n",
    "print(y_test.Species.value_counts())"
   ]
  },
  {
   "cell_type": "code",
   "execution_count": 14,
   "metadata": {},
   "outputs": [
    {
     "name": "stdout",
     "output_type": "stream",
     "text": [
      "Species trained for but not tested for\n",
      "set()\n",
      "Species test for but not trained for\n",
      "set()\n"
     ]
    }
   ],
   "source": [
    "print('Species trained for but not tested for')\n",
    "print(set(np.unique(y_train.Species))-set(np.unique(y_test.Species)))\n",
    "print('Species test for but not trained for')\n",
    "print(set(np.unique(y_test.Species))-set(np.unique(y_train.Species)))"
   ]
  },
  {
   "cell_type": "markdown",
   "metadata": {},
   "source": [
    "# Vocalization Classification"
   ]
  },
  {
   "cell_type": "markdown",
   "metadata": {},
   "source": [
    "## Splitting data"
   ]
  },
  {
   "cell_type": "code",
   "execution_count": 15,
   "metadata": {},
   "outputs": [],
   "source": [
    "y_train1 = y_train.Call\n",
    "y_test1 = y_test.Call"
   ]
  },
  {
   "cell_type": "markdown",
   "metadata": {},
   "source": [
    "## LightGBM"
   ]
  },
  {
   "cell_type": "code",
   "execution_count": 16,
   "metadata": {},
   "outputs": [
    {
     "data": {
      "text/plain": [
       "LGBMClassifier()"
      ]
     },
     "execution_count": 16,
     "metadata": {},
     "output_type": "execute_result"
    }
   ],
   "source": [
    "import lightgbm as lgb\n",
    "lgb1 = lgb.LGBMClassifier()\n",
    "lgb1.fit(X_train, y_train1)"
   ]
  },
  {
   "cell_type": "code",
   "execution_count": 17,
   "metadata": {},
   "outputs": [
    {
     "data": {
      "text/plain": [
       "0.9210526315789473"
      ]
     },
     "execution_count": 17,
     "metadata": {},
     "output_type": "execute_result"
    }
   ],
   "source": [
    "lgb1.score(X_test,y_test1)"
   ]
  },
  {
   "cell_type": "markdown",
   "metadata": {},
   "source": [
    "## XGBoost"
   ]
  },
  {
   "cell_type": "code",
   "execution_count": 18,
   "metadata": {},
   "outputs": [],
   "source": [
    "parameters = dict(\n",
    "    objective='multi:softprob',\n",
    "    random_state = 30,\n",
    "    max_depth=9,\n",
    "    learning_rate=0.01,\n",
    "    subsample=0.8,\n",
    "    colsample_bytree=0.4,\n",
    "    tree_method='gpu_hist')\n",
    "\n",
    "\n",
    "clf1 = XGBClassifier(**parameters, n_estimators=1200)"
   ]
  },
  {
   "cell_type": "code",
   "execution_count": 19,
   "metadata": {},
   "outputs": [
    {
     "name": "stdout",
     "output_type": "stream",
     "text": [
      "[21:33:53] WARNING: C:/Users/Administrator/workspace/xgboost-win64_release_1.4.0/src/learner.cc:1095: Starting in XGBoost 1.3.0, the default evaluation metric used with the objective 'multi:softprob' was changed from 'merror' to 'mlogloss'. Explicitly set eval_metric if you'd like to restore the old behavior.\n"
     ]
    },
    {
     "data": {
      "text/plain": [
       "XGBClassifier(base_score=0.5, booster='gbtree', colsample_bylevel=1,\n",
       "              colsample_bynode=1, colsample_bytree=0.4, gamma=0, gpu_id=0,\n",
       "              importance_type='gain', interaction_constraints='',\n",
       "              learning_rate=0.01, max_delta_step=0, max_depth=9,\n",
       "              min_child_weight=1, missing=nan, monotone_constraints='()',\n",
       "              n_estimators=1200, n_jobs=12, num_parallel_tree=1,\n",
       "              objective='multi:softprob', random_state=30, reg_alpha=0,\n",
       "              reg_lambda=1, scale_pos_weight=None, subsample=0.8,\n",
       "              tree_method='gpu_hist', validate_parameters=1, verbosity=None)"
      ]
     },
     "execution_count": 19,
     "metadata": {},
     "output_type": "execute_result"
    }
   ],
   "source": [
    "clf1.fit(X_train, y_train1)"
   ]
  },
  {
   "cell_type": "code",
   "execution_count": 20,
   "metadata": {},
   "outputs": [
    {
     "data": {
      "text/plain": [
       "0.9210526315789473"
      ]
     },
     "execution_count": 20,
     "metadata": {},
     "output_type": "execute_result"
    }
   ],
   "source": [
    "clf1.score(X_test,y_test1)"
   ]
  },
  {
   "cell_type": "code",
   "execution_count": 21,
   "metadata": {},
   "outputs": [],
   "source": [
    "y_clf1 = clf1.predict(X_test)\n",
    "prob_clf1 = clf1.predict_proba(X_test)"
   ]
  },
  {
   "cell_type": "code",
   "execution_count": 22,
   "metadata": {},
   "outputs": [
    {
     "name": "stdout",
     "output_type": "stream",
     "text": [
      "1. Tested Calls\n",
      "['growl' 'prusten' 'roar']\n",
      "2. Predicted Calls\n",
      "['growl' 'prusten' 'roar']\n",
      "3. Not tested for but predicted\n",
      "set()\n",
      "4. Tested for but not predicted\n",
      "set()\n"
     ]
    }
   ],
   "source": [
    "print('1. Tested Calls')\n",
    "print(np.unique(y_test1))\n",
    "print('2. Predicted Calls')\n",
    "print(np.unique(y_clf1))\n",
    "print('3. Not tested for but predicted')\n",
    "print(set(np.unique(y_clf1))-set(np.unique(y_test1)))\n",
    "print('4. Tested for but not predicted')\n",
    "print(set(np.unique(y_test1))-set(np.unique(y_clf1)))"
   ]
  },
  {
   "cell_type": "code",
   "execution_count": 23,
   "metadata": {},
   "outputs": [
    {
     "name": "stdout",
     "output_type": "stream",
     "text": [
      "Accuracy 0.9210526315789473\n"
     ]
    },
    {
     "data": {
      "image/png": "[encoded data removed]",
      "text/plain": [
       "<Figure size 432x288 with 2 Axes>"
      ]
     },
     "metadata": {
      "needs_background": "light"
     },
     "output_type": "display_data"
    }
   ],
   "source": [
    "names = sorted(list(set(np.unique(y_test1)).union(set(y_clf1))))\n",
    "\n",
    "print('Accuracy',clf1.score(X_test, y_test1))\n",
    "\n",
    "cnf = confusion_matrix(y_test1, y_clf1)\n",
    "fig, ax = plt.subplots()\n",
    "tick_marks = np.arange(len(names))\n",
    "sns.heatmap(cnf, annot = True, xticklabels = names, cmap= \"YlGnBu\", yticklabels = names)\n",
    "ax.xaxis.set_label_position('top')\n",
    "plt.title('XGBoost Confusion Matrix')\n",
    "plt.ylabel('Actual label')\n",
    "plt.xlabel('Predicted label')\n",
    "plt.show()"
   ]
  },
  {
   "cell_type": "code",
   "execution_count": 24,
   "metadata": {},
   "outputs": [
    {
     "data": {
      "image/png": "[encoded data removed]",
      "text/plain": [
       "<Figure size 432x288 with 1 Axes>"
      ]
     },
     "metadata": {
      "needs_background": "light"
     },
     "output_type": "display_data"
    }
   ],
   "source": [
    "plot_importance(clf1)\n",
    "figsize=(5,10)\n",
    "plt.savefig('Feature Importance in Call Classification With XGB.png')"
   ]
  },
  {
   "cell_type": "markdown",
   "metadata": {},
   "source": [
    "## SVM"
   ]
  },
  {
   "cell_type": "code",
   "execution_count": 25,
   "metadata": {},
   "outputs": [],
   "source": [
    "svm1 = SVC(probability=True)"
   ]
  },
  {
   "cell_type": "code",
   "execution_count": 26,
   "metadata": {},
   "outputs": [
    {
     "data": {
      "text/plain": [
       "SVC(probability=True)"
      ]
     },
     "execution_count": 26,
     "metadata": {},
     "output_type": "execute_result"
    }
   ],
   "source": [
    "svm1.fit(X_train, y_train1)"
   ]
  },
  {
   "cell_type": "code",
   "execution_count": 27,
   "metadata": {},
   "outputs": [
    {
     "data": {
      "text/plain": [
       "0.9210526315789473"
      ]
     },
     "execution_count": 27,
     "metadata": {},
     "output_type": "execute_result"
    }
   ],
   "source": [
    "svm1.score(X_test, y_test1)"
   ]
  },
  {
   "cell_type": "code",
   "execution_count": 28,
   "metadata": {},
   "outputs": [],
   "source": [
    "y_svm1 = svm1.predict(X_test)\n",
    "prob_svm1 = svm1.predict_proba(X_test)"
   ]
  },
  {
   "cell_type": "code",
   "execution_count": 29,
   "metadata": {},
   "outputs": [
    {
     "name": "stdout",
     "output_type": "stream",
     "text": [
      "1. Tested Calls\n",
      "['growl' 'prusten' 'roar']\n",
      "2. Predicted Calls\n",
      "['growl' 'prusten' 'roar']\n",
      "3. False Positive\n",
      "set()\n",
      "4. False Negative\n",
      "set()\n"
     ]
    }
   ],
   "source": [
    "print('1. Tested Calls')\n",
    "print(np.unique(y_test1))\n",
    "print('2. Predicted Calls')\n",
    "print(np.unique(y_svm1))\n",
    "print('3. False Positive')\n",
    "print(set(np.unique(y_svm1))-set(np.unique(y_test1)))\n",
    "print('4. False Negative')\n",
    "print(set(np.unique(y_test1))-set(np.unique(y_svm1)))"
   ]
  },
  {
   "cell_type": "code",
   "execution_count": 30,
   "metadata": {
    "scrolled": true
   },
   "outputs": [
    {
     "name": "stdout",
     "output_type": "stream",
     "text": [
      "Accuracy 0.9210526315789473\n"
     ]
    },
    {
     "data": {
      "image/png": "[encoded data removed]",
      "text/plain": [
       "<Figure size 432x288 with 2 Axes>"
      ]
     },
     "metadata": {
      "needs_background": "light"
     },
     "output_type": "display_data"
    }
   ],
   "source": [
    "names = sorted(list(set(np.unique(y_test1)).union(set(y_svm1))))\n",
    "\n",
    "print('Accuracy',svm1.score(X_test, y_test1))\n",
    "\n",
    "cnf = confusion_matrix(y_test1, y_svm1)\n",
    "fig, ax = plt.subplots()\n",
    "tick_marks = np.arange(len(names))\n",
    "sns.heatmap(cnf, annot = True, xticklabels = names, cmap= \"YlGnBu\", yticklabels = names)\n",
    "ax.xaxis.set_label_position('top')\n",
    "plt.title('SVM Confusion Matrix')\n",
    "plt.ylabel('Actual label')\n",
    "plt.xlabel('Predicted label')\n",
    "plt.show()"
   ]
  },
  {
   "cell_type": "markdown",
   "metadata": {},
   "source": [
    "## Logistic Regression"
   ]
  },
  {
   "cell_type": "code",
   "execution_count": 31,
   "metadata": {},
   "outputs": [],
   "source": [
    "lr1 = LogisticRegression(solver='liblinear', multi_class='ovr',class_weight=\"balanced\")"
   ]
  },
  {
   "cell_type": "code",
   "execution_count": 32,
   "metadata": {},
   "outputs": [
    {
     "data": {
      "text/plain": [
       "LogisticRegression(class_weight='balanced', multi_class='ovr',\n",
       "                   solver='liblinear')"
      ]
     },
     "execution_count": 32,
     "metadata": {},
     "output_type": "execute_result"
    }
   ],
   "source": [
    "lr1.fit(X_train,y_train1)"
   ]
  },
  {
   "cell_type": "code",
   "execution_count": 33,
   "metadata": {},
   "outputs": [
    {
     "data": {
      "text/plain": [
       "0.8947368421052632"
      ]
     },
     "execution_count": 33,
     "metadata": {},
     "output_type": "execute_result"
    }
   ],
   "source": [
    "lr1.score(X_test, y_test1)"
   ]
  },
  {
   "cell_type": "code",
   "execution_count": 34,
   "metadata": {},
   "outputs": [],
   "source": [
    "y_lr1 = lr1.predict(X_test)\n",
    "prob_lr1 = lr1.predict_proba(X_test)"
   ]
  },
  {
   "cell_type": "code",
   "execution_count": 35,
   "metadata": {},
   "outputs": [
    {
     "name": "stdout",
     "output_type": "stream",
     "text": [
      "1. Tested Calls\n",
      "['growl' 'prusten' 'roar']\n",
      "2. Predicted Calls\n",
      "['growl' 'prusten' 'roar']\n",
      "3. Not tested for but predicted\n",
      "set()\n",
      "4. Tested for but not predicted\n",
      "set()\n"
     ]
    }
   ],
   "source": [
    "print('1. Tested Calls')\n",
    "print(np.unique(y_test1))\n",
    "print('2. Predicted Calls')\n",
    "print(np.unique(y_lr1))\n",
    "print('3. Not tested for but predicted')\n",
    "print(set(np.unique(y_lr1))-set(np.unique(y_test1)))\n",
    "print('4. Tested for but not predicted')\n",
    "print(set(np.unique(y_test1))-set(np.unique(y_lr1)))"
   ]
  },
  {
   "cell_type": "code",
   "execution_count": 36,
   "metadata": {},
   "outputs": [
    {
     "name": "stdout",
     "output_type": "stream",
     "text": [
      "Accuracy 0.8947368421052632\n"
     ]
    },
    {
     "data": {
      "image/png": "[encoded data removed]",
      "text/plain": [
       "<Figure size 576x288 with 2 Axes>"
      ]
     },
     "metadata": {
      "needs_background": "light"
     },
     "output_type": "display_data"
    }
   ],
   "source": [
    "names_lr = sorted(list(set(np.unique(y_test1)).union(set(y_lr1))))\n",
    "cnf = confusion_matrix(y_test1, y_lr1)\n",
    "fig, ax = plt.subplots(figsize=(8,4))\n",
    "\n",
    "print('Accuracy',lr1.score(X_test, y_test1))\n",
    "\n",
    "sns.heatmap(cnf, annot=True, xticklabels=names_lr, yticklabels=names_lr,cmap= \"YlOrBr\")\n",
    "plt.title('Logistic Regression')\n",
    "ax.xaxis.set_label_position('top')\n",
    "plt.ylabel('Actual')\n",
    "plt.xlabel('Predicted')\n",
    "plt.show(block=False)"
   ]
  },
  {
   "cell_type": "markdown",
   "metadata": {},
   "source": [
    "## Decision Tree Classifier"
   ]
  },
  {
   "cell_type": "code",
   "execution_count": 37,
   "metadata": {},
   "outputs": [],
   "source": [
    "dt1 = DecisionTreeClassifier()"
   ]
  },
  {
   "cell_type": "code",
   "execution_count": 38,
   "metadata": {},
   "outputs": [
    {
     "data": {
      "text/plain": [
       "DecisionTreeClassifier()"
      ]
     },
     "execution_count": 38,
     "metadata": {},
     "output_type": "execute_result"
    }
   ],
   "source": [
    "dt1.fit(X_train, y_train1)"
   ]
  },
  {
   "cell_type": "code",
   "execution_count": 39,
   "metadata": {},
   "outputs": [
    {
     "data": {
      "text/plain": [
       "0.9210526315789473"
      ]
     },
     "execution_count": 39,
     "metadata": {},
     "output_type": "execute_result"
    }
   ],
   "source": [
    "dt1.score(X_test, y_test1)"
   ]
  },
  {
   "cell_type": "code",
   "execution_count": 40,
   "metadata": {},
   "outputs": [],
   "source": [
    "y_dt1 = dt1.predict(X_test)\n",
    "prob_dt1 = dt1.predict_proba(X_test)"
   ]
  },
  {
   "cell_type": "code",
   "execution_count": 41,
   "metadata": {},
   "outputs": [
    {
     "name": "stdout",
     "output_type": "stream",
     "text": [
      "1. Tested Calls\n",
      "['growl' 'prusten' 'roar']\n",
      "2. Predicted Calls\n",
      "['growl' 'prusten' 'roar']\n",
      "3. Not tested for but predicted\n",
      "set()\n",
      "4. Tested for but not predicted\n",
      "set()\n"
     ]
    }
   ],
   "source": [
    "print('1. Tested Calls')\n",
    "print(np.unique(y_test1))\n",
    "print('2. Predicted Calls')\n",
    "print(np.unique(y_dt1))\n",
    "print('3. Not tested for but predicted')\n",
    "print(set(np.unique(y_dt1))-set(np.unique(y_test1)))\n",
    "print('4. Tested for but not predicted')\n",
    "print(set(np.unique(y_test1))-set(np.unique(y_dt1)))"
   ]
  },
  {
   "cell_type": "code",
   "execution_count": 42,
   "metadata": {},
   "outputs": [
    {
     "name": "stdout",
     "output_type": "stream",
     "text": [
      "Accuracy 0.9210526315789473\n"
     ]
    },
    {
     "data": {
      "image/png": "[encoded data removed]",
      "text/plain": [
       "<Figure size 576x288 with 2 Axes>"
      ]
     },
     "metadata": {
      "needs_background": "light"
     },
     "output_type": "display_data"
    }
   ],
   "source": [
    "names_cart = sorted(list(set(np.unique(y_test1)).union(set(y_dt1))))\n",
    "cnf = confusion_matrix(y_test1, y_dt1)\n",
    "fig, ax = plt.subplots(figsize=(8,4))\n",
    "\n",
    "print('Accuracy',dt1.score(X_test, y_test1))\n",
    "\n",
    "sns.heatmap(cnf, annot=True, xticklabels=names_cart, yticklabels=names_cart,cmap= \"YlOrBr\")\n",
    "plt.title('Decision Tree Classifier')\n",
    "ax.xaxis.set_label_position('top')\n",
    "plt.ylabel('Actual')\n",
    "plt.xlabel('Predicted')\n",
    "plt.show(block=False)\n"
   ]
  },
  {
   "cell_type": "markdown",
   "metadata": {},
   "source": [
    "## Random Forest Classifier"
   ]
  },
  {
   "cell_type": "code",
   "execution_count": 43,
   "metadata": {},
   "outputs": [],
   "source": [
    "rf1 = RandomForestClassifier()"
   ]
  },
  {
   "cell_type": "code",
   "execution_count": 44,
   "metadata": {},
   "outputs": [
    {
     "data": {
      "text/plain": [
       "RandomForestClassifier()"
      ]
     },
     "execution_count": 44,
     "metadata": {},
     "output_type": "execute_result"
    }
   ],
   "source": [
    "rf1.fit(X_train, y_train1)"
   ]
  },
  {
   "cell_type": "code",
   "execution_count": 45,
   "metadata": {},
   "outputs": [
    {
     "data": {
      "text/plain": [
       "0.9210526315789473"
      ]
     },
     "execution_count": 45,
     "metadata": {},
     "output_type": "execute_result"
    }
   ],
   "source": [
    "rf1.score(X_test, y_test1)"
   ]
  },
  {
   "cell_type": "code",
   "execution_count": 46,
   "metadata": {},
   "outputs": [],
   "source": [
    "y_rf1 = rf1.predict(X_test)\n",
    "prob_rf1 = rf1.predict_proba(X_test)"
   ]
  },
  {
   "cell_type": "code",
   "execution_count": 47,
   "metadata": {},
   "outputs": [
    {
     "name": "stdout",
     "output_type": "stream",
     "text": [
      "1. Tested Calls\n",
      "['growl' 'prusten' 'roar']\n",
      "2. Predicted Calls\n",
      "['growl' 'prusten' 'roar']\n",
      "3. Not tested for but predicted\n",
      "set()\n",
      "4. Tested for but not predicted\n",
      "set()\n"
     ]
    }
   ],
   "source": [
    "print('1. Tested Calls')\n",
    "print(np.unique(y_test1))\n",
    "print('2. Predicted Calls')\n",
    "print(np.unique(y_rf1))\n",
    "print('3. Not tested for but predicted')\n",
    "print(set(np.unique(y_rf1))-set(np.unique(y_test1)))\n",
    "print('4. Tested for but not predicted')\n",
    "print(set(np.unique(y_test1))-set(np.unique(y_rf1)))"
   ]
  },
  {
   "cell_type": "code",
   "execution_count": 48,
   "metadata": {},
   "outputs": [
    {
     "data": {
      "image/png": "[encoded data removed]",
      "text/plain": [
       "<Figure size 432x288 with 1 Axes>"
      ]
     },
     "metadata": {
      "needs_background": "light"
     },
     "output_type": "display_data"
    }
   ],
   "source": [
    "importances = rf1.feature_importances_\n",
    "imp = np.argsort(importances)[::-1]\n",
    "\n",
    "\n",
    "plt.title('Feature Importance')\n",
    "plt.bar(range(X_train.shape[1]), importances[imp], align='center')\n",
    "plt.xticks(range(X_train.shape[1]), X_train.columns[imp], rotation=90)\n",
    "plt.tight_layout()\n",
    "plt.savefig('Feature Importance in Call Classification With Random Forest.png')\n",
    "plt.show()"
   ]
  },
  {
   "cell_type": "code",
   "execution_count": 49,
   "metadata": {},
   "outputs": [
    {
     "name": "stdout",
     "output_type": "stream",
     "text": [
      "Accuracy 0.9210526315789473\n"
     ]
    },
    {
     "data": {
      "image/png": "[encoded data removed]",
      "text/plain": [
       "<Figure size 576x288 with 2 Axes>"
      ]
     },
     "metadata": {
      "needs_background": "light"
     },
     "output_type": "display_data"
    }
   ],
   "source": [
    "names_rf = sorted(list(set(np.unique(y_test1)).union(set(y_rf1))))\n",
    "cnf = confusion_matrix(y_test1, y_rf1)\n",
    "fig, ax = plt.subplots(figsize=(8,4))\n",
    "\n",
    "print('Accuracy',rf1.score(X_test, y_test1))\n",
    "\n",
    "sns.heatmap(cnf, annot=True, xticklabels=names_rf, yticklabels=names_rf,cmap= \"YlOrBr\")\n",
    "plt.title('Random Forest')\n",
    "ax.xaxis.set_label_position('top')\n",
    "plt.ylabel('Actual')\n",
    "plt.xlabel('Predicted')\n",
    "plt.savefig('RF.png')\n",
    "plt.show(block=False)\n"
   ]
  },
  {
   "cell_type": "code",
   "execution_count": 50,
   "metadata": {},
   "outputs": [
    {
     "name": "stdout",
     "output_type": "stream",
     "text": [
      "LBG 0.9210526315789473\n",
      "CLF-XGB* 0.9210526315789473\n",
      "SVM 0.9210526315789473\n",
      "LR* 0.8947368421052632\n",
      "DT 0.9210526315789473\n",
      "RF* 0.9210526315789473\n"
     ]
    }
   ],
   "source": [
    "print('LBG',lgb1.score(X_test,y_test1))\n",
    "print('CLF-XGB*',clf1.score(X_test,y_test1))\n",
    "print('SVM',svm1.score(X_test, y_test1))\n",
    "print('LR*',lr1.score(X_test, y_test1))\n",
    "print('DT',dt1.score(X_test, y_test1))\n",
    "print('RF*',rf1.score(X_test, y_test1))"
   ]
  },
  {
   "cell_type": "code",
   "execution_count": 51,
   "metadata": {},
   "outputs": [
    {
     "data": {
      "text/html": [
       "<div>\n",
       "<style scoped>\n",
       "    .dataframe tbody tr th:only-of-type {\n",
       "        vertical-align: middle;\n",
       "    }\n",
       "\n",
       "    .dataframe tbody tr th {\n",
       "        vertical-align: top;\n",
       "    }\n",
       "\n",
       "    .dataframe thead th {\n",
       "        text-align: right;\n",
       "    }\n",
       "</style>\n",
       "<table border=\"1\" class=\"dataframe\">\n",
       "  <thead>\n",
       "    <tr style=\"text-align: right;\">\n",
       "      <th></th>\n",
       "      <th>Partials_Standardized</th>\n",
       "      <th>Zero_Crossings_Standardized</th>\n",
       "      <th>Duration_in_Sec_Standardized</th>\n",
       "      <th>Amp_range_Standardized</th>\n",
       "      <th>Avg_amp_Standardized</th>\n",
       "      <th>Freq_range_Standardized</th>\n",
       "      <th>Pulses_per_Sec_Standardized</th>\n",
       "      <th>Mean_MFCC_Standardized</th>\n",
       "      <th>Mean_Spectral Rolloff_Standardized</th>\n",
       "      <th>Mean_Melspectrogram_Standardized</th>\n",
       "      <th>Mean_Spectral Contrast_Standardized</th>\n",
       "      <th>Mean_Chromagram_Standardized</th>\n",
       "      <th>Mean_Tempogram_Standardized</th>\n",
       "      <th>File Name</th>\n",
       "      <th>Duration_in_Sec</th>\n",
       "      <th>Zero_Crossings</th>\n",
       "      <th>Amp_range</th>\n",
       "      <th>Avg_amp</th>\n",
       "      <th>Freq_range</th>\n",
       "      <th>Pulses_per_Sec</th>\n",
       "      <th>Mean_MFCC</th>\n",
       "      <th>Mean_Spectral Rolloff</th>\n",
       "      <th>Mean_Melspectrogram</th>\n",
       "      <th>Mean_Spectral Contrast</th>\n",
       "      <th>Mean_Chromagram</th>\n",
       "      <th>Mean_Tempogram</th>\n",
       "      <th>Mean_Tonnetz</th>\n",
       "      <th>Partials</th>\n",
       "      <th>Mean RMS</th>\n",
       "      <th>Target</th>\n",
       "      <th>growl</th>\n",
       "      <th>prusten</th>\n",
       "      <th>roar</th>\n",
       "      <th>Predicted</th>\n",
       "    </tr>\n",
       "  </thead>\n",
       "  <tbody>\n",
       "    <tr>\n",
       "      <th>396</th>\n",
       "      <td>-0.424178</td>\n",
       "      <td>-0.557045</td>\n",
       "      <td>-0.605682</td>\n",
       "      <td>-0.185770</td>\n",
       "      <td>-0.119101</td>\n",
       "      <td>-0.792400</td>\n",
       "      <td>-0.200498</td>\n",
       "      <td>0.511056</td>\n",
       "      <td>0.027756</td>\n",
       "      <td>-0.187893</td>\n",
       "      <td>2.127159</td>\n",
       "      <td>-0.034713</td>\n",
       "      <td>-2.101232</td>\n",
       "      <td>CL-Prusten-6</td>\n",
       "      <td>1</td>\n",
       "      <td>1424</td>\n",
       "      <td>0.197703</td>\n",
       "      <td>0.021245</td>\n",
       "      <td>2358.000000</td>\n",
       "      <td>540.000000</td>\n",
       "      <td>-4.226893</td>\n",
       "      <td>3808.929998</td>\n",
       "      <td>0.248978</td>\n",
       "      <td>21.521610</td>\n",
       "      <td>0.702022</td>\n",
       "      <td>0.043386</td>\n",
       "      <td>-0.013801</td>\n",
       "      <td>2</td>\n",
       "      <td>0.028304</td>\n",
       "      <td>prusten</td>\n",
       "      <td>0.008076</td>\n",
       "      <td>0.984397</td>\n",
       "      <td>0.007527</td>\n",
       "      <td>prusten</td>\n",
       "    </tr>\n",
       "    <tr>\n",
       "      <th>420</th>\n",
       "      <td>0.668057</td>\n",
       "      <td>0.096867</td>\n",
       "      <td>0.039612</td>\n",
       "      <td>0.625801</td>\n",
       "      <td>0.456559</td>\n",
       "      <td>1.555039</td>\n",
       "      <td>0.866603</td>\n",
       "      <td>0.914888</td>\n",
       "      <td>0.584757</td>\n",
       "      <td>0.044857</td>\n",
       "      <td>0.332814</td>\n",
       "      <td>0.203216</td>\n",
       "      <td>-0.203573</td>\n",
       "      <td>Jaguar-Roar-2</td>\n",
       "      <td>6</td>\n",
       "      <td>11932</td>\n",
       "      <td>0.396729</td>\n",
       "      <td>0.037894</td>\n",
       "      <td>10044.000000</td>\n",
       "      <td>1232.666667</td>\n",
       "      <td>-2.982307</td>\n",
       "      <td>4899.967668</td>\n",
       "      <td>0.921002</td>\n",
       "      <td>18.972525</td>\n",
       "      <td>0.723149</td>\n",
       "      <td>0.154039</td>\n",
       "      <td>0.003879</td>\n",
       "      <td>31</td>\n",
       "      <td>0.048366</td>\n",
       "      <td>roar</td>\n",
       "      <td>0.449880</td>\n",
       "      <td>0.019775</td>\n",
       "      <td>0.530345</td>\n",
       "      <td>roar</td>\n",
       "    </tr>\n",
       "    <tr>\n",
       "      <th>414</th>\n",
       "      <td>-0.499504</td>\n",
       "      <td>-0.575590</td>\n",
       "      <td>-0.605682</td>\n",
       "      <td>-0.649563</td>\n",
       "      <td>-0.590834</td>\n",
       "      <td>-0.194384</td>\n",
       "      <td>-0.396104</td>\n",
       "      <td>0.718229</td>\n",
       "      <td>0.838725</td>\n",
       "      <td>-0.265059</td>\n",
       "      <td>-1.661450</td>\n",
       "      <td>1.320730</td>\n",
       "      <td>-0.608700</td>\n",
       "      <td>Jaguar-Prusten-1</td>\n",
       "      <td>1</td>\n",
       "      <td>1126</td>\n",
       "      <td>0.083964</td>\n",
       "      <td>0.007602</td>\n",
       "      <td>4316.028663</td>\n",
       "      <td>413.030360</td>\n",
       "      <td>-3.588397</td>\n",
       "      <td>5397.431946</td>\n",
       "      <td>0.026172</td>\n",
       "      <td>16.139429</td>\n",
       "      <td>0.822378</td>\n",
       "      <td>0.130416</td>\n",
       "      <td>0.005206</td>\n",
       "      <td>0</td>\n",
       "      <td>0.009894</td>\n",
       "      <td>prusten</td>\n",
       "      <td>0.005454</td>\n",
       "      <td>0.985420</td>\n",
       "      <td>0.009126</td>\n",
       "      <td>prusten</td>\n",
       "    </tr>\n",
       "  </tbody>\n",
       "</table>\n",
       "</div>"
      ],
      "text/plain": [
       "     Partials_Standardized  Zero_Crossings_Standardized  \\\n",
       "396              -0.424178                    -0.557045   \n",
       "420               0.668057                     0.096867   \n",
       "414              -0.499504                    -0.575590   \n",
       "\n",
       "     Duration_in_Sec_Standardized  Amp_range_Standardized  \\\n",
       "396                     -0.605682               -0.185770   \n",
       "420                      0.039612                0.625801   \n",
       "414                     -0.605682               -0.649563   \n",
       "\n",
       "     Avg_amp_Standardized  Freq_range_Standardized  \\\n",
       "396             -0.119101                -0.792400   \n",
       "420              0.456559                 1.555039   \n",
       "414             -0.590834                -0.194384   \n",
       "\n",
       "     Pulses_per_Sec_Standardized  Mean_MFCC_Standardized  \\\n",
       "396                    -0.200498                0.511056   \n",
       "420                     0.866603                0.914888   \n",
       "414                    -0.396104                0.718229   \n",
       "\n",
       "     Mean_Spectral Rolloff_Standardized  Mean_Melspectrogram_Standardized  \\\n",
       "396                            0.027756                         -0.187893   \n",
       "420                            0.584757                          0.044857   \n",
       "414                            0.838725                         -0.265059   \n",
       "\n",
       "     Mean_Spectral Contrast_Standardized  Mean_Chromagram_Standardized  \\\n",
       "396                             2.127159                     -0.034713   \n",
       "420                             0.332814                      0.203216   \n",
       "414                            -1.661450                      1.320730   \n",
       "\n",
       "     Mean_Tempogram_Standardized         File Name  Duration_in_Sec  \\\n",
       "396                    -2.101232      CL-Prusten-6                1   \n",
       "420                    -0.203573     Jaguar-Roar-2                6   \n",
       "414                    -0.608700  Jaguar-Prusten-1                1   \n",
       "\n",
       "     Zero_Crossings  Amp_range   Avg_amp    Freq_range  Pulses_per_Sec  \\\n",
       "396            1424   0.197703  0.021245   2358.000000      540.000000   \n",
       "420           11932   0.396729  0.037894  10044.000000     1232.666667   \n",
       "414            1126   0.083964  0.007602   4316.028663      413.030360   \n",
       "\n",
       "     Mean_MFCC  Mean_Spectral Rolloff  Mean_Melspectrogram  \\\n",
       "396  -4.226893            3808.929998             0.248978   \n",
       "420  -2.982307            4899.967668             0.921002   \n",
       "414  -3.588397            5397.431946             0.026172   \n",
       "\n",
       "     Mean_Spectral Contrast  Mean_Chromagram  Mean_Tempogram  Mean_Tonnetz  \\\n",
       "396               21.521610         0.702022        0.043386     -0.013801   \n",
       "420               18.972525         0.723149        0.154039      0.003879   \n",
       "414               16.139429         0.822378        0.130416      0.005206   \n",
       "\n",
       "     Partials  Mean RMS   Target     growl   prusten      roar Predicted  \n",
       "396         2  0.028304  prusten  0.008076  0.984397  0.007527   prusten  \n",
       "420        31  0.048366     roar  0.449880  0.019775  0.530345      roar  \n",
       "414         0  0.009894  prusten  0.005454  0.985420  0.009126   prusten  "
      ]
     },
     "execution_count": 51,
     "metadata": {},
     "output_type": "execute_result"
    }
   ],
   "source": [
    "pred_df = pd.DataFrame(X_test.copy())\n",
    "pred_df = pred_df.join(df_raw, lsuffix='_Standardized')\n",
    "classes = clf1.classes_\n",
    "pred_df['Target'] = y_test1\n",
    "\n",
    "for i in range(len(classes)):\n",
    "    pred_df[clf1.classes_[i]] = prob_clf1[:,i]\n",
    "\n",
    "pred_df['Predicted'] = y_rf1\n",
    "\n",
    "#pred_df = pred_df[pred_df['Target'] != pred_df['Predicted']]\n",
    "#pred_df.to_csv('Mislabeled Panterinae Species With RF.csv', index=False)\n",
    "pred_df.to_csv('Call Classification Data with XGB.csv', index=False)\n",
    "pred_df.head(3)"
   ]
  },
  {
   "cell_type": "code",
   "execution_count": 52,
   "metadata": {},
   "outputs": [
    {
     "data": {
      "text/html": [
       "<div>\n",
       "<style scoped>\n",
       "    .dataframe tbody tr th:only-of-type {\n",
       "        vertical-align: middle;\n",
       "    }\n",
       "\n",
       "    .dataframe tbody tr th {\n",
       "        vertical-align: top;\n",
       "    }\n",
       "\n",
       "    .dataframe thead th {\n",
       "        text-align: right;\n",
       "    }\n",
       "</style>\n",
       "<table border=\"1\" class=\"dataframe\">\n",
       "  <thead>\n",
       "    <tr style=\"text-align: right;\">\n",
       "      <th></th>\n",
       "      <th>Partials_Standardized</th>\n",
       "      <th>Zero_Crossings_Standardized</th>\n",
       "      <th>Duration_in_Sec_Standardized</th>\n",
       "      <th>Amp_range_Standardized</th>\n",
       "      <th>Avg_amp_Standardized</th>\n",
       "      <th>Freq_range_Standardized</th>\n",
       "      <th>Pulses_per_Sec_Standardized</th>\n",
       "      <th>Mean_MFCC_Standardized</th>\n",
       "      <th>Mean_Spectral Rolloff_Standardized</th>\n",
       "      <th>Mean_Melspectrogram_Standardized</th>\n",
       "      <th>Mean_Spectral Contrast_Standardized</th>\n",
       "      <th>Mean_Chromagram_Standardized</th>\n",
       "      <th>Mean_Tempogram_Standardized</th>\n",
       "      <th>File Name</th>\n",
       "      <th>Duration_in_Sec</th>\n",
       "      <th>Zero_Crossings</th>\n",
       "      <th>Amp_range</th>\n",
       "      <th>Avg_amp</th>\n",
       "      <th>Freq_range</th>\n",
       "      <th>Pulses_per_Sec</th>\n",
       "      <th>Mean_MFCC</th>\n",
       "      <th>Mean_Spectral Rolloff</th>\n",
       "      <th>Mean_Melspectrogram</th>\n",
       "      <th>Mean_Spectral Contrast</th>\n",
       "      <th>Mean_Chromagram</th>\n",
       "      <th>Mean_Tempogram</th>\n",
       "      <th>Mean_Tonnetz</th>\n",
       "      <th>Partials</th>\n",
       "      <th>Mean RMS</th>\n",
       "      <th>Target</th>\n",
       "      <th>growl</th>\n",
       "      <th>prusten</th>\n",
       "      <th>roar</th>\n",
       "      <th>Predicted</th>\n",
       "    </tr>\n",
       "  </thead>\n",
       "  <tbody>\n",
       "    <tr>\n",
       "      <th>396</th>\n",
       "      <td>-0.424178</td>\n",
       "      <td>-0.557045</td>\n",
       "      <td>-0.605682</td>\n",
       "      <td>-0.185770</td>\n",
       "      <td>-0.119101</td>\n",
       "      <td>-0.792400</td>\n",
       "      <td>-0.200498</td>\n",
       "      <td>0.511056</td>\n",
       "      <td>0.027756</td>\n",
       "      <td>-0.187893</td>\n",
       "      <td>2.127159</td>\n",
       "      <td>-0.034713</td>\n",
       "      <td>-2.101232</td>\n",
       "      <td>CL-Prusten-6</td>\n",
       "      <td>1</td>\n",
       "      <td>1424</td>\n",
       "      <td>0.197703</td>\n",
       "      <td>0.021245</td>\n",
       "      <td>2358.000000</td>\n",
       "      <td>540.000000</td>\n",
       "      <td>-4.226893</td>\n",
       "      <td>3808.929998</td>\n",
       "      <td>0.248978</td>\n",
       "      <td>21.521610</td>\n",
       "      <td>0.702022</td>\n",
       "      <td>0.043386</td>\n",
       "      <td>-0.013801</td>\n",
       "      <td>2</td>\n",
       "      <td>0.028304</td>\n",
       "      <td>prusten</td>\n",
       "      <td>0.10</td>\n",
       "      <td>0.87</td>\n",
       "      <td>0.03</td>\n",
       "      <td>prusten</td>\n",
       "    </tr>\n",
       "    <tr>\n",
       "      <th>420</th>\n",
       "      <td>0.668057</td>\n",
       "      <td>0.096867</td>\n",
       "      <td>0.039612</td>\n",
       "      <td>0.625801</td>\n",
       "      <td>0.456559</td>\n",
       "      <td>1.555039</td>\n",
       "      <td>0.866603</td>\n",
       "      <td>0.914888</td>\n",
       "      <td>0.584757</td>\n",
       "      <td>0.044857</td>\n",
       "      <td>0.332814</td>\n",
       "      <td>0.203216</td>\n",
       "      <td>-0.203573</td>\n",
       "      <td>Jaguar-Roar-2</td>\n",
       "      <td>6</td>\n",
       "      <td>11932</td>\n",
       "      <td>0.396729</td>\n",
       "      <td>0.037894</td>\n",
       "      <td>10044.000000</td>\n",
       "      <td>1232.666667</td>\n",
       "      <td>-2.982307</td>\n",
       "      <td>4899.967668</td>\n",
       "      <td>0.921002</td>\n",
       "      <td>18.972525</td>\n",
       "      <td>0.723149</td>\n",
       "      <td>0.154039</td>\n",
       "      <td>0.003879</td>\n",
       "      <td>31</td>\n",
       "      <td>0.048366</td>\n",
       "      <td>roar</td>\n",
       "      <td>0.48</td>\n",
       "      <td>0.01</td>\n",
       "      <td>0.51</td>\n",
       "      <td>roar</td>\n",
       "    </tr>\n",
       "    <tr>\n",
       "      <th>414</th>\n",
       "      <td>-0.499504</td>\n",
       "      <td>-0.575590</td>\n",
       "      <td>-0.605682</td>\n",
       "      <td>-0.649563</td>\n",
       "      <td>-0.590834</td>\n",
       "      <td>-0.194384</td>\n",
       "      <td>-0.396104</td>\n",
       "      <td>0.718229</td>\n",
       "      <td>0.838725</td>\n",
       "      <td>-0.265059</td>\n",
       "      <td>-1.661450</td>\n",
       "      <td>1.320730</td>\n",
       "      <td>-0.608700</td>\n",
       "      <td>Jaguar-Prusten-1</td>\n",
       "      <td>1</td>\n",
       "      <td>1126</td>\n",
       "      <td>0.083964</td>\n",
       "      <td>0.007602</td>\n",
       "      <td>4316.028663</td>\n",
       "      <td>413.030360</td>\n",
       "      <td>-3.588397</td>\n",
       "      <td>5397.431946</td>\n",
       "      <td>0.026172</td>\n",
       "      <td>16.139429</td>\n",
       "      <td>0.822378</td>\n",
       "      <td>0.130416</td>\n",
       "      <td>0.005206</td>\n",
       "      <td>0</td>\n",
       "      <td>0.009894</td>\n",
       "      <td>prusten</td>\n",
       "      <td>0.08</td>\n",
       "      <td>0.88</td>\n",
       "      <td>0.04</td>\n",
       "      <td>prusten</td>\n",
       "    </tr>\n",
       "  </tbody>\n",
       "</table>\n",
       "</div>"
      ],
      "text/plain": [
       "     Partials_Standardized  Zero_Crossings_Standardized  \\\n",
       "396              -0.424178                    -0.557045   \n",
       "420               0.668057                     0.096867   \n",
       "414              -0.499504                    -0.575590   \n",
       "\n",
       "     Duration_in_Sec_Standardized  Amp_range_Standardized  \\\n",
       "396                     -0.605682               -0.185770   \n",
       "420                      0.039612                0.625801   \n",
       "414                     -0.605682               -0.649563   \n",
       "\n",
       "     Avg_amp_Standardized  Freq_range_Standardized  \\\n",
       "396             -0.119101                -0.792400   \n",
       "420              0.456559                 1.555039   \n",
       "414             -0.590834                -0.194384   \n",
       "\n",
       "     Pulses_per_Sec_Standardized  Mean_MFCC_Standardized  \\\n",
       "396                    -0.200498                0.511056   \n",
       "420                     0.866603                0.914888   \n",
       "414                    -0.396104                0.718229   \n",
       "\n",
       "     Mean_Spectral Rolloff_Standardized  Mean_Melspectrogram_Standardized  \\\n",
       "396                            0.027756                         -0.187893   \n",
       "420                            0.584757                          0.044857   \n",
       "414                            0.838725                         -0.265059   \n",
       "\n",
       "     Mean_Spectral Contrast_Standardized  Mean_Chromagram_Standardized  \\\n",
       "396                             2.127159                     -0.034713   \n",
       "420                             0.332814                      0.203216   \n",
       "414                            -1.661450                      1.320730   \n",
       "\n",
       "     Mean_Tempogram_Standardized         File Name  Duration_in_Sec  \\\n",
       "396                    -2.101232      CL-Prusten-6                1   \n",
       "420                    -0.203573     Jaguar-Roar-2                6   \n",
       "414                    -0.608700  Jaguar-Prusten-1                1   \n",
       "\n",
       "     Zero_Crossings  Amp_range   Avg_amp    Freq_range  Pulses_per_Sec  \\\n",
       "396            1424   0.197703  0.021245   2358.000000      540.000000   \n",
       "420           11932   0.396729  0.037894  10044.000000     1232.666667   \n",
       "414            1126   0.083964  0.007602   4316.028663      413.030360   \n",
       "\n",
       "     Mean_MFCC  Mean_Spectral Rolloff  Mean_Melspectrogram  \\\n",
       "396  -4.226893            3808.929998             0.248978   \n",
       "420  -2.982307            4899.967668             0.921002   \n",
       "414  -3.588397            5397.431946             0.026172   \n",
       "\n",
       "     Mean_Spectral Contrast  Mean_Chromagram  Mean_Tempogram  Mean_Tonnetz  \\\n",
       "396               21.521610         0.702022        0.043386     -0.013801   \n",
       "420               18.972525         0.723149        0.154039      0.003879   \n",
       "414               16.139429         0.822378        0.130416      0.005206   \n",
       "\n",
       "     Partials  Mean RMS   Target  growl  prusten  roar Predicted  \n",
       "396         2  0.028304  prusten   0.10     0.87  0.03   prusten  \n",
       "420        31  0.048366     roar   0.48     0.01  0.51      roar  \n",
       "414         0  0.009894  prusten   0.08     0.88  0.04   prusten  "
      ]
     },
     "execution_count": 52,
     "metadata": {},
     "output_type": "execute_result"
    }
   ],
   "source": [
    "pred_df = pd.DataFrame(X_test.copy())\n",
    "pred_df = pred_df.join(df_raw, lsuffix='_Standardized')\n",
    "\n",
    "classes = rf1.classes_\n",
    "\n",
    "pred_df['Target'] = y_test1\n",
    "\n",
    "for i in range(len(classes)):\n",
    "    pred_df[rf1.classes_[i]] = prob_rf1[:,i]\n",
    "\n",
    "pred_df['Predicted'] = y_rf1\n",
    "\n",
    "#pred_df = pred_df[pred_df['Target'] != pred_df['Predicted']]\n",
    "#pred_df.to_csv('Mislabeled Panterinae Species With RF.csv', index=False)\n",
    "pred_df.to_csv('Call Classification Data with Random Forest.csv', index=False)\n",
    "pred_df.head(3)"
   ]
  },
  {
   "cell_type": "code",
   "execution_count": 53,
   "metadata": {},
   "outputs": [
    {
     "data": {
      "text/html": [
       "<div>\n",
       "<style scoped>\n",
       "    .dataframe tbody tr th:only-of-type {\n",
       "        vertical-align: middle;\n",
       "    }\n",
       "\n",
       "    .dataframe tbody tr th {\n",
       "        vertical-align: top;\n",
       "    }\n",
       "\n",
       "    .dataframe thead th {\n",
       "        text-align: right;\n",
       "    }\n",
       "</style>\n",
       "<table border=\"1\" class=\"dataframe\">\n",
       "  <thead>\n",
       "    <tr style=\"text-align: right;\">\n",
       "      <th></th>\n",
       "      <th>Partials_Standardized</th>\n",
       "      <th>Zero_Crossings_Standardized</th>\n",
       "      <th>Duration_in_Sec_Standardized</th>\n",
       "      <th>Amp_range_Standardized</th>\n",
       "      <th>Avg_amp_Standardized</th>\n",
       "      <th>Freq_range_Standardized</th>\n",
       "      <th>Pulses_per_Sec_Standardized</th>\n",
       "      <th>Mean_MFCC_Standardized</th>\n",
       "      <th>Mean_Spectral Rolloff_Standardized</th>\n",
       "      <th>Mean_Melspectrogram_Standardized</th>\n",
       "      <th>Mean_Spectral Contrast_Standardized</th>\n",
       "      <th>Mean_Chromagram_Standardized</th>\n",
       "      <th>Mean_Tempogram_Standardized</th>\n",
       "      <th>File Name</th>\n",
       "      <th>Duration_in_Sec</th>\n",
       "      <th>Zero_Crossings</th>\n",
       "      <th>Amp_range</th>\n",
       "      <th>Avg_amp</th>\n",
       "      <th>Freq_range</th>\n",
       "      <th>Pulses_per_Sec</th>\n",
       "      <th>Mean_MFCC</th>\n",
       "      <th>Mean_Spectral Rolloff</th>\n",
       "      <th>Mean_Melspectrogram</th>\n",
       "      <th>Mean_Spectral Contrast</th>\n",
       "      <th>Mean_Chromagram</th>\n",
       "      <th>Mean_Tempogram</th>\n",
       "      <th>Mean_Tonnetz</th>\n",
       "      <th>Partials</th>\n",
       "      <th>Mean RMS</th>\n",
       "      <th>Target</th>\n",
       "      <th>growl</th>\n",
       "      <th>prusten</th>\n",
       "      <th>roar</th>\n",
       "      <th>Predicted</th>\n",
       "    </tr>\n",
       "  </thead>\n",
       "  <tbody>\n",
       "    <tr>\n",
       "      <th>396</th>\n",
       "      <td>-0.424178</td>\n",
       "      <td>-0.557045</td>\n",
       "      <td>-0.605682</td>\n",
       "      <td>-0.185770</td>\n",
       "      <td>-0.119101</td>\n",
       "      <td>-0.792400</td>\n",
       "      <td>-0.200498</td>\n",
       "      <td>0.511056</td>\n",
       "      <td>0.027756</td>\n",
       "      <td>-0.187893</td>\n",
       "      <td>2.127159</td>\n",
       "      <td>-0.034713</td>\n",
       "      <td>-2.101232</td>\n",
       "      <td>CL-Prusten-6</td>\n",
       "      <td>1</td>\n",
       "      <td>1424</td>\n",
       "      <td>0.197703</td>\n",
       "      <td>0.021245</td>\n",
       "      <td>2358.000000</td>\n",
       "      <td>540.000000</td>\n",
       "      <td>-4.226893</td>\n",
       "      <td>3808.929998</td>\n",
       "      <td>0.248978</td>\n",
       "      <td>21.521610</td>\n",
       "      <td>0.702022</td>\n",
       "      <td>0.043386</td>\n",
       "      <td>-0.013801</td>\n",
       "      <td>2</td>\n",
       "      <td>0.028304</td>\n",
       "      <td>prusten</td>\n",
       "      <td>0.018072</td>\n",
       "      <td>0.934535</td>\n",
       "      <td>0.047393</td>\n",
       "      <td>prusten</td>\n",
       "    </tr>\n",
       "    <tr>\n",
       "      <th>420</th>\n",
       "      <td>0.668057</td>\n",
       "      <td>0.096867</td>\n",
       "      <td>0.039612</td>\n",
       "      <td>0.625801</td>\n",
       "      <td>0.456559</td>\n",
       "      <td>1.555039</td>\n",
       "      <td>0.866603</td>\n",
       "      <td>0.914888</td>\n",
       "      <td>0.584757</td>\n",
       "      <td>0.044857</td>\n",
       "      <td>0.332814</td>\n",
       "      <td>0.203216</td>\n",
       "      <td>-0.203573</td>\n",
       "      <td>Jaguar-Roar-2</td>\n",
       "      <td>6</td>\n",
       "      <td>11932</td>\n",
       "      <td>0.396729</td>\n",
       "      <td>0.037894</td>\n",
       "      <td>10044.000000</td>\n",
       "      <td>1232.666667</td>\n",
       "      <td>-2.982307</td>\n",
       "      <td>4899.967668</td>\n",
       "      <td>0.921002</td>\n",
       "      <td>18.972525</td>\n",
       "      <td>0.723149</td>\n",
       "      <td>0.154039</td>\n",
       "      <td>0.003879</td>\n",
       "      <td>31</td>\n",
       "      <td>0.048366</td>\n",
       "      <td>roar</td>\n",
       "      <td>0.624068</td>\n",
       "      <td>0.137667</td>\n",
       "      <td>0.238265</td>\n",
       "      <td>growl</td>\n",
       "    </tr>\n",
       "    <tr>\n",
       "      <th>414</th>\n",
       "      <td>-0.499504</td>\n",
       "      <td>-0.575590</td>\n",
       "      <td>-0.605682</td>\n",
       "      <td>-0.649563</td>\n",
       "      <td>-0.590834</td>\n",
       "      <td>-0.194384</td>\n",
       "      <td>-0.396104</td>\n",
       "      <td>0.718229</td>\n",
       "      <td>0.838725</td>\n",
       "      <td>-0.265059</td>\n",
       "      <td>-1.661450</td>\n",
       "      <td>1.320730</td>\n",
       "      <td>-0.608700</td>\n",
       "      <td>Jaguar-Prusten-1</td>\n",
       "      <td>1</td>\n",
       "      <td>1126</td>\n",
       "      <td>0.083964</td>\n",
       "      <td>0.007602</td>\n",
       "      <td>4316.028663</td>\n",
       "      <td>413.030360</td>\n",
       "      <td>-3.588397</td>\n",
       "      <td>5397.431946</td>\n",
       "      <td>0.026172</td>\n",
       "      <td>16.139429</td>\n",
       "      <td>0.822378</td>\n",
       "      <td>0.130416</td>\n",
       "      <td>0.005206</td>\n",
       "      <td>0</td>\n",
       "      <td>0.009894</td>\n",
       "      <td>prusten</td>\n",
       "      <td>0.166014</td>\n",
       "      <td>0.772520</td>\n",
       "      <td>0.061466</td>\n",
       "      <td>prusten</td>\n",
       "    </tr>\n",
       "  </tbody>\n",
       "</table>\n",
       "</div>"
      ],
      "text/plain": [
       "     Partials_Standardized  Zero_Crossings_Standardized  \\\n",
       "396              -0.424178                    -0.557045   \n",
       "420               0.668057                     0.096867   \n",
       "414              -0.499504                    -0.575590   \n",
       "\n",
       "     Duration_in_Sec_Standardized  Amp_range_Standardized  \\\n",
       "396                     -0.605682               -0.185770   \n",
       "420                      0.039612                0.625801   \n",
       "414                     -0.605682               -0.649563   \n",
       "\n",
       "     Avg_amp_Standardized  Freq_range_Standardized  \\\n",
       "396             -0.119101                -0.792400   \n",
       "420              0.456559                 1.555039   \n",
       "414             -0.590834                -0.194384   \n",
       "\n",
       "     Pulses_per_Sec_Standardized  Mean_MFCC_Standardized  \\\n",
       "396                    -0.200498                0.511056   \n",
       "420                     0.866603                0.914888   \n",
       "414                    -0.396104                0.718229   \n",
       "\n",
       "     Mean_Spectral Rolloff_Standardized  Mean_Melspectrogram_Standardized  \\\n",
       "396                            0.027756                         -0.187893   \n",
       "420                            0.584757                          0.044857   \n",
       "414                            0.838725                         -0.265059   \n",
       "\n",
       "     Mean_Spectral Contrast_Standardized  Mean_Chromagram_Standardized  \\\n",
       "396                             2.127159                     -0.034713   \n",
       "420                             0.332814                      0.203216   \n",
       "414                            -1.661450                      1.320730   \n",
       "\n",
       "     Mean_Tempogram_Standardized         File Name  Duration_in_Sec  \\\n",
       "396                    -2.101232      CL-Prusten-6                1   \n",
       "420                    -0.203573     Jaguar-Roar-2                6   \n",
       "414                    -0.608700  Jaguar-Prusten-1                1   \n",
       "\n",
       "     Zero_Crossings  Amp_range   Avg_amp    Freq_range  Pulses_per_Sec  \\\n",
       "396            1424   0.197703  0.021245   2358.000000      540.000000   \n",
       "420           11932   0.396729  0.037894  10044.000000     1232.666667   \n",
       "414            1126   0.083964  0.007602   4316.028663      413.030360   \n",
       "\n",
       "     Mean_MFCC  Mean_Spectral Rolloff  Mean_Melspectrogram  \\\n",
       "396  -4.226893            3808.929998             0.248978   \n",
       "420  -2.982307            4899.967668             0.921002   \n",
       "414  -3.588397            5397.431946             0.026172   \n",
       "\n",
       "     Mean_Spectral Contrast  Mean_Chromagram  Mean_Tempogram  Mean_Tonnetz  \\\n",
       "396               21.521610         0.702022        0.043386     -0.013801   \n",
       "420               18.972525         0.723149        0.154039      0.003879   \n",
       "414               16.139429         0.822378        0.130416      0.005206   \n",
       "\n",
       "     Partials  Mean RMS   Target     growl   prusten      roar Predicted  \n",
       "396         2  0.028304  prusten  0.018072  0.934535  0.047393   prusten  \n",
       "420        31  0.048366     roar  0.624068  0.137667  0.238265     growl  \n",
       "414         0  0.009894  prusten  0.166014  0.772520  0.061466   prusten  "
      ]
     },
     "execution_count": 53,
     "metadata": {},
     "output_type": "execute_result"
    }
   ],
   "source": [
    "pred_df = pd.DataFrame(X_test.copy())\n",
    "pred_df = pred_df.join(df_raw, lsuffix='_Standardized')\n",
    "\n",
    "classes = lr1.classes_\n",
    "\n",
    "pred_df['Target'] = y_test1\n",
    "\n",
    "for i in range(len(classes)):\n",
    "    pred_df[lr1.classes_[i]] = prob_lr1[:,i]\n",
    "\n",
    "pred_df['Predicted'] = y_lr1\n",
    "\n",
    "#pred_df = pred_df[pred_df['Target'] != pred_df['Predicted']]\n",
    "#pred_df.to_csv('Mislabeled Panterinae Species With RF.csv', index=False)\n",
    "pred_df.to_csv('Call Classification Data with Logistic Regression.csv', index=False)\n",
    "pred_df.head(3)"
   ]
  },
  {
   "cell_type": "markdown",
   "metadata": {},
   "source": [
    "# Species Classification"
   ]
  },
  {
   "cell_type": "markdown",
   "metadata": {},
   "source": [
    "## Splitting data"
   ]
  },
  {
   "cell_type": "code",
   "execution_count": 54,
   "metadata": {},
   "outputs": [],
   "source": [
    "y_train2 = y_train.Species\n",
    "y_test2 = y_test.Species"
   ]
  },
  {
   "cell_type": "code",
   "execution_count": 55,
   "metadata": {},
   "outputs": [],
   "source": [
    "## LightGBM"
   ]
  },
  {
   "cell_type": "code",
   "execution_count": 56,
   "metadata": {},
   "outputs": [
    {
     "data": {
      "text/plain": [
       "LGBMClassifier()"
      ]
     },
     "execution_count": 56,
     "metadata": {},
     "output_type": "execute_result"
    }
   ],
   "source": [
    "import lightgbm as lgb\n",
    "lgb2 = lgb.LGBMClassifier()\n",
    "lgb2.fit(X_train, y_train2)"
   ]
  },
  {
   "cell_type": "code",
   "execution_count": 57,
   "metadata": {},
   "outputs": [
    {
     "data": {
      "text/plain": [
       "0.7894736842105263"
      ]
     },
     "execution_count": 57,
     "metadata": {},
     "output_type": "execute_result"
    }
   ],
   "source": [
    "lgb2.score(X_test,y_test2)"
   ]
  },
  {
   "cell_type": "markdown",
   "metadata": {},
   "source": [
    "## XGBoost"
   ]
  },
  {
   "cell_type": "code",
   "execution_count": 58,
   "metadata": {},
   "outputs": [],
   "source": [
    "parameters = dict(\n",
    "    objective='multi:softprob',\n",
    "    random_state = 30,\n",
    "    max_depth=9,\n",
    "    learning_rate=0.01,\n",
    "    subsample=0.8,\n",
    "    colsample_bytree=0.4,\n",
    "    tree_method='gpu_hist')\n",
    "#eval_metric='mlogloss'\n",
    "\n",
    "clf2 = XGBClassifier(**parameters, n_estimators=1200)"
   ]
  },
  {
   "cell_type": "code",
   "execution_count": 59,
   "metadata": {},
   "outputs": [
    {
     "name": "stdout",
     "output_type": "stream",
     "text": [
      "[21:34:01] WARNING: C:/Users/Administrator/workspace/xgboost-win64_release_1.4.0/src/learner.cc:1095: Starting in XGBoost 1.3.0, the default evaluation metric used with the objective 'multi:softprob' was changed from 'merror' to 'mlogloss'. Explicitly set eval_metric if you'd like to restore the old behavior.\n"
     ]
    },
    {
     "data": {
      "text/plain": [
       "XGBClassifier(base_score=0.5, booster='gbtree', colsample_bylevel=1,\n",
       "              colsample_bynode=1, colsample_bytree=0.4, gamma=0, gpu_id=0,\n",
       "              importance_type='gain', interaction_constraints='',\n",
       "              learning_rate=0.01, max_delta_step=0, max_depth=9,\n",
       "              min_child_weight=1, missing=nan, monotone_constraints='()',\n",
       "              n_estimators=1200, n_jobs=12, num_parallel_tree=1,\n",
       "              objective='multi:softprob', random_state=30, reg_alpha=0,\n",
       "              reg_lambda=1, scale_pos_weight=None, subsample=0.8,\n",
       "              tree_method='gpu_hist', validate_parameters=1, verbosity=None)"
      ]
     },
     "execution_count": 59,
     "metadata": {},
     "output_type": "execute_result"
    }
   ],
   "source": [
    "clf2.fit(X_train, y_train2)"
   ]
  },
  {
   "cell_type": "code",
   "execution_count": 60,
   "metadata": {},
   "outputs": [
    {
     "data": {
      "text/plain": [
       "0.8421052631578947"
      ]
     },
     "execution_count": 60,
     "metadata": {},
     "output_type": "execute_result"
    }
   ],
   "source": [
    "clf2.score(X_test,y_test2)"
   ]
  },
  {
   "cell_type": "code",
   "execution_count": 61,
   "metadata": {},
   "outputs": [],
   "source": [
    "y_clf2 = clf2.predict(X_test)\n",
    "prob_clf2 = clf2.predict_proba(X_test)"
   ]
  },
  {
   "cell_type": "code",
   "execution_count": 62,
   "metadata": {},
   "outputs": [
    {
     "name": "stdout",
     "output_type": "stream",
     "text": [
      "1. Tested Species\n",
      "['Clouded leopard' 'Jaguar' 'Leopard' 'Lion']\n",
      "2. Predicted Species\n",
      "['Clouded leopard' 'Jaguar' 'Leopard' 'Lion']\n",
      "3. Not tested for but predicted\n",
      "set()\n",
      "4. Tested for but not predicted\n",
      "set()\n"
     ]
    }
   ],
   "source": [
    "print('1. Tested Species')\n",
    "print(np.unique(y_test2))\n",
    "print('2. Predicted Species')\n",
    "print(np.unique(y_clf2))\n",
    "print('3. Not tested for but predicted')\n",
    "print(set(np.unique(y_clf2))-set(np.unique(y_test2)))\n",
    "print('4. Tested for but not predicted')\n",
    "print(set(np.unique(y_test2))-set(np.unique(y_clf2)))"
   ]
  },
  {
   "cell_type": "code",
   "execution_count": 63,
   "metadata": {
    "scrolled": false
   },
   "outputs": [
    {
     "name": "stdout",
     "output_type": "stream",
     "text": [
      "Accuracy 0.8421052631578947\n"
     ]
    },
    {
     "data": {
      "image/png": "[encoded data removed]",
      "text/plain": [
       "<Figure size 576x288 with 2 Axes>"
      ]
     },
     "metadata": {
      "needs_background": "light"
     },
     "output_type": "display_data"
    }
   ],
   "source": [
    "names = sorted(list(set(np.unique(y_test2)).union(set(y_clf2))))\n",
    "cnf = confusion_matrix(y_test2, y_clf2)\n",
    "fig, ax = plt.subplots(figsize=(8,4))\n",
    "\n",
    "print('Accuracy',clf2.score(X_test, y_test2))\n",
    "\n",
    "sns.heatmap(cnf, annot=True, xticklabels=names, yticklabels=names,cmap= \"YlOrBr\")\n",
    "plt.title('XGBoost')\n",
    "ax.xaxis.set_label_position('top')\n",
    "plt.ylabel('Actual')\n",
    "plt.xlabel('Predicted')\n",
    "plt.savefig('xgboost.png')\n",
    "plt.show(block=False)\n"
   ]
  },
  {
   "cell_type": "code",
   "execution_count": 64,
   "metadata": {},
   "outputs": [
    {
     "data": {
      "image/png": "[encoded data removed]",
      "text/plain": [
       "<Figure size 432x288 with 1 Axes>"
      ]
     },
     "metadata": {
      "needs_background": "light"
     },
     "output_type": "display_data"
    }
   ],
   "source": [
    "plot_importance(clf2)\n",
    "figsize=(8,4)\n",
    "plt.savefig('Feature Importance in Species Classification With XGB.png')"
   ]
  },
  {
   "cell_type": "markdown",
   "metadata": {},
   "source": [
    "## SVM"
   ]
  },
  {
   "cell_type": "code",
   "execution_count": 65,
   "metadata": {},
   "outputs": [],
   "source": [
    "svm2 = SVC(probability=True)"
   ]
  },
  {
   "cell_type": "code",
   "execution_count": 66,
   "metadata": {},
   "outputs": [
    {
     "data": {
      "text/plain": [
       "SVC(probability=True)"
      ]
     },
     "execution_count": 66,
     "metadata": {},
     "output_type": "execute_result"
    }
   ],
   "source": [
    "svm2.fit(X_train, y_train2)"
   ]
  },
  {
   "cell_type": "code",
   "execution_count": 67,
   "metadata": {},
   "outputs": [
    {
     "data": {
      "text/plain": [
       "0.8157894736842105"
      ]
     },
     "execution_count": 67,
     "metadata": {},
     "output_type": "execute_result"
    }
   ],
   "source": [
    "svm2.score(X_test, y_test2)"
   ]
  },
  {
   "cell_type": "code",
   "execution_count": 68,
   "metadata": {},
   "outputs": [],
   "source": [
    "y_svm2=svm2.predict(X_test)\n",
    "prob_svm2 = svm2.predict_proba(X_test)"
   ]
  },
  {
   "cell_type": "code",
   "execution_count": 69,
   "metadata": {},
   "outputs": [
    {
     "name": "stdout",
     "output_type": "stream",
     "text": [
      "1. Tested Species\n",
      "['Clouded leopard' 'Jaguar' 'Leopard' 'Lion']\n",
      "2. Predicted Species\n",
      "['Clouded leopard' 'Jaguar' 'Leopard' 'Lion']\n",
      "3. False Positive\n",
      "set()\n",
      "4. False Negative\n",
      "set()\n"
     ]
    }
   ],
   "source": [
    "print('1. Tested Species')\n",
    "print(np.unique(y_test2))\n",
    "print('2. Predicted Species')\n",
    "print(np.unique(y_svm2))\n",
    "print('3. False Positive')\n",
    "print(set(np.unique(y_svm2))-set(np.unique(y_test2)))\n",
    "print('4. False Negative')\n",
    "print(set(np.unique(y_test2))-set(np.unique(y_svm2)))"
   ]
  },
  {
   "cell_type": "code",
   "execution_count": 70,
   "metadata": {
    "scrolled": false
   },
   "outputs": [
    {
     "name": "stdout",
     "output_type": "stream",
     "text": [
      "Accuracy 0.8157894736842105\n"
     ]
    },
    {
     "data": {
      "image/png": "[encoded data removed]",
      "text/plain": [
       "<Figure size 576x288 with 2 Axes>"
      ]
     },
     "metadata": {
      "needs_background": "light"
     },
     "output_type": "display_data"
    }
   ],
   "source": [
    "names_svc = sorted(list(set(np.unique(y_test2)).union(set(y_svm2))))\n",
    "cnf = confusion_matrix(y_test2, y_svm2)\n",
    "fig, ax = plt.subplots(figsize=(8,4))\n",
    "\n",
    "print('Accuracy',svm2.score(X_test, y_test2))\n",
    "\n",
    "sns.heatmap(cnf, annot=True, xticklabels=names_svc, yticklabels=names_svc,cmap= \"YlOrBr\")\n",
    "plt.title('SVM Confusion Matrix')\n",
    "ax.xaxis.set_label_position('top')\n",
    "plt.ylabel('Actual')\n",
    "plt.xlabel('Predicted')\n",
    "plt.show(block=False)\n",
    "\n"
   ]
  },
  {
   "cell_type": "markdown",
   "metadata": {},
   "source": [
    "## Logistic Regression"
   ]
  },
  {
   "cell_type": "code",
   "execution_count": 71,
   "metadata": {},
   "outputs": [],
   "source": [
    "lr2 = LogisticRegression(solver='liblinear', multi_class='ovr')"
   ]
  },
  {
   "cell_type": "code",
   "execution_count": 72,
   "metadata": {},
   "outputs": [
    {
     "data": {
      "text/plain": [
       "LogisticRegression(multi_class='ovr', solver='liblinear')"
      ]
     },
     "execution_count": 72,
     "metadata": {},
     "output_type": "execute_result"
    }
   ],
   "source": [
    "lr2.fit(X_train,y_train2)"
   ]
  },
  {
   "cell_type": "code",
   "execution_count": 73,
   "metadata": {},
   "outputs": [
    {
     "data": {
      "text/plain": [
       "0.7894736842105263"
      ]
     },
     "execution_count": 73,
     "metadata": {},
     "output_type": "execute_result"
    }
   ],
   "source": [
    "lr2.score(X_test, y_test2)"
   ]
  },
  {
   "cell_type": "code",
   "execution_count": 74,
   "metadata": {},
   "outputs": [],
   "source": [
    "y_lr2 = lr2.predict(X_test)\n",
    "prob_lr2 = lr2.predict_proba(X_test)"
   ]
  },
  {
   "cell_type": "code",
   "execution_count": 75,
   "metadata": {},
   "outputs": [
    {
     "name": "stdout",
     "output_type": "stream",
     "text": [
      "1. Tested Species\n",
      "['Clouded leopard' 'Jaguar' 'Leopard' 'Lion' 'growl' 'prusten' 'roar']\n",
      "2. Predicted Species\n",
      "['Clouded leopard' 'Jaguar' 'Leopard' 'Lion']\n",
      "3. Not tested for but predicted\n",
      "set()\n",
      "4. Tested for but not predicted\n",
      "{'prusten', 'roar', 'growl'}\n"
     ]
    }
   ],
   "source": [
    "print('1. Tested Species')\n",
    "print(np.unique(y_test))\n",
    "print('2. Predicted Species')\n",
    "print(np.unique(y_lr2))\n",
    "print('3. Not tested for but predicted')\n",
    "print(set(np.unique(y_lr2))-set(np.unique(y_test)))\n",
    "print('4. Tested for but not predicted')\n",
    "print(set(np.unique(y_test))-set(np.unique(y_lr2)))"
   ]
  },
  {
   "cell_type": "code",
   "execution_count": 76,
   "metadata": {},
   "outputs": [
    {
     "name": "stdout",
     "output_type": "stream",
     "text": [
      "Accuracy 0.7894736842105263\n"
     ]
    },
    {
     "data": {
      "image/png": "[encoded data removed]",
      "text/plain": [
       "<Figure size 576x288 with 2 Axes>"
      ]
     },
     "metadata": {
      "needs_background": "light"
     },
     "output_type": "display_data"
    }
   ],
   "source": [
    "names_lr = sorted(list(set(np.unique(y_test2)).union(set(y_lr2))))\n",
    "cnf = confusion_matrix(y_test2, y_lr2)\n",
    "fig, ax = plt.subplots(figsize=(8,4))\n",
    "\n",
    "print('Accuracy',lr2.score(X_test, y_test2))\n",
    "\n",
    "sns.heatmap(cnf, annot=True, xticklabels=names_lr, yticklabels=names_lr,cmap= \"YlOrBr\")\n",
    "plt.title('Logistic Regression')\n",
    "ax.xaxis.set_label_position('top')\n",
    "plt.ylabel('Actual')\n",
    "plt.xlabel('Predicted')\n",
    "plt.show(block=False)\n"
   ]
  },
  {
   "cell_type": "markdown",
   "metadata": {},
   "source": [
    "## Decision Tree Classifier"
   ]
  },
  {
   "cell_type": "code",
   "execution_count": 77,
   "metadata": {},
   "outputs": [],
   "source": [
    "dt2 = DecisionTreeClassifier()"
   ]
  },
  {
   "cell_type": "code",
   "execution_count": 78,
   "metadata": {},
   "outputs": [
    {
     "data": {
      "text/plain": [
       "DecisionTreeClassifier()"
      ]
     },
     "execution_count": 78,
     "metadata": {},
     "output_type": "execute_result"
    }
   ],
   "source": [
    "dt2.fit(X_train, y_train2)"
   ]
  },
  {
   "cell_type": "code",
   "execution_count": 79,
   "metadata": {},
   "outputs": [
    {
     "data": {
      "text/plain": [
       "0.7368421052631579"
      ]
     },
     "execution_count": 79,
     "metadata": {},
     "output_type": "execute_result"
    }
   ],
   "source": [
    "dt2.score(X_test, y_test2)"
   ]
  },
  {
   "cell_type": "code",
   "execution_count": 80,
   "metadata": {},
   "outputs": [],
   "source": [
    "y_dt2 = dt2.predict(X_test)\n",
    "prob_dt2 = dt2.predict_proba(X_test)"
   ]
  },
  {
   "cell_type": "code",
   "execution_count": 81,
   "metadata": {},
   "outputs": [
    {
     "name": "stdout",
     "output_type": "stream",
     "text": [
      "1. Tested Species\n",
      "['Clouded leopard' 'Jaguar' 'Leopard' 'Lion']\n",
      "2. Predicted Species\n",
      "['Clouded leopard' 'Jaguar' 'Leopard' 'Lion']\n",
      "3. Not tested for but predicted\n",
      "set()\n",
      "4. Tested for but not predicted\n",
      "set()\n"
     ]
    }
   ],
   "source": [
    "print('1. Tested Species')\n",
    "print(np.unique(y_test2))\n",
    "print('2. Predicted Species')\n",
    "print(np.unique(y_dt2))\n",
    "print('3. Not tested for but predicted')\n",
    "print(set(np.unique(y_dt2))-set(np.unique(y_test2)))\n",
    "print('4. Tested for but not predicted')\n",
    "print(set(np.unique(y_test2))-set(np.unique(y_dt2)))"
   ]
  },
  {
   "cell_type": "code",
   "execution_count": 82,
   "metadata": {},
   "outputs": [
    {
     "name": "stdout",
     "output_type": "stream",
     "text": [
      "Accuracy 0.7368421052631579\n"
     ]
    },
    {
     "data": {
      "image/png": "[encoded data removed]",
      "text/plain": [
       "<Figure size 576x288 with 2 Axes>"
      ]
     },
     "metadata": {
      "needs_background": "light"
     },
     "output_type": "display_data"
    }
   ],
   "source": [
    "names_cart = sorted(list(set(np.unique(y_test2)).union(set(y_dt2))))\n",
    "cnf = confusion_matrix(y_test2, y_dt2)\n",
    "fig, ax = plt.subplots(figsize=(8,4))\n",
    "\n",
    "print('Accuracy',dt2.score(X_test, y_test2))\n",
    "\n",
    "sns.heatmap(cnf, annot=True, xticklabels=names_cart, yticklabels=names_cart,cmap= \"YlOrBr\")\n",
    "plt.title('Decision Tree Classifier')\n",
    "ax.xaxis.set_label_position('top')\n",
    "plt.ylabel('Actual')\n",
    "plt.xlabel('Predicted')\n",
    "plt.show(block=False)\n"
   ]
  },
  {
   "cell_type": "markdown",
   "metadata": {},
   "source": [
    "## Random Forest Classifier"
   ]
  },
  {
   "cell_type": "code",
   "execution_count": 83,
   "metadata": {},
   "outputs": [],
   "source": [
    "rf2 = RandomForestClassifier()"
   ]
  },
  {
   "cell_type": "code",
   "execution_count": 84,
   "metadata": {},
   "outputs": [
    {
     "data": {
      "text/plain": [
       "RandomForestClassifier()"
      ]
     },
     "execution_count": 84,
     "metadata": {},
     "output_type": "execute_result"
    }
   ],
   "source": [
    "rf2.fit(X_train, y_train2)"
   ]
  },
  {
   "cell_type": "code",
   "execution_count": 85,
   "metadata": {},
   "outputs": [
    {
     "data": {
      "text/plain": [
       "0.8157894736842105"
      ]
     },
     "execution_count": 85,
     "metadata": {},
     "output_type": "execute_result"
    }
   ],
   "source": [
    "rf2.score(X_test, y_test2)"
   ]
  },
  {
   "cell_type": "code",
   "execution_count": 86,
   "metadata": {},
   "outputs": [],
   "source": [
    "y_rf2 = rf2.predict(X_test)\n",
    "prob_rf2 = rf2.predict_proba(X_test)"
   ]
  },
  {
   "cell_type": "code",
   "execution_count": 87,
   "metadata": {},
   "outputs": [
    {
     "name": "stdout",
     "output_type": "stream",
     "text": [
      "1. Tested Species\n",
      "['Clouded leopard' 'Jaguar' 'Leopard' 'Lion']\n",
      "2. Predicted Species\n",
      "['Clouded leopard' 'Jaguar' 'Leopard' 'Lion']\n",
      "3. Not tested for but predicted\n",
      "set()\n",
      "4. Tested for but not predicted\n",
      "set()\n"
     ]
    }
   ],
   "source": [
    "print('1. Tested Species')\n",
    "print(np.unique(y_test2))\n",
    "print('2. Predicted Species')\n",
    "print(np.unique(y_rf2))\n",
    "print('3. Not tested for but predicted')\n",
    "print(set(np.unique(y_rf2))-set(np.unique(y_test2)))\n",
    "print('4. Tested for but not predicted')\n",
    "print(set(np.unique(y_test2))-set(np.unique(y_rf2)))"
   ]
  },
  {
   "cell_type": "code",
   "execution_count": 88,
   "metadata": {},
   "outputs": [
    {
     "data": {
      "image/png": "[encoded data removed]",
      "text/plain": [
       "<Figure size 432x288 with 1 Axes>"
      ]
     },
     "metadata": {
      "needs_background": "light"
     },
     "output_type": "display_data"
    }
   ],
   "source": [
    "importances = rf2.feature_importances_\n",
    "imp = np.argsort(importances)[::-1]\n",
    "\n",
    "\n",
    "plt.title('Feature Importance')\n",
    "plt.bar(range(X_train.shape[1]), importances[imp], align='center')\n",
    "plt.xticks(range(X_train.shape[1]), X_train.columns[imp], rotation=90)\n",
    "plt.tight_layout()\n",
    "plt.savefig('Feature Importance in Species Classification With Random Forest.png')\n",
    "plt.show()"
   ]
  },
  {
   "cell_type": "code",
   "execution_count": 89,
   "metadata": {},
   "outputs": [
    {
     "name": "stdout",
     "output_type": "stream",
     "text": [
      "Accuracy 0.8157894736842105\n"
     ]
    },
    {
     "data": {
      "image/png": "[encoded data removed]",
      "text/plain": [
       "<Figure size 576x288 with 2 Axes>"
      ]
     },
     "metadata": {
      "needs_background": "light"
     },
     "output_type": "display_data"
    }
   ],
   "source": [
    "names_rf = sorted(list(set(np.unique(y_test2)).union(set(y_rf2))))\n",
    "cnf = confusion_matrix(y_test2, y_rf2)\n",
    "fig, ax = plt.subplots(figsize=(8,4))\n",
    "\n",
    "print('Accuracy',rf2.score(X_test, y_test2))\n",
    "\n",
    "sns.heatmap(cnf, annot=True, xticklabels=names_rf, yticklabels=names_rf,cmap= \"YlOrBr\")\n",
    "plt.title('Random Forest')\n",
    "ax.xaxis.set_label_position('top')\n",
    "plt.ylabel('Actual')\n",
    "plt.xlabel('Predicted')\n",
    "plt.show(block=False)"
   ]
  },
  {
   "cell_type": "code",
   "execution_count": 90,
   "metadata": {},
   "outputs": [
    {
     "name": "stdout",
     "output_type": "stream",
     "text": [
      "LBG* 0.7894736842105263\n",
      "CLF-XGB** 0.8421052631578947\n",
      "SVM* 0.8157894736842105\n",
      "LR 0.7894736842105263\n",
      "DT 0.7368421052631579\n",
      "RF** 0.8157894736842105\n"
     ]
    }
   ],
   "source": [
    "print('LBG*',lgb2.score(X_test,y_test2))\n",
    "print('CLF-XGB**',clf2.score(X_test,y_test2))\n",
    "print('SVM*',svm2.score(X_test, y_test2))\n",
    "print('LR',lr2.score(X_test, y_test2))\n",
    "print('DT',dt2.score(X_test, y_test2))\n",
    "print('RF**',rf2.score(X_test, y_test2))"
   ]
  },
  {
   "cell_type": "code",
   "execution_count": 91,
   "metadata": {},
   "outputs": [
    {
     "data": {
      "text/html": [
       "<div>\n",
       "<style scoped>\n",
       "    .dataframe tbody tr th:only-of-type {\n",
       "        vertical-align: middle;\n",
       "    }\n",
       "\n",
       "    .dataframe tbody tr th {\n",
       "        vertical-align: top;\n",
       "    }\n",
       "\n",
       "    .dataframe thead th {\n",
       "        text-align: right;\n",
       "    }\n",
       "</style>\n",
       "<table border=\"1\" class=\"dataframe\">\n",
       "  <thead>\n",
       "    <tr style=\"text-align: right;\">\n",
       "      <th></th>\n",
       "      <th>Partials_Standardized</th>\n",
       "      <th>Zero_Crossings_Standardized</th>\n",
       "      <th>Duration_in_Sec_Standardized</th>\n",
       "      <th>Amp_range_Standardized</th>\n",
       "      <th>Avg_amp_Standardized</th>\n",
       "      <th>Freq_range_Standardized</th>\n",
       "      <th>Pulses_per_Sec_Standardized</th>\n",
       "      <th>Mean_MFCC_Standardized</th>\n",
       "      <th>Mean_Spectral Rolloff_Standardized</th>\n",
       "      <th>Mean_Melspectrogram_Standardized</th>\n",
       "      <th>Mean_Spectral Contrast_Standardized</th>\n",
       "      <th>Mean_Chromagram_Standardized</th>\n",
       "      <th>Mean_Tempogram_Standardized</th>\n",
       "      <th>File Name</th>\n",
       "      <th>Duration_in_Sec</th>\n",
       "      <th>Zero_Crossings</th>\n",
       "      <th>Amp_range</th>\n",
       "      <th>Avg_amp</th>\n",
       "      <th>Freq_range</th>\n",
       "      <th>Pulses_per_Sec</th>\n",
       "      <th>Mean_MFCC</th>\n",
       "      <th>Mean_Spectral Rolloff</th>\n",
       "      <th>Mean_Melspectrogram</th>\n",
       "      <th>Mean_Spectral Contrast</th>\n",
       "      <th>Mean_Chromagram</th>\n",
       "      <th>Mean_Tempogram</th>\n",
       "      <th>Mean_Tonnetz</th>\n",
       "      <th>Partials</th>\n",
       "      <th>Mean RMS</th>\n",
       "      <th>Target</th>\n",
       "      <th>Clouded leopard</th>\n",
       "      <th>Jaguar</th>\n",
       "      <th>Leopard</th>\n",
       "      <th>Lion</th>\n",
       "      <th>Predicted</th>\n",
       "    </tr>\n",
       "  </thead>\n",
       "  <tbody>\n",
       "    <tr>\n",
       "      <th>396</th>\n",
       "      <td>-0.424178</td>\n",
       "      <td>-0.557045</td>\n",
       "      <td>-0.605682</td>\n",
       "      <td>-0.185770</td>\n",
       "      <td>-0.119101</td>\n",
       "      <td>-0.792400</td>\n",
       "      <td>-0.200498</td>\n",
       "      <td>0.511056</td>\n",
       "      <td>0.027756</td>\n",
       "      <td>-0.187893</td>\n",
       "      <td>2.127159</td>\n",
       "      <td>-0.034713</td>\n",
       "      <td>-2.101232</td>\n",
       "      <td>CL-Prusten-6</td>\n",
       "      <td>1</td>\n",
       "      <td>1424</td>\n",
       "      <td>0.197703</td>\n",
       "      <td>0.021245</td>\n",
       "      <td>2358.000000</td>\n",
       "      <td>540.000000</td>\n",
       "      <td>-4.226893</td>\n",
       "      <td>3808.929998</td>\n",
       "      <td>0.248978</td>\n",
       "      <td>21.521610</td>\n",
       "      <td>0.702022</td>\n",
       "      <td>0.043386</td>\n",
       "      <td>-0.013801</td>\n",
       "      <td>2</td>\n",
       "      <td>0.028304</td>\n",
       "      <td>Clouded leopard</td>\n",
       "      <td>0.930029</td>\n",
       "      <td>0.057416</td>\n",
       "      <td>0.003640</td>\n",
       "      <td>0.008915</td>\n",
       "      <td>Clouded leopard</td>\n",
       "    </tr>\n",
       "    <tr>\n",
       "      <th>420</th>\n",
       "      <td>0.668057</td>\n",
       "      <td>0.096867</td>\n",
       "      <td>0.039612</td>\n",
       "      <td>0.625801</td>\n",
       "      <td>0.456559</td>\n",
       "      <td>1.555039</td>\n",
       "      <td>0.866603</td>\n",
       "      <td>0.914888</td>\n",
       "      <td>0.584757</td>\n",
       "      <td>0.044857</td>\n",
       "      <td>0.332814</td>\n",
       "      <td>0.203216</td>\n",
       "      <td>-0.203573</td>\n",
       "      <td>Jaguar-Roar-2</td>\n",
       "      <td>6</td>\n",
       "      <td>11932</td>\n",
       "      <td>0.396729</td>\n",
       "      <td>0.037894</td>\n",
       "      <td>10044.000000</td>\n",
       "      <td>1232.666667</td>\n",
       "      <td>-2.982307</td>\n",
       "      <td>4899.967668</td>\n",
       "      <td>0.921002</td>\n",
       "      <td>18.972525</td>\n",
       "      <td>0.723149</td>\n",
       "      <td>0.154039</td>\n",
       "      <td>0.003879</td>\n",
       "      <td>31</td>\n",
       "      <td>0.048366</td>\n",
       "      <td>Jaguar</td>\n",
       "      <td>0.002497</td>\n",
       "      <td>0.032533</td>\n",
       "      <td>0.954369</td>\n",
       "      <td>0.010601</td>\n",
       "      <td>Leopard</td>\n",
       "    </tr>\n",
       "    <tr>\n",
       "      <th>414</th>\n",
       "      <td>-0.499504</td>\n",
       "      <td>-0.575590</td>\n",
       "      <td>-0.605682</td>\n",
       "      <td>-0.649563</td>\n",
       "      <td>-0.590834</td>\n",
       "      <td>-0.194384</td>\n",
       "      <td>-0.396104</td>\n",
       "      <td>0.718229</td>\n",
       "      <td>0.838725</td>\n",
       "      <td>-0.265059</td>\n",
       "      <td>-1.661450</td>\n",
       "      <td>1.320730</td>\n",
       "      <td>-0.608700</td>\n",
       "      <td>Jaguar-Prusten-1</td>\n",
       "      <td>1</td>\n",
       "      <td>1126</td>\n",
       "      <td>0.083964</td>\n",
       "      <td>0.007602</td>\n",
       "      <td>4316.028663</td>\n",
       "      <td>413.030360</td>\n",
       "      <td>-3.588397</td>\n",
       "      <td>5397.431946</td>\n",
       "      <td>0.026172</td>\n",
       "      <td>16.139429</td>\n",
       "      <td>0.822378</td>\n",
       "      <td>0.130416</td>\n",
       "      <td>0.005206</td>\n",
       "      <td>0</td>\n",
       "      <td>0.009894</td>\n",
       "      <td>Jaguar</td>\n",
       "      <td>0.039302</td>\n",
       "      <td>0.945444</td>\n",
       "      <td>0.008371</td>\n",
       "      <td>0.006883</td>\n",
       "      <td>Jaguar</td>\n",
       "    </tr>\n",
       "  </tbody>\n",
       "</table>\n",
       "</div>"
      ],
      "text/plain": [
       "     Partials_Standardized  Zero_Crossings_Standardized  \\\n",
       "396              -0.424178                    -0.557045   \n",
       "420               0.668057                     0.096867   \n",
       "414              -0.499504                    -0.575590   \n",
       "\n",
       "     Duration_in_Sec_Standardized  Amp_range_Standardized  \\\n",
       "396                     -0.605682               -0.185770   \n",
       "420                      0.039612                0.625801   \n",
       "414                     -0.605682               -0.649563   \n",
       "\n",
       "     Avg_amp_Standardized  Freq_range_Standardized  \\\n",
       "396             -0.119101                -0.792400   \n",
       "420              0.456559                 1.555039   \n",
       "414             -0.590834                -0.194384   \n",
       "\n",
       "     Pulses_per_Sec_Standardized  Mean_MFCC_Standardized  \\\n",
       "396                    -0.200498                0.511056   \n",
       "420                     0.866603                0.914888   \n",
       "414                    -0.396104                0.718229   \n",
       "\n",
       "     Mean_Spectral Rolloff_Standardized  Mean_Melspectrogram_Standardized  \\\n",
       "396                            0.027756                         -0.187893   \n",
       "420                            0.584757                          0.044857   \n",
       "414                            0.838725                         -0.265059   \n",
       "\n",
       "     Mean_Spectral Contrast_Standardized  Mean_Chromagram_Standardized  \\\n",
       "396                             2.127159                     -0.034713   \n",
       "420                             0.332814                      0.203216   \n",
       "414                            -1.661450                      1.320730   \n",
       "\n",
       "     Mean_Tempogram_Standardized         File Name  Duration_in_Sec  \\\n",
       "396                    -2.101232      CL-Prusten-6                1   \n",
       "420                    -0.203573     Jaguar-Roar-2                6   \n",
       "414                    -0.608700  Jaguar-Prusten-1                1   \n",
       "\n",
       "     Zero_Crossings  Amp_range   Avg_amp    Freq_range  Pulses_per_Sec  \\\n",
       "396            1424   0.197703  0.021245   2358.000000      540.000000   \n",
       "420           11932   0.396729  0.037894  10044.000000     1232.666667   \n",
       "414            1126   0.083964  0.007602   4316.028663      413.030360   \n",
       "\n",
       "     Mean_MFCC  Mean_Spectral Rolloff  Mean_Melspectrogram  \\\n",
       "396  -4.226893            3808.929998             0.248978   \n",
       "420  -2.982307            4899.967668             0.921002   \n",
       "414  -3.588397            5397.431946             0.026172   \n",
       "\n",
       "     Mean_Spectral Contrast  Mean_Chromagram  Mean_Tempogram  Mean_Tonnetz  \\\n",
       "396               21.521610         0.702022        0.043386     -0.013801   \n",
       "420               18.972525         0.723149        0.154039      0.003879   \n",
       "414               16.139429         0.822378        0.130416      0.005206   \n",
       "\n",
       "     Partials  Mean RMS           Target  Clouded leopard    Jaguar   Leopard  \\\n",
       "396         2  0.028304  Clouded leopard         0.930029  0.057416  0.003640   \n",
       "420        31  0.048366           Jaguar         0.002497  0.032533  0.954369   \n",
       "414         0  0.009894           Jaguar         0.039302  0.945444  0.008371   \n",
       "\n",
       "         Lion        Predicted  \n",
       "396  0.008915  Clouded leopard  \n",
       "420  0.010601          Leopard  \n",
       "414  0.006883           Jaguar  "
      ]
     },
     "execution_count": 91,
     "metadata": {},
     "output_type": "execute_result"
    }
   ],
   "source": [
    "pred_df = pd.DataFrame(X_test.copy())\n",
    "pred_df = pred_df.join(df_raw, lsuffix='_Standardized')\n",
    "classes = clf2.classes_\n",
    "pred_df['Target'] = y_test2\n",
    "\n",
    "for i in range(len(classes)):\n",
    "    pred_df[clf2.classes_[i]] = prob_clf2[:,i]\n",
    "\n",
    "pred_df['Predicted'] = y_clf2\n",
    "\n",
    "#pred_df = pred_df[pred_df['Target'] != pred_df['Predicted']]\n",
    "#pred_df.to_csv('Mislabeled Panterinae Species With RF.csv', index=False)\n",
    "pred_df.to_csv('Species Classification Data with XGB.csv', index=False)\n",
    "pred_df.head(3)"
   ]
  },
  {
   "cell_type": "code",
   "execution_count": 92,
   "metadata": {
    "scrolled": true
   },
   "outputs": [
    {
     "data": {
      "text/html": [
       "<div>\n",
       "<style scoped>\n",
       "    .dataframe tbody tr th:only-of-type {\n",
       "        vertical-align: middle;\n",
       "    }\n",
       "\n",
       "    .dataframe tbody tr th {\n",
       "        vertical-align: top;\n",
       "    }\n",
       "\n",
       "    .dataframe thead th {\n",
       "        text-align: right;\n",
       "    }\n",
       "</style>\n",
       "<table border=\"1\" class=\"dataframe\">\n",
       "  <thead>\n",
       "    <tr style=\"text-align: right;\">\n",
       "      <th></th>\n",
       "      <th>Partials_Standardized</th>\n",
       "      <th>Zero_Crossings_Standardized</th>\n",
       "      <th>Duration_in_Sec_Standardized</th>\n",
       "      <th>Amp_range_Standardized</th>\n",
       "      <th>Avg_amp_Standardized</th>\n",
       "      <th>Freq_range_Standardized</th>\n",
       "      <th>Pulses_per_Sec_Standardized</th>\n",
       "      <th>Mean_MFCC_Standardized</th>\n",
       "      <th>Mean_Spectral Rolloff_Standardized</th>\n",
       "      <th>Mean_Melspectrogram_Standardized</th>\n",
       "      <th>Mean_Spectral Contrast_Standardized</th>\n",
       "      <th>Mean_Chromagram_Standardized</th>\n",
       "      <th>Mean_Tempogram_Standardized</th>\n",
       "      <th>File Name</th>\n",
       "      <th>Duration_in_Sec</th>\n",
       "      <th>Zero_Crossings</th>\n",
       "      <th>Amp_range</th>\n",
       "      <th>Avg_amp</th>\n",
       "      <th>Freq_range</th>\n",
       "      <th>Pulses_per_Sec</th>\n",
       "      <th>Mean_MFCC</th>\n",
       "      <th>Mean_Spectral Rolloff</th>\n",
       "      <th>Mean_Melspectrogram</th>\n",
       "      <th>Mean_Spectral Contrast</th>\n",
       "      <th>Mean_Chromagram</th>\n",
       "      <th>Mean_Tempogram</th>\n",
       "      <th>Mean_Tonnetz</th>\n",
       "      <th>Partials</th>\n",
       "      <th>Mean RMS</th>\n",
       "      <th>Target</th>\n",
       "      <th>Clouded leopard</th>\n",
       "      <th>Jaguar</th>\n",
       "      <th>Leopard</th>\n",
       "      <th>Lion</th>\n",
       "      <th>Predicted</th>\n",
       "    </tr>\n",
       "  </thead>\n",
       "  <tbody>\n",
       "    <tr>\n",
       "      <th>396</th>\n",
       "      <td>-0.424178</td>\n",
       "      <td>-0.557045</td>\n",
       "      <td>-0.605682</td>\n",
       "      <td>-0.185770</td>\n",
       "      <td>-0.119101</td>\n",
       "      <td>-0.792400</td>\n",
       "      <td>-0.200498</td>\n",
       "      <td>0.511056</td>\n",
       "      <td>0.027756</td>\n",
       "      <td>-0.187893</td>\n",
       "      <td>2.127159</td>\n",
       "      <td>-0.034713</td>\n",
       "      <td>-2.101232</td>\n",
       "      <td>CL-Prusten-6</td>\n",
       "      <td>1</td>\n",
       "      <td>1424</td>\n",
       "      <td>0.197703</td>\n",
       "      <td>0.021245</td>\n",
       "      <td>2358.000000</td>\n",
       "      <td>540.000000</td>\n",
       "      <td>-4.226893</td>\n",
       "      <td>3808.929998</td>\n",
       "      <td>0.248978</td>\n",
       "      <td>21.521610</td>\n",
       "      <td>0.702022</td>\n",
       "      <td>0.043386</td>\n",
       "      <td>-0.013801</td>\n",
       "      <td>2</td>\n",
       "      <td>0.028304</td>\n",
       "      <td>Clouded leopard</td>\n",
       "      <td>0.79</td>\n",
       "      <td>0.12</td>\n",
       "      <td>0.01</td>\n",
       "      <td>0.08</td>\n",
       "      <td>Clouded leopard</td>\n",
       "    </tr>\n",
       "    <tr>\n",
       "      <th>420</th>\n",
       "      <td>0.668057</td>\n",
       "      <td>0.096867</td>\n",
       "      <td>0.039612</td>\n",
       "      <td>0.625801</td>\n",
       "      <td>0.456559</td>\n",
       "      <td>1.555039</td>\n",
       "      <td>0.866603</td>\n",
       "      <td>0.914888</td>\n",
       "      <td>0.584757</td>\n",
       "      <td>0.044857</td>\n",
       "      <td>0.332814</td>\n",
       "      <td>0.203216</td>\n",
       "      <td>-0.203573</td>\n",
       "      <td>Jaguar-Roar-2</td>\n",
       "      <td>6</td>\n",
       "      <td>11932</td>\n",
       "      <td>0.396729</td>\n",
       "      <td>0.037894</td>\n",
       "      <td>10044.000000</td>\n",
       "      <td>1232.666667</td>\n",
       "      <td>-2.982307</td>\n",
       "      <td>4899.967668</td>\n",
       "      <td>0.921002</td>\n",
       "      <td>18.972525</td>\n",
       "      <td>0.723149</td>\n",
       "      <td>0.154039</td>\n",
       "      <td>0.003879</td>\n",
       "      <td>31</td>\n",
       "      <td>0.048366</td>\n",
       "      <td>Jaguar</td>\n",
       "      <td>0.00</td>\n",
       "      <td>0.14</td>\n",
       "      <td>0.78</td>\n",
       "      <td>0.08</td>\n",
       "      <td>Leopard</td>\n",
       "    </tr>\n",
       "    <tr>\n",
       "      <th>414</th>\n",
       "      <td>-0.499504</td>\n",
       "      <td>-0.575590</td>\n",
       "      <td>-0.605682</td>\n",
       "      <td>-0.649563</td>\n",
       "      <td>-0.590834</td>\n",
       "      <td>-0.194384</td>\n",
       "      <td>-0.396104</td>\n",
       "      <td>0.718229</td>\n",
       "      <td>0.838725</td>\n",
       "      <td>-0.265059</td>\n",
       "      <td>-1.661450</td>\n",
       "      <td>1.320730</td>\n",
       "      <td>-0.608700</td>\n",
       "      <td>Jaguar-Prusten-1</td>\n",
       "      <td>1</td>\n",
       "      <td>1126</td>\n",
       "      <td>0.083964</td>\n",
       "      <td>0.007602</td>\n",
       "      <td>4316.028663</td>\n",
       "      <td>413.030360</td>\n",
       "      <td>-3.588397</td>\n",
       "      <td>5397.431946</td>\n",
       "      <td>0.026172</td>\n",
       "      <td>16.139429</td>\n",
       "      <td>0.822378</td>\n",
       "      <td>0.130416</td>\n",
       "      <td>0.005206</td>\n",
       "      <td>0</td>\n",
       "      <td>0.009894</td>\n",
       "      <td>Jaguar</td>\n",
       "      <td>0.06</td>\n",
       "      <td>0.84</td>\n",
       "      <td>0.07</td>\n",
       "      <td>0.03</td>\n",
       "      <td>Jaguar</td>\n",
       "    </tr>\n",
       "  </tbody>\n",
       "</table>\n",
       "</div>"
      ],
      "text/plain": [
       "     Partials_Standardized  Zero_Crossings_Standardized  \\\n",
       "396              -0.424178                    -0.557045   \n",
       "420               0.668057                     0.096867   \n",
       "414              -0.499504                    -0.575590   \n",
       "\n",
       "     Duration_in_Sec_Standardized  Amp_range_Standardized  \\\n",
       "396                     -0.605682               -0.185770   \n",
       "420                      0.039612                0.625801   \n",
       "414                     -0.605682               -0.649563   \n",
       "\n",
       "     Avg_amp_Standardized  Freq_range_Standardized  \\\n",
       "396             -0.119101                -0.792400   \n",
       "420              0.456559                 1.555039   \n",
       "414             -0.590834                -0.194384   \n",
       "\n",
       "     Pulses_per_Sec_Standardized  Mean_MFCC_Standardized  \\\n",
       "396                    -0.200498                0.511056   \n",
       "420                     0.866603                0.914888   \n",
       "414                    -0.396104                0.718229   \n",
       "\n",
       "     Mean_Spectral Rolloff_Standardized  Mean_Melspectrogram_Standardized  \\\n",
       "396                            0.027756                         -0.187893   \n",
       "420                            0.584757                          0.044857   \n",
       "414                            0.838725                         -0.265059   \n",
       "\n",
       "     Mean_Spectral Contrast_Standardized  Mean_Chromagram_Standardized  \\\n",
       "396                             2.127159                     -0.034713   \n",
       "420                             0.332814                      0.203216   \n",
       "414                            -1.661450                      1.320730   \n",
       "\n",
       "     Mean_Tempogram_Standardized         File Name  Duration_in_Sec  \\\n",
       "396                    -2.101232      CL-Prusten-6                1   \n",
       "420                    -0.203573     Jaguar-Roar-2                6   \n",
       "414                    -0.608700  Jaguar-Prusten-1                1   \n",
       "\n",
       "     Zero_Crossings  Amp_range   Avg_amp    Freq_range  Pulses_per_Sec  \\\n",
       "396            1424   0.197703  0.021245   2358.000000      540.000000   \n",
       "420           11932   0.396729  0.037894  10044.000000     1232.666667   \n",
       "414            1126   0.083964  0.007602   4316.028663      413.030360   \n",
       "\n",
       "     Mean_MFCC  Mean_Spectral Rolloff  Mean_Melspectrogram  \\\n",
       "396  -4.226893            3808.929998             0.248978   \n",
       "420  -2.982307            4899.967668             0.921002   \n",
       "414  -3.588397            5397.431946             0.026172   \n",
       "\n",
       "     Mean_Spectral Contrast  Mean_Chromagram  Mean_Tempogram  Mean_Tonnetz  \\\n",
       "396               21.521610         0.702022        0.043386     -0.013801   \n",
       "420               18.972525         0.723149        0.154039      0.003879   \n",
       "414               16.139429         0.822378        0.130416      0.005206   \n",
       "\n",
       "     Partials  Mean RMS           Target  Clouded leopard  Jaguar  Leopard  \\\n",
       "396         2  0.028304  Clouded leopard             0.79    0.12     0.01   \n",
       "420        31  0.048366           Jaguar             0.00    0.14     0.78   \n",
       "414         0  0.009894           Jaguar             0.06    0.84     0.07   \n",
       "\n",
       "     Lion        Predicted  \n",
       "396  0.08  Clouded leopard  \n",
       "420  0.08          Leopard  \n",
       "414  0.03           Jaguar  "
      ]
     },
     "execution_count": 92,
     "metadata": {},
     "output_type": "execute_result"
    }
   ],
   "source": [
    "pred_df = pd.DataFrame(X_test.copy())\n",
    "pred_df = pred_df.join(df_raw, lsuffix='_Standardized')\n",
    "classes = rf2.classes_\n",
    "pred_df['Target'] = y_test2\n",
    "\n",
    "for i in range(len(classes)):\n",
    "    pred_df[rf2.classes_[i]] = prob_rf2[:,i]\n",
    "\n",
    "pred_df['Predicted'] = y_rf2\n",
    "\n",
    "#pred_df = pred_df[pred_df['Target'] != pred_df['Predicted']]\n",
    "#pred_df.to_csv('Mislabeled Panterinae Species With RF.csv', index=False)\n",
    "pred_df.to_csv('Species Classification Data with Random Forest.csv', index=False)\n",
    "pred_df.head(3)"
   ]
  },
  {
   "cell_type": "code",
   "execution_count": 93,
   "metadata": {},
   "outputs": [
    {
     "ename": "KeyError",
     "evalue": "'Spectral Rolloff'",
     "output_type": "error",
     "traceback": [
      "\u001b[1;31m---------------------------------------------------------------------------\u001b[0m",
      "\u001b[1;31mKeyError\u001b[0m                                  Traceback (most recent call last)",
      "\u001b[1;32m~\\anaconda3\\lib\\site-packages\\pandas\\core\\indexes\\base.py\u001b[0m in \u001b[0;36mget_loc\u001b[1;34m(self, key, method, tolerance)\u001b[0m\n\u001b[0;32m   3079\u001b[0m             \u001b[1;32mtry\u001b[0m\u001b[1;33m:\u001b[0m\u001b[1;33m\u001b[0m\u001b[1;33m\u001b[0m\u001b[0m\n\u001b[1;32m-> 3080\u001b[1;33m                 \u001b[1;32mreturn\u001b[0m \u001b[0mself\u001b[0m\u001b[1;33m.\u001b[0m\u001b[0m_engine\u001b[0m\u001b[1;33m.\u001b[0m\u001b[0mget_loc\u001b[0m\u001b[1;33m(\u001b[0m\u001b[0mcasted_key\u001b[0m\u001b[1;33m)\u001b[0m\u001b[1;33m\u001b[0m\u001b[1;33m\u001b[0m\u001b[0m\n\u001b[0m\u001b[0;32m   3081\u001b[0m             \u001b[1;32mexcept\u001b[0m \u001b[0mKeyError\u001b[0m \u001b[1;32mas\u001b[0m \u001b[0merr\u001b[0m\u001b[1;33m:\u001b[0m\u001b[1;33m\u001b[0m\u001b[1;33m\u001b[0m\u001b[0m\n",
      "\u001b[1;32mpandas\\_libs\\index.pyx\u001b[0m in \u001b[0;36mpandas._libs.index.IndexEngine.get_loc\u001b[1;34m()\u001b[0m\n",
      "\u001b[1;32mpandas\\_libs\\index.pyx\u001b[0m in \u001b[0;36mpandas._libs.index.IndexEngine.get_loc\u001b[1;34m()\u001b[0m\n",
      "\u001b[1;32mpandas\\_libs\\hashtable_class_helper.pxi\u001b[0m in \u001b[0;36mpandas._libs.hashtable.PyObjectHashTable.get_item\u001b[1;34m()\u001b[0m\n",
      "\u001b[1;32mpandas\\_libs\\hashtable_class_helper.pxi\u001b[0m in \u001b[0;36mpandas._libs.hashtable.PyObjectHashTable.get_item\u001b[1;34m()\u001b[0m\n",
      "\u001b[1;31mKeyError\u001b[0m: 'Spectral Rolloff'",
      "\nThe above exception was the direct cause of the following exception:\n",
      "\u001b[1;31mKeyError\u001b[0m                                  Traceback (most recent call last)",
      "\u001b[1;32m<ipython-input-93-d734652f9256>\u001b[0m in \u001b[0;36m<module>\u001b[1;34m\u001b[0m\n\u001b[0;32m      6\u001b[0m \u001b[1;32mfor\u001b[0m \u001b[0mi\u001b[0m \u001b[1;32min\u001b[0m \u001b[0mrange\u001b[0m\u001b[1;33m(\u001b[0m\u001b[0mlen\u001b[0m\u001b[1;33m(\u001b[0m\u001b[0ml\u001b[0m\u001b[1;33m)\u001b[0m\u001b[1;33m)\u001b[0m\u001b[1;33m:\u001b[0m\u001b[1;33m\u001b[0m\u001b[1;33m\u001b[0m\u001b[0m\n\u001b[0;32m      7\u001b[0m     \u001b[0mplt\u001b[0m\u001b[1;33m.\u001b[0m\u001b[0msubplot\u001b[0m\u001b[1;33m(\u001b[0m\u001b[1;36m7\u001b[0m\u001b[1;33m,\u001b[0m\u001b[1;36m2\u001b[0m\u001b[1;33m,\u001b[0m\u001b[0mi\u001b[0m\u001b[1;33m+\u001b[0m\u001b[1;36m1\u001b[0m\u001b[1;33m)\u001b[0m\u001b[1;33m\u001b[0m\u001b[1;33m\u001b[0m\u001b[0m\n\u001b[1;32m----> 8\u001b[1;33m     \u001b[0msns\u001b[0m\u001b[1;33m.\u001b[0m\u001b[0mscatterplot\u001b[0m\u001b[1;33m(\u001b[0m\u001b[0mdf\u001b[0m\u001b[1;33m[\u001b[0m\u001b[0ml\u001b[0m\u001b[1;33m[\u001b[0m\u001b[0mi\u001b[0m\u001b[1;33m]\u001b[0m\u001b[1;33m]\u001b[0m\u001b[1;33m,\u001b[0m \u001b[0mdf\u001b[0m\u001b[1;33m[\u001b[0m\u001b[1;34m'Call'\u001b[0m\u001b[1;33m]\u001b[0m\u001b[1;33m,\u001b[0m \u001b[0mhue\u001b[0m\u001b[1;33m=\u001b[0m\u001b[0mdf\u001b[0m\u001b[1;33m[\u001b[0m\u001b[1;34m'Species'\u001b[0m\u001b[1;33m]\u001b[0m\u001b[1;33m,\u001b[0m \u001b[0mlegend\u001b[0m\u001b[1;33m=\u001b[0m\u001b[1;34m'brief'\u001b[0m\u001b[1;33m,\u001b[0m \u001b[0mpalette\u001b[0m\u001b[1;33m=\u001b[0m\u001b[1;34m'deep'\u001b[0m\u001b[1;33m)\u001b[0m\u001b[1;33m\u001b[0m\u001b[1;33m\u001b[0m\u001b[0m\n\u001b[0m\u001b[0;32m      9\u001b[0m \u001b[0mplt\u001b[0m\u001b[1;33m.\u001b[0m\u001b[0msavefig\u001b[0m\u001b[1;33m(\u001b[0m\u001b[1;34m'Call Clusters By Features.pdf'\u001b[0m\u001b[1;33m)\u001b[0m\u001b[1;33m\u001b[0m\u001b[1;33m\u001b[0m\u001b[0m\n\u001b[0;32m     10\u001b[0m \u001b[0mplt\u001b[0m\u001b[1;33m.\u001b[0m\u001b[0mshow\u001b[0m\u001b[1;33m(\u001b[0m\u001b[1;33m)\u001b[0m\u001b[1;33m\u001b[0m\u001b[1;33m\u001b[0m\u001b[0m\n",
      "\u001b[1;32m~\\anaconda3\\lib\\site-packages\\pandas\\core\\frame.py\u001b[0m in \u001b[0;36m__getitem__\u001b[1;34m(self, key)\u001b[0m\n\u001b[0;32m   3022\u001b[0m             \u001b[1;32mif\u001b[0m \u001b[0mself\u001b[0m\u001b[1;33m.\u001b[0m\u001b[0mcolumns\u001b[0m\u001b[1;33m.\u001b[0m\u001b[0mnlevels\u001b[0m \u001b[1;33m>\u001b[0m \u001b[1;36m1\u001b[0m\u001b[1;33m:\u001b[0m\u001b[1;33m\u001b[0m\u001b[1;33m\u001b[0m\u001b[0m\n\u001b[0;32m   3023\u001b[0m                 \u001b[1;32mreturn\u001b[0m \u001b[0mself\u001b[0m\u001b[1;33m.\u001b[0m\u001b[0m_getitem_multilevel\u001b[0m\u001b[1;33m(\u001b[0m\u001b[0mkey\u001b[0m\u001b[1;33m)\u001b[0m\u001b[1;33m\u001b[0m\u001b[1;33m\u001b[0m\u001b[0m\n\u001b[1;32m-> 3024\u001b[1;33m             \u001b[0mindexer\u001b[0m \u001b[1;33m=\u001b[0m \u001b[0mself\u001b[0m\u001b[1;33m.\u001b[0m\u001b[0mcolumns\u001b[0m\u001b[1;33m.\u001b[0m\u001b[0mget_loc\u001b[0m\u001b[1;33m(\u001b[0m\u001b[0mkey\u001b[0m\u001b[1;33m)\u001b[0m\u001b[1;33m\u001b[0m\u001b[1;33m\u001b[0m\u001b[0m\n\u001b[0m\u001b[0;32m   3025\u001b[0m             \u001b[1;32mif\u001b[0m \u001b[0mis_integer\u001b[0m\u001b[1;33m(\u001b[0m\u001b[0mindexer\u001b[0m\u001b[1;33m)\u001b[0m\u001b[1;33m:\u001b[0m\u001b[1;33m\u001b[0m\u001b[1;33m\u001b[0m\u001b[0m\n\u001b[0;32m   3026\u001b[0m                 \u001b[0mindexer\u001b[0m \u001b[1;33m=\u001b[0m \u001b[1;33m[\u001b[0m\u001b[0mindexer\u001b[0m\u001b[1;33m]\u001b[0m\u001b[1;33m\u001b[0m\u001b[1;33m\u001b[0m\u001b[0m\n",
      "\u001b[1;32m~\\anaconda3\\lib\\site-packages\\pandas\\core\\indexes\\base.py\u001b[0m in \u001b[0;36mget_loc\u001b[1;34m(self, key, method, tolerance)\u001b[0m\n\u001b[0;32m   3080\u001b[0m                 \u001b[1;32mreturn\u001b[0m \u001b[0mself\u001b[0m\u001b[1;33m.\u001b[0m\u001b[0m_engine\u001b[0m\u001b[1;33m.\u001b[0m\u001b[0mget_loc\u001b[0m\u001b[1;33m(\u001b[0m\u001b[0mcasted_key\u001b[0m\u001b[1;33m)\u001b[0m\u001b[1;33m\u001b[0m\u001b[1;33m\u001b[0m\u001b[0m\n\u001b[0;32m   3081\u001b[0m             \u001b[1;32mexcept\u001b[0m \u001b[0mKeyError\u001b[0m \u001b[1;32mas\u001b[0m \u001b[0merr\u001b[0m\u001b[1;33m:\u001b[0m\u001b[1;33m\u001b[0m\u001b[1;33m\u001b[0m\u001b[0m\n\u001b[1;32m-> 3082\u001b[1;33m                 \u001b[1;32mraise\u001b[0m \u001b[0mKeyError\u001b[0m\u001b[1;33m(\u001b[0m\u001b[0mkey\u001b[0m\u001b[1;33m)\u001b[0m \u001b[1;32mfrom\u001b[0m \u001b[0merr\u001b[0m\u001b[1;33m\u001b[0m\u001b[1;33m\u001b[0m\u001b[0m\n\u001b[0m\u001b[0;32m   3083\u001b[0m \u001b[1;33m\u001b[0m\u001b[0m\n\u001b[0;32m   3084\u001b[0m         \u001b[1;32mif\u001b[0m \u001b[0mtolerance\u001b[0m \u001b[1;32mis\u001b[0m \u001b[1;32mnot\u001b[0m \u001b[1;32mNone\u001b[0m\u001b[1;33m:\u001b[0m\u001b[1;33m\u001b[0m\u001b[1;33m\u001b[0m\u001b[0m\n",
      "\u001b[1;31mKeyError\u001b[0m: 'Spectral Rolloff'"
     ]
    },
    {
     "data": {
      "image/png": "[encoded data removed]",
      "text/plain": [
       "<Figure size 1800x2160 with 9 Axes>"
      ]
     },
     "metadata": {
      "needs_background": "light"
     },
     "output_type": "display_data"
    }
   ],
   "source": [
    "l= ['Partials', 'Zero_Crossings', 'Duration_in_Sec', 'Amp_range', 'Avg_amp',\n",
    "       'Freq_range', 'Pulses_per_Sec', 'Mean_MFCC', 'Mean_Spectral Rolloff',\n",
    "       'Melspectrogram', 'Spectral Contrast', 'Chromagram','Tempogram']\n",
    "\n",
    "plt.figure(figsize=(25,30))\n",
    "for i in range(len(l)):\n",
    "    plt.subplot(7,2,i+1)\n",
    "    sns.scatterplot(df[l[i]], df['Call'], hue=df['Species'], legend='brief', palette='deep') \n",
    "plt.savefig('Call Clusters By Features.pdf')\n",
    "plt.show()"
   ]
  },
  {
   "cell_type": "code",
   "execution_count": null,
   "metadata": {},
   "outputs": [],
   "source": [
    "l= ['Partials', 'Zero_Crossings', 'Duration_in_Sec', 'Amp_range', 'Avg_amp',\n",
    "       'Freq_range', 'Pulses_per_Sec', 'Mean_MFCC', 'Spectral Rolloff',\n",
    "       'Melspectrogram', 'Spectral Contrast', 'Chromagram','Tempogram']\n",
    "\n",
    "plt.figure(figsize=(25,30))\n",
    "for i in range(len(l)):\n",
    "    plt.subplot(7,2,i+1)\n",
    "    sns.scatterplot(df[l[i]], df['Species'], hue=df['Call'], legend='brief', palette='deep') \n",
    "plt.savefig('Species Clusters By Features.pdf')\n",
    "plt.show()"
   ]
  }
 ],
 "metadata": {
  "kernelspec": {
   "display_name": "Python 3",
   "language": "python",
   "name": "python3"
  },
  "language_info": {
   "codemirror_mode": {
    "name": "ipython",
    "version": 3
   },
   "file_extension": ".py",
   "mimetype": "text/x-python",
   "name": "python",
   "nbconvert_exporter": "python",
   "pygments_lexer": "ipython3",
   "version": "3.8.8"
  }
 },
 "nbformat": 4,
 "nbformat_minor": 4
}
