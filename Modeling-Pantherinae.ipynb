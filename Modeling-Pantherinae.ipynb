{
 "cells": [
  {
   "cell_type": "code",
   "execution_count": 1,
   "metadata": {},
   "outputs": [],
   "source": [
    "import pandas as pd\n",
    "import numpy as np\n",
    "import matplotlib.pyplot as plt\n",
    "%matplotlib inline\n",
    "import seaborn as sns\n",
    "from sklearn.metrics import confusion_matrix\n",
    "\n",
    "from sklearn.model_selection import train_test_split\n",
    "from sklearn.preprocessing import StandardScaler, MinMaxScaler, OneHotEncoder\n",
    "\n",
    "from xgboost import XGBClassifier\n",
    "from sklearn.svm import SVC\n",
    "from sklearn.naive_bayes import GaussianNB, CategoricalNB\n",
    "from sklearn.linear_model import LogisticRegression\n",
    "from sklearn.neighbors import KNeighborsClassifier\n",
    "from sklearn.tree import DecisionTreeClassifier\n",
    "from sklearn.ensemble import RandomForestClassifier\n",
    "\n",
    "from xgboost import plot_importance"
   ]
  },
  {
   "cell_type": "code",
   "execution_count": 2,
   "metadata": {},
   "outputs": [],
   "source": [
    "df = pd.read_csv('features_cleaned.csv')"
   ]
  },
  {
   "cell_type": "code",
   "execution_count": 3,
   "metadata": {},
   "outputs": [
    {
     "data": {
      "text/plain": [
       "(606, 17)"
      ]
     },
     "execution_count": 3,
     "metadata": {},
     "output_type": "execute_result"
    }
   ],
   "source": [
    "df.shape"
   ]
  },
  {
   "cell_type": "code",
   "execution_count": 4,
   "metadata": {},
   "outputs": [],
   "source": [
    "df = df[df.Species.isin(['Clouded leopard','Snow leopard', 'Jaguar','Leopard','Lion'])]"
   ]
  },
  {
   "cell_type": "code",
   "execution_count": 5,
   "metadata": {},
   "outputs": [
    {
     "data": {
      "text/plain": [
       "(143, 17)"
      ]
     },
     "execution_count": 5,
     "metadata": {},
     "output_type": "execute_result"
    }
   ],
   "source": [
    "df.shape"
   ]
  },
  {
   "cell_type": "code",
   "execution_count": 6,
   "metadata": {},
   "outputs": [
    {
     "data": {
      "text/plain": [
       "Index(['Partials', 'Zero_Crossings', 'Duration', 'Amp_range', 'Avg_amp',\n",
       "       'Freq_range', 'Pulses_per_Sec', 'MFCC', 'Spectral Rolloff',\n",
       "       'Melspectrogram', 'Spectral Contrast', 'Chroma_StFt', 'Tonnetz', 'Sex',\n",
       "       'Age', 'Species', 'Call'],\n",
       "      dtype='object')"
      ]
     },
     "execution_count": 6,
     "metadata": {},
     "output_type": "execute_result"
    }
   ],
   "source": [
    "df.columns"
   ]
  },
  {
   "cell_type": "code",
   "execution_count": 7,
   "metadata": {},
   "outputs": [],
   "source": [
    "X = df[pd.notnull(df['Call'])].drop(['Call','Sex','Age','Species'], axis=1)\n",
    "y = df[pd.notnull(df['Call'])][['Call','Species']]"
   ]
  },
  {
   "cell_type": "code",
   "execution_count": 8,
   "metadata": {},
   "outputs": [],
   "source": [
    "X_train, X_test, y_train, y_test = train_test_split(X, y, test_size = 0.30)"
   ]
  },
  {
   "cell_type": "code",
   "execution_count": 9,
   "metadata": {
    "scrolled": true
   },
   "outputs": [
    {
     "name": "stdout",
     "output_type": "stream",
     "text": [
      "(100, 13)\n",
      "(43, 13)\n",
      "(100, 2)\n",
      "(43, 2)\n"
     ]
    }
   ],
   "source": [
    "print(X_train.shape)\n",
    "print(X_test.shape)\n",
    "print(y_train.shape)\n",
    "print(y_test.shape)"
   ]
  },
  {
   "cell_type": "code",
   "execution_count": 10,
   "metadata": {},
   "outputs": [
    {
     "name": "stdout",
     "output_type": "stream",
     "text": [
      "Total Call Values\n",
      "roar       65\n",
      "prusten    44\n",
      "growl      20\n",
      "hiss        6\n",
      "puff        5\n",
      "mew         3\n",
      "Name: Call, dtype: int64\n",
      "\n",
      "\n",
      "Call values for Training\n",
      "roar       44\n",
      "prusten    31\n",
      "growl      15\n",
      "puff        4\n",
      "mew         3\n",
      "hiss        3\n",
      "Name: Call, dtype: int64\n",
      "\n",
      "\n",
      "Call values for Testing\n",
      "roar       21\n",
      "prusten    13\n",
      "growl       5\n",
      "hiss        3\n",
      "puff        1\n",
      "Name: Call, dtype: int64\n"
     ]
    }
   ],
   "source": [
    "print('Total Call Values')\n",
    "print(df['Call'].value_counts())\n",
    "print('\\n')\n",
    "print('Call values for Training')\n",
    "print(y_train.Call.value_counts())\n",
    "print('\\n')\n",
    "print('Call values for Testing')\n",
    "print(y_test.Call.value_counts())"
   ]
  },
  {
   "cell_type": "code",
   "execution_count": 11,
   "metadata": {},
   "outputs": [
    {
     "name": "stdout",
     "output_type": "stream",
     "text": [
      "Calls trained for but not tested for\n",
      "{'mew'}\n",
      "Calls test for but not trained for\n",
      "set()\n"
     ]
    }
   ],
   "source": [
    "print('Calls trained for but not tested for')\n",
    "print(set(np.unique(y_train.Call))-set(np.unique(y_test.Call)))\n",
    "print('Calls test for but not trained for')\n",
    "print(set(np.unique(y_test.Call))-set(np.unique(y_train.Call)))"
   ]
  },
  {
   "cell_type": "code",
   "execution_count": 12,
   "metadata": {},
   "outputs": [
    {
     "name": "stdout",
     "output_type": "stream",
     "text": [
      "Total Species values\n",
      "Leopard            45\n",
      "Clouded leopard    35\n",
      "Lion               34\n",
      "Jaguar             22\n",
      "Snow leopard        7\n",
      "Name: Species, dtype: int64\n",
      "\n",
      "\n",
      "Species values for Training\n",
      "Leopard            28\n",
      "Clouded leopard    25\n",
      "Lion               25\n",
      "Jaguar             17\n",
      "Snow leopard        5\n",
      "Name: Species, dtype: int64\n",
      "\n",
      "\n",
      "Species values for Testing\n",
      "Leopard            17\n",
      "Clouded leopard    10\n",
      "Lion                9\n",
      "Jaguar              5\n",
      "Snow leopard        2\n",
      "Name: Species, dtype: int64\n"
     ]
    }
   ],
   "source": [
    "print('Total Species values')\n",
    "print(df['Species'].value_counts())\n",
    "print('\\n')\n",
    "print('Species values for Training')\n",
    "print(y_train.Species.value_counts())\n",
    "print('\\n')\n",
    "print('Species values for Testing')\n",
    "print(y_test.Species.value_counts())"
   ]
  },
  {
   "cell_type": "code",
   "execution_count": 13,
   "metadata": {},
   "outputs": [
    {
     "name": "stdout",
     "output_type": "stream",
     "text": [
      "Species trained for but not tested for\n",
      "set()\n",
      "Species test for but not trained for\n",
      "set()\n"
     ]
    }
   ],
   "source": [
    "print('Species trained for but not tested for')\n",
    "print(set(np.unique(y_train.Species))-set(np.unique(y_test.Species)))\n",
    "print('Species test for but not trained for')\n",
    "print(set(np.unique(y_test.Species))-set(np.unique(y_train.Species)))"
   ]
  },
  {
   "cell_type": "markdown",
   "metadata": {},
   "source": [
    "# Vocalization Classification"
   ]
  },
  {
   "cell_type": "markdown",
   "metadata": {},
   "source": [
    "## Splitting data"
   ]
  },
  {
   "cell_type": "code",
   "execution_count": 14,
   "metadata": {},
   "outputs": [],
   "source": [
    "y_train1 = y_train.Call\n",
    "y_test1 = y_test.Call"
   ]
  },
  {
   "cell_type": "markdown",
   "metadata": {},
   "source": [
    "## LightGBM"
   ]
  },
  {
   "cell_type": "code",
   "execution_count": 15,
   "metadata": {},
   "outputs": [
    {
     "data": {
      "text/plain": [
       "LGBMClassifier()"
      ]
     },
     "execution_count": 15,
     "metadata": {},
     "output_type": "execute_result"
    }
   ],
   "source": [
    "import lightgbm as lgb\n",
    "lgb = lgb.LGBMClassifier()\n",
    "lgb.fit(X_train, y_train1)"
   ]
  },
  {
   "cell_type": "code",
   "execution_count": 16,
   "metadata": {},
   "outputs": [
    {
     "data": {
      "text/plain": [
       "1.0"
      ]
     },
     "execution_count": 16,
     "metadata": {},
     "output_type": "execute_result"
    }
   ],
   "source": [
    "lgb.score(X_train, y_train1)"
   ]
  },
  {
   "cell_type": "code",
   "execution_count": 17,
   "metadata": {},
   "outputs": [
    {
     "data": {
      "text/plain": [
       "0.7906976744186046"
      ]
     },
     "execution_count": 17,
     "metadata": {},
     "output_type": "execute_result"
    }
   ],
   "source": [
    "lgb.score(X_test,y_test1)"
   ]
  },
  {
   "cell_type": "markdown",
   "metadata": {},
   "source": [
    "## XGBoost"
   ]
  },
  {
   "cell_type": "code",
   "execution_count": 18,
   "metadata": {},
   "outputs": [],
   "source": [
    "parameters = dict(\n",
    "    objective='multi:softprob',\n",
    "    random_state = 30,\n",
    "    max_depth=9,\n",
    "    learning_rate=0.01,\n",
    "    subsample=0.8,\n",
    "    colsample_bytree=0.4,\n",
    "    tree_method='gpu_hist')\n",
    "\n",
    "\n",
    "clf = XGBClassifier(**parameters, n_estimators=1200)"
   ]
  },
  {
   "cell_type": "code",
   "execution_count": 19,
   "metadata": {},
   "outputs": [
    {
     "name": "stderr",
     "output_type": "stream",
     "text": [
      "C:\\Users\\exant\\anaconda3\\lib\\site-packages\\xgboost\\sklearn.py:1146: UserWarning: The use of label encoder in XGBClassifier is deprecated and will be removed in a future release. To remove this warning, do the following: 1) Pass option use_label_encoder=False when constructing XGBClassifier object; and 2) Encode your labels (y) as integers starting with 0, i.e. 0, 1, 2, ..., [num_class - 1].\n",
      "  warnings.warn(label_encoder_deprecation_msg, UserWarning)\n"
     ]
    },
    {
     "name": "stdout",
     "output_type": "stream",
     "text": [
      "[02:30:02] WARNING: C:/Users/Administrator/workspace/xgboost-win64_release_1.4.0/src/learner.cc:1095: Starting in XGBoost 1.3.0, the default evaluation metric used with the objective 'multi:softprob' was changed from 'merror' to 'mlogloss'. Explicitly set eval_metric if you'd like to restore the old behavior.\n"
     ]
    },
    {
     "data": {
      "text/plain": [
       "XGBClassifier(base_score=0.5, booster='gbtree', colsample_bylevel=1,\n",
       "              colsample_bynode=1, colsample_bytree=0.4, gamma=0, gpu_id=0,\n",
       "              importance_type='gain', interaction_constraints='',\n",
       "              learning_rate=0.01, max_delta_step=0, max_depth=9,\n",
       "              min_child_weight=1, missing=nan, monotone_constraints='()',\n",
       "              n_estimators=1200, n_jobs=12, num_parallel_tree=1,\n",
       "              objective='multi:softprob', random_state=30, reg_alpha=0,\n",
       "              reg_lambda=1, scale_pos_weight=None, subsample=0.8,\n",
       "              tree_method='gpu_hist', validate_parameters=1, verbosity=None)"
      ]
     },
     "execution_count": 19,
     "metadata": {},
     "output_type": "execute_result"
    }
   ],
   "source": [
    "clf.fit(X_train, y_train1)"
   ]
  },
  {
   "cell_type": "code",
   "execution_count": 20,
   "metadata": {},
   "outputs": [
    {
     "data": {
      "text/plain": [
       "1.0"
      ]
     },
     "execution_count": 20,
     "metadata": {},
     "output_type": "execute_result"
    }
   ],
   "source": [
    "clf.score(X_train, y_train1)"
   ]
  },
  {
   "cell_type": "code",
   "execution_count": 21,
   "metadata": {},
   "outputs": [
    {
     "data": {
      "text/plain": [
       "0.7674418604651163"
      ]
     },
     "execution_count": 21,
     "metadata": {},
     "output_type": "execute_result"
    }
   ],
   "source": [
    "clf.score(X_test,y_test1)"
   ]
  },
  {
   "cell_type": "code",
   "execution_count": 22,
   "metadata": {},
   "outputs": [],
   "source": [
    "y_pred = clf.predict(X_test)"
   ]
  },
  {
   "cell_type": "code",
   "execution_count": 23,
   "metadata": {},
   "outputs": [
    {
     "name": "stdout",
     "output_type": "stream",
     "text": [
      "1. Tested Calls\n",
      "['growl' 'hiss' 'prusten' 'puff' 'roar']\n",
      "2. Predicted Calls\n",
      "['growl' 'prusten' 'roar']\n",
      "3. Not tested for but predicted\n",
      "set()\n",
      "4. Tested for but not predicted\n",
      "{'puff', 'hiss'}\n"
     ]
    }
   ],
   "source": [
    "print('1. Tested Calls')\n",
    "print(np.unique(y_test1))\n",
    "print('2. Predicted Calls')\n",
    "print(np.unique(y_pred))\n",
    "print('3. Not tested for but predicted')\n",
    "print(set(np.unique(y_pred))-set(np.unique(y_test1)))\n",
    "print('4. Tested for but not predicted')\n",
    "print(set(np.unique(y_test1))-set(np.unique(y_pred)))"
   ]
  },
  {
   "cell_type": "code",
   "execution_count": 24,
   "metadata": {},
   "outputs": [
    {
     "name": "stdout",
     "output_type": "stream",
     "text": [
      "Accuracy 0.7674418604651163\n"
     ]
    },
    {
     "data": {
      "image/png": "[encoded data removed]",
      "text/plain": [
       "<Figure size 432x288 with 2 Axes>"
      ]
     },
     "metadata": {
      "needs_background": "light"
     },
     "output_type": "display_data"
    }
   ],
   "source": [
    "names = sorted(list(set(np.unique(y_test1)).union(set(y_pred))))\n",
    "\n",
    "print('Accuracy',clf.score(X_test, y_test1))\n",
    "\n",
    "cnf = confusion_matrix(y_test1, y_pred)\n",
    "fig, ax = plt.subplots()\n",
    "tick_marks = np.arange(len(names))\n",
    "sns.heatmap(cnf, annot = True, xticklabels = names, cmap= \"YlGnBu\", yticklabels = names)\n",
    "ax.xaxis.set_label_position('top')\n",
    "plt.title('XGBoost Confusion Matrix')\n",
    "plt.ylabel('Actual label')\n",
    "plt.xlabel('Predicted label')\n",
    "plt.show()"
   ]
  },
  {
   "cell_type": "code",
   "execution_count": 25,
   "metadata": {},
   "outputs": [
    {
     "data": {
      "image/png": "[encoded data removed]",
      "text/plain": [
       "<Figure size 432x288 with 1 Axes>"
      ]
     },
     "metadata": {
      "needs_background": "light"
     },
     "output_type": "display_data"
    }
   ],
   "source": [
    "plot_importance(clf)\n",
    "figsize=(5,10)"
   ]
  },
  {
   "cell_type": "markdown",
   "metadata": {},
   "source": [
    "## SVM"
   ]
  },
  {
   "cell_type": "code",
   "execution_count": 26,
   "metadata": {},
   "outputs": [],
   "source": [
    "clf_svc = SVC()"
   ]
  },
  {
   "cell_type": "code",
   "execution_count": 27,
   "metadata": {},
   "outputs": [
    {
     "data": {
      "text/plain": [
       "SVC()"
      ]
     },
     "execution_count": 27,
     "metadata": {},
     "output_type": "execute_result"
    }
   ],
   "source": [
    "clf_svc.fit(X_train, y_train1)"
   ]
  },
  {
   "cell_type": "code",
   "execution_count": 28,
   "metadata": {},
   "outputs": [
    {
     "data": {
      "text/plain": [
       "0.83"
      ]
     },
     "execution_count": 28,
     "metadata": {},
     "output_type": "execute_result"
    }
   ],
   "source": [
    "clf_svc.score(X_train, y_train1)"
   ]
  },
  {
   "cell_type": "code",
   "execution_count": 29,
   "metadata": {},
   "outputs": [
    {
     "data": {
      "text/plain": [
       "0.9069767441860465"
      ]
     },
     "execution_count": 29,
     "metadata": {},
     "output_type": "execute_result"
    }
   ],
   "source": [
    "clf_svc.score(X_test, y_test1)"
   ]
  },
  {
   "cell_type": "code",
   "execution_count": 30,
   "metadata": {},
   "outputs": [],
   "source": [
    "y_pred_svc=clf_svc.predict(X_test)"
   ]
  },
  {
   "cell_type": "code",
   "execution_count": 31,
   "metadata": {},
   "outputs": [
    {
     "name": "stdout",
     "output_type": "stream",
     "text": [
      "1. Tested Calls\n",
      "['growl' 'hiss' 'prusten' 'puff' 'roar']\n",
      "2. Predicted Calls\n",
      "['growl' 'prusten' 'puff' 'roar']\n",
      "3. False Positive\n",
      "set()\n",
      "4. False Negative\n",
      "{'hiss'}\n"
     ]
    }
   ],
   "source": [
    "print('1. Tested Calls')\n",
    "print(np.unique(y_test1))\n",
    "print('2. Predicted Calls')\n",
    "print(np.unique(y_pred_svc))\n",
    "print('3. False Positive')\n",
    "print(set(np.unique(y_pred_svc))-set(np.unique(y_test1)))\n",
    "print('4. False Negative')\n",
    "print(set(np.unique(y_test1))-set(np.unique(y_pred_svc)))"
   ]
  },
  {
   "cell_type": "code",
   "execution_count": 32,
   "metadata": {
    "scrolled": true
   },
   "outputs": [
    {
     "name": "stdout",
     "output_type": "stream",
     "text": [
      "Accuracy 0.9069767441860465\n"
     ]
    },
    {
     "data": {
      "image/png": "[encoded data removed]",
      "text/plain": [
       "<Figure size 432x288 with 2 Axes>"
      ]
     },
     "metadata": {
      "needs_background": "light"
     },
     "output_type": "display_data"
    }
   ],
   "source": [
    "names = sorted(list(set(np.unique(y_test1)).union(set(y_pred_svc))))\n",
    "\n",
    "print('Accuracy',clf_svc.score(X_test, y_test1))\n",
    "\n",
    "cnf = confusion_matrix(y_test1, y_pred)\n",
    "fig, ax = plt.subplots()\n",
    "tick_marks = np.arange(len(names))\n",
    "sns.heatmap(cnf, annot = True, xticklabels = names, cmap= \"YlGnBu\", yticklabels = names)\n",
    "ax.xaxis.set_label_position('top')\n",
    "plt.title('SVM Confusion Matrix')\n",
    "plt.ylabel('Actual label')\n",
    "plt.xlabel('Predicted label')\n",
    "plt.show()"
   ]
  },
  {
   "cell_type": "markdown",
   "metadata": {},
   "source": [
    "## Naive Bayes"
   ]
  },
  {
   "cell_type": "code",
   "execution_count": 33,
   "metadata": {},
   "outputs": [],
   "source": [
    "gnb = GaussianNB()"
   ]
  },
  {
   "cell_type": "code",
   "execution_count": 34,
   "metadata": {},
   "outputs": [
    {
     "data": {
      "text/plain": [
       "GaussianNB()"
      ]
     },
     "execution_count": 34,
     "metadata": {},
     "output_type": "execute_result"
    }
   ],
   "source": [
    "gnb.fit(X_train, y_train1)"
   ]
  },
  {
   "cell_type": "code",
   "execution_count": 35,
   "metadata": {},
   "outputs": [
    {
     "data": {
      "text/plain": [
       "0.89"
      ]
     },
     "execution_count": 35,
     "metadata": {},
     "output_type": "execute_result"
    }
   ],
   "source": [
    "gnb.score(X_train, y_train1)"
   ]
  },
  {
   "cell_type": "code",
   "execution_count": 36,
   "metadata": {},
   "outputs": [
    {
     "data": {
      "text/plain": [
       "0.813953488372093"
      ]
     },
     "execution_count": 36,
     "metadata": {},
     "output_type": "execute_result"
    }
   ],
   "source": [
    "gnb.score(X_test, y_test1)"
   ]
  },
  {
   "cell_type": "code",
   "execution_count": 37,
   "metadata": {},
   "outputs": [],
   "source": [
    "y_pred_nb = gnb.predict(X_test)\n",
    "y_prob_nb = gnb.predict_proba(X_test)"
   ]
  },
  {
   "cell_type": "code",
   "execution_count": 38,
   "metadata": {},
   "outputs": [
    {
     "name": "stdout",
     "output_type": "stream",
     "text": [
      "1. Tested Calls\n",
      "['growl' 'hiss' 'prusten' 'puff' 'roar']\n",
      "2. Predicted Calls\n",
      "['growl' 'hiss' 'prusten' 'puff' 'roar']\n",
      "3. Not tested for but predicted\n",
      "set()\n",
      "4. Tested for but not predicted\n",
      "set()\n"
     ]
    }
   ],
   "source": [
    "print('1. Tested Calls')\n",
    "print(np.unique(y_test1))\n",
    "print('2. Predicted Calls')\n",
    "print(np.unique(y_pred_nb))\n",
    "print('3. Not tested for but predicted')\n",
    "print(set(np.unique(y_pred_nb))-set(np.unique(y_test1)))\n",
    "print('4. Tested for but not predicted')\n",
    "print(set(np.unique(y_test1))-set(np.unique(y_pred_nb)))"
   ]
  },
  {
   "cell_type": "code",
   "execution_count": 39,
   "metadata": {},
   "outputs": [
    {
     "data": {
      "image/png": "[encoded data removed]",
      "text/plain": [
       "<Figure size 576x288 with 2 Axes>"
      ]
     },
     "metadata": {
      "needs_background": "light"
     },
     "output_type": "display_data"
    },
    {
     "name": "stdout",
     "output_type": "stream",
     "text": [
      "Accuracy 0.813953488372093\n"
     ]
    }
   ],
   "source": [
    "names_nb = sorted(list(set(np.unique(y_test1)).union(set(y_pred_nb))))\n",
    "cnf = confusion_matrix(y_test1, y_pred_nb)\n",
    "fig, ax = plt.subplots(figsize=(8,4))\n",
    "\n",
    "sns.heatmap(cnf, annot=True, xticklabels=names_nb, yticklabels=names_nb,cmap= \"YlOrBr\")\n",
    "plt.title('Naive Bayes Confusion Matrix')\n",
    "ax.xaxis.set_label_position('top')\n",
    "plt.ylabel('Actual')\n",
    "plt.xlabel('Predicted')\n",
    "plt.show(block=False)\n",
    "print('Accuracy',gnb.score(X_test, y_test1))"
   ]
  },
  {
   "cell_type": "code",
   "execution_count": 40,
   "metadata": {},
   "outputs": [
    {
     "data": {
      "text/html": [
       "<div>\n",
       "<style scoped>\n",
       "    .dataframe tbody tr th:only-of-type {\n",
       "        vertical-align: middle;\n",
       "    }\n",
       "\n",
       "    .dataframe tbody tr th {\n",
       "        vertical-align: top;\n",
       "    }\n",
       "\n",
       "    .dataframe thead th {\n",
       "        text-align: right;\n",
       "    }\n",
       "</style>\n",
       "<table border=\"1\" class=\"dataframe\">\n",
       "  <thead>\n",
       "    <tr style=\"text-align: right;\">\n",
       "      <th></th>\n",
       "      <th>Partials</th>\n",
       "      <th>Zero_Crossings</th>\n",
       "      <th>Duration</th>\n",
       "      <th>Amp_range</th>\n",
       "      <th>Avg_amp</th>\n",
       "      <th>Freq_range</th>\n",
       "      <th>Pulses_per_Sec</th>\n",
       "      <th>MFCC</th>\n",
       "      <th>Spectral Rolloff</th>\n",
       "      <th>Melspectrogram</th>\n",
       "      <th>...</th>\n",
       "      <th>Chroma_StFt</th>\n",
       "      <th>Tonnetz</th>\n",
       "      <th>Target</th>\n",
       "      <th>growl</th>\n",
       "      <th>hiss</th>\n",
       "      <th>mew</th>\n",
       "      <th>prusten</th>\n",
       "      <th>puff</th>\n",
       "      <th>roar</th>\n",
       "      <th>Predicted</th>\n",
       "    </tr>\n",
       "  </thead>\n",
       "  <tbody>\n",
       "    <tr>\n",
       "      <th>404</th>\n",
       "      <td>-0.424178</td>\n",
       "      <td>-0.489087</td>\n",
       "      <td>-0.476623</td>\n",
       "      <td>-0.824471</td>\n",
       "      <td>-0.721404</td>\n",
       "      <td>-1.230977</td>\n",
       "      <td>-0.807648</td>\n",
       "      <td>-0.557545</td>\n",
       "      <td>0.095090</td>\n",
       "      <td>-0.271412</td>\n",
       "      <td>...</td>\n",
       "      <td>0.076964</td>\n",
       "      <td>-1.249815</td>\n",
       "      <td>prusten</td>\n",
       "      <td>4.885191e-05</td>\n",
       "      <td>2.770935e-27</td>\n",
       "      <td>0.000000e+00</td>\n",
       "      <td>0.000000e+00</td>\n",
       "      <td>4.873075e-04</td>\n",
       "      <td>9.994638e-01</td>\n",
       "      <td>roar</td>\n",
       "    </tr>\n",
       "    <tr>\n",
       "      <th>581</th>\n",
       "      <td>3.944761</td>\n",
       "      <td>3.206808</td>\n",
       "      <td>2.620788</td>\n",
       "      <td>2.066188</td>\n",
       "      <td>1.054440</td>\n",
       "      <td>1.727119</td>\n",
       "      <td>-0.057579</td>\n",
       "      <td>-0.617610</td>\n",
       "      <td>0.705331</td>\n",
       "      <td>0.740748</td>\n",
       "      <td>...</td>\n",
       "      <td>0.106174</td>\n",
       "      <td>0.046918</td>\n",
       "      <td>roar</td>\n",
       "      <td>5.872329e-01</td>\n",
       "      <td>0.000000e+00</td>\n",
       "      <td>8.143523e-128</td>\n",
       "      <td>0.000000e+00</td>\n",
       "      <td>0.000000e+00</td>\n",
       "      <td>4.127671e-01</td>\n",
       "      <td>growl</td>\n",
       "    </tr>\n",
       "    <tr>\n",
       "      <th>584</th>\n",
       "      <td>4.886343</td>\n",
       "      <td>5.150497</td>\n",
       "      <td>2.620788</td>\n",
       "      <td>2.955100</td>\n",
       "      <td>1.019548</td>\n",
       "      <td>1.709992</td>\n",
       "      <td>1.173821</td>\n",
       "      <td>-0.249969</td>\n",
       "      <td>1.403523</td>\n",
       "      <td>0.713708</td>\n",
       "      <td>...</td>\n",
       "      <td>0.395891</td>\n",
       "      <td>-0.781327</td>\n",
       "      <td>roar</td>\n",
       "      <td>9.789980e-01</td>\n",
       "      <td>0.000000e+00</td>\n",
       "      <td>2.270580e-268</td>\n",
       "      <td>0.000000e+00</td>\n",
       "      <td>0.000000e+00</td>\n",
       "      <td>2.100202e-02</td>\n",
       "      <td>growl</td>\n",
       "    </tr>\n",
       "    <tr>\n",
       "      <th>385</th>\n",
       "      <td>-0.386515</td>\n",
       "      <td>-0.526238</td>\n",
       "      <td>-0.476623</td>\n",
       "      <td>-0.591230</td>\n",
       "      <td>-0.682572</td>\n",
       "      <td>-1.205170</td>\n",
       "      <td>-0.731349</td>\n",
       "      <td>-0.471441</td>\n",
       "      <td>-0.501959</td>\n",
       "      <td>-0.268885</td>\n",
       "      <td>...</td>\n",
       "      <td>0.411776</td>\n",
       "      <td>-1.424313</td>\n",
       "      <td>prusten</td>\n",
       "      <td>8.850934e-05</td>\n",
       "      <td>1.738982e-06</td>\n",
       "      <td>0.000000e+00</td>\n",
       "      <td>0.000000e+00</td>\n",
       "      <td>1.743167e-02</td>\n",
       "      <td>9.824781e-01</td>\n",
       "      <td>roar</td>\n",
       "    </tr>\n",
       "    <tr>\n",
       "      <th>407</th>\n",
       "      <td>0.103108</td>\n",
       "      <td>-0.515473</td>\n",
       "      <td>-0.605682</td>\n",
       "      <td>1.593539</td>\n",
       "      <td>0.601862</td>\n",
       "      <td>0.517530</td>\n",
       "      <td>1.055904</td>\n",
       "      <td>1.566079</td>\n",
       "      <td>0.444750</td>\n",
       "      <td>0.268902</td>\n",
       "      <td>...</td>\n",
       "      <td>1.175930</td>\n",
       "      <td>-0.398267</td>\n",
       "      <td>prusten</td>\n",
       "      <td>9.675383e-01</td>\n",
       "      <td>0.000000e+00</td>\n",
       "      <td>0.000000e+00</td>\n",
       "      <td>2.616414e-07</td>\n",
       "      <td>0.000000e+00</td>\n",
       "      <td>3.246145e-02</td>\n",
       "      <td>growl</td>\n",
       "    </tr>\n",
       "    <tr>\n",
       "      <th>375</th>\n",
       "      <td>-0.386515</td>\n",
       "      <td>-0.479441</td>\n",
       "      <td>-0.605682</td>\n",
       "      <td>-0.796778</td>\n",
       "      <td>-0.598478</td>\n",
       "      <td>-0.286325</td>\n",
       "      <td>0.488669</td>\n",
       "      <td>-0.382277</td>\n",
       "      <td>-0.029835</td>\n",
       "      <td>-0.267777</td>\n",
       "      <td>...</td>\n",
       "      <td>1.333358</td>\n",
       "      <td>-0.952526</td>\n",
       "      <td>hiss</td>\n",
       "      <td>2.813043e-15</td>\n",
       "      <td>7.203945e-15</td>\n",
       "      <td>0.000000e+00</td>\n",
       "      <td>1.000000e+00</td>\n",
       "      <td>8.055781e-19</td>\n",
       "      <td>1.286994e-12</td>\n",
       "      <td>prusten</td>\n",
       "    </tr>\n",
       "    <tr>\n",
       "      <th>377</th>\n",
       "      <td>-0.386515</td>\n",
       "      <td>-0.538000</td>\n",
       "      <td>-0.605682</td>\n",
       "      <td>-0.754791</td>\n",
       "      <td>-0.518260</td>\n",
       "      <td>-0.457358</td>\n",
       "      <td>0.023166</td>\n",
       "      <td>-0.017599</td>\n",
       "      <td>0.050116</td>\n",
       "      <td>-0.262161</td>\n",
       "      <td>...</td>\n",
       "      <td>1.095874</td>\n",
       "      <td>-1.701586</td>\n",
       "      <td>hiss</td>\n",
       "      <td>1.434837e-17</td>\n",
       "      <td>1.034059e-04</td>\n",
       "      <td>0.000000e+00</td>\n",
       "      <td>9.998966e-01</td>\n",
       "      <td>6.327918e-28</td>\n",
       "      <td>2.344542e-14</td>\n",
       "      <td>prusten</td>\n",
       "    </tr>\n",
       "    <tr>\n",
       "      <th>585</th>\n",
       "      <td>1.195343</td>\n",
       "      <td>3.438055</td>\n",
       "      <td>6.234434</td>\n",
       "      <td>2.061427</td>\n",
       "      <td>1.067648</td>\n",
       "      <td>1.557506</td>\n",
       "      <td>-0.324819</td>\n",
       "      <td>0.203484</td>\n",
       "      <td>-0.310410</td>\n",
       "      <td>0.644313</td>\n",
       "      <td>...</td>\n",
       "      <td>-0.391450</td>\n",
       "      <td>-0.238836</td>\n",
       "      <td>roar</td>\n",
       "      <td>7.072399e-01</td>\n",
       "      <td>0.000000e+00</td>\n",
       "      <td>7.940144e-227</td>\n",
       "      <td>0.000000e+00</td>\n",
       "      <td>0.000000e+00</td>\n",
       "      <td>2.927601e-01</td>\n",
       "      <td>growl</td>\n",
       "    </tr>\n",
       "  </tbody>\n",
       "</table>\n",
       "<p>8 rows × 21 columns</p>\n",
       "</div>"
      ],
      "text/plain": [
       "     Partials  Zero_Crossings  Duration  Amp_range   Avg_amp  Freq_range  \\\n",
       "404 -0.424178       -0.489087 -0.476623  -0.824471 -0.721404   -1.230977   \n",
       "581  3.944761        3.206808  2.620788   2.066188  1.054440    1.727119   \n",
       "584  4.886343        5.150497  2.620788   2.955100  1.019548    1.709992   \n",
       "385 -0.386515       -0.526238 -0.476623  -0.591230 -0.682572   -1.205170   \n",
       "407  0.103108       -0.515473 -0.605682   1.593539  0.601862    0.517530   \n",
       "375 -0.386515       -0.479441 -0.605682  -0.796778 -0.598478   -0.286325   \n",
       "377 -0.386515       -0.538000 -0.605682  -0.754791 -0.518260   -0.457358   \n",
       "585  1.195343        3.438055  6.234434   2.061427  1.067648    1.557506   \n",
       "\n",
       "     Pulses_per_Sec      MFCC  Spectral Rolloff  Melspectrogram  ...  \\\n",
       "404       -0.807648 -0.557545          0.095090       -0.271412  ...   \n",
       "581       -0.057579 -0.617610          0.705331        0.740748  ...   \n",
       "584        1.173821 -0.249969          1.403523        0.713708  ...   \n",
       "385       -0.731349 -0.471441         -0.501959       -0.268885  ...   \n",
       "407        1.055904  1.566079          0.444750        0.268902  ...   \n",
       "375        0.488669 -0.382277         -0.029835       -0.267777  ...   \n",
       "377        0.023166 -0.017599          0.050116       -0.262161  ...   \n",
       "585       -0.324819  0.203484         -0.310410        0.644313  ...   \n",
       "\n",
       "     Chroma_StFt   Tonnetz   Target         growl          hiss  \\\n",
       "404     0.076964 -1.249815  prusten  4.885191e-05  2.770935e-27   \n",
       "581     0.106174  0.046918     roar  5.872329e-01  0.000000e+00   \n",
       "584     0.395891 -0.781327     roar  9.789980e-01  0.000000e+00   \n",
       "385     0.411776 -1.424313  prusten  8.850934e-05  1.738982e-06   \n",
       "407     1.175930 -0.398267  prusten  9.675383e-01  0.000000e+00   \n",
       "375     1.333358 -0.952526     hiss  2.813043e-15  7.203945e-15   \n",
       "377     1.095874 -1.701586     hiss  1.434837e-17  1.034059e-04   \n",
       "585    -0.391450 -0.238836     roar  7.072399e-01  0.000000e+00   \n",
       "\n",
       "               mew       prusten          puff          roar  Predicted  \n",
       "404   0.000000e+00  0.000000e+00  4.873075e-04  9.994638e-01       roar  \n",
       "581  8.143523e-128  0.000000e+00  0.000000e+00  4.127671e-01      growl  \n",
       "584  2.270580e-268  0.000000e+00  0.000000e+00  2.100202e-02      growl  \n",
       "385   0.000000e+00  0.000000e+00  1.743167e-02  9.824781e-01       roar  \n",
       "407   0.000000e+00  2.616414e-07  0.000000e+00  3.246145e-02      growl  \n",
       "375   0.000000e+00  1.000000e+00  8.055781e-19  1.286994e-12    prusten  \n",
       "377   0.000000e+00  9.998966e-01  6.327918e-28  2.344542e-14    prusten  \n",
       "585  7.940144e-227  0.000000e+00  0.000000e+00  2.927601e-01      growl  \n",
       "\n",
       "[8 rows x 21 columns]"
      ]
     },
     "execution_count": 40,
     "metadata": {},
     "output_type": "execute_result"
    }
   ],
   "source": [
    "pred_df = pd.DataFrame(X_test.copy())\n",
    "pred_df['Target'] = y_test1\n",
    "pred_df['growl'] = y_prob_nb[:,0] \n",
    "pred_df['hiss'] = y_prob_nb[:,1]\n",
    "pred_df['mew'] = y_prob_nb[:,2]\n",
    "pred_df['prusten'] = y_prob_nb[:,3]\n",
    "pred_df['puff'] = y_prob_nb[:,4]\n",
    "pred_df['roar'] = y_prob_nb[:,5]\n",
    "pred_df['Predicted'] = y_pred_nb\n",
    "pred_df = pred_df[pred_df['Target'] != pred_df['Predicted']]\n",
    "pred_df.to_csv('Mislabeled Panterinae Calls With Naive Bayes.csv', index=False)\n",
    "pred_df.head(15)"
   ]
  },
  {
   "cell_type": "markdown",
   "metadata": {},
   "source": [
    "## Logistic Regression"
   ]
  },
  {
   "cell_type": "code",
   "execution_count": 41,
   "metadata": {},
   "outputs": [],
   "source": [
    "lr = LogisticRegression(solver='liblinear', multi_class='ovr',class_weight=\"balanced\")"
   ]
  },
  {
   "cell_type": "code",
   "execution_count": 42,
   "metadata": {},
   "outputs": [
    {
     "data": {
      "text/plain": [
       "LogisticRegression(class_weight='balanced', multi_class='ovr',\n",
       "                   solver='liblinear')"
      ]
     },
     "execution_count": 42,
     "metadata": {},
     "output_type": "execute_result"
    }
   ],
   "source": [
    "lr.fit(X_train,y_train1)"
   ]
  },
  {
   "cell_type": "code",
   "execution_count": 43,
   "metadata": {},
   "outputs": [
    {
     "data": {
      "text/plain": [
       "0.89"
      ]
     },
     "execution_count": 43,
     "metadata": {},
     "output_type": "execute_result"
    }
   ],
   "source": [
    "lr.score(X_train, y_train1)"
   ]
  },
  {
   "cell_type": "code",
   "execution_count": 44,
   "metadata": {},
   "outputs": [
    {
     "data": {
      "text/plain": [
       "0.8604651162790697"
      ]
     },
     "execution_count": 44,
     "metadata": {},
     "output_type": "execute_result"
    }
   ],
   "source": [
    "lr.score(X_test, y_test1)"
   ]
  },
  {
   "cell_type": "code",
   "execution_count": 45,
   "metadata": {},
   "outputs": [],
   "source": [
    "y_pred_lr = lr.predict(X_test)\n",
    "y_prob_lr = lr.predict_proba(X_test)"
   ]
  },
  {
   "cell_type": "code",
   "execution_count": 46,
   "metadata": {},
   "outputs": [
    {
     "name": "stdout",
     "output_type": "stream",
     "text": [
      "1. Tested Calls\n",
      "['growl' 'hiss' 'prusten' 'puff' 'roar']\n",
      "2. Predicted Calls\n",
      "['growl' 'hiss' 'mew' 'prusten' 'puff' 'roar']\n",
      "3. Not tested for but predicted\n",
      "{'mew'}\n",
      "4. Tested for but not predicted\n",
      "set()\n"
     ]
    }
   ],
   "source": [
    "print('1. Tested Calls')\n",
    "print(np.unique(y_test1))\n",
    "print('2. Predicted Calls')\n",
    "print(np.unique(y_pred_lr))\n",
    "print('3. Not tested for but predicted')\n",
    "print(set(np.unique(y_pred_lr))-set(np.unique(y_test1)))\n",
    "print('4. Tested for but not predicted')\n",
    "print(set(np.unique(y_test1))-set(np.unique(y_pred_lr)))"
   ]
  },
  {
   "cell_type": "code",
   "execution_count": 47,
   "metadata": {},
   "outputs": [
    {
     "name": "stdout",
     "output_type": "stream",
     "text": [
      "Accuracy 0.8604651162790697\n"
     ]
    },
    {
     "data": {
      "image/png": "[encoded data removed]",
      "text/plain": [
       "<Figure size 576x288 with 2 Axes>"
      ]
     },
     "metadata": {
      "needs_background": "light"
     },
     "output_type": "display_data"
    }
   ],
   "source": [
    "names_lr = sorted(list(set(np.unique(y_test1)).union(set(y_pred_lr))))\n",
    "cnf = confusion_matrix(y_test1, y_pred_lr)\n",
    "fig, ax = plt.subplots(figsize=(8,4))\n",
    "\n",
    "print('Accuracy',lr.score(X_test, y_test1))\n",
    "\n",
    "sns.heatmap(cnf, annot=True, xticklabels=names_lr, yticklabels=names_lr,cmap= \"YlOrBr\")\n",
    "plt.title('Logistic Regression')\n",
    "ax.xaxis.set_label_position('top')\n",
    "plt.ylabel('Actual')\n",
    "plt.xlabel('Predicted')\n",
    "plt.show(block=False)"
   ]
  },
  {
   "cell_type": "code",
   "execution_count": 48,
   "metadata": {},
   "outputs": [
    {
     "data": {
      "text/html": [
       "<div>\n",
       "<style scoped>\n",
       "    .dataframe tbody tr th:only-of-type {\n",
       "        vertical-align: middle;\n",
       "    }\n",
       "\n",
       "    .dataframe tbody tr th {\n",
       "        vertical-align: top;\n",
       "    }\n",
       "\n",
       "    .dataframe thead th {\n",
       "        text-align: right;\n",
       "    }\n",
       "</style>\n",
       "<table border=\"1\" class=\"dataframe\">\n",
       "  <thead>\n",
       "    <tr style=\"text-align: right;\">\n",
       "      <th></th>\n",
       "      <th>Partials</th>\n",
       "      <th>Zero_Crossings</th>\n",
       "      <th>Duration</th>\n",
       "      <th>Amp_range</th>\n",
       "      <th>Avg_amp</th>\n",
       "      <th>Freq_range</th>\n",
       "      <th>Pulses_per_Sec</th>\n",
       "      <th>MFCC</th>\n",
       "      <th>Spectral Rolloff</th>\n",
       "      <th>Melspectrogram</th>\n",
       "      <th>...</th>\n",
       "      <th>Chroma_StFt</th>\n",
       "      <th>Tonnetz</th>\n",
       "      <th>Target</th>\n",
       "      <th>growl</th>\n",
       "      <th>hiss</th>\n",
       "      <th>mew</th>\n",
       "      <th>prusten</th>\n",
       "      <th>puff</th>\n",
       "      <th>roar</th>\n",
       "      <th>Predicted</th>\n",
       "    </tr>\n",
       "  </thead>\n",
       "  <tbody>\n",
       "    <tr>\n",
       "      <th>382</th>\n",
       "      <td>-0.198198</td>\n",
       "      <td>-0.432582</td>\n",
       "      <td>-0.605682</td>\n",
       "      <td>-0.059455</td>\n",
       "      <td>-0.247209</td>\n",
       "      <td>1.623747</td>\n",
       "      <td>1.123726</td>\n",
       "      <td>-1.945481</td>\n",
       "      <td>0.440502</td>\n",
       "      <td>-0.202451</td>\n",
       "      <td>...</td>\n",
       "      <td>-0.121651</td>\n",
       "      <td>0.174109</td>\n",
       "      <td>prusten</td>\n",
       "      <td>0.013432</td>\n",
       "      <td>0.014583</td>\n",
       "      <td>0.434144</td>\n",
       "      <td>0.414696</td>\n",
       "      <td>0.014114</td>\n",
       "      <td>0.109031</td>\n",
       "      <td>mew</td>\n",
       "    </tr>\n",
       "    <tr>\n",
       "      <th>398</th>\n",
       "      <td>-0.424178</td>\n",
       "      <td>-0.610871</td>\n",
       "      <td>-0.605682</td>\n",
       "      <td>-0.006987</td>\n",
       "      <td>0.144097</td>\n",
       "      <td>-0.799424</td>\n",
       "      <td>-0.564107</td>\n",
       "      <td>0.714125</td>\n",
       "      <td>-1.373640</td>\n",
       "      <td>-0.149853</td>\n",
       "      <td>...</td>\n",
       "      <td>1.007178</td>\n",
       "      <td>0.519259</td>\n",
       "      <td>prusten</td>\n",
       "      <td>0.132101</td>\n",
       "      <td>0.457741</td>\n",
       "      <td>0.031720</td>\n",
       "      <td>0.321739</td>\n",
       "      <td>0.011532</td>\n",
       "      <td>0.045168</td>\n",
       "      <td>hiss</td>\n",
       "    </tr>\n",
       "    <tr>\n",
       "      <th>407</th>\n",
       "      <td>0.103108</td>\n",
       "      <td>-0.515473</td>\n",
       "      <td>-0.605682</td>\n",
       "      <td>1.593539</td>\n",
       "      <td>0.601862</td>\n",
       "      <td>0.517530</td>\n",
       "      <td>1.055904</td>\n",
       "      <td>1.566079</td>\n",
       "      <td>0.444750</td>\n",
       "      <td>0.268902</td>\n",
       "      <td>...</td>\n",
       "      <td>1.175930</td>\n",
       "      <td>-0.398267</td>\n",
       "      <td>prusten</td>\n",
       "      <td>0.664127</td>\n",
       "      <td>0.108935</td>\n",
       "      <td>0.023315</td>\n",
       "      <td>0.123501</td>\n",
       "      <td>0.038982</td>\n",
       "      <td>0.041139</td>\n",
       "      <td>growl</td>\n",
       "    </tr>\n",
       "    <tr>\n",
       "      <th>375</th>\n",
       "      <td>-0.386515</td>\n",
       "      <td>-0.479441</td>\n",
       "      <td>-0.605682</td>\n",
       "      <td>-0.796778</td>\n",
       "      <td>-0.598478</td>\n",
       "      <td>-0.286325</td>\n",
       "      <td>0.488669</td>\n",
       "      <td>-0.382277</td>\n",
       "      <td>-0.029835</td>\n",
       "      <td>-0.267777</td>\n",
       "      <td>...</td>\n",
       "      <td>1.333358</td>\n",
       "      <td>-0.952526</td>\n",
       "      <td>hiss</td>\n",
       "      <td>0.041218</td>\n",
       "      <td>0.439217</td>\n",
       "      <td>0.029864</td>\n",
       "      <td>0.467779</td>\n",
       "      <td>0.009448</td>\n",
       "      <td>0.012474</td>\n",
       "      <td>prusten</td>\n",
       "    </tr>\n",
       "    <tr>\n",
       "      <th>377</th>\n",
       "      <td>-0.386515</td>\n",
       "      <td>-0.538000</td>\n",
       "      <td>-0.605682</td>\n",
       "      <td>-0.754791</td>\n",
       "      <td>-0.518260</td>\n",
       "      <td>-0.457358</td>\n",
       "      <td>0.023166</td>\n",
       "      <td>-0.017599</td>\n",
       "      <td>0.050116</td>\n",
       "      <td>-0.262161</td>\n",
       "      <td>...</td>\n",
       "      <td>1.095874</td>\n",
       "      <td>-1.701586</td>\n",
       "      <td>hiss</td>\n",
       "      <td>0.016239</td>\n",
       "      <td>0.452841</td>\n",
       "      <td>0.011151</td>\n",
       "      <td>0.499353</td>\n",
       "      <td>0.002499</td>\n",
       "      <td>0.017916</td>\n",
       "      <td>prusten</td>\n",
       "    </tr>\n",
       "    <tr>\n",
       "      <th>376</th>\n",
       "      <td>-0.424178</td>\n",
       "      <td>-0.537129</td>\n",
       "      <td>-0.605682</td>\n",
       "      <td>-0.732839</td>\n",
       "      <td>-0.585146</td>\n",
       "      <td>-0.753001</td>\n",
       "      <td>-0.064694</td>\n",
       "      <td>-0.047318</td>\n",
       "      <td>-0.124902</td>\n",
       "      <td>-0.266568</td>\n",
       "      <td>...</td>\n",
       "      <td>1.154942</td>\n",
       "      <td>-1.740241</td>\n",
       "      <td>hiss</td>\n",
       "      <td>0.024201</td>\n",
       "      <td>0.463731</td>\n",
       "      <td>0.007478</td>\n",
       "      <td>0.487492</td>\n",
       "      <td>0.003852</td>\n",
       "      <td>0.013246</td>\n",
       "      <td>prusten</td>\n",
       "    </tr>\n",
       "  </tbody>\n",
       "</table>\n",
       "<p>6 rows × 21 columns</p>\n",
       "</div>"
      ],
      "text/plain": [
       "     Partials  Zero_Crossings  Duration  Amp_range   Avg_amp  Freq_range  \\\n",
       "382 -0.198198       -0.432582 -0.605682  -0.059455 -0.247209    1.623747   \n",
       "398 -0.424178       -0.610871 -0.605682  -0.006987  0.144097   -0.799424   \n",
       "407  0.103108       -0.515473 -0.605682   1.593539  0.601862    0.517530   \n",
       "375 -0.386515       -0.479441 -0.605682  -0.796778 -0.598478   -0.286325   \n",
       "377 -0.386515       -0.538000 -0.605682  -0.754791 -0.518260   -0.457358   \n",
       "376 -0.424178       -0.537129 -0.605682  -0.732839 -0.585146   -0.753001   \n",
       "\n",
       "     Pulses_per_Sec      MFCC  Spectral Rolloff  Melspectrogram  ...  \\\n",
       "382        1.123726 -1.945481          0.440502       -0.202451  ...   \n",
       "398       -0.564107  0.714125         -1.373640       -0.149853  ...   \n",
       "407        1.055904  1.566079          0.444750        0.268902  ...   \n",
       "375        0.488669 -0.382277         -0.029835       -0.267777  ...   \n",
       "377        0.023166 -0.017599          0.050116       -0.262161  ...   \n",
       "376       -0.064694 -0.047318         -0.124902       -0.266568  ...   \n",
       "\n",
       "     Chroma_StFt   Tonnetz   Target     growl      hiss       mew   prusten  \\\n",
       "382    -0.121651  0.174109  prusten  0.013432  0.014583  0.434144  0.414696   \n",
       "398     1.007178  0.519259  prusten  0.132101  0.457741  0.031720  0.321739   \n",
       "407     1.175930 -0.398267  prusten  0.664127  0.108935  0.023315  0.123501   \n",
       "375     1.333358 -0.952526     hiss  0.041218  0.439217  0.029864  0.467779   \n",
       "377     1.095874 -1.701586     hiss  0.016239  0.452841  0.011151  0.499353   \n",
       "376     1.154942 -1.740241     hiss  0.024201  0.463731  0.007478  0.487492   \n",
       "\n",
       "         puff      roar  Predicted  \n",
       "382  0.014114  0.109031        mew  \n",
       "398  0.011532  0.045168       hiss  \n",
       "407  0.038982  0.041139      growl  \n",
       "375  0.009448  0.012474    prusten  \n",
       "377  0.002499  0.017916    prusten  \n",
       "376  0.003852  0.013246    prusten  \n",
       "\n",
       "[6 rows x 21 columns]"
      ]
     },
     "execution_count": 48,
     "metadata": {},
     "output_type": "execute_result"
    }
   ],
   "source": [
    "pred_df = pd.DataFrame(X_test.copy())\n",
    "pred_df['Target'] = y_test1\n",
    "pred_df['growl'] = y_prob_lr[:,0] \n",
    "pred_df['hiss'] = y_prob_lr[:,1]\n",
    "pred_df['mew'] = y_prob_lr[:,2]\n",
    "pred_df['prusten'] = y_prob_lr[:,3]\n",
    "pred_df['puff'] = y_prob_lr[:,4]\n",
    "pred_df['roar'] = y_prob_lr[:,5]\n",
    "pred_df['Predicted'] = y_pred_lr\n",
    "pred_df = pred_df[pred_df['Target'] != pred_df['Predicted']]\n",
    "pred_df.to_csv('Mislabeled Panterinae Calls With Logistic Regression.csv', index=False)\n",
    "pred_df.head(15)"
   ]
  },
  {
   "cell_type": "markdown",
   "metadata": {},
   "source": [
    "## KNN"
   ]
  },
  {
   "cell_type": "code",
   "execution_count": 49,
   "metadata": {},
   "outputs": [],
   "source": [
    "knn = KNeighborsClassifier()"
   ]
  },
  {
   "cell_type": "code",
   "execution_count": 50,
   "metadata": {},
   "outputs": [
    {
     "data": {
      "text/plain": [
       "KNeighborsClassifier()"
      ]
     },
     "execution_count": 50,
     "metadata": {},
     "output_type": "execute_result"
    }
   ],
   "source": [
    "knn.fit(X_train, y_train1)"
   ]
  },
  {
   "cell_type": "code",
   "execution_count": 51,
   "metadata": {},
   "outputs": [
    {
     "data": {
      "text/plain": [
       "0.85"
      ]
     },
     "execution_count": 51,
     "metadata": {},
     "output_type": "execute_result"
    }
   ],
   "source": [
    "knn.score(X_train, y_train1)"
   ]
  },
  {
   "cell_type": "code",
   "execution_count": 52,
   "metadata": {},
   "outputs": [
    {
     "data": {
      "text/plain": [
       "0.9534883720930233"
      ]
     },
     "execution_count": 52,
     "metadata": {},
     "output_type": "execute_result"
    }
   ],
   "source": [
    "knn.score(X_test, y_test1)"
   ]
  },
  {
   "cell_type": "code",
   "execution_count": 53,
   "metadata": {},
   "outputs": [],
   "source": [
    "y_pred_knn = knn.predict(X_test)"
   ]
  },
  {
   "cell_type": "code",
   "execution_count": 54,
   "metadata": {},
   "outputs": [
    {
     "name": "stdout",
     "output_type": "stream",
     "text": [
      "1. Tested Calls\n",
      "['growl' 'hiss' 'prusten' 'puff' 'roar']\n",
      "2. Predicted Calls\n",
      "['growl' 'hiss' 'prusten' 'puff' 'roar']\n",
      "3. Not tested for but predicted\n",
      "set()\n",
      "4. Tested for but not predicted\n",
      "set()\n"
     ]
    }
   ],
   "source": [
    "print('1. Tested Calls')\n",
    "print(np.unique(y_test1))\n",
    "print('2. Predicted Calls')\n",
    "print(np.unique(y_pred_knn))\n",
    "print('3. Not tested for but predicted')\n",
    "print(set(np.unique(y_pred_knn))-set(np.unique(y_test1)))\n",
    "print('4. Tested for but not predicted')\n",
    "print(set(np.unique(y_test1))-set(np.unique(y_pred_knn)))"
   ]
  },
  {
   "cell_type": "code",
   "execution_count": 55,
   "metadata": {},
   "outputs": [
    {
     "name": "stdout",
     "output_type": "stream",
     "text": [
      "Accuracy 0.9534883720930233\n"
     ]
    },
    {
     "data": {
      "image/png": "[encoded data removed]",
      "text/plain": [
       "<Figure size 576x288 with 2 Axes>"
      ]
     },
     "metadata": {
      "needs_background": "light"
     },
     "output_type": "display_data"
    }
   ],
   "source": [
    "names_knn = sorted(list(set(np.unique(y_test1)).union(set(y_pred_knn))))\n",
    "cnf = confusion_matrix(y_test1, y_pred_knn)\n",
    "fig, ax = plt.subplots(figsize=(8,4))\n",
    "\n",
    "print('Accuracy',knn.score(X_test, y_test1))\n",
    "\n",
    "sns.heatmap(cnf, annot=True, xticklabels=names_knn, yticklabels=names_knn,cmap= \"YlOrBr\")\n",
    "plt.title('KNN')\n",
    "ax.xaxis.set_label_position('top')\n",
    "plt.ylabel('Actual')\n",
    "plt.xlabel('Predicted')\n",
    "plt.show(block=False)\n"
   ]
  },
  {
   "cell_type": "markdown",
   "metadata": {},
   "source": [
    "## Decision Tree Classifier"
   ]
  },
  {
   "cell_type": "code",
   "execution_count": 56,
   "metadata": {},
   "outputs": [],
   "source": [
    "cart = DecisionTreeClassifier()"
   ]
  },
  {
   "cell_type": "code",
   "execution_count": 57,
   "metadata": {},
   "outputs": [
    {
     "data": {
      "text/plain": [
       "DecisionTreeClassifier()"
      ]
     },
     "execution_count": 57,
     "metadata": {},
     "output_type": "execute_result"
    }
   ],
   "source": [
    "cart.fit(X_train, y_train1)"
   ]
  },
  {
   "cell_type": "code",
   "execution_count": 58,
   "metadata": {},
   "outputs": [
    {
     "data": {
      "text/plain": [
       "1.0"
      ]
     },
     "execution_count": 58,
     "metadata": {},
     "output_type": "execute_result"
    }
   ],
   "source": [
    "cart.score(X_train, y_train1)"
   ]
  },
  {
   "cell_type": "code",
   "execution_count": 59,
   "metadata": {},
   "outputs": [
    {
     "data": {
      "text/plain": [
       "0.7209302325581395"
      ]
     },
     "execution_count": 59,
     "metadata": {},
     "output_type": "execute_result"
    }
   ],
   "source": [
    "cart.score(X_test, y_test1)"
   ]
  },
  {
   "cell_type": "code",
   "execution_count": 60,
   "metadata": {},
   "outputs": [],
   "source": [
    "y_pred_cart = cart.predict(X_test)"
   ]
  },
  {
   "cell_type": "code",
   "execution_count": 61,
   "metadata": {},
   "outputs": [
    {
     "name": "stdout",
     "output_type": "stream",
     "text": [
      "1. Tested Calls\n",
      "['growl' 'hiss' 'prusten' 'puff' 'roar']\n",
      "2. Predicted Calls\n",
      "['growl' 'hiss' 'mew' 'prusten' 'puff' 'roar']\n",
      "3. Not tested for but predicted\n",
      "{'mew'}\n",
      "4. Tested for but not predicted\n",
      "set()\n"
     ]
    }
   ],
   "source": [
    "print('1. Tested Calls')\n",
    "print(np.unique(y_test1))\n",
    "print('2. Predicted Calls')\n",
    "print(np.unique(y_pred_cart))\n",
    "print('3. Not tested for but predicted')\n",
    "print(set(np.unique(y_pred_cart))-set(np.unique(y_test1)))\n",
    "print('4. Tested for but not predicted')\n",
    "print(set(np.unique(y_test1))-set(np.unique(y_pred_cart)))"
   ]
  },
  {
   "cell_type": "code",
   "execution_count": 62,
   "metadata": {},
   "outputs": [
    {
     "name": "stdout",
     "output_type": "stream",
     "text": [
      "Accuracy 0.7209302325581395\n"
     ]
    },
    {
     "data": {
      "image/png": "[encoded data removed]",
      "text/plain": [
       "<Figure size 576x288 with 2 Axes>"
      ]
     },
     "metadata": {
      "needs_background": "light"
     },
     "output_type": "display_data"
    }
   ],
   "source": [
    "names_cart = sorted(list(set(np.unique(y_test1)).union(set(y_pred_cart))))\n",
    "cnf = confusion_matrix(y_test1, y_pred_cart)\n",
    "fig, ax = plt.subplots(figsize=(8,4))\n",
    "\n",
    "print('Accuracy',cart.score(X_test, y_test1))\n",
    "\n",
    "sns.heatmap(cnf, annot=True, xticklabels=names_cart, yticklabels=names_cart,cmap= \"YlOrBr\")\n",
    "plt.title('Decision Tree Classifier')\n",
    "ax.xaxis.set_label_position('top')\n",
    "plt.ylabel('Actual')\n",
    "plt.xlabel('Predicted')\n",
    "plt.show(block=False)\n"
   ]
  },
  {
   "cell_type": "markdown",
   "metadata": {},
   "source": [
    "## Random Forest Classifier"
   ]
  },
  {
   "cell_type": "code",
   "execution_count": 63,
   "metadata": {},
   "outputs": [],
   "source": [
    "rf = RandomForestClassifier()"
   ]
  },
  {
   "cell_type": "code",
   "execution_count": 64,
   "metadata": {},
   "outputs": [
    {
     "data": {
      "text/plain": [
       "RandomForestClassifier()"
      ]
     },
     "execution_count": 64,
     "metadata": {},
     "output_type": "execute_result"
    }
   ],
   "source": [
    "rf.fit(X_train, y_train1)"
   ]
  },
  {
   "cell_type": "code",
   "execution_count": 65,
   "metadata": {},
   "outputs": [
    {
     "data": {
      "text/plain": [
       "1.0"
      ]
     },
     "execution_count": 65,
     "metadata": {},
     "output_type": "execute_result"
    }
   ],
   "source": [
    "rf.score(X_train, y_train1)"
   ]
  },
  {
   "cell_type": "code",
   "execution_count": 66,
   "metadata": {},
   "outputs": [
    {
     "data": {
      "text/plain": [
       "0.8372093023255814"
      ]
     },
     "execution_count": 66,
     "metadata": {},
     "output_type": "execute_result"
    }
   ],
   "source": [
    "rf.score(X_test, y_test1)"
   ]
  },
  {
   "cell_type": "code",
   "execution_count": 67,
   "metadata": {},
   "outputs": [],
   "source": [
    "y_pred_rf = rf.predict(X_test)\n",
    "y_prob_rf = rf.predict_proba(X_test)"
   ]
  },
  {
   "cell_type": "code",
   "execution_count": 68,
   "metadata": {},
   "outputs": [
    {
     "name": "stdout",
     "output_type": "stream",
     "text": [
      "1. Tested Calls\n",
      "['growl' 'hiss' 'prusten' 'puff' 'roar']\n",
      "2. Predicted Calls\n",
      "['growl' 'prusten' 'roar']\n",
      "3. Not tested for but predicted\n",
      "set()\n",
      "4. Tested for but not predicted\n",
      "{'puff', 'hiss'}\n"
     ]
    }
   ],
   "source": [
    "print('1. Tested Calls')\n",
    "print(np.unique(y_test1))\n",
    "print('2. Predicted Calls')\n",
    "print(np.unique(y_pred_rf))\n",
    "print('3. Not tested for but predicted')\n",
    "print(set(np.unique(y_pred_rf))-set(np.unique(y_test1)))\n",
    "print('4. Tested for but not predicted')\n",
    "print(set(np.unique(y_test1))-set(np.unique(y_pred_rf)))"
   ]
  },
  {
   "cell_type": "code",
   "execution_count": 69,
   "metadata": {},
   "outputs": [
    {
     "name": "stdout",
     "output_type": "stream",
     "text": [
      "Accuracy 0.8372093023255814\n"
     ]
    },
    {
     "data": {
      "image/png": "[encoded data removed]",
      "text/plain": [
       "<Figure size 576x288 with 2 Axes>"
      ]
     },
     "metadata": {
      "needs_background": "light"
     },
     "output_type": "display_data"
    }
   ],
   "source": [
    "names_rf = sorted(list(set(np.unique(y_test1)).union(set(y_pred_rf))))\n",
    "cnf = confusion_matrix(y_test1, y_pred_rf)\n",
    "fig, ax = plt.subplots(figsize=(8,4))\n",
    "\n",
    "print('Accuracy',rf.score(X_test, y_test1))\n",
    "\n",
    "sns.heatmap(cnf, annot=True, xticklabels=names_rf, yticklabels=names_rf,cmap= \"YlOrBr\")\n",
    "plt.title('Random Forest')\n",
    "ax.xaxis.set_label_position('top')\n",
    "plt.ylabel('Actual')\n",
    "plt.xlabel('Predicted')\n",
    "plt.show(block=False)\n"
   ]
  },
  {
   "cell_type": "code",
   "execution_count": 70,
   "metadata": {},
   "outputs": [
    {
     "data": {
      "text/plain": [
       "array(['growl', 'hiss', 'mew', 'prusten', 'puff', 'roar'], dtype=object)"
      ]
     },
     "execution_count": 70,
     "metadata": {},
     "output_type": "execute_result"
    }
   ],
   "source": [
    "rf.classes_"
   ]
  },
  {
   "cell_type": "code",
   "execution_count": 71,
   "metadata": {},
   "outputs": [
    {
     "data": {
      "text/html": [
       "<div>\n",
       "<style scoped>\n",
       "    .dataframe tbody tr th:only-of-type {\n",
       "        vertical-align: middle;\n",
       "    }\n",
       "\n",
       "    .dataframe tbody tr th {\n",
       "        vertical-align: top;\n",
       "    }\n",
       "\n",
       "    .dataframe thead th {\n",
       "        text-align: right;\n",
       "    }\n",
       "</style>\n",
       "<table border=\"1\" class=\"dataframe\">\n",
       "  <thead>\n",
       "    <tr style=\"text-align: right;\">\n",
       "      <th></th>\n",
       "      <th>Partials</th>\n",
       "      <th>Zero_Crossings</th>\n",
       "      <th>Duration</th>\n",
       "      <th>Amp_range</th>\n",
       "      <th>Avg_amp</th>\n",
       "      <th>Freq_range</th>\n",
       "      <th>Pulses_per_Sec</th>\n",
       "      <th>MFCC</th>\n",
       "      <th>Spectral Rolloff</th>\n",
       "      <th>Melspectrogram</th>\n",
       "      <th>...</th>\n",
       "      <th>Chroma_StFt</th>\n",
       "      <th>Tonnetz</th>\n",
       "      <th>Target</th>\n",
       "      <th>growl</th>\n",
       "      <th>hiss</th>\n",
       "      <th>mew</th>\n",
       "      <th>prusten</th>\n",
       "      <th>puff</th>\n",
       "      <th>roar</th>\n",
       "      <th>Predicted</th>\n",
       "    </tr>\n",
       "  </thead>\n",
       "  <tbody>\n",
       "    <tr>\n",
       "      <th>452</th>\n",
       "      <td>0.178434</td>\n",
       "      <td>1.971545</td>\n",
       "      <td>0.426788</td>\n",
       "      <td>1.929424</td>\n",
       "      <td>0.536933</td>\n",
       "      <td>1.322674</td>\n",
       "      <td>1.148045</td>\n",
       "      <td>-1.395524</td>\n",
       "      <td>1.198599</td>\n",
       "      <td>0.259737</td>\n",
       "      <td>...</td>\n",
       "      <td>-0.454438</td>\n",
       "      <td>-0.266165</td>\n",
       "      <td>roar</td>\n",
       "      <td>0.48</td>\n",
       "      <td>0.00</td>\n",
       "      <td>0.08</td>\n",
       "      <td>0.04</td>\n",
       "      <td>0.00</td>\n",
       "      <td>0.40</td>\n",
       "      <td>growl</td>\n",
       "    </tr>\n",
       "    <tr>\n",
       "      <th>459</th>\n",
       "      <td>0.743383</td>\n",
       "      <td>-0.030266</td>\n",
       "      <td>-0.218505</td>\n",
       "      <td>2.959513</td>\n",
       "      <td>1.687206</td>\n",
       "      <td>1.625198</td>\n",
       "      <td>1.896738</td>\n",
       "      <td>0.210251</td>\n",
       "      <td>0.137189</td>\n",
       "      <td>0.694801</td>\n",
       "      <td>...</td>\n",
       "      <td>-0.066508</td>\n",
       "      <td>-0.333012</td>\n",
       "      <td>growl</td>\n",
       "      <td>0.39</td>\n",
       "      <td>0.00</td>\n",
       "      <td>0.15</td>\n",
       "      <td>0.00</td>\n",
       "      <td>0.00</td>\n",
       "      <td>0.46</td>\n",
       "      <td>roar</td>\n",
       "    </tr>\n",
       "    <tr>\n",
       "      <th>471</th>\n",
       "      <td>-0.235862</td>\n",
       "      <td>-0.115148</td>\n",
       "      <td>0.297730</td>\n",
       "      <td>0.119825</td>\n",
       "      <td>-0.734150</td>\n",
       "      <td>1.224377</td>\n",
       "      <td>-0.808034</td>\n",
       "      <td>-2.153850</td>\n",
       "      <td>-0.571309</td>\n",
       "      <td>-0.264730</td>\n",
       "      <td>...</td>\n",
       "      <td>-3.987409</td>\n",
       "      <td>-0.172403</td>\n",
       "      <td>puff</td>\n",
       "      <td>0.02</td>\n",
       "      <td>0.00</td>\n",
       "      <td>0.01</td>\n",
       "      <td>0.00</td>\n",
       "      <td>0.28</td>\n",
       "      <td>0.69</td>\n",
       "      <td>roar</td>\n",
       "    </tr>\n",
       "    <tr>\n",
       "      <th>375</th>\n",
       "      <td>-0.386515</td>\n",
       "      <td>-0.479441</td>\n",
       "      <td>-0.605682</td>\n",
       "      <td>-0.796778</td>\n",
       "      <td>-0.598478</td>\n",
       "      <td>-0.286325</td>\n",
       "      <td>0.488669</td>\n",
       "      <td>-0.382277</td>\n",
       "      <td>-0.029835</td>\n",
       "      <td>-0.267777</td>\n",
       "      <td>...</td>\n",
       "      <td>1.333358</td>\n",
       "      <td>-0.952526</td>\n",
       "      <td>hiss</td>\n",
       "      <td>0.02</td>\n",
       "      <td>0.27</td>\n",
       "      <td>0.00</td>\n",
       "      <td>0.68</td>\n",
       "      <td>0.02</td>\n",
       "      <td>0.01</td>\n",
       "      <td>prusten</td>\n",
       "    </tr>\n",
       "    <tr>\n",
       "      <th>576</th>\n",
       "      <td>-0.160535</td>\n",
       "      <td>-0.607573</td>\n",
       "      <td>-0.605682</td>\n",
       "      <td>0.974286</td>\n",
       "      <td>1.701613</td>\n",
       "      <td>0.173304</td>\n",
       "      <td>0.630236</td>\n",
       "      <td>1.746950</td>\n",
       "      <td>-0.313524</td>\n",
       "      <td>0.586416</td>\n",
       "      <td>...</td>\n",
       "      <td>0.628175</td>\n",
       "      <td>-0.369724</td>\n",
       "      <td>growl</td>\n",
       "      <td>0.35</td>\n",
       "      <td>0.01</td>\n",
       "      <td>0.01</td>\n",
       "      <td>0.54</td>\n",
       "      <td>0.00</td>\n",
       "      <td>0.09</td>\n",
       "      <td>prusten</td>\n",
       "    </tr>\n",
       "    <tr>\n",
       "      <th>377</th>\n",
       "      <td>-0.386515</td>\n",
       "      <td>-0.538000</td>\n",
       "      <td>-0.605682</td>\n",
       "      <td>-0.754791</td>\n",
       "      <td>-0.518260</td>\n",
       "      <td>-0.457358</td>\n",
       "      <td>0.023166</td>\n",
       "      <td>-0.017599</td>\n",
       "      <td>0.050116</td>\n",
       "      <td>-0.262161</td>\n",
       "      <td>...</td>\n",
       "      <td>1.095874</td>\n",
       "      <td>-1.701586</td>\n",
       "      <td>hiss</td>\n",
       "      <td>0.01</td>\n",
       "      <td>0.31</td>\n",
       "      <td>0.00</td>\n",
       "      <td>0.67</td>\n",
       "      <td>0.01</td>\n",
       "      <td>0.00</td>\n",
       "      <td>prusten</td>\n",
       "    </tr>\n",
       "    <tr>\n",
       "      <th>376</th>\n",
       "      <td>-0.424178</td>\n",
       "      <td>-0.537129</td>\n",
       "      <td>-0.605682</td>\n",
       "      <td>-0.732839</td>\n",
       "      <td>-0.585146</td>\n",
       "      <td>-0.753001</td>\n",
       "      <td>-0.064694</td>\n",
       "      <td>-0.047318</td>\n",
       "      <td>-0.124902</td>\n",
       "      <td>-0.266568</td>\n",
       "      <td>...</td>\n",
       "      <td>1.154942</td>\n",
       "      <td>-1.740241</td>\n",
       "      <td>hiss</td>\n",
       "      <td>0.00</td>\n",
       "      <td>0.25</td>\n",
       "      <td>0.00</td>\n",
       "      <td>0.74</td>\n",
       "      <td>0.01</td>\n",
       "      <td>0.00</td>\n",
       "      <td>prusten</td>\n",
       "    </tr>\n",
       "  </tbody>\n",
       "</table>\n",
       "<p>7 rows × 21 columns</p>\n",
       "</div>"
      ],
      "text/plain": [
       "     Partials  Zero_Crossings  Duration  Amp_range   Avg_amp  Freq_range  \\\n",
       "452  0.178434        1.971545  0.426788   1.929424  0.536933    1.322674   \n",
       "459  0.743383       -0.030266 -0.218505   2.959513  1.687206    1.625198   \n",
       "471 -0.235862       -0.115148  0.297730   0.119825 -0.734150    1.224377   \n",
       "375 -0.386515       -0.479441 -0.605682  -0.796778 -0.598478   -0.286325   \n",
       "576 -0.160535       -0.607573 -0.605682   0.974286  1.701613    0.173304   \n",
       "377 -0.386515       -0.538000 -0.605682  -0.754791 -0.518260   -0.457358   \n",
       "376 -0.424178       -0.537129 -0.605682  -0.732839 -0.585146   -0.753001   \n",
       "\n",
       "     Pulses_per_Sec      MFCC  Spectral Rolloff  Melspectrogram  ...  \\\n",
       "452        1.148045 -1.395524          1.198599        0.259737  ...   \n",
       "459        1.896738  0.210251          0.137189        0.694801  ...   \n",
       "471       -0.808034 -2.153850         -0.571309       -0.264730  ...   \n",
       "375        0.488669 -0.382277         -0.029835       -0.267777  ...   \n",
       "576        0.630236  1.746950         -0.313524        0.586416  ...   \n",
       "377        0.023166 -0.017599          0.050116       -0.262161  ...   \n",
       "376       -0.064694 -0.047318         -0.124902       -0.266568  ...   \n",
       "\n",
       "     Chroma_StFt   Tonnetz  Target growl  hiss   mew  prusten  puff  roar  \\\n",
       "452    -0.454438 -0.266165    roar  0.48  0.00  0.08     0.04  0.00  0.40   \n",
       "459    -0.066508 -0.333012   growl  0.39  0.00  0.15     0.00  0.00  0.46   \n",
       "471    -3.987409 -0.172403    puff  0.02  0.00  0.01     0.00  0.28  0.69   \n",
       "375     1.333358 -0.952526    hiss  0.02  0.27  0.00     0.68  0.02  0.01   \n",
       "576     0.628175 -0.369724   growl  0.35  0.01  0.01     0.54  0.00  0.09   \n",
       "377     1.095874 -1.701586    hiss  0.01  0.31  0.00     0.67  0.01  0.00   \n",
       "376     1.154942 -1.740241    hiss  0.00  0.25  0.00     0.74  0.01  0.00   \n",
       "\n",
       "     Predicted  \n",
       "452      growl  \n",
       "459       roar  \n",
       "471       roar  \n",
       "375    prusten  \n",
       "576    prusten  \n",
       "377    prusten  \n",
       "376    prusten  \n",
       "\n",
       "[7 rows x 21 columns]"
      ]
     },
     "execution_count": 71,
     "metadata": {},
     "output_type": "execute_result"
    }
   ],
   "source": [
    "pred_df = pd.DataFrame(X_test.copy())\n",
    "pred_df['Target'] = y_test1\n",
    "pred_df['growl'] = y_prob_rf[:,0] \n",
    "pred_df['hiss'] = y_prob_rf[:,1]\n",
    "pred_df['mew'] = y_prob_rf[:,2]\n",
    "pred_df['prusten'] = y_prob_rf[:,3]\n",
    "pred_df['puff'] = y_prob_rf[:,4]\n",
    "pred_df['roar'] = y_prob_rf[:,5]\n",
    "pred_df['Predicted'] = y_pred_rf\n",
    "pred_df = pred_df[pred_df['Target'] != pred_df['Predicted']]\n",
    "pred_df.head(15)"
   ]
  },
  {
   "cell_type": "code",
   "execution_count": 72,
   "metadata": {},
   "outputs": [
    {
     "data": {
      "text/plain": [
       "(7, 21)"
      ]
     },
     "execution_count": 72,
     "metadata": {},
     "output_type": "execute_result"
    }
   ],
   "source": [
    "pred_df.shape"
   ]
  },
  {
   "cell_type": "code",
   "execution_count": 73,
   "metadata": {},
   "outputs": [],
   "source": [
    "pred_df.to_csv('Mislabeled Panterinae Calls With Random Forest.csv', index=False)"
   ]
  },
  {
   "cell_type": "code",
   "execution_count": 74,
   "metadata": {},
   "outputs": [
    {
     "data": {
      "text/plain": [
       "roar       65\n",
       "prusten    44\n",
       "growl      20\n",
       "hiss        6\n",
       "puff        5\n",
       "mew         3\n",
       "Name: Call, dtype: int64"
      ]
     },
     "execution_count": 74,
     "metadata": {},
     "output_type": "execute_result"
    }
   ],
   "source": [
    "#The data is unbalanced, this could be fixed by updating the class weights \n",
    "#Or getting more varied data\n",
    "df['Call'].value_counts()"
   ]
  },
  {
   "cell_type": "markdown",
   "metadata": {},
   "source": [
    "# Species Classification"
   ]
  },
  {
   "cell_type": "markdown",
   "metadata": {},
   "source": [
    "## Splitting data"
   ]
  },
  {
   "cell_type": "code",
   "execution_count": 75,
   "metadata": {},
   "outputs": [],
   "source": [
    "y_train2 = y_train.Species\n",
    "y_test2 = y_test.Species"
   ]
  },
  {
   "cell_type": "code",
   "execution_count": 76,
   "metadata": {},
   "outputs": [],
   "source": [
    "## LightGBM"
   ]
  },
  {
   "cell_type": "code",
   "execution_count": 77,
   "metadata": {},
   "outputs": [
    {
     "data": {
      "text/plain": [
       "LGBMClassifier()"
      ]
     },
     "execution_count": 77,
     "metadata": {},
     "output_type": "execute_result"
    }
   ],
   "source": [
    "import lightgbm as lgb\n",
    "lgb = lgb.LGBMClassifier()\n",
    "lgb.fit(X_train, y_train2)"
   ]
  },
  {
   "cell_type": "code",
   "execution_count": 78,
   "metadata": {},
   "outputs": [
    {
     "data": {
      "text/plain": [
       "1.0"
      ]
     },
     "execution_count": 78,
     "metadata": {},
     "output_type": "execute_result"
    }
   ],
   "source": [
    "lgb.score(X_train, y_train2)"
   ]
  },
  {
   "cell_type": "code",
   "execution_count": 79,
   "metadata": {},
   "outputs": [
    {
     "data": {
      "text/plain": [
       "0.7674418604651163"
      ]
     },
     "execution_count": 79,
     "metadata": {},
     "output_type": "execute_result"
    }
   ],
   "source": [
    "lgb.score(X_test,y_test2)"
   ]
  },
  {
   "cell_type": "markdown",
   "metadata": {},
   "source": [
    "## XGBoost"
   ]
  },
  {
   "cell_type": "code",
   "execution_count": 80,
   "metadata": {},
   "outputs": [],
   "source": [
    "parameters = dict(\n",
    "    objective='multi:softprob',\n",
    "    random_state = 30,\n",
    "    max_depth=9,\n",
    "    learning_rate=0.01,\n",
    "    subsample=0.8,\n",
    "    colsample_bytree=0.4,\n",
    "    tree_method='gpu_hist')\n",
    "#eval_metric='mlogloss'\n",
    "\n",
    "clf = XGBClassifier(**parameters, n_estimators=1200)"
   ]
  },
  {
   "cell_type": "code",
   "execution_count": 81,
   "metadata": {},
   "outputs": [
    {
     "name": "stderr",
     "output_type": "stream",
     "text": [
      "C:\\Users\\exant\\anaconda3\\lib\\site-packages\\xgboost\\sklearn.py:1146: UserWarning: The use of label encoder in XGBClassifier is deprecated and will be removed in a future release. To remove this warning, do the following: 1) Pass option use_label_encoder=False when constructing XGBClassifier object; and 2) Encode your labels (y) as integers starting with 0, i.e. 0, 1, 2, ..., [num_class - 1].\n",
      "  warnings.warn(label_encoder_deprecation_msg, UserWarning)\n"
     ]
    },
    {
     "name": "stdout",
     "output_type": "stream",
     "text": [
      "[02:30:17] WARNING: C:/Users/Administrator/workspace/xgboost-win64_release_1.4.0/src/learner.cc:1095: Starting in XGBoost 1.3.0, the default evaluation metric used with the objective 'multi:softprob' was changed from 'merror' to 'mlogloss'. Explicitly set eval_metric if you'd like to restore the old behavior.\n"
     ]
    },
    {
     "data": {
      "text/plain": [
       "XGBClassifier(base_score=0.5, booster='gbtree', colsample_bylevel=1,\n",
       "              colsample_bynode=1, colsample_bytree=0.4, gamma=0, gpu_id=0,\n",
       "              importance_type='gain', interaction_constraints='',\n",
       "              learning_rate=0.01, max_delta_step=0, max_depth=9,\n",
       "              min_child_weight=1, missing=nan, monotone_constraints='()',\n",
       "              n_estimators=1200, n_jobs=12, num_parallel_tree=1,\n",
       "              objective='multi:softprob', random_state=30, reg_alpha=0,\n",
       "              reg_lambda=1, scale_pos_weight=None, subsample=0.8,\n",
       "              tree_method='gpu_hist', validate_parameters=1, verbosity=None)"
      ]
     },
     "execution_count": 81,
     "metadata": {},
     "output_type": "execute_result"
    }
   ],
   "source": [
    "clf.fit(X_train, y_train2)"
   ]
  },
  {
   "cell_type": "code",
   "execution_count": 82,
   "metadata": {},
   "outputs": [
    {
     "data": {
      "text/plain": [
       "1.0"
      ]
     },
     "execution_count": 82,
     "metadata": {},
     "output_type": "execute_result"
    }
   ],
   "source": [
    "clf.score(X_train, y_train2)"
   ]
  },
  {
   "cell_type": "code",
   "execution_count": 83,
   "metadata": {},
   "outputs": [
    {
     "data": {
      "text/plain": [
       "0.7906976744186046"
      ]
     },
     "execution_count": 83,
     "metadata": {},
     "output_type": "execute_result"
    }
   ],
   "source": [
    "clf.score(X_test,y_test2)"
   ]
  },
  {
   "cell_type": "code",
   "execution_count": 84,
   "metadata": {},
   "outputs": [],
   "source": [
    "y_pred = clf.predict(X_test)"
   ]
  },
  {
   "cell_type": "code",
   "execution_count": 85,
   "metadata": {},
   "outputs": [
    {
     "name": "stdout",
     "output_type": "stream",
     "text": [
      "1. Tested Species\n",
      "['Clouded leopard' 'Jaguar' 'Leopard' 'Lion' 'Snow leopard']\n",
      "2. Predicted Species\n",
      "['Clouded leopard' 'Jaguar' 'Leopard' 'Lion']\n",
      "3. Not tested for but predicted\n",
      "set()\n",
      "4. Tested for but not predicted\n",
      "{'Snow leopard'}\n"
     ]
    }
   ],
   "source": [
    "print('1. Tested Species')\n",
    "print(np.unique(y_test2))\n",
    "print('2. Predicted Species')\n",
    "print(np.unique(y_pred))\n",
    "print('3. Not tested for but predicted')\n",
    "print(set(np.unique(y_pred))-set(np.unique(y_test2)))\n",
    "print('4. Tested for but not predicted')\n",
    "print(set(np.unique(y_test2))-set(np.unique(y_pred)))"
   ]
  },
  {
   "cell_type": "code",
   "execution_count": 86,
   "metadata": {
    "scrolled": false
   },
   "outputs": [
    {
     "name": "stdout",
     "output_type": "stream",
     "text": [
      "Accuracy 0.7906976744186046\n"
     ]
    },
    {
     "data": {
      "image/png": "[encoded data removed]",
      "text/plain": [
       "<Figure size 576x288 with 2 Axes>"
      ]
     },
     "metadata": {
      "needs_background": "light"
     },
     "output_type": "display_data"
    }
   ],
   "source": [
    "names = sorted(list(set(np.unique(y_test2)).union(set(y_pred))))\n",
    "cnf = confusion_matrix(y_test2, y_pred)\n",
    "fig, ax = plt.subplots(figsize=(8,4))\n",
    "\n",
    "print('Accuracy',clf.score(X_test, y_test2))\n",
    "\n",
    "sns.heatmap(cnf, annot=True, xticklabels=names, yticklabels=names,cmap= \"YlOrBr\")\n",
    "plt.title('XGBoost')\n",
    "ax.xaxis.set_label_position('top')\n",
    "plt.ylabel('Actual')\n",
    "plt.xlabel('Predicted')\n",
    "plt.show(block=False)\n"
   ]
  },
  {
   "cell_type": "code",
   "execution_count": 87,
   "metadata": {},
   "outputs": [
    {
     "data": {
      "image/png": "[encoded data removed]",
      "text/plain": [
       "<Figure size 432x288 with 1 Axes>"
      ]
     },
     "metadata": {
      "needs_background": "light"
     },
     "output_type": "display_data"
    }
   ],
   "source": [
    "plot_importance(clf)\n",
    "figsize=(8,4)"
   ]
  },
  {
   "cell_type": "markdown",
   "metadata": {},
   "source": [
    "## SVM"
   ]
  },
  {
   "cell_type": "code",
   "execution_count": 88,
   "metadata": {},
   "outputs": [],
   "source": [
    "clf_svc = SVC()"
   ]
  },
  {
   "cell_type": "code",
   "execution_count": 89,
   "metadata": {},
   "outputs": [
    {
     "data": {
      "text/plain": [
       "SVC()"
      ]
     },
     "execution_count": 89,
     "metadata": {},
     "output_type": "execute_result"
    }
   ],
   "source": [
    "clf_svc.fit(X_train, y_train2)"
   ]
  },
  {
   "cell_type": "code",
   "execution_count": 90,
   "metadata": {},
   "outputs": [
    {
     "data": {
      "text/plain": [
       "0.82"
      ]
     },
     "execution_count": 90,
     "metadata": {},
     "output_type": "execute_result"
    }
   ],
   "source": [
    "clf_svc.score(X_train, y_train2)"
   ]
  },
  {
   "cell_type": "code",
   "execution_count": 91,
   "metadata": {},
   "outputs": [
    {
     "data": {
      "text/plain": [
       "0.7906976744186046"
      ]
     },
     "execution_count": 91,
     "metadata": {},
     "output_type": "execute_result"
    }
   ],
   "source": [
    "clf_svc.score(X_test, y_test2)"
   ]
  },
  {
   "cell_type": "code",
   "execution_count": 92,
   "metadata": {},
   "outputs": [],
   "source": [
    "y_pred_svc=clf_svc.predict(X_test)"
   ]
  },
  {
   "cell_type": "code",
   "execution_count": 93,
   "metadata": {},
   "outputs": [
    {
     "name": "stdout",
     "output_type": "stream",
     "text": [
      "1. Tested Species\n",
      "['Clouded leopard' 'Jaguar' 'Leopard' 'Lion' 'Snow leopard']\n",
      "2. Predicted Species\n",
      "['Clouded leopard' 'Jaguar' 'Leopard' 'Lion']\n",
      "3. False Positive\n",
      "set()\n",
      "4. False Negative\n",
      "{'Snow leopard'}\n"
     ]
    }
   ],
   "source": [
    "print('1. Tested Species')\n",
    "print(np.unique(y_test2))\n",
    "print('2. Predicted Species')\n",
    "print(np.unique(y_pred_svc))\n",
    "print('3. False Positive')\n",
    "print(set(np.unique(y_pred_svc))-set(np.unique(y_test2)))\n",
    "print('4. False Negative')\n",
    "print(set(np.unique(y_test2))-set(np.unique(y_pred_svc)))"
   ]
  },
  {
   "cell_type": "code",
   "execution_count": 94,
   "metadata": {
    "scrolled": false
   },
   "outputs": [
    {
     "name": "stdout",
     "output_type": "stream",
     "text": [
      "Accuracy 0.7906976744186046\n"
     ]
    },
    {
     "data": {
      "image/png": "[encoded data removed]",
      "text/plain": [
       "<Figure size 576x288 with 2 Axes>"
      ]
     },
     "metadata": {
      "needs_background": "light"
     },
     "output_type": "display_data"
    }
   ],
   "source": [
    "names_svc = sorted(list(set(np.unique(y_test2)).union(set(y_pred_svc))))\n",
    "cnf = confusion_matrix(y_test2, y_pred_svc)\n",
    "fig, ax = plt.subplots(figsize=(8,4))\n",
    "\n",
    "print('Accuracy',clf_svc.score(X_test, y_test2))\n",
    "\n",
    "sns.heatmap(cnf, annot=True, xticklabels=names_svc, yticklabels=names_svc,cmap= \"YlOrBr\")\n",
    "plt.title('SVM Confusion Matrix')\n",
    "ax.xaxis.set_label_position('top')\n",
    "plt.ylabel('Actual')\n",
    "plt.xlabel('Predicted')\n",
    "plt.show(block=False)\n",
    "\n"
   ]
  },
  {
   "cell_type": "code",
   "execution_count": 95,
   "metadata": {},
   "outputs": [],
   "source": [
    "## Naive Bayes"
   ]
  },
  {
   "cell_type": "code",
   "execution_count": 96,
   "metadata": {},
   "outputs": [],
   "source": [
    "gnb = GaussianNB()"
   ]
  },
  {
   "cell_type": "code",
   "execution_count": 97,
   "metadata": {},
   "outputs": [
    {
     "data": {
      "text/plain": [
       "GaussianNB()"
      ]
     },
     "execution_count": 97,
     "metadata": {},
     "output_type": "execute_result"
    }
   ],
   "source": [
    "gnb.fit(X_train, y_train2)"
   ]
  },
  {
   "cell_type": "code",
   "execution_count": 98,
   "metadata": {},
   "outputs": [
    {
     "data": {
      "text/plain": [
       "0.73"
      ]
     },
     "execution_count": 98,
     "metadata": {},
     "output_type": "execute_result"
    }
   ],
   "source": [
    "gnb.score(X_train, y_train2)"
   ]
  },
  {
   "cell_type": "code",
   "execution_count": 99,
   "metadata": {},
   "outputs": [
    {
     "data": {
      "text/plain": [
       "0.6046511627906976"
      ]
     },
     "execution_count": 99,
     "metadata": {},
     "output_type": "execute_result"
    }
   ],
   "source": [
    "gnb.score(X_test, y_test2)"
   ]
  },
  {
   "cell_type": "code",
   "execution_count": 100,
   "metadata": {},
   "outputs": [],
   "source": [
    "y_pred_nb = gnb.predict(X_test)"
   ]
  },
  {
   "cell_type": "code",
   "execution_count": 101,
   "metadata": {},
   "outputs": [
    {
     "name": "stdout",
     "output_type": "stream",
     "text": [
      "1. Tested Species\n",
      "['Clouded leopard' 'Jaguar' 'Leopard' 'Lion' 'Snow leopard']\n",
      "2. Predicted Species\n",
      "['Clouded leopard' 'Jaguar' 'Leopard' 'Lion' 'Snow leopard']\n",
      "3. Not tested for but predicted\n",
      "set()\n",
      "4. Tested for but not predicted\n",
      "set()\n"
     ]
    }
   ],
   "source": [
    "print('1. Tested Species')\n",
    "print(np.unique(y_test2))\n",
    "print('2. Predicted Species')\n",
    "print(np.unique(y_pred_nb))\n",
    "print('3. Not tested for but predicted')\n",
    "print(set(np.unique(y_pred_nb))-set(np.unique(y_test2)))\n",
    "print('4. Tested for but not predicted')\n",
    "print(set(np.unique(y_test2))-set(np.unique(y_pred_nb)))"
   ]
  },
  {
   "cell_type": "code",
   "execution_count": 102,
   "metadata": {},
   "outputs": [
    {
     "name": "stdout",
     "output_type": "stream",
     "text": [
      "Accuracy 0.6046511627906976\n"
     ]
    },
    {
     "data": {
      "image/png": "[encoded data removed]",
      "text/plain": [
       "<Figure size 576x288 with 2 Axes>"
      ]
     },
     "metadata": {
      "needs_background": "light"
     },
     "output_type": "display_data"
    }
   ],
   "source": [
    "names_nb = sorted(list(set(np.unique(y_test2)).union(set(y_pred_nb))))\n",
    "cnf = confusion_matrix(y_test2, y_pred_nb)\n",
    "fig, ax = plt.subplots(figsize=(8,4))\n",
    "\n",
    "print('Accuracy',gnb.score(X_test, y_test2))\n",
    "\n",
    "sns.heatmap(cnf, annot=True, xticklabels=names_nb, yticklabels=names_nb,cmap= \"YlOrBr\")\n",
    "plt.title('Naive Bayes Confusion Matrix')\n",
    "ax.xaxis.set_label_position('top')\n",
    "plt.ylabel('Actual')\n",
    "plt.xlabel('Predicted')\n",
    "plt.show(block=False)\n"
   ]
  },
  {
   "cell_type": "code",
   "execution_count": 103,
   "metadata": {},
   "outputs": [],
   "source": [
    "## Logistic Regression"
   ]
  },
  {
   "cell_type": "code",
   "execution_count": 104,
   "metadata": {},
   "outputs": [],
   "source": [
    "lr = LogisticRegression(solver='liblinear', multi_class='ovr')"
   ]
  },
  {
   "cell_type": "code",
   "execution_count": 105,
   "metadata": {},
   "outputs": [
    {
     "data": {
      "text/plain": [
       "LogisticRegression(multi_class='ovr', solver='liblinear')"
      ]
     },
     "execution_count": 105,
     "metadata": {},
     "output_type": "execute_result"
    }
   ],
   "source": [
    "lr.fit(X_train,y_train2)"
   ]
  },
  {
   "cell_type": "code",
   "execution_count": 106,
   "metadata": {},
   "outputs": [
    {
     "data": {
      "text/plain": [
       "0.83"
      ]
     },
     "execution_count": 106,
     "metadata": {},
     "output_type": "execute_result"
    }
   ],
   "source": [
    "lr.score(X_train, y_train2)"
   ]
  },
  {
   "cell_type": "code",
   "execution_count": 107,
   "metadata": {},
   "outputs": [
    {
     "data": {
      "text/plain": [
       "0.7209302325581395"
      ]
     },
     "execution_count": 107,
     "metadata": {},
     "output_type": "execute_result"
    }
   ],
   "source": [
    "lr.score(X_test, y_test2)"
   ]
  },
  {
   "cell_type": "code",
   "execution_count": 108,
   "metadata": {},
   "outputs": [],
   "source": [
    "y_pred_lr = lr.predict(X_test)"
   ]
  },
  {
   "cell_type": "code",
   "execution_count": 109,
   "metadata": {},
   "outputs": [
    {
     "name": "stdout",
     "output_type": "stream",
     "text": [
      "1. Tested Species\n",
      "['Clouded leopard' 'Jaguar' 'Leopard' 'Lion' 'Snow leopard' 'growl' 'hiss'\n",
      " 'prusten' 'puff' 'roar']\n",
      "2. Predicted Species\n",
      "['Clouded leopard' 'Jaguar' 'Leopard' 'Lion']\n",
      "3. Not tested for but predicted\n",
      "set()\n",
      "4. Tested for but not predicted\n",
      "{'roar', 'puff', 'growl', 'prusten', 'hiss', 'Snow leopard'}\n"
     ]
    }
   ],
   "source": [
    "print('1. Tested Species')\n",
    "print(np.unique(y_test))\n",
    "print('2. Predicted Species')\n",
    "print(np.unique(y_pred_lr))\n",
    "print('3. Not tested for but predicted')\n",
    "print(set(np.unique(y_pred_lr))-set(np.unique(y_test)))\n",
    "print('4. Tested for but not predicted')\n",
    "print(set(np.unique(y_test))-set(np.unique(y_pred_lr)))"
   ]
  },
  {
   "cell_type": "code",
   "execution_count": 110,
   "metadata": {},
   "outputs": [
    {
     "name": "stdout",
     "output_type": "stream",
     "text": [
      "Accuracy 0.7209302325581395\n"
     ]
    },
    {
     "data": {
      "image/png": "[encoded data removed]",
      "text/plain": [
       "<Figure size 576x288 with 2 Axes>"
      ]
     },
     "metadata": {
      "needs_background": "light"
     },
     "output_type": "display_data"
    }
   ],
   "source": [
    "names_lr = sorted(list(set(np.unique(y_test2)).union(set(y_pred_lr))))\n",
    "cnf = confusion_matrix(y_test2, y_pred_lr)\n",
    "fig, ax = plt.subplots(figsize=(8,4))\n",
    "\n",
    "print('Accuracy',lr.score(X_test, y_test2))\n",
    "\n",
    "sns.heatmap(cnf, annot=True, xticklabels=names_lr, yticklabels=names_lr,cmap= \"YlOrBr\")\n",
    "plt.title('Logistic Regression')\n",
    "ax.xaxis.set_label_position('top')\n",
    "plt.ylabel('Actual')\n",
    "plt.xlabel('Predicted')\n",
    "plt.show(block=False)\n"
   ]
  },
  {
   "cell_type": "code",
   "execution_count": 111,
   "metadata": {},
   "outputs": [],
   "source": [
    "## KNN"
   ]
  },
  {
   "cell_type": "code",
   "execution_count": 112,
   "metadata": {},
   "outputs": [],
   "source": [
    "knn = KNeighborsClassifier()"
   ]
  },
  {
   "cell_type": "code",
   "execution_count": 113,
   "metadata": {},
   "outputs": [
    {
     "data": {
      "text/plain": [
       "KNeighborsClassifier()"
      ]
     },
     "execution_count": 113,
     "metadata": {},
     "output_type": "execute_result"
    }
   ],
   "source": [
    "knn.fit(X_train, y_train2)"
   ]
  },
  {
   "cell_type": "code",
   "execution_count": 114,
   "metadata": {},
   "outputs": [
    {
     "data": {
      "text/plain": [
       "0.81"
      ]
     },
     "execution_count": 114,
     "metadata": {},
     "output_type": "execute_result"
    }
   ],
   "source": [
    "knn.score(X_train, y_train2)"
   ]
  },
  {
   "cell_type": "code",
   "execution_count": 115,
   "metadata": {},
   "outputs": [
    {
     "data": {
      "text/plain": [
       "0.813953488372093"
      ]
     },
     "execution_count": 115,
     "metadata": {},
     "output_type": "execute_result"
    }
   ],
   "source": [
    "knn.score(X_test, y_test2)"
   ]
  },
  {
   "cell_type": "code",
   "execution_count": 116,
   "metadata": {},
   "outputs": [],
   "source": [
    "y_pred_knn = knn.predict(X_test)"
   ]
  },
  {
   "cell_type": "code",
   "execution_count": 117,
   "metadata": {},
   "outputs": [
    {
     "name": "stdout",
     "output_type": "stream",
     "text": [
      "1. Tested Species\n",
      "['Clouded leopard' 'Jaguar' 'Leopard' 'Lion' 'Snow leopard']\n",
      "2. Predicted Species\n",
      "['Clouded leopard' 'Jaguar' 'Leopard' 'Lion']\n",
      "3. Not tested for but predicted\n",
      "set()\n",
      "4. Tested for but not predicted\n",
      "{'Snow leopard'}\n"
     ]
    }
   ],
   "source": [
    "print('1. Tested Species')\n",
    "print(np.unique(y_test2))\n",
    "print('2. Predicted Species')\n",
    "print(np.unique(y_pred_knn))\n",
    "print('3. Not tested for but predicted')\n",
    "print(set(np.unique(y_pred_knn))-set(np.unique(y_test2)))\n",
    "print('4. Tested for but not predicted')\n",
    "print(set(np.unique(y_test2))-set(np.unique(y_pred_knn)))"
   ]
  },
  {
   "cell_type": "code",
   "execution_count": 118,
   "metadata": {},
   "outputs": [
    {
     "name": "stdout",
     "output_type": "stream",
     "text": [
      "Accuracy 0.813953488372093\n"
     ]
    },
    {
     "data": {
      "image/png": "[encoded data removed]",
      "text/plain": [
       "<Figure size 576x288 with 2 Axes>"
      ]
     },
     "metadata": {
      "needs_background": "light"
     },
     "output_type": "display_data"
    }
   ],
   "source": [
    "names_knn = sorted(list(set(np.unique(y_test2)).union(set(y_pred_knn))))\n",
    "cnf = confusion_matrix(y_test2, y_pred_knn)\n",
    "fig, ax = plt.subplots(figsize=(8,4))\n",
    "\n",
    "print('Accuracy',knn.score(X_test, y_test2))\n",
    "\n",
    "sns.heatmap(cnf, annot=True, xticklabels=names_knn, yticklabels=names_knn,cmap= \"YlOrBr\")\n",
    "plt.title('KNN')\n",
    "ax.xaxis.set_label_position('top')\n",
    "plt.ylabel('Actual')\n",
    "plt.xlabel('Predicted')\n",
    "plt.show(block=False)\n"
   ]
  },
  {
   "cell_type": "markdown",
   "metadata": {},
   "source": [
    "## Decision Tree Classifier"
   ]
  },
  {
   "cell_type": "code",
   "execution_count": 119,
   "metadata": {},
   "outputs": [],
   "source": [
    "cart = DecisionTreeClassifier()"
   ]
  },
  {
   "cell_type": "code",
   "execution_count": 120,
   "metadata": {},
   "outputs": [
    {
     "data": {
      "text/plain": [
       "DecisionTreeClassifier()"
      ]
     },
     "execution_count": 120,
     "metadata": {},
     "output_type": "execute_result"
    }
   ],
   "source": [
    "cart.fit(X_train, y_train2)"
   ]
  },
  {
   "cell_type": "code",
   "execution_count": 121,
   "metadata": {},
   "outputs": [
    {
     "data": {
      "text/plain": [
       "1.0"
      ]
     },
     "execution_count": 121,
     "metadata": {},
     "output_type": "execute_result"
    }
   ],
   "source": [
    "cart.score(X_train, y_train2)"
   ]
  },
  {
   "cell_type": "code",
   "execution_count": 122,
   "metadata": {},
   "outputs": [
    {
     "data": {
      "text/plain": [
       "0.6976744186046512"
      ]
     },
     "execution_count": 122,
     "metadata": {},
     "output_type": "execute_result"
    }
   ],
   "source": [
    "cart.score(X_test, y_test2)"
   ]
  },
  {
   "cell_type": "code",
   "execution_count": 123,
   "metadata": {},
   "outputs": [],
   "source": [
    "y_pred_cart = cart.predict(X_test)"
   ]
  },
  {
   "cell_type": "code",
   "execution_count": 124,
   "metadata": {},
   "outputs": [
    {
     "name": "stdout",
     "output_type": "stream",
     "text": [
      "1. Tested Species\n",
      "['Clouded leopard' 'Jaguar' 'Leopard' 'Lion' 'Snow leopard']\n",
      "2. Predicted Species\n",
      "['Clouded leopard' 'Jaguar' 'Leopard' 'Lion' 'Snow leopard']\n",
      "3. Not tested for but predicted\n",
      "set()\n",
      "4. Tested for but not predicted\n",
      "set()\n"
     ]
    }
   ],
   "source": [
    "print('1. Tested Species')\n",
    "print(np.unique(y_test2))\n",
    "print('2. Predicted Species')\n",
    "print(np.unique(y_pred_cart))\n",
    "print('3. Not tested for but predicted')\n",
    "print(set(np.unique(y_pred_cart))-set(np.unique(y_test2)))\n",
    "print('4. Tested for but not predicted')\n",
    "print(set(np.unique(y_test2))-set(np.unique(y_pred_cart)))"
   ]
  },
  {
   "cell_type": "code",
   "execution_count": 125,
   "metadata": {},
   "outputs": [
    {
     "name": "stdout",
     "output_type": "stream",
     "text": [
      "Accuracy 0.6976744186046512\n"
     ]
    },
    {
     "data": {
      "image/png": "[encoded data removed]",
      "text/plain": [
       "<Figure size 576x288 with 2 Axes>"
      ]
     },
     "metadata": {
      "needs_background": "light"
     },
     "output_type": "display_data"
    }
   ],
   "source": [
    "names_cart = sorted(list(set(np.unique(y_test2)).union(set(y_pred_cart))))\n",
    "cnf = confusion_matrix(y_test2, y_pred_cart)\n",
    "fig, ax = plt.subplots(figsize=(8,4))\n",
    "\n",
    "print('Accuracy',cart.score(X_test, y_test2))\n",
    "\n",
    "sns.heatmap(cnf, annot=True, xticklabels=names_cart, yticklabels=names_cart,cmap= \"YlOrBr\")\n",
    "plt.title('Decision Tree Classifier')\n",
    "ax.xaxis.set_label_position('top')\n",
    "plt.ylabel('Actual')\n",
    "plt.xlabel('Predicted')\n",
    "plt.show(block=False)\n"
   ]
  },
  {
   "cell_type": "markdown",
   "metadata": {},
   "source": [
    "## Random Forest Classifier"
   ]
  },
  {
   "cell_type": "code",
   "execution_count": 126,
   "metadata": {},
   "outputs": [],
   "source": [
    "rf = RandomForestClassifier()"
   ]
  },
  {
   "cell_type": "code",
   "execution_count": 127,
   "metadata": {},
   "outputs": [
    {
     "data": {
      "text/plain": [
       "RandomForestClassifier()"
      ]
     },
     "execution_count": 127,
     "metadata": {},
     "output_type": "execute_result"
    }
   ],
   "source": [
    "rf.fit(X_train, y_train2)"
   ]
  },
  {
   "cell_type": "code",
   "execution_count": 128,
   "metadata": {},
   "outputs": [
    {
     "data": {
      "text/plain": [
       "1.0"
      ]
     },
     "execution_count": 128,
     "metadata": {},
     "output_type": "execute_result"
    }
   ],
   "source": [
    "rf.score(X_train, y_train2)"
   ]
  },
  {
   "cell_type": "code",
   "execution_count": 129,
   "metadata": {},
   "outputs": [
    {
     "data": {
      "text/plain": [
       "0.8372093023255814"
      ]
     },
     "execution_count": 129,
     "metadata": {},
     "output_type": "execute_result"
    }
   ],
   "source": [
    "rf.score(X_test, y_test2)"
   ]
  },
  {
   "cell_type": "code",
   "execution_count": 130,
   "metadata": {},
   "outputs": [],
   "source": [
    "y_pred_rf = rf.predict(X_test)\n",
    "y_prob_rf = rf.predict_proba(X_test)"
   ]
  },
  {
   "cell_type": "code",
   "execution_count": 131,
   "metadata": {},
   "outputs": [
    {
     "name": "stdout",
     "output_type": "stream",
     "text": [
      "1. Tested Species\n",
      "['Clouded leopard' 'Jaguar' 'Leopard' 'Lion' 'Snow leopard']\n",
      "2. Predicted Species\n",
      "['Clouded leopard' 'Jaguar' 'Leopard' 'Lion' 'Snow leopard']\n",
      "3. Not tested for but predicted\n",
      "set()\n",
      "4. Tested for but not predicted\n",
      "set()\n"
     ]
    }
   ],
   "source": [
    "print('1. Tested Species')\n",
    "print(np.unique(y_test2))\n",
    "print('2. Predicted Species')\n",
    "print(np.unique(y_pred_rf))\n",
    "print('3. Not tested for but predicted')\n",
    "print(set(np.unique(y_pred_rf))-set(np.unique(y_test2)))\n",
    "print('4. Tested for but not predicted')\n",
    "print(set(np.unique(y_test2))-set(np.unique(y_pred_rf)))"
   ]
  },
  {
   "cell_type": "code",
   "execution_count": 132,
   "metadata": {},
   "outputs": [
    {
     "name": "stdout",
     "output_type": "stream",
     "text": [
      "Accuracy 0.8372093023255814\n"
     ]
    },
    {
     "data": {
      "image/png": "[encoded data removed]",
      "text/plain": [
       "<Figure size 576x288 with 2 Axes>"
      ]
     },
     "metadata": {
      "needs_background": "light"
     },
     "output_type": "display_data"
    }
   ],
   "source": [
    "names_rf = sorted(list(set(np.unique(y_test2)).union(set(y_pred_rf))))\n",
    "cnf = confusion_matrix(y_test2, y_pred_rf)\n",
    "fig, ax = plt.subplots(figsize=(8,4))\n",
    "\n",
    "print('Accuracy',rf.score(X_test, y_test2))\n",
    "\n",
    "sns.heatmap(cnf, annot=True, xticklabels=names_rf, yticklabels=names_rf,cmap= \"YlOrBr\")\n",
    "plt.title('Random Forest')\n",
    "ax.xaxis.set_label_position('top')\n",
    "plt.ylabel('Actual')\n",
    "plt.xlabel('Predicted')\n",
    "plt.show(block=False)"
   ]
  },
  {
   "cell_type": "code",
   "execution_count": 133,
   "metadata": {},
   "outputs": [
    {
     "data": {
      "text/html": [
       "<div>\n",
       "<style scoped>\n",
       "    .dataframe tbody tr th:only-of-type {\n",
       "        vertical-align: middle;\n",
       "    }\n",
       "\n",
       "    .dataframe tbody tr th {\n",
       "        vertical-align: top;\n",
       "    }\n",
       "\n",
       "    .dataframe thead th {\n",
       "        text-align: right;\n",
       "    }\n",
       "</style>\n",
       "<table border=\"1\" class=\"dataframe\">\n",
       "  <thead>\n",
       "    <tr style=\"text-align: right;\">\n",
       "      <th></th>\n",
       "      <th>Partials</th>\n",
       "      <th>Zero_Crossings</th>\n",
       "      <th>Duration</th>\n",
       "      <th>Amp_range</th>\n",
       "      <th>Avg_amp</th>\n",
       "      <th>Freq_range</th>\n",
       "      <th>Pulses_per_Sec</th>\n",
       "      <th>MFCC</th>\n",
       "      <th>Spectral Rolloff</th>\n",
       "      <th>Melspectrogram</th>\n",
       "      <th>Spectral Contrast</th>\n",
       "      <th>Chroma_StFt</th>\n",
       "      <th>Tonnetz</th>\n",
       "      <th>Target</th>\n",
       "      <th>Clouded leopard</th>\n",
       "      <th>Jaguar</th>\n",
       "      <th>Leopard</th>\n",
       "      <th>Lion</th>\n",
       "      <th>Snow leopard</th>\n",
       "      <th>Predicted</th>\n",
       "    </tr>\n",
       "  </thead>\n",
       "  <tbody>\n",
       "    <tr>\n",
       "      <th>441</th>\n",
       "      <td>0.630394</td>\n",
       "      <td>0.046028</td>\n",
       "      <td>1.201141</td>\n",
       "      <td>0.508935</td>\n",
       "      <td>0.488108</td>\n",
       "      <td>1.417937</td>\n",
       "      <td>-0.427950</td>\n",
       "      <td>0.780502</td>\n",
       "      <td>-1.207341</td>\n",
       "      <td>-0.017260</td>\n",
       "      <td>0.025955</td>\n",
       "      <td>-0.200132</td>\n",
       "      <td>0.518906</td>\n",
       "      <td>Leopard</td>\n",
       "      <td>0.00</td>\n",
       "      <td>0.47</td>\n",
       "      <td>0.35</td>\n",
       "      <td>0.18</td>\n",
       "      <td>0.00</td>\n",
       "      <td>Jaguar</td>\n",
       "    </tr>\n",
       "    <tr>\n",
       "      <th>407</th>\n",
       "      <td>0.103108</td>\n",
       "      <td>-0.515473</td>\n",
       "      <td>-0.605682</td>\n",
       "      <td>1.593539</td>\n",
       "      <td>0.601862</td>\n",
       "      <td>0.517530</td>\n",
       "      <td>1.055904</td>\n",
       "      <td>1.566079</td>\n",
       "      <td>0.444750</td>\n",
       "      <td>0.268902</td>\n",
       "      <td>-0.782793</td>\n",
       "      <td>1.175930</td>\n",
       "      <td>-0.398267</td>\n",
       "      <td>Jaguar</td>\n",
       "      <td>0.10</td>\n",
       "      <td>0.26</td>\n",
       "      <td>0.47</td>\n",
       "      <td>0.10</td>\n",
       "      <td>0.07</td>\n",
       "      <td>Leopard</td>\n",
       "    </tr>\n",
       "    <tr>\n",
       "      <th>576</th>\n",
       "      <td>-0.160535</td>\n",
       "      <td>-0.607573</td>\n",
       "      <td>-0.605682</td>\n",
       "      <td>0.974286</td>\n",
       "      <td>1.701613</td>\n",
       "      <td>0.173304</td>\n",
       "      <td>0.630236</td>\n",
       "      <td>1.746950</td>\n",
       "      <td>-0.313524</td>\n",
       "      <td>0.586416</td>\n",
       "      <td>-0.683571</td>\n",
       "      <td>0.628175</td>\n",
       "      <td>-0.369724</td>\n",
       "      <td>Lion</td>\n",
       "      <td>0.18</td>\n",
       "      <td>0.22</td>\n",
       "      <td>0.43</td>\n",
       "      <td>0.13</td>\n",
       "      <td>0.04</td>\n",
       "      <td>Leopard</td>\n",
       "    </tr>\n",
       "    <tr>\n",
       "      <th>450</th>\n",
       "      <td>-0.273525</td>\n",
       "      <td>0.081872</td>\n",
       "      <td>-0.089447</td>\n",
       "      <td>0.000090</td>\n",
       "      <td>-0.216937</td>\n",
       "      <td>0.335685</td>\n",
       "      <td>-0.820288</td>\n",
       "      <td>-1.269355</td>\n",
       "      <td>0.166827</td>\n",
       "      <td>-0.154831</td>\n",
       "      <td>0.145729</td>\n",
       "      <td>-0.159690</td>\n",
       "      <td>-0.311552</td>\n",
       "      <td>Leopard</td>\n",
       "      <td>0.02</td>\n",
       "      <td>0.44</td>\n",
       "      <td>0.38</td>\n",
       "      <td>0.14</td>\n",
       "      <td>0.02</td>\n",
       "      <td>Jaguar</td>\n",
       "    </tr>\n",
       "    <tr>\n",
       "      <th>480</th>\n",
       "      <td>-0.461841</td>\n",
       "      <td>-0.438805</td>\n",
       "      <td>-0.605682</td>\n",
       "      <td>-0.818058</td>\n",
       "      <td>-0.714751</td>\n",
       "      <td>-0.506836</td>\n",
       "      <td>-0.040031</td>\n",
       "      <td>-1.279127</td>\n",
       "      <td>0.528948</td>\n",
       "      <td>-0.271844</td>\n",
       "      <td>0.554038</td>\n",
       "      <td>0.935927</td>\n",
       "      <td>-0.722486</td>\n",
       "      <td>Snow leopard</td>\n",
       "      <td>0.44</td>\n",
       "      <td>0.42</td>\n",
       "      <td>0.03</td>\n",
       "      <td>0.07</td>\n",
       "      <td>0.04</td>\n",
       "      <td>Clouded leopard</td>\n",
       "    </tr>\n",
       "    <tr>\n",
       "      <th>435</th>\n",
       "      <td>0.404414</td>\n",
       "      <td>6.969290</td>\n",
       "      <td>4.298552</td>\n",
       "      <td>0.814830</td>\n",
       "      <td>-0.267440</td>\n",
       "      <td>1.540642</td>\n",
       "      <td>-0.310092</td>\n",
       "      <td>-0.321139</td>\n",
       "      <td>0.720737</td>\n",
       "      <td>-0.163044</td>\n",
       "      <td>-0.506030</td>\n",
       "      <td>-0.080896</td>\n",
       "      <td>-0.408211</td>\n",
       "      <td>Leopard</td>\n",
       "      <td>0.00</td>\n",
       "      <td>0.46</td>\n",
       "      <td>0.34</td>\n",
       "      <td>0.19</td>\n",
       "      <td>0.01</td>\n",
       "      <td>Jaguar</td>\n",
       "    </tr>\n",
       "    <tr>\n",
       "      <th>597</th>\n",
       "      <td>0.479741</td>\n",
       "      <td>1.002003</td>\n",
       "      <td>0.168671</td>\n",
       "      <td>0.938346</td>\n",
       "      <td>-0.342325</td>\n",
       "      <td>1.443202</td>\n",
       "      <td>0.542398</td>\n",
       "      <td>-1.564324</td>\n",
       "      <td>0.424325</td>\n",
       "      <td>-0.203654</td>\n",
       "      <td>0.466191</td>\n",
       "      <td>-0.042270</td>\n",
       "      <td>0.492505</td>\n",
       "      <td>Lion</td>\n",
       "      <td>0.01</td>\n",
       "      <td>0.33</td>\n",
       "      <td>0.41</td>\n",
       "      <td>0.20</td>\n",
       "      <td>0.05</td>\n",
       "      <td>Leopard</td>\n",
       "    </tr>\n",
       "  </tbody>\n",
       "</table>\n",
       "</div>"
      ],
      "text/plain": [
       "     Partials  Zero_Crossings  Duration  Amp_range   Avg_amp  Freq_range  \\\n",
       "441  0.630394        0.046028  1.201141   0.508935  0.488108    1.417937   \n",
       "407  0.103108       -0.515473 -0.605682   1.593539  0.601862    0.517530   \n",
       "576 -0.160535       -0.607573 -0.605682   0.974286  1.701613    0.173304   \n",
       "450 -0.273525        0.081872 -0.089447   0.000090 -0.216937    0.335685   \n",
       "480 -0.461841       -0.438805 -0.605682  -0.818058 -0.714751   -0.506836   \n",
       "435  0.404414        6.969290  4.298552   0.814830 -0.267440    1.540642   \n",
       "597  0.479741        1.002003  0.168671   0.938346 -0.342325    1.443202   \n",
       "\n",
       "     Pulses_per_Sec      MFCC  Spectral Rolloff  Melspectrogram  \\\n",
       "441       -0.427950  0.780502         -1.207341       -0.017260   \n",
       "407        1.055904  1.566079          0.444750        0.268902   \n",
       "576        0.630236  1.746950         -0.313524        0.586416   \n",
       "450       -0.820288 -1.269355          0.166827       -0.154831   \n",
       "480       -0.040031 -1.279127          0.528948       -0.271844   \n",
       "435       -0.310092 -0.321139          0.720737       -0.163044   \n",
       "597        0.542398 -1.564324          0.424325       -0.203654   \n",
       "\n",
       "     Spectral Contrast  Chroma_StFt   Tonnetz        Target  Clouded leopard  \\\n",
       "441           0.025955    -0.200132  0.518906       Leopard             0.00   \n",
       "407          -0.782793     1.175930 -0.398267        Jaguar             0.10   \n",
       "576          -0.683571     0.628175 -0.369724          Lion             0.18   \n",
       "450           0.145729    -0.159690 -0.311552       Leopard             0.02   \n",
       "480           0.554038     0.935927 -0.722486  Snow leopard             0.44   \n",
       "435          -0.506030    -0.080896 -0.408211       Leopard             0.00   \n",
       "597           0.466191    -0.042270  0.492505          Lion             0.01   \n",
       "\n",
       "     Jaguar  Leopard  Lion  Snow leopard        Predicted  \n",
       "441    0.47     0.35  0.18          0.00           Jaguar  \n",
       "407    0.26     0.47  0.10          0.07          Leopard  \n",
       "576    0.22     0.43  0.13          0.04          Leopard  \n",
       "450    0.44     0.38  0.14          0.02           Jaguar  \n",
       "480    0.42     0.03  0.07          0.04  Clouded leopard  \n",
       "435    0.46     0.34  0.19          0.01           Jaguar  \n",
       "597    0.33     0.41  0.20          0.05          Leopard  "
      ]
     },
     "execution_count": 133,
     "metadata": {},
     "output_type": "execute_result"
    }
   ],
   "source": [
    "df_test = pd.DataFrame(X_test.copy())\n",
    "df_test['Target'] = y_test2\n",
    "df_test['Clouded leopard'] = y_prob_rf[:,0] \n",
    "df_test['Jaguar'] = y_prob_rf[:,1]\n",
    "df_test['Leopard'] = y_prob_rf[:,2]\n",
    "df_test['Lion'] = y_prob_rf[:,3]\n",
    "df_test['Snow leopard'] = y_prob_rf[:,4]\n",
    "df_test['Predicted'] = y_pred_rf\n",
    "df_test = df_test[df_test['Target'] != df_test['Predicted']]\n",
    "df_test.head(15)"
   ]
  },
  {
   "cell_type": "code",
   "execution_count": 134,
   "metadata": {},
   "outputs": [
    {
     "data": {
      "text/plain": [
       "(7, 20)"
      ]
     },
     "execution_count": 134,
     "metadata": {},
     "output_type": "execute_result"
    }
   ],
   "source": [
    "df_test.shape"
   ]
  },
  {
   "cell_type": "code",
   "execution_count": 135,
   "metadata": {},
   "outputs": [],
   "source": [
    "pred_df.to_csv('Mislabeled Panterinae Species With Random Forest.csv', index=False)"
   ]
  },
  {
   "cell_type": "markdown",
   "metadata": {},
   "source": [
    "#The data is unbalanced, this could be fixed by updating the class weights \n",
    "#Or getting more varied data\n",
    "df2['Species'].value_counts()"
   ]
  }
 ],
 "metadata": {
  "kernelspec": {
   "display_name": "Python 3",
   "language": "python",
   "name": "python3"
  },
  "language_info": {
   "codemirror_mode": {
    "name": "ipython",
    "version": 3
   },
   "file_extension": ".py",
   "mimetype": "text/x-python",
   "name": "python",
   "nbconvert_exporter": "python",
   "pygments_lexer": "ipython3",
   "version": "3.8.8"
  }
 },
 "nbformat": 4,
 "nbformat_minor": 4
}
