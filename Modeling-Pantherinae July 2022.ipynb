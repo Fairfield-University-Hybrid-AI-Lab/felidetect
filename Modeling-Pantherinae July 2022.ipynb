{
 "cells": [
  {
   "cell_type": "code",
   "execution_count": 1,
   "metadata": {},
   "outputs": [],
   "source": [
    "import pandas as pd\n",
    "import numpy as np\n",
    "import matplotlib.pyplot as plt\n",
    "%matplotlib inline\n",
    "import seaborn as sns\n",
    "from sklearn.metrics import confusion_matrix\n",
    "\n",
    "from sklearn.model_selection import train_test_split\n",
    "from sklearn.preprocessing import StandardScaler, MinMaxScaler, OneHotEncoder\n",
    "\n",
    "from xgboost import XGBClassifier\n",
    "from sklearn.svm import SVC\n",
    "from sklearn.naive_bayes import GaussianNB, CategoricalNB\n",
    "from sklearn.linear_model import LogisticRegression\n",
    "from sklearn.neighbors import KNeighborsClassifier\n",
    "from sklearn.tree import DecisionTreeClassifier\n",
    "from sklearn.ensemble import RandomForestClassifier\n",
    "\n",
    "from sklearn import metrics\n",
    "\n",
    "from xgboost import plot_importance\n",
    "\n",
    "from sklearn.metrics import RocCurveDisplay\n",
    "\n",
    "import warnings\n",
    "warnings.filterwarnings('ignore')\n",
    "\n",
    "pd.set_option('display.max_columns', 50)"
   ]
  },
  {
   "cell_type": "code",
   "execution_count": 2,
   "metadata": {},
   "outputs": [
    {
     "data": {
      "text/html": [
       "<div>\n",
       "<style scoped>\n",
       "    .dataframe tbody tr th:only-of-type {\n",
       "        vertical-align: middle;\n",
       "    }\n",
       "\n",
       "    .dataframe tbody tr th {\n",
       "        vertical-align: top;\n",
       "    }\n",
       "\n",
       "    .dataframe thead th {\n",
       "        text-align: right;\n",
       "    }\n",
       "</style>\n",
       "<table border=\"1\" class=\"dataframe\">\n",
       "  <thead>\n",
       "    <tr style=\"text-align: right;\">\n",
       "      <th></th>\n",
       "      <th>File Name</th>\n",
       "      <th>Source</th>\n",
       "      <th>Duration_in_Sec</th>\n",
       "      <th>Zero_Crossings</th>\n",
       "      <th>Amp_range</th>\n",
       "      <th>Avg_amp</th>\n",
       "      <th>Freq_range</th>\n",
       "      <th>Pulses_per_Sec</th>\n",
       "      <th>Mean_MFCC</th>\n",
       "      <th>Mean_Spectral Rolloff</th>\n",
       "      <th>Mean_Melspectrogram</th>\n",
       "      <th>Mean_Spectral Contrast</th>\n",
       "      <th>Mean_Chromagram</th>\n",
       "      <th>Mean_Tempogram</th>\n",
       "      <th>Mean_Tonnetz</th>\n",
       "      <th>Partials</th>\n",
       "      <th>Mean RMS</th>\n",
       "      <th>Species</th>\n",
       "      <th>Call</th>\n",
       "    </tr>\n",
       "  </thead>\n",
       "  <tbody>\n",
       "    <tr>\n",
       "      <th>0</th>\n",
       "      <td>CL-Prusten-1</td>\n",
       "      <td>Panther Ridge Conservation Center</td>\n",
       "      <td>1</td>\n",
       "      <td>3063</td>\n",
       "      <td>0.089285</td>\n",
       "      <td>0.009212</td>\n",
       "      <td>5211.000000</td>\n",
       "      <td>1297.000000</td>\n",
       "      <td>-10.538667</td>\n",
       "      <td>4104.766846</td>\n",
       "      <td>0.027798</td>\n",
       "      <td>21.335496</td>\n",
       "      <td>0.772971</td>\n",
       "      <td>0.105037</td>\n",
       "      <td>0.000544</td>\n",
       "      <td>5</td>\n",
       "      <td>0.011874</td>\n",
       "      <td>Clouded leopard</td>\n",
       "      <td>prusten</td>\n",
       "    </tr>\n",
       "    <tr>\n",
       "      <th>1</th>\n",
       "      <td>CL-Prusten-1</td>\n",
       "      <td>Panther Ridge Conservation Center</td>\n",
       "      <td>1</td>\n",
       "      <td>3827</td>\n",
       "      <td>0.916883</td>\n",
       "      <td>0.017625</td>\n",
       "      <td>5701.000000</td>\n",
       "      <td>1941.000000</td>\n",
       "      <td>-11.723422</td>\n",
       "      <td>3475.899436</td>\n",
       "      <td>0.147693</td>\n",
       "      <td>22.327656</td>\n",
       "      <td>0.711248</td>\n",
       "      <td>0.140300</td>\n",
       "      <td>-0.002539</td>\n",
       "      <td>8</td>\n",
       "      <td>0.026328</td>\n",
       "      <td>Clouded leopard</td>\n",
       "      <td>prusten</td>\n",
       "    </tr>\n",
       "    <tr>\n",
       "      <th>2</th>\n",
       "      <td>CL-Prusten-1</td>\n",
       "      <td>Panther Ridge Conservation Center</td>\n",
       "      <td>1</td>\n",
       "      <td>3527</td>\n",
       "      <td>0.113353</td>\n",
       "      <td>0.006644</td>\n",
       "      <td>5817.000000</td>\n",
       "      <td>1178.000000</td>\n",
       "      <td>-12.913638</td>\n",
       "      <td>4169.855846</td>\n",
       "      <td>0.025814</td>\n",
       "      <td>21.350530</td>\n",
       "      <td>0.787256</td>\n",
       "      <td>0.107705</td>\n",
       "      <td>-0.007710</td>\n",
       "      <td>1</td>\n",
       "      <td>0.009158</td>\n",
       "      <td>Clouded leopard</td>\n",
       "      <td>prusten</td>\n",
       "    </tr>\n",
       "    <tr>\n",
       "      <th>3</th>\n",
       "      <td>CL-Prusten-1</td>\n",
       "      <td>Panther Ridge Conservation Center</td>\n",
       "      <td>1</td>\n",
       "      <td>3258</td>\n",
       "      <td>0.085254</td>\n",
       "      <td>0.004369</td>\n",
       "      <td>3129.000000</td>\n",
       "      <td>774.000000</td>\n",
       "      <td>-13.866606</td>\n",
       "      <td>4365.367543</td>\n",
       "      <td>0.009147</td>\n",
       "      <td>21.504673</td>\n",
       "      <td>0.696388</td>\n",
       "      <td>0.109876</td>\n",
       "      <td>-0.024684</td>\n",
       "      <td>4</td>\n",
       "      <td>0.005881</td>\n",
       "      <td>Clouded leopard</td>\n",
       "      <td>prusten</td>\n",
       "    </tr>\n",
       "    <tr>\n",
       "      <th>4</th>\n",
       "      <td>CL-Prusten-1</td>\n",
       "      <td>Panther Ridge Conservation Center</td>\n",
       "      <td>1</td>\n",
       "      <td>3424</td>\n",
       "      <td>0.228637</td>\n",
       "      <td>0.017536</td>\n",
       "      <td>10269.000000</td>\n",
       "      <td>1399.000000</td>\n",
       "      <td>-11.798061</td>\n",
       "      <td>4617.403897</td>\n",
       "      <td>0.206831</td>\n",
       "      <td>21.006766</td>\n",
       "      <td>0.694314</td>\n",
       "      <td>0.080068</td>\n",
       "      <td>0.005246</td>\n",
       "      <td>8</td>\n",
       "      <td>0.022758</td>\n",
       "      <td>Clouded leopard</td>\n",
       "      <td>prusten</td>\n",
       "    </tr>\n",
       "    <tr>\n",
       "      <th>...</th>\n",
       "      <td>...</td>\n",
       "      <td>...</td>\n",
       "      <td>...</td>\n",
       "      <td>...</td>\n",
       "      <td>...</td>\n",
       "      <td>...</td>\n",
       "      <td>...</td>\n",
       "      <td>...</td>\n",
       "      <td>...</td>\n",
       "      <td>...</td>\n",
       "      <td>...</td>\n",
       "      <td>...</td>\n",
       "      <td>...</td>\n",
       "      <td>...</td>\n",
       "      <td>...</td>\n",
       "      <td>...</td>\n",
       "      <td>...</td>\n",
       "      <td>...</td>\n",
       "      <td>...</td>\n",
       "    </tr>\n",
       "    <tr>\n",
       "      <th>120</th>\n",
       "      <td>Lion Roaring Sequence_17</td>\n",
       "      <td>YouTube</td>\n",
       "      <td>40</td>\n",
       "      <td>22436</td>\n",
       "      <td>0.652970</td>\n",
       "      <td>0.073732</td>\n",
       "      <td>10092.625000</td>\n",
       "      <td>295.250000</td>\n",
       "      <td>-4.387553</td>\n",
       "      <td>1458.415228</td>\n",
       "      <td>3.050521</td>\n",
       "      <td>20.184006</td>\n",
       "      <td>0.580697</td>\n",
       "      <td>0.190296</td>\n",
       "      <td>-0.000172</td>\n",
       "      <td>85</td>\n",
       "      <td>0.088674</td>\n",
       "      <td>Lion</td>\n",
       "      <td>roar</td>\n",
       "    </tr>\n",
       "    <tr>\n",
       "      <th>121</th>\n",
       "      <td>Lion Roaring Sequence_18</td>\n",
       "      <td>YouTube</td>\n",
       "      <td>45</td>\n",
       "      <td>127303</td>\n",
       "      <td>1.039453</td>\n",
       "      <td>0.117559</td>\n",
       "      <td>10681.044444</td>\n",
       "      <td>1159.066667</td>\n",
       "      <td>-5.522057</td>\n",
       "      <td>4116.969550</td>\n",
       "      <td>12.378446</td>\n",
       "      <td>20.695561</td>\n",
       "      <td>0.593314</td>\n",
       "      <td>0.184751</td>\n",
       "      <td>0.001714</td>\n",
       "      <td>139</td>\n",
       "      <td>0.141392</td>\n",
       "      <td>Lion</td>\n",
       "      <td>roar</td>\n",
       "    </tr>\n",
       "    <tr>\n",
       "      <th>122</th>\n",
       "      <td>Lion Roaring Sequence_18</td>\n",
       "      <td>YouTube</td>\n",
       "      <td>17</td>\n",
       "      <td>32072</td>\n",
       "      <td>1.021872</td>\n",
       "      <td>0.181167</td>\n",
       "      <td>10494.470588</td>\n",
       "      <td>898.411765</td>\n",
       "      <td>-3.991339</td>\n",
       "      <td>3033.963691</td>\n",
       "      <td>24.540840</td>\n",
       "      <td>20.218510</td>\n",
       "      <td>0.616647</td>\n",
       "      <td>0.182995</td>\n",
       "      <td>-0.004780</td>\n",
       "      <td>98</td>\n",
       "      <td>0.219604</td>\n",
       "      <td>Lion</td>\n",
       "      <td>roar</td>\n",
       "    </tr>\n",
       "    <tr>\n",
       "      <th>123</th>\n",
       "      <td>Lion Roaring Sequence_19</td>\n",
       "      <td>YouTube</td>\n",
       "      <td>19</td>\n",
       "      <td>23112</td>\n",
       "      <td>0.747216</td>\n",
       "      <td>0.123384</td>\n",
       "      <td>5462.315789</td>\n",
       "      <td>315.631579</td>\n",
       "      <td>-5.297592</td>\n",
       "      <td>2002.811373</td>\n",
       "      <td>9.278934</td>\n",
       "      <td>21.174380</td>\n",
       "      <td>0.515771</td>\n",
       "      <td>0.224227</td>\n",
       "      <td>0.006657</td>\n",
       "      <td>38</td>\n",
       "      <td>0.142555</td>\n",
       "      <td>Lion</td>\n",
       "      <td>roar</td>\n",
       "    </tr>\n",
       "    <tr>\n",
       "      <th>124</th>\n",
       "      <td>Lion Roaring Sequence_19</td>\n",
       "      <td>YouTube</td>\n",
       "      <td>41</td>\n",
       "      <td>101920</td>\n",
       "      <td>0.770082</td>\n",
       "      <td>0.066351</td>\n",
       "      <td>5470.756098</td>\n",
       "      <td>490.878049</td>\n",
       "      <td>-5.330621</td>\n",
       "      <td>3146.517969</td>\n",
       "      <td>5.418606</td>\n",
       "      <td>19.120536</td>\n",
       "      <td>0.744117</td>\n",
       "      <td>0.200815</td>\n",
       "      <td>-0.008008</td>\n",
       "      <td>79</td>\n",
       "      <td>0.081159</td>\n",
       "      <td>Lion</td>\n",
       "      <td>roar</td>\n",
       "    </tr>\n",
       "  </tbody>\n",
       "</table>\n",
       "<p>125 rows × 19 columns</p>\n",
       "</div>"
      ],
      "text/plain": [
       "                    File Name                             Source  \\\n",
       "0                CL-Prusten-1  Panther Ridge Conservation Center   \n",
       "1                CL-Prusten-1  Panther Ridge Conservation Center   \n",
       "2                CL-Prusten-1  Panther Ridge Conservation Center   \n",
       "3                CL-Prusten-1  Panther Ridge Conservation Center   \n",
       "4                CL-Prusten-1  Panther Ridge Conservation Center   \n",
       "..                        ...                                ...   \n",
       "120  Lion Roaring Sequence_17                            YouTube   \n",
       "121  Lion Roaring Sequence_18                            YouTube   \n",
       "122  Lion Roaring Sequence_18                            YouTube   \n",
       "123  Lion Roaring Sequence_19                            YouTube   \n",
       "124  Lion Roaring Sequence_19                            YouTube   \n",
       "\n",
       "     Duration_in_Sec  Zero_Crossings  Amp_range   Avg_amp    Freq_range  \\\n",
       "0                  1            3063   0.089285  0.009212   5211.000000   \n",
       "1                  1            3827   0.916883  0.017625   5701.000000   \n",
       "2                  1            3527   0.113353  0.006644   5817.000000   \n",
       "3                  1            3258   0.085254  0.004369   3129.000000   \n",
       "4                  1            3424   0.228637  0.017536  10269.000000   \n",
       "..               ...             ...        ...       ...           ...   \n",
       "120               40           22436   0.652970  0.073732  10092.625000   \n",
       "121               45          127303   1.039453  0.117559  10681.044444   \n",
       "122               17           32072   1.021872  0.181167  10494.470588   \n",
       "123               19           23112   0.747216  0.123384   5462.315789   \n",
       "124               41          101920   0.770082  0.066351   5470.756098   \n",
       "\n",
       "     Pulses_per_Sec  Mean_MFCC  Mean_Spectral Rolloff  Mean_Melspectrogram  \\\n",
       "0       1297.000000 -10.538667            4104.766846             0.027798   \n",
       "1       1941.000000 -11.723422            3475.899436             0.147693   \n",
       "2       1178.000000 -12.913638            4169.855846             0.025814   \n",
       "3        774.000000 -13.866606            4365.367543             0.009147   \n",
       "4       1399.000000 -11.798061            4617.403897             0.206831   \n",
       "..              ...        ...                    ...                  ...   \n",
       "120      295.250000  -4.387553            1458.415228             3.050521   \n",
       "121     1159.066667  -5.522057            4116.969550            12.378446   \n",
       "122      898.411765  -3.991339            3033.963691            24.540840   \n",
       "123      315.631579  -5.297592            2002.811373             9.278934   \n",
       "124      490.878049  -5.330621            3146.517969             5.418606   \n",
       "\n",
       "     Mean_Spectral Contrast  Mean_Chromagram  Mean_Tempogram  Mean_Tonnetz  \\\n",
       "0                 21.335496         0.772971        0.105037      0.000544   \n",
       "1                 22.327656         0.711248        0.140300     -0.002539   \n",
       "2                 21.350530         0.787256        0.107705     -0.007710   \n",
       "3                 21.504673         0.696388        0.109876     -0.024684   \n",
       "4                 21.006766         0.694314        0.080068      0.005246   \n",
       "..                      ...              ...             ...           ...   \n",
       "120               20.184006         0.580697        0.190296     -0.000172   \n",
       "121               20.695561         0.593314        0.184751      0.001714   \n",
       "122               20.218510         0.616647        0.182995     -0.004780   \n",
       "123               21.174380         0.515771        0.224227      0.006657   \n",
       "124               19.120536         0.744117        0.200815     -0.008008   \n",
       "\n",
       "     Partials  Mean RMS          Species     Call  \n",
       "0           5  0.011874  Clouded leopard  prusten  \n",
       "1           8  0.026328  Clouded leopard  prusten  \n",
       "2           1  0.009158  Clouded leopard  prusten  \n",
       "3           4  0.005881  Clouded leopard  prusten  \n",
       "4           8  0.022758  Clouded leopard  prusten  \n",
       "..        ...       ...              ...      ...  \n",
       "120        85  0.088674             Lion     roar  \n",
       "121       139  0.141392             Lion     roar  \n",
       "122        98  0.219604             Lion     roar  \n",
       "123        38  0.142555             Lion     roar  \n",
       "124        79  0.081159             Lion     roar  \n",
       "\n",
       "[125 rows x 19 columns]"
      ]
     },
     "execution_count": 2,
     "metadata": {},
     "output_type": "execute_result"
    }
   ],
   "source": [
    "df_raw = pd.read_csv('features_cleaned_not_standardized.csv').drop(['Sex','Age'], axis=1)\n",
    "df_raw"
   ]
  },
  {
   "cell_type": "code",
   "execution_count": 3,
   "metadata": {},
   "outputs": [],
   "source": [
    "df_raw.groupby('Call').describe().to_csv('Table for journal2.csv')"
   ]
  },
  {
   "cell_type": "code",
   "execution_count": 4,
   "metadata": {},
   "outputs": [
    {
     "data": {
      "text/html": [
       "<div>\n",
       "<style scoped>\n",
       "    .dataframe tbody tr th:only-of-type {\n",
       "        vertical-align: middle;\n",
       "    }\n",
       "\n",
       "    .dataframe tbody tr th {\n",
       "        vertical-align: top;\n",
       "    }\n",
       "\n",
       "    .dataframe thead th {\n",
       "        text-align: right;\n",
       "    }\n",
       "</style>\n",
       "<table border=\"1\" class=\"dataframe\">\n",
       "  <thead>\n",
       "    <tr style=\"text-align: right;\">\n",
       "      <th></th>\n",
       "      <th>File Name</th>\n",
       "      <th>Source</th>\n",
       "      <th>Duration_in_Sec</th>\n",
       "      <th>Zero_Crossings</th>\n",
       "      <th>Amp_range</th>\n",
       "      <th>Avg_amp</th>\n",
       "      <th>Freq_range</th>\n",
       "      <th>Pulses_per_Sec</th>\n",
       "      <th>Mean_MFCC</th>\n",
       "      <th>Mean_Spectral Rolloff</th>\n",
       "      <th>Mean_Melspectrogram</th>\n",
       "      <th>Mean_Spectral Contrast</th>\n",
       "      <th>Mean_Chromagram</th>\n",
       "      <th>Mean_Tempogram</th>\n",
       "      <th>Mean_Tonnetz</th>\n",
       "      <th>Partials</th>\n",
       "      <th>Mean RMS</th>\n",
       "      <th>Sex</th>\n",
       "      <th>Age</th>\n",
       "      <th>Species</th>\n",
       "      <th>Call</th>\n",
       "    </tr>\n",
       "  </thead>\n",
       "  <tbody>\n",
       "    <tr>\n",
       "      <th>0</th>\n",
       "      <td>Jaguar-Prusten-1</td>\n",
       "      <td>YouTube</td>\n",
       "      <td>-0.910261</td>\n",
       "      <td>-0.795113</td>\n",
       "      <td>-0.026289</td>\n",
       "      <td>-0.340803</td>\n",
       "      <td>-0.421387</td>\n",
       "      <td>0.841685</td>\n",
       "      <td>1.678653</td>\n",
       "      <td>0.602295</td>\n",
       "      <td>-0.308698</td>\n",
       "      <td>-0.960260</td>\n",
       "      <td>1.658664</td>\n",
       "      <td>-1.111745</td>\n",
       "      <td>-0.286268</td>\n",
       "      <td>-0.542962</td>\n",
       "      <td>-0.351621</td>\n",
       "      <td>Unknown</td>\n",
       "      <td>Unknown</td>\n",
       "      <td>Jaguar</td>\n",
       "      <td>prusten</td>\n",
       "    </tr>\n",
       "    <tr>\n",
       "      <th>1</th>\n",
       "      <td>Jaguar-Prusten-1</td>\n",
       "      <td>YouTube</td>\n",
       "      <td>-0.910261</td>\n",
       "      <td>-0.731692</td>\n",
       "      <td>-1.835643</td>\n",
       "      <td>-1.096620</td>\n",
       "      <td>-0.806636</td>\n",
       "      <td>-0.149255</td>\n",
       "      <td>-1.135978</td>\n",
       "      <td>1.755714</td>\n",
       "      <td>-0.536585</td>\n",
       "      <td>-1.536667</td>\n",
       "      <td>1.649726</td>\n",
       "      <td>-0.907964</td>\n",
       "      <td>-1.106560</td>\n",
       "      <td>-0.819205</td>\n",
       "      <td>-1.141334</td>\n",
       "      <td>Unknown</td>\n",
       "      <td>Unknown</td>\n",
       "      <td>Jaguar</td>\n",
       "      <td>prusten</td>\n",
       "    </tr>\n",
       "    <tr>\n",
       "      <th>2</th>\n",
       "      <td>Jaguar-Prusten-1</td>\n",
       "      <td>YouTube</td>\n",
       "      <td>-0.910261</td>\n",
       "      <td>-0.796018</td>\n",
       "      <td>-2.008571</td>\n",
       "      <td>-1.128298</td>\n",
       "      <td>-2.590927</td>\n",
       "      <td>-1.092495</td>\n",
       "      <td>-0.658015</td>\n",
       "      <td>1.380373</td>\n",
       "      <td>-0.537662</td>\n",
       "      <td>-1.897691</td>\n",
       "      <td>2.147499</td>\n",
       "      <td>-0.637609</td>\n",
       "      <td>-0.447219</td>\n",
       "      <td>-0.837621</td>\n",
       "      <td>-1.176774</td>\n",
       "      <td>Unknown</td>\n",
       "      <td>Unknown</td>\n",
       "      <td>Jaguar</td>\n",
       "      <td>prusten</td>\n",
       "    </tr>\n",
       "    <tr>\n",
       "      <th>3</th>\n",
       "      <td>Jaguar-Prusten-1</td>\n",
       "      <td>YouTube</td>\n",
       "      <td>-0.910261</td>\n",
       "      <td>-0.800061</td>\n",
       "      <td>-1.848767</td>\n",
       "      <td>-1.045017</td>\n",
       "      <td>-2.608628</td>\n",
       "      <td>-1.110959</td>\n",
       "      <td>-0.088006</td>\n",
       "      <td>0.894245</td>\n",
       "      <td>-0.533509</td>\n",
       "      <td>-1.426091</td>\n",
       "      <td>1.201418</td>\n",
       "      <td>-1.004796</td>\n",
       "      <td>-1.124444</td>\n",
       "      <td>-0.837621</td>\n",
       "      <td>-1.091462</td>\n",
       "      <td>Unknown</td>\n",
       "      <td>Unknown</td>\n",
       "      <td>Jaguar</td>\n",
       "      <td>prusten</td>\n",
       "    </tr>\n",
       "    <tr>\n",
       "      <th>4</th>\n",
       "      <td>Jaguar-Prusten-1</td>\n",
       "      <td>YouTube</td>\n",
       "      <td>-0.910261</td>\n",
       "      <td>-0.827098</td>\n",
       "      <td>-1.798203</td>\n",
       "      <td>-0.940222</td>\n",
       "      <td>-0.861820</td>\n",
       "      <td>-0.517011</td>\n",
       "      <td>1.124259</td>\n",
       "      <td>0.839965</td>\n",
       "      <td>-0.530097</td>\n",
       "      <td>-1.198614</td>\n",
       "      <td>1.147553</td>\n",
       "      <td>-1.176638</td>\n",
       "      <td>1.237532</td>\n",
       "      <td>-0.837621</td>\n",
       "      <td>-0.994099</td>\n",
       "      <td>Unknown</td>\n",
       "      <td>Unknown</td>\n",
       "      <td>Jaguar</td>\n",
       "      <td>prusten</td>\n",
       "    </tr>\n",
       "    <tr>\n",
       "      <th>...</th>\n",
       "      <td>...</td>\n",
       "      <td>...</td>\n",
       "      <td>...</td>\n",
       "      <td>...</td>\n",
       "      <td>...</td>\n",
       "      <td>...</td>\n",
       "      <td>...</td>\n",
       "      <td>...</td>\n",
       "      <td>...</td>\n",
       "      <td>...</td>\n",
       "      <td>...</td>\n",
       "      <td>...</td>\n",
       "      <td>...</td>\n",
       "      <td>...</td>\n",
       "      <td>...</td>\n",
       "      <td>...</td>\n",
       "      <td>...</td>\n",
       "      <td>...</td>\n",
       "      <td>...</td>\n",
       "      <td>...</td>\n",
       "      <td>...</td>\n",
       "    </tr>\n",
       "    <tr>\n",
       "      <th>120</th>\n",
       "      <td>CL-Prusten-1</td>\n",
       "      <td>Panther Ridge Conservation Center</td>\n",
       "      <td>0.000000</td>\n",
       "      <td>0.635885</td>\n",
       "      <td>-0.487616</td>\n",
       "      <td>-0.603396</td>\n",
       "      <td>-0.019195</td>\n",
       "      <td>-0.015400</td>\n",
       "      <td>-0.294678</td>\n",
       "      <td>0.182709</td>\n",
       "      <td>-0.621020</td>\n",
       "      <td>-0.223790</td>\n",
       "      <td>1.130458</td>\n",
       "      <td>-0.231528</td>\n",
       "      <td>-0.457972</td>\n",
       "      <td>-1.078328</td>\n",
       "      <td>-0.570986</td>\n",
       "      <td>Female</td>\n",
       "      <td>Juvenile</td>\n",
       "      <td>Clouded leopard</td>\n",
       "      <td>prusten</td>\n",
       "    </tr>\n",
       "    <tr>\n",
       "      <th>121</th>\n",
       "      <td>CL-Prusten-1</td>\n",
       "      <td>Panther Ridge Conservation Center</td>\n",
       "      <td>0.000000</td>\n",
       "      <td>-0.098248</td>\n",
       "      <td>-0.581848</td>\n",
       "      <td>-1.011123</td>\n",
       "      <td>-1.262502</td>\n",
       "      <td>-0.904174</td>\n",
       "      <td>-1.021838</td>\n",
       "      <td>0.726412</td>\n",
       "      <td>-0.840529</td>\n",
       "      <td>0.138953</td>\n",
       "      <td>-1.090032</td>\n",
       "      <td>-0.118517</td>\n",
       "      <td>-1.726786</td>\n",
       "      <td>-0.107833</td>\n",
       "      <td>-0.981823</td>\n",
       "      <td>Female</td>\n",
       "      <td>Juvenile</td>\n",
       "      <td>Clouded leopard</td>\n",
       "      <td>prusten</td>\n",
       "    </tr>\n",
       "    <tr>\n",
       "      <th>122</th>\n",
       "      <td>CL-Prusten-1</td>\n",
       "      <td>Panther Ridge Conservation Center</td>\n",
       "      <td>0.000000</td>\n",
       "      <td>0.354785</td>\n",
       "      <td>-0.101002</td>\n",
       "      <td>1.348599</td>\n",
       "      <td>2.040031</td>\n",
       "      <td>0.470786</td>\n",
       "      <td>0.556562</td>\n",
       "      <td>1.427305</td>\n",
       "      <td>1.763022</td>\n",
       "      <td>-1.032765</td>\n",
       "      <td>-1.140717</td>\n",
       "      <td>-1.670548</td>\n",
       "      <td>0.510505</td>\n",
       "      <td>1.186161</td>\n",
       "      <td>1.134059</td>\n",
       "      <td>Female</td>\n",
       "      <td>Juvenile</td>\n",
       "      <td>Clouded leopard</td>\n",
       "      <td>prusten</td>\n",
       "    </tr>\n",
       "    <tr>\n",
       "      <th>123</th>\n",
       "      <td>CL-Prusten-1</td>\n",
       "      <td>Panther Ridge Conservation Center</td>\n",
       "      <td>0.000000</td>\n",
       "      <td>-1.716615</td>\n",
       "      <td>-0.468283</td>\n",
       "      <td>-0.955309</td>\n",
       "      <td>-0.385989</td>\n",
       "      <td>-1.460757</td>\n",
       "      <td>-1.371102</td>\n",
       "      <td>-0.590996</td>\n",
       "      <td>-0.690747</td>\n",
       "      <td>-0.698894</td>\n",
       "      <td>1.045821</td>\n",
       "      <td>0.925477</td>\n",
       "      <td>1.586653</td>\n",
       "      <td>-1.401826</td>\n",
       "      <td>-0.932431</td>\n",
       "      <td>Female</td>\n",
       "      <td>Juvenile</td>\n",
       "      <td>Clouded leopard</td>\n",
       "      <td>prusten</td>\n",
       "    </tr>\n",
       "    <tr>\n",
       "      <th>124</th>\n",
       "      <td>CL-Prusten-2</td>\n",
       "      <td>Wild Cat Conservation Center</td>\n",
       "      <td>0.000000</td>\n",
       "      <td>0.000000</td>\n",
       "      <td>0.000000</td>\n",
       "      <td>0.000000</td>\n",
       "      <td>0.000000</td>\n",
       "      <td>0.000000</td>\n",
       "      <td>0.000000</td>\n",
       "      <td>0.000000</td>\n",
       "      <td>0.000000</td>\n",
       "      <td>0.000000</td>\n",
       "      <td>0.000000</td>\n",
       "      <td>0.000000</td>\n",
       "      <td>0.000000</td>\n",
       "      <td>0.000000</td>\n",
       "      <td>0.000000</td>\n",
       "      <td>Unknown</td>\n",
       "      <td>Unknown</td>\n",
       "      <td>Clouded leopard</td>\n",
       "      <td>prusten</td>\n",
       "    </tr>\n",
       "  </tbody>\n",
       "</table>\n",
       "<p>125 rows × 21 columns</p>\n",
       "</div>"
      ],
      "text/plain": [
       "            File Name                             Source  Duration_in_Sec  \\\n",
       "0    Jaguar-Prusten-1                            YouTube        -0.910261   \n",
       "1    Jaguar-Prusten-1                            YouTube        -0.910261   \n",
       "2    Jaguar-Prusten-1                            YouTube        -0.910261   \n",
       "3    Jaguar-Prusten-1                            YouTube        -0.910261   \n",
       "4    Jaguar-Prusten-1                            YouTube        -0.910261   \n",
       "..                ...                                ...              ...   \n",
       "120      CL-Prusten-1  Panther Ridge Conservation Center         0.000000   \n",
       "121      CL-Prusten-1  Panther Ridge Conservation Center         0.000000   \n",
       "122      CL-Prusten-1  Panther Ridge Conservation Center         0.000000   \n",
       "123      CL-Prusten-1  Panther Ridge Conservation Center         0.000000   \n",
       "124      CL-Prusten-2       Wild Cat Conservation Center         0.000000   \n",
       "\n",
       "     Zero_Crossings  Amp_range   Avg_amp  Freq_range  Pulses_per_Sec  \\\n",
       "0         -0.795113  -0.026289 -0.340803   -0.421387        0.841685   \n",
       "1         -0.731692  -1.835643 -1.096620   -0.806636       -0.149255   \n",
       "2         -0.796018  -2.008571 -1.128298   -2.590927       -1.092495   \n",
       "3         -0.800061  -1.848767 -1.045017   -2.608628       -1.110959   \n",
       "4         -0.827098  -1.798203 -0.940222   -0.861820       -0.517011   \n",
       "..              ...        ...       ...         ...             ...   \n",
       "120        0.635885  -0.487616 -0.603396   -0.019195       -0.015400   \n",
       "121       -0.098248  -0.581848 -1.011123   -1.262502       -0.904174   \n",
       "122        0.354785  -0.101002  1.348599    2.040031        0.470786   \n",
       "123       -1.716615  -0.468283 -0.955309   -0.385989       -1.460757   \n",
       "124        0.000000   0.000000  0.000000    0.000000        0.000000   \n",
       "\n",
       "     Mean_MFCC  Mean_Spectral Rolloff  Mean_Melspectrogram  \\\n",
       "0     1.678653               0.602295            -0.308698   \n",
       "1    -1.135978               1.755714            -0.536585   \n",
       "2    -0.658015               1.380373            -0.537662   \n",
       "3    -0.088006               0.894245            -0.533509   \n",
       "4     1.124259               0.839965            -0.530097   \n",
       "..         ...                    ...                  ...   \n",
       "120  -0.294678               0.182709            -0.621020   \n",
       "121  -1.021838               0.726412            -0.840529   \n",
       "122   0.556562               1.427305             1.763022   \n",
       "123  -1.371102              -0.590996            -0.690747   \n",
       "124   0.000000               0.000000             0.000000   \n",
       "\n",
       "     Mean_Spectral Contrast  Mean_Chromagram  Mean_Tempogram  Mean_Tonnetz  \\\n",
       "0                 -0.960260         1.658664       -1.111745     -0.286268   \n",
       "1                 -1.536667         1.649726       -0.907964     -1.106560   \n",
       "2                 -1.897691         2.147499       -0.637609     -0.447219   \n",
       "3                 -1.426091         1.201418       -1.004796     -1.124444   \n",
       "4                 -1.198614         1.147553       -1.176638      1.237532   \n",
       "..                      ...              ...             ...           ...   \n",
       "120               -0.223790         1.130458       -0.231528     -0.457972   \n",
       "121                0.138953        -1.090032       -0.118517     -1.726786   \n",
       "122               -1.032765        -1.140717       -1.670548      0.510505   \n",
       "123               -0.698894         1.045821        0.925477      1.586653   \n",
       "124                0.000000         0.000000        0.000000      0.000000   \n",
       "\n",
       "     Partials  Mean RMS      Sex       Age          Species     Call  \n",
       "0   -0.542962 -0.351621  Unknown   Unknown           Jaguar  prusten  \n",
       "1   -0.819205 -1.141334  Unknown   Unknown           Jaguar  prusten  \n",
       "2   -0.837621 -1.176774  Unknown   Unknown           Jaguar  prusten  \n",
       "3   -0.837621 -1.091462  Unknown   Unknown           Jaguar  prusten  \n",
       "4   -0.837621 -0.994099  Unknown   Unknown           Jaguar  prusten  \n",
       "..        ...       ...      ...       ...              ...      ...  \n",
       "120 -1.078328 -0.570986   Female  Juvenile  Clouded leopard  prusten  \n",
       "121 -0.107833 -0.981823   Female  Juvenile  Clouded leopard  prusten  \n",
       "122  1.186161  1.134059   Female  Juvenile  Clouded leopard  prusten  \n",
       "123 -1.401826 -0.932431   Female  Juvenile  Clouded leopard  prusten  \n",
       "124  0.000000  0.000000  Unknown   Unknown  Clouded leopard  prusten  \n",
       "\n",
       "[125 rows x 21 columns]"
      ]
     },
     "execution_count": 4,
     "metadata": {},
     "output_type": "execute_result"
    }
   ],
   "source": [
    "df = pd.read_csv('features_cleaned.csv')\n",
    "df"
   ]
  },
  {
   "cell_type": "code",
   "execution_count": 5,
   "metadata": {},
   "outputs": [
    {
     "data": {
      "text/plain": [
       "(125, 21)"
      ]
     },
     "execution_count": 5,
     "metadata": {},
     "output_type": "execute_result"
    }
   ],
   "source": [
    "df.shape"
   ]
  },
  {
   "cell_type": "markdown",
   "metadata": {},
   "source": [
    "l= ['Duration_in_Sec', 'Zero_Crossings', 'Amp_range',\n",
    "       'Avg_amp', 'Freq_range', 'Pulses_per_Sec', 'Mean_MFCC',\n",
    "       'Mean_Spectral Rolloff', 'Mean_Melspectrogram',\n",
    "       'Mean_Spectral Contrast', 'Mean_Chromagram', 'Mean_Tempogram',\n",
    "       'Mean_Tonnetz', 'Partials','Mean RMS']\n",
    "\n",
    "plt.figure(figsize=(25,30))\n",
    "for i in range(len(l)):\n",
    "    plt.subplot(8,2,i+1)\n",
    "    sns.scatterplot(df[l[i]], df['Species'], hue=df['Call'], legend='brief', palette='deep') \n",
    "plt.savefig('Species Clusters By Features.pdf')\n",
    "plt.show()"
   ]
  },
  {
   "cell_type": "markdown",
   "metadata": {},
   "source": [
    "l= ['Duration_in_Sec', 'Zero_Crossings', 'Amp_range',\n",
    "       'Avg_amp', 'Freq_range', 'Pulses_per_Sec', 'Mean_MFCC',\n",
    "       'Mean_Spectral Rolloff', 'Mean_Melspectrogram',\n",
    "       'Mean_Spectral Contrast', 'Mean_Chromagram', 'Mean_Tempogram',\n",
    "       'Mean_Tonnetz', 'Partials','Mean RMS']\n",
    "\n",
    "plt.figure(figsize=(25,30))\n",
    "for i in range(len(l)):\n",
    "    plt.subplot(8,2,i+1)\n",
    "    sns.scatterplot(df[l[i]], df['Call'], hue=df['Species'], legend='brief', palette='deep') \n",
    "plt.savefig('Call Clusters By Features.pdf')\n",
    "plt.show()"
   ]
  },
  {
   "cell_type": "code",
   "execution_count": 6,
   "metadata": {},
   "outputs": [
    {
     "data": {
      "text/plain": [
       "Index(['File Name', 'Source', 'Duration_in_Sec', 'Zero_Crossings', 'Amp_range',\n",
       "       'Avg_amp', 'Freq_range', 'Pulses_per_Sec', 'Mean_MFCC',\n",
       "       'Mean_Spectral Rolloff', 'Mean_Melspectrogram',\n",
       "       'Mean_Spectral Contrast', 'Mean_Chromagram', 'Mean_Tempogram',\n",
       "       'Mean_Tonnetz', 'Partials', 'Mean RMS', 'Sex', 'Age', 'Species',\n",
       "       'Call'],\n",
       "      dtype='object')"
      ]
     },
     "execution_count": 6,
     "metadata": {},
     "output_type": "execute_result"
    }
   ],
   "source": [
    "df.columns"
   ]
  },
  {
   "cell_type": "code",
   "execution_count": 7,
   "metadata": {},
   "outputs": [],
   "source": [
    "X = df[pd.notnull(df['Call'])][['Duration_in_Sec','Zero_Crossings', 'Amp_range',\n",
    "       'Avg_amp', 'Freq_range', 'Pulses_per_Sec', 'Mean_MFCC',\n",
    "       'Mean_Spectral Rolloff', 'Mean_Melspectrogram',\n",
    "       'Mean_Spectral Contrast', 'Mean_Chromagram', 'Mean_Tempogram', 'Mean RMS']]\n",
    "y = df[pd.notnull(df['Call'])][['Call','Species']]"
   ]
  },
  {
   "cell_type": "code",
   "execution_count": 8,
   "metadata": {},
   "outputs": [],
   "source": [
    "X_train, X_test, y_train, y_test = train_test_split(X, y, test_size=0.25, random_state=None, shuffle=True, stratify=y)"
   ]
  },
  {
   "cell_type": "code",
   "execution_count": 9,
   "metadata": {
    "scrolled": true
   },
   "outputs": [
    {
     "name": "stdout",
     "output_type": "stream",
     "text": [
      "(93, 13)\n",
      "(32, 13)\n",
      "(93, 2)\n",
      "(32, 2)\n"
     ]
    }
   ],
   "source": [
    "print(X_train.shape)\n",
    "print(X_test.shape)\n",
    "print(y_train.shape)\n",
    "print(y_test.shape)"
   ]
  },
  {
   "cell_type": "code",
   "execution_count": 10,
   "metadata": {},
   "outputs": [
    {
     "name": "stdout",
     "output_type": "stream",
     "text": [
      "Total Call Values\n",
      "roar       65\n",
      "prusten    40\n",
      "growl      20\n",
      "Name: Call, dtype: int64\n",
      "\n",
      "\n",
      "Call values for Training\n",
      "roar       48\n",
      "prusten    30\n",
      "growl      15\n",
      "Name: Call, dtype: int64\n",
      "\n",
      "\n",
      "Call values for Testing\n",
      "roar       17\n",
      "prusten    10\n",
      "growl       5\n",
      "Name: Call, dtype: int64\n"
     ]
    }
   ],
   "source": [
    "print('Total Call Values')\n",
    "print(df['Call'].value_counts())\n",
    "print('\\n')\n",
    "print('Call values for Training')\n",
    "print(y_train.Call.value_counts())\n",
    "print('\\n')\n",
    "print('Call values for Testing')\n",
    "print(y_test.Call.value_counts())"
   ]
  },
  {
   "cell_type": "code",
   "execution_count": 11,
   "metadata": {},
   "outputs": [
    {
     "name": "stdout",
     "output_type": "stream",
     "text": [
      "Calls trained for but not tested for\n",
      "set()\n",
      "Calls test for but not trained for\n",
      "set()\n"
     ]
    }
   ],
   "source": [
    "print('Calls trained for but not tested for')\n",
    "print(set(np.unique(y_train.Call))-set(np.unique(y_test.Call)))\n",
    "print('Calls test for but not trained for')\n",
    "print(set(np.unique(y_test.Call))-set(np.unique(y_train.Call)))"
   ]
  },
  {
   "cell_type": "code",
   "execution_count": 12,
   "metadata": {},
   "outputs": [
    {
     "name": "stdout",
     "output_type": "stream",
     "text": [
      "Total Species values\n",
      "Leopard            41\n",
      "Lion               33\n",
      "Clouded leopard    29\n",
      "Jaguar             22\n",
      "Name: Species, dtype: int64\n",
      "\n",
      "\n",
      "Species values for Training\n",
      "Leopard            30\n",
      "Lion               25\n",
      "Clouded leopard    22\n",
      "Jaguar             16\n",
      "Name: Species, dtype: int64\n",
      "\n",
      "\n",
      "Species values for Testing\n",
      "Leopard            11\n",
      "Lion                8\n",
      "Clouded leopard     7\n",
      "Jaguar              6\n",
      "Name: Species, dtype: int64\n"
     ]
    }
   ],
   "source": [
    "print('Total Species values')\n",
    "print(df['Species'].value_counts())\n",
    "print('\\n')\n",
    "print('Species values for Training')\n",
    "print(y_train.Species.value_counts())\n",
    "print('\\n')\n",
    "print('Species values for Testing')\n",
    "print(y_test.Species.value_counts())"
   ]
  },
  {
   "cell_type": "code",
   "execution_count": 13,
   "metadata": {},
   "outputs": [
    {
     "name": "stdout",
     "output_type": "stream",
     "text": [
      "Species trained for but not tested for\n",
      "set()\n",
      "Species test for but not trained for\n",
      "set()\n"
     ]
    }
   ],
   "source": [
    "print('Species trained for but not tested for')\n",
    "print(set(np.unique(y_train.Species))-set(np.unique(y_test.Species)))\n",
    "print('Species test for but not trained for')\n",
    "print(set(np.unique(y_test.Species))-set(np.unique(y_train.Species)))"
   ]
  },
  {
   "cell_type": "markdown",
   "metadata": {},
   "source": [
    "# Vocalization Classification"
   ]
  },
  {
   "cell_type": "markdown",
   "metadata": {},
   "source": [
    "## Splitting data"
   ]
  },
  {
   "cell_type": "code",
   "execution_count": 14,
   "metadata": {},
   "outputs": [],
   "source": [
    "y_train_call = y_train.Call\n",
    "y_test_call = y_test.Call"
   ]
  },
  {
   "cell_type": "code",
   "execution_count": 15,
   "metadata": {},
   "outputs": [],
   "source": [
    "from sklearn.svm import SVC\n",
    "from xgboost import XGBClassifier\n",
    "import lightgbm as lgb\n",
    "from sklearn.linear_model import LogisticRegression\n",
    "from sklearn.ensemble import RandomForestClassifier\n",
    "from sklearn.tree import DecisionTreeClassifier\n",
    "from sklearn.neighbors import KNeighborsClassifier\n",
    "from sklearn.neural_network import MLPClassifier"
   ]
  },
  {
   "cell_type": "code",
   "execution_count": 16,
   "metadata": {},
   "outputs": [
    {
     "name": "stdout",
     "output_type": "stream",
     "text": [
      "SVM 0.71875\n",
      "[11:43:58] WARNING: C:/Users/Administrator/workspace/xgboost-win64_release_1.4.0/src/learner.cc:1095: Starting in XGBoost 1.3.0, the default evaluation metric used with the objective 'multi:softprob' was changed from 'merror' to 'mlogloss'. Explicitly set eval_metric if you'd like to restore the old behavior.\n",
      "XGB 0.90625\n",
      "LBG 0.84375\n",
      "LR 0.6875\n",
      "RF 0.6875\n",
      "DT 0.78125\n",
      "KNN 0.71875\n",
      "NN 0.8125\n"
     ]
    }
   ],
   "source": [
    "#SVM\n",
    "svm = SVC(probability=True)\n",
    "svm.fit(X_train, y_train_call)\n",
    "print('SVM',svm.score(X_test,y_test_call))\n",
    "\n",
    "#XGBoost\n",
    "xgb = XGBClassifier(n_estimators=1500,objective='multi:softprob',\n",
    "    max_depth=9,\n",
    "    learning_rate=0.01,\n",
    "    subsample=0.8,\n",
    "    colsample_bytree=0.4,\n",
    "    tree_method='gpu_hist',\n",
    "    num_class=2)\n",
    "xgb.fit(X_train, y_train_call)\n",
    "print('XGB',xgb.score(X_test,y_test_call))\n",
    "\n",
    "#LGB\n",
    "lgb = lgb.LGBMClassifier()\n",
    "lgb.fit(X_train, y_train_call)\n",
    "print('LBG',lgb.score(X_test,y_test_call))\n",
    "\n",
    "#LR\n",
    "lr = LogisticRegression(solver='liblinear', multi_class='ovr',class_weight=\"balanced\")\n",
    "lr.fit(X_train, y_train_call)\n",
    "print('LR',lr.score(X_test,y_test_call))\n",
    "\n",
    "#RF\n",
    "rf = RandomForestClassifier()\n",
    "rf.fit(X_train, y_train_call)\n",
    "print('RF',lr.score(X_test,y_test_call))\n",
    "\n",
    "#DT\n",
    "dt = DecisionTreeClassifier()\n",
    "dt.fit(X_train, y_train_call)\n",
    "print('DT',dt.score(X_test,y_test_call))\n",
    "\n",
    "#KNN\n",
    "knn = KNeighborsClassifier(n_neighbors=1)\n",
    "knn.fit(X_train, y_train_call)\n",
    "print('KNN',knn.score(X_test,y_test_call))\n",
    "\n",
    "#NN\n",
    "nn = MLPClassifier(max_iter=1000)\n",
    "nn.fit(X_train, y_train_call)\n",
    "print('NN',nn.score(X_test,y_test_call))"
   ]
  },
  {
   "cell_type": "markdown",
   "metadata": {},
   "source": [
    "parameter_space = {\n",
    "    'hidden_layer_sizes': [(50,50,50), (50,100,50), (100,)],\n",
    "    'activation': ['tanh', 'relu'],\n",
    "    'solver': ['sgd', 'adam'],\n",
    "    'alpha': [0.0001, 0.05],\n",
    "    'learning_rate': ['constant','adaptive'],\n",
    "}\n",
    "\n",
    "from sklearn.model_selection import GridSearchCV\n",
    "\n",
    "clf = GridSearchCV(nn, parameter_space, n_jobs=-1, cv=3)\n",
    "clf.fit(X_train, y_train_call)\n",
    "\n",
    "# Best parameter\n",
    "print('Best parameters found:\\n', clf.best_params_)\n",
    "\n",
    "# All results\n",
    "means = clf.cv_results_['mean_test_score']\n",
    "stds = clf.cv_results_['std_test_score']\n",
    "for mean, std, params in zip(means, stds, clf.cv_results_['params']):\n",
    "    print(\"%0.3f (+/-%0.03f) for %r\" % (mean, std * 2, params))"
   ]
  },
  {
   "cell_type": "markdown",
   "metadata": {},
   "source": [
    "knn = KNeighborsClassifier()\n",
    "from sklearn.model_selection import GridSearchCV\n",
    "k_range = list(range(1, 31))\n",
    "param_grid = dict(n_neighbors=k_range)\n",
    "  \n",
    "# defining parameter range\n",
    "grid = GridSearchCV(knn, param_grid, cv=10, scoring='accuracy', return_train_score=False,verbose=1)\n",
    "  \n",
    "# fitting the model for grid search\n",
    "grid_search=grid.fit(X_train, y_train_call)\n",
    "\n",
    "print(grid_search.best_params_)\n",
    "\n",
    "accuracy = grid_search.best_score_ *100\n",
    "print(\"Accuracy for our training dataset with tuning is : {:.2f}%\".format(accuracy) )"
   ]
  },
  {
   "cell_type": "markdown",
   "metadata": {},
   "source": [
    "## XGBoost Classifier"
   ]
  },
  {
   "cell_type": "code",
   "execution_count": 17,
   "metadata": {},
   "outputs": [],
   "source": [
    "parameters = dict(\n",
    "    objective='multi:softprob',\n",
    "    max_depth=9,\n",
    "    learning_rate=0.01,\n",
    "    subsample=0.8,\n",
    "    colsample_bytree=0.4,\n",
    "    tree_method='gpu_hist')\n",
    "#eval_metric='mlogloss',random_state = 42\n",
    "\n",
    "clf1 = XGBClassifier(n_estimators=1500)"
   ]
  },
  {
   "cell_type": "code",
   "execution_count": 18,
   "metadata": {},
   "outputs": [
    {
     "name": "stdout",
     "output_type": "stream",
     "text": [
      "[11:44:15] WARNING: C:/Users/Administrator/workspace/xgboost-win64_release_1.4.0/src/learner.cc:1095: Starting in XGBoost 1.3.0, the default evaluation metric used with the objective 'multi:softprob' was changed from 'merror' to 'mlogloss'. Explicitly set eval_metric if you'd like to restore the old behavior.\n"
     ]
    },
    {
     "data": {
      "text/html": [
       "<style>#sk-container-id-1 {color: black;background-color: white;}#sk-container-id-1 pre{padding: 0;}#sk-container-id-1 div.sk-toggleable {background-color: white;}#sk-container-id-1 label.sk-toggleable__label {cursor: pointer;display: block;width: 100%;margin-bottom: 0;padding: 0.3em;box-sizing: border-box;text-align: center;}#sk-container-id-1 label.sk-toggleable__label-arrow:before {content: \"▸\";float: left;margin-right: 0.25em;color: #696969;}#sk-container-id-1 label.sk-toggleable__label-arrow:hover:before {color: black;}#sk-container-id-1 div.sk-estimator:hover label.sk-toggleable__label-arrow:before {color: black;}#sk-container-id-1 div.sk-toggleable__content {max-height: 0;max-width: 0;overflow: hidden;text-align: left;background-color: #f0f8ff;}#sk-container-id-1 div.sk-toggleable__content pre {margin: 0.2em;color: black;border-radius: 0.25em;background-color: #f0f8ff;}#sk-container-id-1 input.sk-toggleable__control:checked~div.sk-toggleable__content {max-height: 200px;max-width: 100%;overflow: auto;}#sk-container-id-1 input.sk-toggleable__control:checked~label.sk-toggleable__label-arrow:before {content: \"▾\";}#sk-container-id-1 div.sk-estimator input.sk-toggleable__control:checked~label.sk-toggleable__label {background-color: #d4ebff;}#sk-container-id-1 div.sk-label input.sk-toggleable__control:checked~label.sk-toggleable__label {background-color: #d4ebff;}#sk-container-id-1 input.sk-hidden--visually {border: 0;clip: rect(1px 1px 1px 1px);clip: rect(1px, 1px, 1px, 1px);height: 1px;margin: -1px;overflow: hidden;padding: 0;position: absolute;width: 1px;}#sk-container-id-1 div.sk-estimator {font-family: monospace;background-color: #f0f8ff;border: 1px dotted black;border-radius: 0.25em;box-sizing: border-box;margin-bottom: 0.5em;}#sk-container-id-1 div.sk-estimator:hover {background-color: #d4ebff;}#sk-container-id-1 div.sk-parallel-item::after {content: \"\";width: 100%;border-bottom: 1px solid gray;flex-grow: 1;}#sk-container-id-1 div.sk-label:hover label.sk-toggleable__label {background-color: #d4ebff;}#sk-container-id-1 div.sk-serial::before {content: \"\";position: absolute;border-left: 1px solid gray;box-sizing: border-box;top: 0;bottom: 0;left: 50%;z-index: 0;}#sk-container-id-1 div.sk-serial {display: flex;flex-direction: column;align-items: center;background-color: white;padding-right: 0.2em;padding-left: 0.2em;position: relative;}#sk-container-id-1 div.sk-item {position: relative;z-index: 1;}#sk-container-id-1 div.sk-parallel {display: flex;align-items: stretch;justify-content: center;background-color: white;position: relative;}#sk-container-id-1 div.sk-item::before, #sk-container-id-1 div.sk-parallel-item::before {content: \"\";position: absolute;border-left: 1px solid gray;box-sizing: border-box;top: 0;bottom: 0;left: 50%;z-index: -1;}#sk-container-id-1 div.sk-parallel-item {display: flex;flex-direction: column;z-index: 1;position: relative;background-color: white;}#sk-container-id-1 div.sk-parallel-item:first-child::after {align-self: flex-end;width: 50%;}#sk-container-id-1 div.sk-parallel-item:last-child::after {align-self: flex-start;width: 50%;}#sk-container-id-1 div.sk-parallel-item:only-child::after {width: 0;}#sk-container-id-1 div.sk-dashed-wrapped {border: 1px dashed gray;margin: 0 0.4em 0.5em 0.4em;box-sizing: border-box;padding-bottom: 0.4em;background-color: white;}#sk-container-id-1 div.sk-label label {font-family: monospace;font-weight: bold;display: inline-block;line-height: 1.2em;}#sk-container-id-1 div.sk-label-container {text-align: center;}#sk-container-id-1 div.sk-container {/* jupyter's `normalize.less` sets `[hidden] { display: none; }` but bootstrap.min.css set `[hidden] { display: none !important; }` so we also need the `!important` here to be able to override the default hidden behavior on the sphinx rendered scikit-learn.org. See: https://github.com/scikit-learn/scikit-learn/issues/21755 */display: inline-block !important;position: relative;}#sk-container-id-1 div.sk-text-repr-fallback {display: none;}</style><div id=\"sk-container-id-1\" class=\"sk-top-container\"><div class=\"sk-text-repr-fallback\"><pre>XGBClassifier(base_score=0.5, booster=&#x27;gbtree&#x27;, colsample_bylevel=1,\n",
       "              colsample_bynode=1, colsample_bytree=1, gamma=0, gpu_id=-1,\n",
       "              importance_type=&#x27;gain&#x27;, interaction_constraints=&#x27;&#x27;,\n",
       "              learning_rate=0.300000012, max_delta_step=0, max_depth=6,\n",
       "              min_child_weight=1, missing=nan, monotone_constraints=&#x27;()&#x27;,\n",
       "              n_estimators=1500, n_jobs=12, num_parallel_tree=1,\n",
       "              objective=&#x27;multi:softprob&#x27;, random_state=0, reg_alpha=0,\n",
       "              reg_lambda=1, scale_pos_weight=None, subsample=1,\n",
       "              tree_method=&#x27;exact&#x27;, validate_parameters=1, verbosity=None)</pre><b>In a Jupyter environment, please rerun this cell to show the HTML representation or trust the notebook. <br />On GitHub, the HTML representation is unable to render, please try loading this page with nbviewer.org.</b></div><div class=\"sk-container\" hidden><div class=\"sk-item\"><div class=\"sk-estimator sk-toggleable\"><input class=\"sk-toggleable__control sk-hidden--visually\" id=\"sk-estimator-id-1\" type=\"checkbox\" checked><label for=\"sk-estimator-id-1\" class=\"sk-toggleable__label sk-toggleable__label-arrow\">XGBClassifier</label><div class=\"sk-toggleable__content\"><pre>XGBClassifier(base_score=0.5, booster=&#x27;gbtree&#x27;, colsample_bylevel=1,\n",
       "              colsample_bynode=1, colsample_bytree=1, gamma=0, gpu_id=-1,\n",
       "              importance_type=&#x27;gain&#x27;, interaction_constraints=&#x27;&#x27;,\n",
       "              learning_rate=0.300000012, max_delta_step=0, max_depth=6,\n",
       "              min_child_weight=1, missing=nan, monotone_constraints=&#x27;()&#x27;,\n",
       "              n_estimators=1500, n_jobs=12, num_parallel_tree=1,\n",
       "              objective=&#x27;multi:softprob&#x27;, random_state=0, reg_alpha=0,\n",
       "              reg_lambda=1, scale_pos_weight=None, subsample=1,\n",
       "              tree_method=&#x27;exact&#x27;, validate_parameters=1, verbosity=None)</pre></div></div></div></div></div>"
      ],
      "text/plain": [
       "XGBClassifier(base_score=0.5, booster='gbtree', colsample_bylevel=1,\n",
       "              colsample_bynode=1, colsample_bytree=1, gamma=0, gpu_id=-1,\n",
       "              importance_type='gain', interaction_constraints='',\n",
       "              learning_rate=0.300000012, max_delta_step=0, max_depth=6,\n",
       "              min_child_weight=1, missing=nan, monotone_constraints='()',\n",
       "              n_estimators=1500, n_jobs=12, num_parallel_tree=1,\n",
       "              objective='multi:softprob', random_state=0, reg_alpha=0,\n",
       "              reg_lambda=1, scale_pos_weight=None, subsample=1,\n",
       "              tree_method='exact', validate_parameters=1, verbosity=None)"
      ]
     },
     "execution_count": 18,
     "metadata": {},
     "output_type": "execute_result"
    }
   ],
   "source": [
    "clf1.fit(X_train, y_train_call)"
   ]
  },
  {
   "cell_type": "code",
   "execution_count": 19,
   "metadata": {},
   "outputs": [
    {
     "data": {
      "text/plain": [
       "0.875"
      ]
     },
     "execution_count": 19,
     "metadata": {},
     "output_type": "execute_result"
    }
   ],
   "source": [
    "clf1.score(X_test, y_test_call)"
   ]
  },
  {
   "cell_type": "code",
   "execution_count": 20,
   "metadata": {},
   "outputs": [],
   "source": [
    "y_clf1 = clf1.predict(X_test)\n",
    "prob_clf1 = clf1.predict_proba(X_test)"
   ]
  },
  {
   "cell_type": "code",
   "execution_count": 21,
   "metadata": {},
   "outputs": [
    {
     "name": "stdout",
     "output_type": "stream",
     "text": [
      "1. Tested Calls\n",
      "['growl' 'prusten' 'roar']\n",
      "2. Predicted Calls\n",
      "['growl' 'prusten' 'roar']\n",
      "3. Not tested for but predicted\n",
      "set()\n",
      "4. Tested for but not predicted\n",
      "set()\n"
     ]
    }
   ],
   "source": [
    "print('1. Tested Calls')\n",
    "print(np.unique(y_test_call))\n",
    "print('2. Predicted Calls')\n",
    "print(np.unique(y_clf1))\n",
    "print('3. Not tested for but predicted')\n",
    "print(set(np.unique(y_clf1))-set(np.unique(y_test_call)))\n",
    "print('4. Tested for but not predicted')\n",
    "print(set(np.unique(y_test_call))-set(np.unique(y_clf1)))"
   ]
  },
  {
   "cell_type": "code",
   "execution_count": 22,
   "metadata": {},
   "outputs": [
    {
     "data": {
      "image/png": "[encoded data removed]",
      "text/plain": [
       "<Figure size 432x288 with 1 Axes>"
      ]
     },
     "metadata": {
      "needs_background": "light"
     },
     "output_type": "display_data"
    }
   ],
   "source": [
    "importances = clf1.feature_importances_\n",
    "imp = np.argsort(importances)[::-1]\n",
    "\n",
    "\n",
    "plt.title('Feature Importance')\n",
    "plt.bar(range(X_train.shape[1]), importances[imp], align='center')\n",
    "plt.xticks(range(X_train.shape[1]), X_train.columns[imp], rotation=90)\n",
    "plt.tight_layout()\n",
    "plt.savefig('Feature Importance in Call Classification With XGBoost.png')\n",
    "plt.show()"
   ]
  },
  {
   "cell_type": "code",
   "execution_count": 23,
   "metadata": {},
   "outputs": [
    {
     "name": "stdout",
     "output_type": "stream",
     "text": [
      "Accuracy 0.875\n"
     ]
    },
    {
     "data": {
      "image/png": "[encoded data removed]",
      "text/plain": [
       "<Figure size 576x288 with 2 Axes>"
      ]
     },
     "metadata": {
      "needs_background": "light"
     },
     "output_type": "display_data"
    }
   ],
   "source": [
    "names_rf = sorted(list(set(np.unique(y_test_call)).union(set(y_clf1))))\n",
    "cnf = confusion_matrix(y_test_call, y_clf1)\n",
    "fig, ax = plt.subplots(figsize=(8,4))\n",
    "\n",
    "print('Accuracy',clf1.score(X_test, y_test_call))\n",
    "\n",
    "sns.heatmap(cnf, annot=True, xticklabels=names_rf, yticklabels=names_rf,cmap= \"YlOrBr\")\n",
    "plt.title('XGBoost')\n",
    "ax.xaxis.set_label_position('top')\n",
    "plt.ylabel('Actual')\n",
    "plt.xlabel('Predicted')\n",
    "#plt.savefig('RF.png')\n",
    "plt.show(block=False)\n"
   ]
  },
  {
   "cell_type": "code",
   "execution_count": 24,
   "metadata": {},
   "outputs": [
    {
     "name": "stdout",
     "output_type": "stream",
     "text": [
      "[11:44:17] WARNING: C:/Users/Administrator/workspace/xgboost-win64_release_1.4.0/src/learner.cc:1095: Starting in XGBoost 1.3.0, the default evaluation metric used with the objective 'binary:logistic' was changed from 'error' to 'logloss'. Explicitly set eval_metric if you'd like to restore the old behavior.\n",
      "[11:44:18] WARNING: C:/Users/Administrator/workspace/xgboost-win64_release_1.4.0/src/learner.cc:1095: Starting in XGBoost 1.3.0, the default evaluation metric used with the objective 'binary:logistic' was changed from 'error' to 'logloss'. Explicitly set eval_metric if you'd like to restore the old behavior.\n",
      "[11:44:18] WARNING: C:/Users/Administrator/workspace/xgboost-win64_release_1.4.0/src/learner.cc:1095: Starting in XGBoost 1.3.0, the default evaluation metric used with the objective 'binary:logistic' was changed from 'error' to 'logloss'. Explicitly set eval_metric if you'd like to restore the old behavior.\n"
     ]
    },
    {
     "data": {
      "image/png": "[encoded data removed]",
      "text/plain": [
       "<Figure size 864x576 with 1 Axes>"
      ]
     },
     "metadata": {
      "needs_background": "light"
     },
     "output_type": "display_data"
    },
    {
     "name": "stdout",
     "output_type": "stream",
     "text": [
      "0.65625\n"
     ]
    }
   ],
   "source": [
    "import numpy as np\n",
    "import matplotlib.pyplot as plt\n",
    "from sklearn import svm, datasets\n",
    "from sklearn.metrics import roc_curve, auc\n",
    "from sklearn.preprocessing import label_binarize\n",
    "from sklearn.multiclass import OneVsRestClassifier\n",
    "\n",
    "X = df[pd.notnull(df['Call'])][['Duration_in_Sec','Zero_Crossings', 'Amp_range',\n",
    "       'Avg_amp', 'Freq_range', 'Pulses_per_Sec', 'Mean_MFCC',\n",
    "       'Mean_Spectral Rolloff', 'Mean_Melspectrogram',\n",
    "       'Mean_Spectral Contrast', 'Mean_Chromagram', 'Mean_Tempogram', 'Mean RMS']]\n",
    "df['Call'] = df['Call'].astype('category')\n",
    "df['Call'] = df['Call'].cat.codes\n",
    "y = df[pd.notnull(df['Call'])]['Call']\n",
    "\n",
    "# Binarize the output\n",
    "y = label_binarize(y, classes=[0, 1, 2])\n",
    "n_classes = y.shape[1]\n",
    "\n",
    "# shuffle and split training and test sets\n",
    "X_train_roc, X_test_roc, y_train_roc, y_test_roc = train_test_split(X, y, test_size=0.25, random_state=None, shuffle=True, stratify=y)\n",
    "\n",
    "# Learn to predict each class against the other\n",
    "classifier = OneVsRestClassifier(XGBClassifier(n_estimators=1200))\n",
    "y_score = classifier.fit(X_train_roc, y_train_roc).predict_proba(X_test_roc)\n",
    "\n",
    "# Compute ROC curve and ROC area for each class\n",
    "fpr = dict()\n",
    "tpr = dict()\n",
    "roc_auc = dict()\n",
    "for i in range(n_classes):\n",
    "    fpr[i], tpr[i], _ = roc_curve(y_test_roc[:, i], y_score[:, i])\n",
    "    roc_auc[i] = auc(fpr[i], tpr[i])\n",
    "\n",
    "# Compute micro-average ROC curve and ROC area\n",
    "fpr[\"micro\"], tpr[\"micro\"], _ = roc_curve(y_test_roc.ravel(), y_score.ravel())\n",
    "roc_auc[\"micro\"] = auc(fpr[\"micro\"], tpr[\"micro\"])\n",
    "\n",
    "\n",
    "# Plot ROC curve\n",
    "plt.figure(figsize=(12,8))\n",
    "plt.plot(fpr[\"micro\"], tpr[\"micro\"],\n",
    "         label='micro-average ROC curve (area = {0:0.2f})'\n",
    "               ''.format(roc_auc[\"micro\"]))\n",
    "\n",
    "\n",
    "for i in range(n_classes):\n",
    "    plt.plot(fpr[i], tpr[i], label='ROC curve of class {0} (area = {1:0.2f})'\n",
    "                                   ''.format(i, roc_auc[i]))\n",
    "\n",
    "plt.plot([0, 1], [0, 1], 'k--')\n",
    "plt.xlim([0.0, 1.0])\n",
    "plt.ylim([0.0, 1.05])\n",
    "plt.xlabel('False Positive Rate', fontsize=14)\n",
    "plt.ylabel('True Positive Rate', fontsize=14)\n",
    "plt.title('ROC Curves for Call Classification')\n",
    "\n",
    "plt.xticks(fontsize=14)\n",
    "plt.yticks(fontsize=14)\n",
    "\n",
    "L = plt.legend(loc=\"lower right\", prop={'size': 12})\n",
    "\n",
    "\n",
    "L.get_texts()[1].set_text('ROC curve of Growl (area = 0.92)')\n",
    "L.get_texts()[2].set_text('ROC curve of Prusten (area = .97)')\n",
    "L.get_texts()[3].set_text('ROC curve of Roar (area = 0.97)')\n",
    "\n",
    "\n",
    "plt.savefig('ROC Call071722.png')\n",
    "plt.show()\n",
    "\n",
    "print(classifier.score(X_test_roc, y_test_roc))"
   ]
  },
  {
   "cell_type": "markdown",
   "metadata": {},
   "source": [
    "# Species Classification"
   ]
  },
  {
   "cell_type": "markdown",
   "metadata": {},
   "source": [
    "## Splitting data"
   ]
  },
  {
   "cell_type": "code",
   "execution_count": 25,
   "metadata": {},
   "outputs": [],
   "source": [
    "y_train_species = y_train.Species\n",
    "y_test_species = y_test.Species"
   ]
  },
  {
   "cell_type": "code",
   "execution_count": 26,
   "metadata": {},
   "outputs": [
    {
     "name": "stdout",
     "output_type": "stream",
     "text": [
      "SVM 0.625\n",
      "[11:44:19] WARNING: C:/Users/Administrator/workspace/xgboost-win64_release_1.4.0/src/learner.cc:1095: Starting in XGBoost 1.3.0, the default evaluation metric used with the objective 'multi:softprob' was changed from 'merror' to 'mlogloss'. Explicitly set eval_metric if you'd like to restore the old behavior.\n",
      "XGB 0.78125\n",
      "LBG 0.75\n",
      "LR 0.4375\n",
      "RF 0.4375\n",
      "DT 0.625\n",
      "KNN 0.5\n",
      "NN 0.59375\n"
     ]
    }
   ],
   "source": [
    "#SVM\n",
    "svm2 = SVC(probability=True)\n",
    "svm2.fit(X_train, y_train_species)\n",
    "print('SVM',svm2.score(X_test,y_test_species))\n",
    "\n",
    "#XGBoost\n",
    "xgb2 = XGBClassifier(n_estimators=1300,objective='multi:softprob',\n",
    "    max_depth=9,\n",
    "    learning_rate=0.01,\n",
    "    subsample=0.8,\n",
    "    colsample_bytree=0.4,\n",
    "    tree_method='gpu_hist',\n",
    "    num_class=2)\n",
    "xgb2.fit(X_train, y_train_species)\n",
    "print('XGB',xgb2.score(X_test,y_test_species))\n",
    "\n",
    "import lightgbm as lgb\n",
    "#LGB\n",
    "lgb2 = lgb.LGBMClassifier()\n",
    "lgb2.fit(X_train, y_train_species)\n",
    "print('LBG',lgb2.score(X_test,y_test_species))\n",
    "\n",
    "#LR\n",
    "lr2 = LogisticRegression(solver='liblinear', multi_class='ovr',class_weight=\"balanced\")\n",
    "lr2.fit(X_train, y_train_species)\n",
    "print('LR',lr2.score(X_test,y_test_species))\n",
    "\n",
    "#RF\n",
    "rf2 = RandomForestClassifier()\n",
    "rf2.fit(X_train, y_train_species)\n",
    "print('RF',lr2.score(X_test,y_test_species))\n",
    "\n",
    "#DT\n",
    "dt2 = DecisionTreeClassifier()\n",
    "dt2.fit(X_train, y_train_species)\n",
    "print('DT',dt2.score(X_test,y_test_species))\n",
    "\n",
    "#KNN\n",
    "knn2 = KNeighborsClassifier(n_neighbors=4)\n",
    "knn2.fit(X_train, y_train_species)\n",
    "print('KNN',knn2.score(X_test,y_test_species))\n",
    "\n",
    "from sklearn.neural_network import MLPClassifier\n",
    "#NN\n",
    "nn2 = MLPClassifier(max_iter=1500, activation= 'relu', alpha= 0.05, hidden_layer_sizes= (50, 50, 50),\n",
    "                    learning_rate= 'adaptive', solver= 'adam')\n",
    "nn2.fit(X_train, y_train_species)\n",
    "print('NN',nn2.score(X_test,y_test_species))"
   ]
  },
  {
   "cell_type": "markdown",
   "metadata": {},
   "source": [
    "accuracy = grid_search.best_score_ *100\n",
    "print(\"Accuracy for our training dataset with tuning is : {:.2f}%\".format(accuracy) )"
   ]
  },
  {
   "cell_type": "markdown",
   "metadata": {},
   "source": [
    "## XGBoost Classifier"
   ]
  },
  {
   "cell_type": "code",
   "execution_count": 27,
   "metadata": {},
   "outputs": [],
   "source": [
    "parameters = dict(\n",
    "    objective='multi:softprob',\n",
    "    max_depth=9,\n",
    "    learning_rate=0.01,\n",
    "    subsample=0.8,\n",
    "    colsample_bytree=0.4,\n",
    "    tree_method='gpu_hist',\n",
    "    num_class=2,\n",
    "    n_estimators=1200)\n",
    "#eval_metric='mlogloss', random_state = 42\n",
    "\n",
    "clf1 = XGBClassifier(**parameters)"
   ]
  },
  {
   "cell_type": "code",
   "execution_count": 28,
   "metadata": {},
   "outputs": [
    {
     "name": "stdout",
     "output_type": "stream",
     "text": [
      "[11:44:35] WARNING: C:/Users/Administrator/workspace/xgboost-win64_release_1.4.0/src/learner.cc:1095: Starting in XGBoost 1.3.0, the default evaluation metric used with the objective 'multi:softprob' was changed from 'merror' to 'mlogloss'. Explicitly set eval_metric if you'd like to restore the old behavior.\n"
     ]
    },
    {
     "data": {
      "text/html": [
       "<style>#sk-container-id-2 {color: black;background-color: white;}#sk-container-id-2 pre{padding: 0;}#sk-container-id-2 div.sk-toggleable {background-color: white;}#sk-container-id-2 label.sk-toggleable__label {cursor: pointer;display: block;width: 100%;margin-bottom: 0;padding: 0.3em;box-sizing: border-box;text-align: center;}#sk-container-id-2 label.sk-toggleable__label-arrow:before {content: \"▸\";float: left;margin-right: 0.25em;color: #696969;}#sk-container-id-2 label.sk-toggleable__label-arrow:hover:before {color: black;}#sk-container-id-2 div.sk-estimator:hover label.sk-toggleable__label-arrow:before {color: black;}#sk-container-id-2 div.sk-toggleable__content {max-height: 0;max-width: 0;overflow: hidden;text-align: left;background-color: #f0f8ff;}#sk-container-id-2 div.sk-toggleable__content pre {margin: 0.2em;color: black;border-radius: 0.25em;background-color: #f0f8ff;}#sk-container-id-2 input.sk-toggleable__control:checked~div.sk-toggleable__content {max-height: 200px;max-width: 100%;overflow: auto;}#sk-container-id-2 input.sk-toggleable__control:checked~label.sk-toggleable__label-arrow:before {content: \"▾\";}#sk-container-id-2 div.sk-estimator input.sk-toggleable__control:checked~label.sk-toggleable__label {background-color: #d4ebff;}#sk-container-id-2 div.sk-label input.sk-toggleable__control:checked~label.sk-toggleable__label {background-color: #d4ebff;}#sk-container-id-2 input.sk-hidden--visually {border: 0;clip: rect(1px 1px 1px 1px);clip: rect(1px, 1px, 1px, 1px);height: 1px;margin: -1px;overflow: hidden;padding: 0;position: absolute;width: 1px;}#sk-container-id-2 div.sk-estimator {font-family: monospace;background-color: #f0f8ff;border: 1px dotted black;border-radius: 0.25em;box-sizing: border-box;margin-bottom: 0.5em;}#sk-container-id-2 div.sk-estimator:hover {background-color: #d4ebff;}#sk-container-id-2 div.sk-parallel-item::after {content: \"\";width: 100%;border-bottom: 1px solid gray;flex-grow: 1;}#sk-container-id-2 div.sk-label:hover label.sk-toggleable__label {background-color: #d4ebff;}#sk-container-id-2 div.sk-serial::before {content: \"\";position: absolute;border-left: 1px solid gray;box-sizing: border-box;top: 0;bottom: 0;left: 50%;z-index: 0;}#sk-container-id-2 div.sk-serial {display: flex;flex-direction: column;align-items: center;background-color: white;padding-right: 0.2em;padding-left: 0.2em;position: relative;}#sk-container-id-2 div.sk-item {position: relative;z-index: 1;}#sk-container-id-2 div.sk-parallel {display: flex;align-items: stretch;justify-content: center;background-color: white;position: relative;}#sk-container-id-2 div.sk-item::before, #sk-container-id-2 div.sk-parallel-item::before {content: \"\";position: absolute;border-left: 1px solid gray;box-sizing: border-box;top: 0;bottom: 0;left: 50%;z-index: -1;}#sk-container-id-2 div.sk-parallel-item {display: flex;flex-direction: column;z-index: 1;position: relative;background-color: white;}#sk-container-id-2 div.sk-parallel-item:first-child::after {align-self: flex-end;width: 50%;}#sk-container-id-2 div.sk-parallel-item:last-child::after {align-self: flex-start;width: 50%;}#sk-container-id-2 div.sk-parallel-item:only-child::after {width: 0;}#sk-container-id-2 div.sk-dashed-wrapped {border: 1px dashed gray;margin: 0 0.4em 0.5em 0.4em;box-sizing: border-box;padding-bottom: 0.4em;background-color: white;}#sk-container-id-2 div.sk-label label {font-family: monospace;font-weight: bold;display: inline-block;line-height: 1.2em;}#sk-container-id-2 div.sk-label-container {text-align: center;}#sk-container-id-2 div.sk-container {/* jupyter's `normalize.less` sets `[hidden] { display: none; }` but bootstrap.min.css set `[hidden] { display: none !important; }` so we also need the `!important` here to be able to override the default hidden behavior on the sphinx rendered scikit-learn.org. See: https://github.com/scikit-learn/scikit-learn/issues/21755 */display: inline-block !important;position: relative;}#sk-container-id-2 div.sk-text-repr-fallback {display: none;}</style><div id=\"sk-container-id-2\" class=\"sk-top-container\"><div class=\"sk-text-repr-fallback\"><pre>XGBClassifier(base_score=0.5, booster=&#x27;gbtree&#x27;, colsample_bylevel=1,\n",
       "              colsample_bynode=1, colsample_bytree=0.4, gamma=0, gpu_id=0,\n",
       "              importance_type=&#x27;gain&#x27;, interaction_constraints=&#x27;&#x27;,\n",
       "              learning_rate=0.01, max_delta_step=0, max_depth=9,\n",
       "              min_child_weight=1, missing=nan, monotone_constraints=&#x27;()&#x27;,\n",
       "              n_estimators=1200, n_jobs=12, num_class=2, num_parallel_tree=1,\n",
       "              objective=&#x27;multi:softprob&#x27;, random_state=0, reg_alpha=0,\n",
       "              reg_lambda=1, scale_pos_weight=None, subsample=0.8,\n",
       "              tree_method=&#x27;gpu_hist&#x27;, validate_parameters=1, verbosity=None)</pre><b>In a Jupyter environment, please rerun this cell to show the HTML representation or trust the notebook. <br />On GitHub, the HTML representation is unable to render, please try loading this page with nbviewer.org.</b></div><div class=\"sk-container\" hidden><div class=\"sk-item\"><div class=\"sk-estimator sk-toggleable\"><input class=\"sk-toggleable__control sk-hidden--visually\" id=\"sk-estimator-id-2\" type=\"checkbox\" checked><label for=\"sk-estimator-id-2\" class=\"sk-toggleable__label sk-toggleable__label-arrow\">XGBClassifier</label><div class=\"sk-toggleable__content\"><pre>XGBClassifier(base_score=0.5, booster=&#x27;gbtree&#x27;, colsample_bylevel=1,\n",
       "              colsample_bynode=1, colsample_bytree=0.4, gamma=0, gpu_id=0,\n",
       "              importance_type=&#x27;gain&#x27;, interaction_constraints=&#x27;&#x27;,\n",
       "              learning_rate=0.01, max_delta_step=0, max_depth=9,\n",
       "              min_child_weight=1, missing=nan, monotone_constraints=&#x27;()&#x27;,\n",
       "              n_estimators=1200, n_jobs=12, num_class=2, num_parallel_tree=1,\n",
       "              objective=&#x27;multi:softprob&#x27;, random_state=0, reg_alpha=0,\n",
       "              reg_lambda=1, scale_pos_weight=None, subsample=0.8,\n",
       "              tree_method=&#x27;gpu_hist&#x27;, validate_parameters=1, verbosity=None)</pre></div></div></div></div></div>"
      ],
      "text/plain": [
       "XGBClassifier(base_score=0.5, booster='gbtree', colsample_bylevel=1,\n",
       "              colsample_bynode=1, colsample_bytree=0.4, gamma=0, gpu_id=0,\n",
       "              importance_type='gain', interaction_constraints='',\n",
       "              learning_rate=0.01, max_delta_step=0, max_depth=9,\n",
       "              min_child_weight=1, missing=nan, monotone_constraints='()',\n",
       "              n_estimators=1200, n_jobs=12, num_class=2, num_parallel_tree=1,\n",
       "              objective='multi:softprob', random_state=0, reg_alpha=0,\n",
       "              reg_lambda=1, scale_pos_weight=None, subsample=0.8,\n",
       "              tree_method='gpu_hist', validate_parameters=1, verbosity=None)"
      ]
     },
     "execution_count": 28,
     "metadata": {},
     "output_type": "execute_result"
    }
   ],
   "source": [
    "clf1.fit(X_train, y_train_species)"
   ]
  },
  {
   "cell_type": "code",
   "execution_count": 29,
   "metadata": {},
   "outputs": [
    {
     "data": {
      "text/plain": [
       "0.78125"
      ]
     },
     "execution_count": 29,
     "metadata": {},
     "output_type": "execute_result"
    }
   ],
   "source": [
    "clf1.score(X_test, y_test_species)"
   ]
  },
  {
   "cell_type": "code",
   "execution_count": 30,
   "metadata": {},
   "outputs": [],
   "source": [
    "y_clf1 = clf1.predict(X_test)\n",
    "prob_clf1 = clf1.predict_proba(X_test)"
   ]
  },
  {
   "cell_type": "code",
   "execution_count": 31,
   "metadata": {},
   "outputs": [
    {
     "name": "stdout",
     "output_type": "stream",
     "text": [
      "1. Tested Calls\n",
      "['Clouded leopard' 'Jaguar' 'Leopard' 'Lion']\n",
      "2. Predicted Calls\n",
      "['Clouded leopard' 'Jaguar' 'Leopard' 'Lion']\n",
      "3. Not tested for but predicted\n",
      "set()\n",
      "4. Tested for but not predicted\n",
      "set()\n"
     ]
    }
   ],
   "source": [
    "print('1. Tested Calls')\n",
    "print(np.unique(y_test_species))\n",
    "print('2. Predicted Calls')\n",
    "print(np.unique(y_clf1))\n",
    "print('3. Not tested for but predicted')\n",
    "print(set(np.unique(y_clf1))-set(np.unique(y_test_species)))\n",
    "print('4. Tested for but not predicted')\n",
    "print(set(np.unique(y_test_species))-set(np.unique(y_clf1)))"
   ]
  },
  {
   "cell_type": "code",
   "execution_count": 32,
   "metadata": {},
   "outputs": [
    {
     "data": {
      "image/png": "[encoded data removed]",
      "text/plain": [
       "<Figure size 432x288 with 1 Axes>"
      ]
     },
     "metadata": {
      "needs_background": "light"
     },
     "output_type": "display_data"
    }
   ],
   "source": [
    "importances = clf1.feature_importances_\n",
    "imp = np.argsort(importances)[::-1]\n",
    "\n",
    "\n",
    "plt.title('Feature Importance')\n",
    "plt.bar(range(X_train.shape[1]), importances[imp], align='center')\n",
    "plt.xticks(range(X_train.shape[1]), X_train.columns[imp], rotation=90)\n",
    "plt.tight_layout()\n",
    "#plt.savefig('Feature Importance in Call Classification With XGBoost.png')\n",
    "plt.show()"
   ]
  },
  {
   "cell_type": "code",
   "execution_count": 33,
   "metadata": {},
   "outputs": [
    {
     "name": "stdout",
     "output_type": "stream",
     "text": [
      "Accuracy 0.78125\n"
     ]
    },
    {
     "data": {
      "image/png": "[encoded data removed]",
      "text/plain": [
       "<Figure size 576x288 with 2 Axes>"
      ]
     },
     "metadata": {
      "needs_background": "light"
     },
     "output_type": "display_data"
    }
   ],
   "source": [
    "names_rf = sorted(list(set(np.unique(y_test_species)).union(set(y_clf1))))\n",
    "cnf = confusion_matrix(y_test_species, y_clf1)\n",
    "fig, ax = plt.subplots(figsize=(8,4))\n",
    "\n",
    "print('Accuracy',clf1.score(X_test, y_test_species))\n",
    "\n",
    "sns.heatmap(cnf, annot=True, xticklabels=names_rf, yticklabels=names_rf,cmap= \"YlOrBr\")\n",
    "plt.title('XGBoost')\n",
    "ax.xaxis.set_label_position('top')\n",
    "plt.ylabel('Actual')\n",
    "plt.xlabel('Predicted')\n",
    "#plt.savefig('RF.png')\n",
    "plt.show(block=False)\n"
   ]
  },
  {
   "cell_type": "code",
   "execution_count": 34,
   "metadata": {},
   "outputs": [
    {
     "ename": "SyntaxError",
     "evalue": "invalid syntax (<ipython-input-34-adfa2cb691cb>, line 25)",
     "output_type": "error",
     "traceback": [
      "\u001b[1;36m  File \u001b[1;32m\"<ipython-input-34-adfa2cb691cb>\"\u001b[1;36m, line \u001b[1;32m25\u001b[0m\n\u001b[1;33m    y_score = classifier.fit(X_train_roc, y_train_roc).predict_proba(X_test_roc)\u001b[0m\n\u001b[1;37m    ^\u001b[0m\n\u001b[1;31mSyntaxError\u001b[0m\u001b[1;31m:\u001b[0m invalid syntax\n"
     ]
    }
   ],
   "source": [
    "import numpy as np\n",
    "import matplotlib.pyplot as plt\n",
    "from sklearn import svm, datasets\n",
    "from sklearn.metrics import roc_curve, auc\n",
    "from sklearn.preprocessing import label_binarize\n",
    "from sklearn.multiclass import OneVsRestClassifier\n",
    "\n",
    "X = df[pd.notnull(df['Call'])][['Duration_in_Sec','Zero_Crossings', 'Amp_range',\n",
    "       'Avg_amp', 'Freq_range', 'Pulses_per_Sec', 'Mean_MFCC',\n",
    "       'Mean_Spectral Rolloff', 'Mean_Melspectrogram',\n",
    "       'Mean_Spectral Contrast', 'Mean_Chromagram', 'Mean_Tempogram', 'Mean RMS']]\n",
    "df['Species'] = df['Species'].astype('category')\n",
    "df['Species'] = df['Species'].cat.codes\n",
    "y = df[pd.notnull(df['Species'])]['Species']\n",
    "\n",
    "# Binarize the output\n",
    "y = label_binarize(y, classes=[0, 1, 2, 3])\n",
    "n_classes = y.shape[1]\n",
    "\n",
    "# shuffle and split training and test sets\n",
    "X_train_roc, X_test_roc, y_train_roc, y_test_roc = train_test_split(X, y, test_size=0.25, random_state=None, shuffle=True, stratify=y)\n",
    "\n",
    "# Learn to predict each class against the other\n",
    "classifier = OneVsRestClassifier(XGBClassifier(**parameters,n_estimators=1200)\n",
    "y_score = classifier.fit(X_train_roc, y_train_roc).predict_proba(X_test_roc)\n",
    "\n",
    "# Compute ROC curve and ROC area for each class\n",
    "fpr = dict()\n",
    "tpr = dict()\n",
    "roc_auc = dict()\n",
    "for i in range(n_classes):\n",
    "    fpr[i], tpr[i], _ = roc_curve(y_test_roc[:, i], y_score[:, i])\n",
    "    roc_auc[i] = auc(fpr[i], tpr[i])\n",
    "\n",
    "# Compute micro-average ROC curve and ROC area\n",
    "fpr[\"micro\"], tpr[\"micro\"], _ = roc_curve(y_test_roc.ravel(), y_score.ravel())\n",
    "roc_auc[\"micro\"] = auc(fpr[\"micro\"], tpr[\"micro\"])\n",
    "\n",
    "\n",
    "# Plot ROC curve\n",
    "plt.figure(figsize=(12,8))\n",
    "plt.plot(fpr[\"micro\"], tpr[\"micro\"],\n",
    "         label='micro-average ROC curve (area = {0:0.2f})'\n",
    "               ''.format(roc_auc[\"micro\"]))\n",
    "\n",
    "\n",
    "for i in range(n_classes):\n",
    "    plt.plot(fpr[i], tpr[i], label='ROC curve of class {0} (area = {1:0.2f})'\n",
    "                                   ''.format(i, roc_auc[i]))\n",
    "\n",
    "plt.plot([0, 1], [0, 1], 'k--')\n",
    "plt.xlim([0.0, 1.0])\n",
    "plt.ylim([0.0, 1.05])\n",
    "plt.xlabel('False Positive Rate', fontsize=14)\n",
    "plt.ylabel('True Positive Rate', fontsize=14)\n",
    "plt.title('ROC Curves for Species Classification')\n",
    "\n",
    "plt.xticks(fontsize=14)\n",
    "plt.yticks(fontsize=14)\n",
    "\n",
    "L = plt.legend(loc=\"lower right\", prop={'size': 12})\n",
    "\n",
    "\n",
    "L.get_texts()[1].set_text('ROC curve of Clouded Leopard (area = 1.00)')\n",
    "L.get_texts()[2].set_text('ROC curve of Jaguar (area = 0.74)')\n",
    "L.get_texts()[3].set_text('ROC curve of Leopard (area = 0.90)')\n",
    "L.get_texts()[4].set_text('ROC curve of Lion (area = 0.90)')\n",
    "\n",
    "\n",
    "plt.savefig('ROC Species071722.png')\n",
    "plt.show()\n",
    "print(classifier.score(X_test_roc, y_test_roc))"
   ]
  },
  {
   "cell_type": "code",
   "execution_count": null,
   "metadata": {},
   "outputs": [],
   "source": []
  }
 ],
 "metadata": {
  "kernelspec": {
   "display_name": "Python 3",
   "language": "python",
   "name": "python3"
  },
  "language_info": {
   "codemirror_mode": {
    "name": "ipython",
    "version": 3
   },
   "file_extension": ".py",
   "mimetype": "text/x-python",
   "name": "python",
   "nbconvert_exporter": "python",
   "pygments_lexer": "ipython3",
   "version": "3.8.8"
  }
 },
 "nbformat": 4,
 "nbformat_minor": 4
}
