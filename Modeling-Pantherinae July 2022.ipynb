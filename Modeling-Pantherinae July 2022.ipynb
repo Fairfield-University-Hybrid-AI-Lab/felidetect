{
 "cells": [
  {
   "cell_type": "code",
   "execution_count": 1,
   "metadata": {},
   "outputs": [],
   "source": [
    "import pandas as pd\n",
    "import numpy as np\n",
    "import matplotlib.pyplot as plt\n",
    "%matplotlib inline\n",
    "import seaborn as sns\n",
    "from sklearn.metrics import confusion_matrix\n",
    "\n",
    "from sklearn.model_selection import train_test_split\n",
    "from sklearn.preprocessing import StandardScaler, MinMaxScaler, OneHotEncoder\n",
    "\n",
    "from xgboost import XGBClassifier\n",
    "from sklearn.svm import SVC\n",
    "from sklearn.naive_bayes import GaussianNB, CategoricalNB\n",
    "from sklearn.linear_model import LogisticRegression\n",
    "from sklearn.neighbors import KNeighborsClassifier\n",
    "from sklearn.tree import DecisionTreeClassifier\n",
    "from sklearn.ensemble import RandomForestClassifier\n",
    "\n",
    "from sklearn import metrics\n",
    "\n",
    "from xgboost import plot_importance\n",
    "\n",
    "from sklearn.metrics import RocCurveDisplay\n",
    "\n",
    "import warnings\n",
    "warnings.filterwarnings('ignore')\n",
    "\n",
    "pd.set_option('display.max_columns', 50)"
   ]
  },
  {
   "cell_type": "code",
   "execution_count": 2,
   "metadata": {},
   "outputs": [
    {
     "data": {
      "text/html": [
       "<div>\n",
       "<style scoped>\n",
       "    .dataframe tbody tr th:only-of-type {\n",
       "        vertical-align: middle;\n",
       "    }\n",
       "\n",
       "    .dataframe tbody tr th {\n",
       "        vertical-align: top;\n",
       "    }\n",
       "\n",
       "    .dataframe thead th {\n",
       "        text-align: right;\n",
       "    }\n",
       "</style>\n",
       "<table border=\"1\" class=\"dataframe\">\n",
       "  <thead>\n",
       "    <tr style=\"text-align: right;\">\n",
       "      <th></th>\n",
       "      <th>File Name</th>\n",
       "      <th>Source</th>\n",
       "      <th>Duration_in_Sec</th>\n",
       "      <th>Zero_Crossings</th>\n",
       "      <th>Amp_range</th>\n",
       "      <th>Avg_amp</th>\n",
       "      <th>Freq_range</th>\n",
       "      <th>Pulses_per_Sec</th>\n",
       "      <th>Mean_MFCC</th>\n",
       "      <th>Mean_Spectral Rolloff</th>\n",
       "      <th>Mean_Melspectrogram</th>\n",
       "      <th>Mean_Spectral Contrast</th>\n",
       "      <th>Mean_Chromagram</th>\n",
       "      <th>Mean_Tempogram</th>\n",
       "      <th>Mean_Tonnetz</th>\n",
       "      <th>Partials</th>\n",
       "      <th>Mean RMS</th>\n",
       "      <th>Species</th>\n",
       "      <th>Call</th>\n",
       "    </tr>\n",
       "  </thead>\n",
       "  <tbody>\n",
       "    <tr>\n",
       "      <th>0</th>\n",
       "      <td>CL-Hiss</td>\n",
       "      <td>wildside sabrina tiktok</td>\n",
       "      <td>2</td>\n",
       "      <td>3052</td>\n",
       "      <td>0.068885</td>\n",
       "      <td>0.006089</td>\n",
       "      <td>3921.000000</td>\n",
       "      <td>404.500000</td>\n",
       "      <td>-7.268548</td>\n",
       "      <td>3364.872373</td>\n",
       "      <td>0.019104</td>\n",
       "      <td>19.925640</td>\n",
       "      <td>0.810778</td>\n",
       "      <td>0.160065</td>\n",
       "      <td>-0.001847</td>\n",
       "      <td>3</td>\n",
       "      <td>0.007630</td>\n",
       "      <td>Clouded leopard</td>\n",
       "      <td>hiss</td>\n",
       "    </tr>\n",
       "    <tr>\n",
       "      <th>1</th>\n",
       "      <td>CL-Hiss</td>\n",
       "      <td>wildside sabrina tiktok</td>\n",
       "      <td>1</td>\n",
       "      <td>1649</td>\n",
       "      <td>0.067508</td>\n",
       "      <td>0.008768</td>\n",
       "      <td>2364.000000</td>\n",
       "      <td>546.000000</td>\n",
       "      <td>-6.702535</td>\n",
       "      <td>3613.418302</td>\n",
       "      <td>0.033583</td>\n",
       "      <td>19.957274</td>\n",
       "      <td>0.821026</td>\n",
       "      <td>0.126885</td>\n",
       "      <td>-0.003948</td>\n",
       "      <td>3</td>\n",
       "      <td>0.010948</td>\n",
       "      <td>Clouded leopard</td>\n",
       "      <td>hiss</td>\n",
       "    </tr>\n",
       "    <tr>\n",
       "      <th>2</th>\n",
       "      <td>CL-Hiss</td>\n",
       "      <td>wildside sabrina tiktok</td>\n",
       "      <td>1</td>\n",
       "      <td>1265</td>\n",
       "      <td>0.177508</td>\n",
       "      <td>0.009763</td>\n",
       "      <td>2137.000000</td>\n",
       "      <td>461.000000</td>\n",
       "      <td>-6.511350</td>\n",
       "      <td>2918.727805</td>\n",
       "      <td>0.061539</td>\n",
       "      <td>20.534935</td>\n",
       "      <td>0.800632</td>\n",
       "      <td>0.156785</td>\n",
       "      <td>-0.021016</td>\n",
       "      <td>2</td>\n",
       "      <td>0.012784</td>\n",
       "      <td>Clouded leopard</td>\n",
       "      <td>hiss</td>\n",
       "    </tr>\n",
       "    <tr>\n",
       "      <th>3</th>\n",
       "      <td>CL-Hiss</td>\n",
       "      <td>wildside sabrina tiktok</td>\n",
       "      <td>1</td>\n",
       "      <td>2671</td>\n",
       "      <td>0.047844</td>\n",
       "      <td>0.007377</td>\n",
       "      <td>4015.000000</td>\n",
       "      <td>987.000000</td>\n",
       "      <td>-6.980524</td>\n",
       "      <td>3696.125377</td>\n",
       "      <td>0.018213</td>\n",
       "      <td>20.329560</td>\n",
       "      <td>0.823546</td>\n",
       "      <td>0.140679</td>\n",
       "      <td>-0.011690</td>\n",
       "      <td>3</td>\n",
       "      <td>0.009123</td>\n",
       "      <td>Clouded leopard</td>\n",
       "      <td>hiss</td>\n",
       "    </tr>\n",
       "    <tr>\n",
       "      <th>4</th>\n",
       "      <td>CL-Hiss</td>\n",
       "      <td>wildside sabrina tiktok</td>\n",
       "      <td>1</td>\n",
       "      <td>1744</td>\n",
       "      <td>0.063522</td>\n",
       "      <td>0.007763</td>\n",
       "      <td>2487.000000</td>\n",
       "      <td>628.000000</td>\n",
       "      <td>-5.948235</td>\n",
       "      <td>3509.912109</td>\n",
       "      <td>0.021703</td>\n",
       "      <td>20.561726</td>\n",
       "      <td>0.807700</td>\n",
       "      <td>0.144186</td>\n",
       "      <td>-0.013389</td>\n",
       "      <td>2</td>\n",
       "      <td>0.009595</td>\n",
       "      <td>Clouded leopard</td>\n",
       "      <td>hiss</td>\n",
       "    </tr>\n",
       "    <tr>\n",
       "      <th>...</th>\n",
       "      <td>...</td>\n",
       "      <td>...</td>\n",
       "      <td>...</td>\n",
       "      <td>...</td>\n",
       "      <td>...</td>\n",
       "      <td>...</td>\n",
       "      <td>...</td>\n",
       "      <td>...</td>\n",
       "      <td>...</td>\n",
       "      <td>...</td>\n",
       "      <td>...</td>\n",
       "      <td>...</td>\n",
       "      <td>...</td>\n",
       "      <td>...</td>\n",
       "      <td>...</td>\n",
       "      <td>...</td>\n",
       "      <td>...</td>\n",
       "      <td>...</td>\n",
       "      <td>...</td>\n",
       "    </tr>\n",
       "    <tr>\n",
       "      <th>138</th>\n",
       "      <td>Lion Roaring Sequence_17</td>\n",
       "      <td>YouTube</td>\n",
       "      <td>40</td>\n",
       "      <td>22436</td>\n",
       "      <td>0.652970</td>\n",
       "      <td>0.073732</td>\n",
       "      <td>10092.625000</td>\n",
       "      <td>295.250000</td>\n",
       "      <td>-4.387553</td>\n",
       "      <td>1458.415228</td>\n",
       "      <td>3.050521</td>\n",
       "      <td>20.184006</td>\n",
       "      <td>0.580697</td>\n",
       "      <td>0.190296</td>\n",
       "      <td>-0.000172</td>\n",
       "      <td>85</td>\n",
       "      <td>0.088674</td>\n",
       "      <td>Lion</td>\n",
       "      <td>roar</td>\n",
       "    </tr>\n",
       "    <tr>\n",
       "      <th>139</th>\n",
       "      <td>Lion Roaring Sequence_18</td>\n",
       "      <td>YouTube</td>\n",
       "      <td>45</td>\n",
       "      <td>127303</td>\n",
       "      <td>1.039453</td>\n",
       "      <td>0.117559</td>\n",
       "      <td>10681.044444</td>\n",
       "      <td>1159.066667</td>\n",
       "      <td>-5.522057</td>\n",
       "      <td>4116.969550</td>\n",
       "      <td>12.378446</td>\n",
       "      <td>20.695561</td>\n",
       "      <td>0.593314</td>\n",
       "      <td>0.184751</td>\n",
       "      <td>0.001714</td>\n",
       "      <td>139</td>\n",
       "      <td>0.141392</td>\n",
       "      <td>Lion</td>\n",
       "      <td>roar</td>\n",
       "    </tr>\n",
       "    <tr>\n",
       "      <th>140</th>\n",
       "      <td>Lion Roaring Sequence_18</td>\n",
       "      <td>YouTube</td>\n",
       "      <td>17</td>\n",
       "      <td>32072</td>\n",
       "      <td>1.021872</td>\n",
       "      <td>0.181167</td>\n",
       "      <td>10494.470588</td>\n",
       "      <td>898.411765</td>\n",
       "      <td>-3.991339</td>\n",
       "      <td>3033.963691</td>\n",
       "      <td>24.540840</td>\n",
       "      <td>20.218510</td>\n",
       "      <td>0.616647</td>\n",
       "      <td>0.182995</td>\n",
       "      <td>-0.004780</td>\n",
       "      <td>98</td>\n",
       "      <td>0.219604</td>\n",
       "      <td>Lion</td>\n",
       "      <td>roar</td>\n",
       "    </tr>\n",
       "    <tr>\n",
       "      <th>141</th>\n",
       "      <td>Lion Roaring Sequence_19</td>\n",
       "      <td>YouTube</td>\n",
       "      <td>19</td>\n",
       "      <td>23112</td>\n",
       "      <td>0.747216</td>\n",
       "      <td>0.123384</td>\n",
       "      <td>5462.315789</td>\n",
       "      <td>315.631579</td>\n",
       "      <td>-5.297592</td>\n",
       "      <td>2002.811373</td>\n",
       "      <td>9.278934</td>\n",
       "      <td>21.174380</td>\n",
       "      <td>0.515771</td>\n",
       "      <td>0.224227</td>\n",
       "      <td>0.006657</td>\n",
       "      <td>38</td>\n",
       "      <td>0.142555</td>\n",
       "      <td>Lion</td>\n",
       "      <td>roar</td>\n",
       "    </tr>\n",
       "    <tr>\n",
       "      <th>142</th>\n",
       "      <td>Lion Roaring Sequence_19</td>\n",
       "      <td>YouTube</td>\n",
       "      <td>41</td>\n",
       "      <td>101920</td>\n",
       "      <td>0.770082</td>\n",
       "      <td>0.066351</td>\n",
       "      <td>5470.756098</td>\n",
       "      <td>490.878049</td>\n",
       "      <td>-5.330621</td>\n",
       "      <td>3146.517969</td>\n",
       "      <td>5.418606</td>\n",
       "      <td>19.120536</td>\n",
       "      <td>0.744117</td>\n",
       "      <td>0.200815</td>\n",
       "      <td>-0.008008</td>\n",
       "      <td>79</td>\n",
       "      <td>0.081159</td>\n",
       "      <td>Lion</td>\n",
       "      <td>roar</td>\n",
       "    </tr>\n",
       "  </tbody>\n",
       "</table>\n",
       "<p>143 rows × 19 columns</p>\n",
       "</div>"
      ],
      "text/plain": [
       "                    File Name                   Source  Duration_in_Sec  \\\n",
       "0                     CL-Hiss  wildside sabrina tiktok                2   \n",
       "1                     CL-Hiss  wildside sabrina tiktok                1   \n",
       "2                     CL-Hiss  wildside sabrina tiktok                1   \n",
       "3                     CL-Hiss  wildside sabrina tiktok                1   \n",
       "4                     CL-Hiss  wildside sabrina tiktok                1   \n",
       "..                        ...                      ...              ...   \n",
       "138  Lion Roaring Sequence_17                  YouTube               40   \n",
       "139  Lion Roaring Sequence_18                  YouTube               45   \n",
       "140  Lion Roaring Sequence_18                  YouTube               17   \n",
       "141  Lion Roaring Sequence_19                  YouTube               19   \n",
       "142  Lion Roaring Sequence_19                  YouTube               41   \n",
       "\n",
       "     Zero_Crossings  Amp_range   Avg_amp    Freq_range  Pulses_per_Sec  \\\n",
       "0              3052   0.068885  0.006089   3921.000000      404.500000   \n",
       "1              1649   0.067508  0.008768   2364.000000      546.000000   \n",
       "2              1265   0.177508  0.009763   2137.000000      461.000000   \n",
       "3              2671   0.047844  0.007377   4015.000000      987.000000   \n",
       "4              1744   0.063522  0.007763   2487.000000      628.000000   \n",
       "..              ...        ...       ...           ...             ...   \n",
       "138           22436   0.652970  0.073732  10092.625000      295.250000   \n",
       "139          127303   1.039453  0.117559  10681.044444     1159.066667   \n",
       "140           32072   1.021872  0.181167  10494.470588      898.411765   \n",
       "141           23112   0.747216  0.123384   5462.315789      315.631579   \n",
       "142          101920   0.770082  0.066351   5470.756098      490.878049   \n",
       "\n",
       "     Mean_MFCC  Mean_Spectral Rolloff  Mean_Melspectrogram  \\\n",
       "0    -7.268548            3364.872373             0.019104   \n",
       "1    -6.702535            3613.418302             0.033583   \n",
       "2    -6.511350            2918.727805             0.061539   \n",
       "3    -6.980524            3696.125377             0.018213   \n",
       "4    -5.948235            3509.912109             0.021703   \n",
       "..         ...                    ...                  ...   \n",
       "138  -4.387553            1458.415228             3.050521   \n",
       "139  -5.522057            4116.969550            12.378446   \n",
       "140  -3.991339            3033.963691            24.540840   \n",
       "141  -5.297592            2002.811373             9.278934   \n",
       "142  -5.330621            3146.517969             5.418606   \n",
       "\n",
       "     Mean_Spectral Contrast  Mean_Chromagram  Mean_Tempogram  Mean_Tonnetz  \\\n",
       "0                 19.925640         0.810778        0.160065     -0.001847   \n",
       "1                 19.957274         0.821026        0.126885     -0.003948   \n",
       "2                 20.534935         0.800632        0.156785     -0.021016   \n",
       "3                 20.329560         0.823546        0.140679     -0.011690   \n",
       "4                 20.561726         0.807700        0.144186     -0.013389   \n",
       "..                      ...              ...             ...           ...   \n",
       "138               20.184006         0.580697        0.190296     -0.000172   \n",
       "139               20.695561         0.593314        0.184751      0.001714   \n",
       "140               20.218510         0.616647        0.182995     -0.004780   \n",
       "141               21.174380         0.515771        0.224227      0.006657   \n",
       "142               19.120536         0.744117        0.200815     -0.008008   \n",
       "\n",
       "     Partials  Mean RMS          Species  Call  \n",
       "0           3  0.007630  Clouded leopard  hiss  \n",
       "1           3  0.010948  Clouded leopard  hiss  \n",
       "2           2  0.012784  Clouded leopard  hiss  \n",
       "3           3  0.009123  Clouded leopard  hiss  \n",
       "4           2  0.009595  Clouded leopard  hiss  \n",
       "..        ...       ...              ...   ...  \n",
       "138        85  0.088674             Lion  roar  \n",
       "139       139  0.141392             Lion  roar  \n",
       "140        98  0.219604             Lion  roar  \n",
       "141        38  0.142555             Lion  roar  \n",
       "142        79  0.081159             Lion  roar  \n",
       "\n",
       "[143 rows x 19 columns]"
      ]
     },
     "execution_count": 2,
     "metadata": {},
     "output_type": "execute_result"
    }
   ],
   "source": [
    "df_raw = pd.read_csv('features_cleaned_not_standardized.csv').drop(['Sex','Age'], axis=1)\n",
    "df_raw"
   ]
  },
  {
   "cell_type": "code",
   "execution_count": 3,
   "metadata": {},
   "outputs": [
    {
     "name": "stdout",
     "output_type": "stream",
     "text": [
      "<class 'pandas.core.frame.DataFrame'>\n",
      "Int64Index: 125 entries, 6 to 142\n",
      "Data columns (total 19 columns):\n",
      " #   Column                  Non-Null Count  Dtype  \n",
      "---  ------                  --------------  -----  \n",
      " 0   File Name               125 non-null    object \n",
      " 1   Source                  125 non-null    object \n",
      " 2   Duration_in_Sec         125 non-null    int64  \n",
      " 3   Zero_Crossings          125 non-null    int64  \n",
      " 4   Amp_range               125 non-null    float64\n",
      " 5   Avg_amp                 125 non-null    float64\n",
      " 6   Freq_range              125 non-null    float64\n",
      " 7   Pulses_per_Sec          125 non-null    float64\n",
      " 8   Mean_MFCC               125 non-null    float64\n",
      " 9   Mean_Spectral Rolloff   125 non-null    float64\n",
      " 10  Mean_Melspectrogram     125 non-null    float64\n",
      " 11  Mean_Spectral Contrast  125 non-null    float64\n",
      " 12  Mean_Chromagram         125 non-null    float64\n",
      " 13  Mean_Tempogram          125 non-null    float64\n",
      " 14  Mean_Tonnetz            125 non-null    float64\n",
      " 15  Partials                125 non-null    int64  \n",
      " 16  Mean RMS                125 non-null    float64\n",
      " 17  Species                 125 non-null    object \n",
      " 18  Call                    125 non-null    object \n",
      "dtypes: float64(12), int64(3), object(4)\n",
      "memory usage: 19.5+ KB\n"
     ]
    }
   ],
   "source": [
    "\"Pull records containing 'Clouded leopard','Jaguar','Leopard','Lion' but not Snow Leopard due to unbalanced data\"\n",
    "\n",
    "df_raw = df_raw[df_raw.Species.isin(['Clouded leopard','Jaguar','Leopard','Lion'])]\n",
    "\n",
    "\"Remove records with mew, hiss, puff\"\n",
    "df_raw = df_raw[df_raw.Call.isin(['roar','prusten','growl'])]\n",
    "\n",
    "df_raw.info()"
   ]
  },
  {
   "cell_type": "code",
   "execution_count": 4,
   "metadata": {},
   "outputs": [],
   "source": [
    "df_raw.groupby('Call').describe().to_csv('Table for journal2.csv')"
   ]
  },
  {
   "cell_type": "code",
   "execution_count": 5,
   "metadata": {},
   "outputs": [
    {
     "data": {
      "text/html": [
       "<div>\n",
       "<style scoped>\n",
       "    .dataframe tbody tr th:only-of-type {\n",
       "        vertical-align: middle;\n",
       "    }\n",
       "\n",
       "    .dataframe tbody tr th {\n",
       "        vertical-align: top;\n",
       "    }\n",
       "\n",
       "    .dataframe thead th {\n",
       "        text-align: right;\n",
       "    }\n",
       "</style>\n",
       "<table border=\"1\" class=\"dataframe\">\n",
       "  <thead>\n",
       "    <tr style=\"text-align: right;\">\n",
       "      <th></th>\n",
       "      <th>File Name</th>\n",
       "      <th>Duration_in_Sec</th>\n",
       "      <th>Zero_Crossings</th>\n",
       "      <th>Amp_range</th>\n",
       "      <th>Avg_amp</th>\n",
       "      <th>Freq_range</th>\n",
       "      <th>Pulses_per_Sec</th>\n",
       "      <th>Mean_MFCC</th>\n",
       "      <th>Mean_Spectral Rolloff</th>\n",
       "      <th>Mean_Melspectrogram</th>\n",
       "      <th>Mean_Spectral Contrast</th>\n",
       "      <th>Mean_Chromagram</th>\n",
       "      <th>Mean_Tempogram</th>\n",
       "      <th>Mean_Tonnetz</th>\n",
       "      <th>Partials</th>\n",
       "      <th>Mean RMS</th>\n",
       "      <th>Sex</th>\n",
       "      <th>Age</th>\n",
       "      <th>Species</th>\n",
       "      <th>Call</th>\n",
       "    </tr>\n",
       "  </thead>\n",
       "  <tbody>\n",
       "    <tr>\n",
       "      <th>0</th>\n",
       "      <td>Acinonyx_jubatus_S0612_02</td>\n",
       "      <td>-0.605682</td>\n",
       "      <td>-0.601727</td>\n",
       "      <td>-0.652219</td>\n",
       "      <td>-0.302150</td>\n",
       "      <td>-1.253581</td>\n",
       "      <td>-0.627236</td>\n",
       "      <td>0.821527</td>\n",
       "      <td>-1.137651</td>\n",
       "      <td>-0.238886</td>\n",
       "      <td>-0.135234</td>\n",
       "      <td>0.330343</td>\n",
       "      <td>-0.822152</td>\n",
       "      <td>-0.922610</td>\n",
       "      <td>-0.424178</td>\n",
       "      <td>-0.316481</td>\n",
       "      <td>Unknown</td>\n",
       "      <td>Adult</td>\n",
       "      <td>A. jubatus</td>\n",
       "      <td>growl</td>\n",
       "    </tr>\n",
       "    <tr>\n",
       "      <th>1</th>\n",
       "      <td>Acinonyx_jubatus_S0612_02</td>\n",
       "      <td>-0.218505</td>\n",
       "      <td>-0.430594</td>\n",
       "      <td>0.216786</td>\n",
       "      <td>0.373251</td>\n",
       "      <td>-0.399175</td>\n",
       "      <td>-0.335683</td>\n",
       "      <td>1.097614</td>\n",
       "      <td>-1.213548</td>\n",
       "      <td>-0.057318</td>\n",
       "      <td>0.016933</td>\n",
       "      <td>-0.257340</td>\n",
       "      <td>-0.923002</td>\n",
       "      <td>-0.954407</td>\n",
       "      <td>0.291424</td>\n",
       "      <td>0.336062</td>\n",
       "      <td>Unknown</td>\n",
       "      <td>Adult</td>\n",
       "      <td>A. jubatus</td>\n",
       "      <td>NaN</td>\n",
       "    </tr>\n",
       "    <tr>\n",
       "      <th>2</th>\n",
       "      <td>Acinonyx_jubatus_S0612_02</td>\n",
       "      <td>-0.089447</td>\n",
       "      <td>-0.459967</td>\n",
       "      <td>-0.291151</td>\n",
       "      <td>-0.061413</td>\n",
       "      <td>-0.846215</td>\n",
       "      <td>-0.557911</td>\n",
       "      <td>0.953337</td>\n",
       "      <td>-1.400217</td>\n",
       "      <td>-0.199837</td>\n",
       "      <td>0.124721</td>\n",
       "      <td>-0.458477</td>\n",
       "      <td>0.787031</td>\n",
       "      <td>0.254189</td>\n",
       "      <td>-0.198198</td>\n",
       "      <td>-0.072508</td>\n",
       "      <td>Unknown</td>\n",
       "      <td>Adult</td>\n",
       "      <td>A. jubatus</td>\n",
       "      <td>growl</td>\n",
       "    </tr>\n",
       "    <tr>\n",
       "      <th>3</th>\n",
       "      <td>Acinonyx_jubatus_S0612_02</td>\n",
       "      <td>-0.089447</td>\n",
       "      <td>-0.452250</td>\n",
       "      <td>0.002743</td>\n",
       "      <td>-0.038130</td>\n",
       "      <td>-0.462855</td>\n",
       "      <td>-0.548667</td>\n",
       "      <td>0.877752</td>\n",
       "      <td>-1.300183</td>\n",
       "      <td>-0.177357</td>\n",
       "      <td>-0.141480</td>\n",
       "      <td>0.296804</td>\n",
       "      <td>-0.309274</td>\n",
       "      <td>0.091535</td>\n",
       "      <td>-0.085208</td>\n",
       "      <td>-0.066355</td>\n",
       "      <td>Unknown</td>\n",
       "      <td>Adult</td>\n",
       "      <td>A. jubatus</td>\n",
       "      <td>NaN</td>\n",
       "    </tr>\n",
       "    <tr>\n",
       "      <th>4</th>\n",
       "      <td>Acinonyx_jubatus_S0612_02</td>\n",
       "      <td>-0.347564</td>\n",
       "      <td>-0.526242</td>\n",
       "      <td>-0.198208</td>\n",
       "      <td>0.159550</td>\n",
       "      <td>-0.844016</td>\n",
       "      <td>-0.522477</td>\n",
       "      <td>0.980334</td>\n",
       "      <td>-1.435716</td>\n",
       "      <td>-0.145668</td>\n",
       "      <td>0.202517</td>\n",
       "      <td>-0.817708</td>\n",
       "      <td>0.473492</td>\n",
       "      <td>-0.100777</td>\n",
       "      <td>-0.311188</td>\n",
       "      <td>0.152876</td>\n",
       "      <td>Unknown</td>\n",
       "      <td>Adult</td>\n",
       "      <td>A. jubatus</td>\n",
       "      <td>growl</td>\n",
       "    </tr>\n",
       "    <tr>\n",
       "      <th>...</th>\n",
       "      <td>...</td>\n",
       "      <td>...</td>\n",
       "      <td>...</td>\n",
       "      <td>...</td>\n",
       "      <td>...</td>\n",
       "      <td>...</td>\n",
       "      <td>...</td>\n",
       "      <td>...</td>\n",
       "      <td>...</td>\n",
       "      <td>...</td>\n",
       "      <td>...</td>\n",
       "      <td>...</td>\n",
       "      <td>...</td>\n",
       "      <td>...</td>\n",
       "      <td>...</td>\n",
       "      <td>...</td>\n",
       "      <td>...</td>\n",
       "      <td>...</td>\n",
       "      <td>...</td>\n",
       "      <td>...</td>\n",
       "    </tr>\n",
       "    <tr>\n",
       "      <th>601</th>\n",
       "      <td>Lion Roaring Sequence_17</td>\n",
       "      <td>4.427611</td>\n",
       "      <td>0.750531</td>\n",
       "      <td>1.670677</td>\n",
       "      <td>1.695678</td>\n",
       "      <td>1.569890</td>\n",
       "      <td>-0.577553</td>\n",
       "      <td>0.458927</td>\n",
       "      <td>-1.172240</td>\n",
       "      <td>0.782396</td>\n",
       "      <td>1.185597</td>\n",
       "      <td>-1.401070</td>\n",
       "      <td>0.418225</td>\n",
       "      <td>-0.234203</td>\n",
       "      <td>2.701873</td>\n",
       "      <td>1.566768</td>\n",
       "      <td>Male</td>\n",
       "      <td>Adult</td>\n",
       "      <td>Lion</td>\n",
       "      <td>roar</td>\n",
       "    </tr>\n",
       "    <tr>\n",
       "      <th>602</th>\n",
       "      <td>Lion Roaring Sequence_18</td>\n",
       "      <td>5.072905</td>\n",
       "      <td>7.276403</td>\n",
       "      <td>3.246647</td>\n",
       "      <td>3.211052</td>\n",
       "      <td>1.749604</td>\n",
       "      <td>0.753217</td>\n",
       "      <td>0.090813</td>\n",
       "      <td>0.185017</td>\n",
       "      <td>4.013036</td>\n",
       "      <td>1.545689</td>\n",
       "      <td>-1.258973</td>\n",
       "      <td>0.323122</td>\n",
       "      <td>-0.085715</td>\n",
       "      <td>4.735690</td>\n",
       "      <td>3.009221</td>\n",
       "      <td>Male</td>\n",
       "      <td>Adult</td>\n",
       "      <td>Lion</td>\n",
       "      <td>roar</td>\n",
       "    </tr>\n",
       "    <tr>\n",
       "      <th>603</th>\n",
       "      <td>Lion Roaring Sequence_18</td>\n",
       "      <td>1.459259</td>\n",
       "      <td>1.350179</td>\n",
       "      <td>3.174955</td>\n",
       "      <td>5.410373</td>\n",
       "      <td>1.692621</td>\n",
       "      <td>0.351660</td>\n",
       "      <td>0.587486</td>\n",
       "      <td>-0.367884</td>\n",
       "      <td>8.225368</td>\n",
       "      <td>1.209885</td>\n",
       "      <td>-0.996199</td>\n",
       "      <td>0.293001</td>\n",
       "      <td>-0.597020</td>\n",
       "      <td>3.191496</td>\n",
       "      <td>5.149242</td>\n",
       "      <td>Male</td>\n",
       "      <td>Adult</td>\n",
       "      <td>Lion</td>\n",
       "      <td>roar</td>\n",
       "    </tr>\n",
       "    <tr>\n",
       "      <th>604</th>\n",
       "      <td>Lion Roaring Sequence_19</td>\n",
       "      <td>1.717376</td>\n",
       "      <td>0.792598</td>\n",
       "      <td>2.054986</td>\n",
       "      <td>3.412455</td>\n",
       "      <td>0.155712</td>\n",
       "      <td>-0.546154</td>\n",
       "      <td>0.163645</td>\n",
       "      <td>-0.894312</td>\n",
       "      <td>2.939548</td>\n",
       "      <td>1.882738</td>\n",
       "      <td>-2.132262</td>\n",
       "      <td>1.000131</td>\n",
       "      <td>0.303535</td>\n",
       "      <td>0.931700</td>\n",
       "      <td>3.041052</td>\n",
       "      <td>Male</td>\n",
       "      <td>Adult</td>\n",
       "      <td>Lion</td>\n",
       "      <td>roar</td>\n",
       "    </tr>\n",
       "    <tr>\n",
       "      <th>605</th>\n",
       "      <td>Lion Roaring Sequence_19</td>\n",
       "      <td>4.556670</td>\n",
       "      <td>5.696819</td>\n",
       "      <td>2.148230</td>\n",
       "      <td>1.440493</td>\n",
       "      <td>0.158290</td>\n",
       "      <td>-0.276174</td>\n",
       "      <td>0.152928</td>\n",
       "      <td>-0.310422</td>\n",
       "      <td>1.602560</td>\n",
       "      <td>0.437002</td>\n",
       "      <td>0.439353</td>\n",
       "      <td>0.598617</td>\n",
       "      <td>-0.851177</td>\n",
       "      <td>2.475894</td>\n",
       "      <td>1.361157</td>\n",
       "      <td>Male</td>\n",
       "      <td>Adult</td>\n",
       "      <td>Lion</td>\n",
       "      <td>roar</td>\n",
       "    </tr>\n",
       "  </tbody>\n",
       "</table>\n",
       "<p>606 rows × 20 columns</p>\n",
       "</div>"
      ],
      "text/plain": [
       "                     File Name  Duration_in_Sec  Zero_Crossings  Amp_range  \\\n",
       "0    Acinonyx_jubatus_S0612_02        -0.605682       -0.601727  -0.652219   \n",
       "1    Acinonyx_jubatus_S0612_02        -0.218505       -0.430594   0.216786   \n",
       "2    Acinonyx_jubatus_S0612_02        -0.089447       -0.459967  -0.291151   \n",
       "3    Acinonyx_jubatus_S0612_02        -0.089447       -0.452250   0.002743   \n",
       "4    Acinonyx_jubatus_S0612_02        -0.347564       -0.526242  -0.198208   \n",
       "..                         ...              ...             ...        ...   \n",
       "601   Lion Roaring Sequence_17         4.427611        0.750531   1.670677   \n",
       "602   Lion Roaring Sequence_18         5.072905        7.276403   3.246647   \n",
       "603   Lion Roaring Sequence_18         1.459259        1.350179   3.174955   \n",
       "604   Lion Roaring Sequence_19         1.717376        0.792598   2.054986   \n",
       "605   Lion Roaring Sequence_19         4.556670        5.696819   2.148230   \n",
       "\n",
       "      Avg_amp  Freq_range  Pulses_per_Sec  Mean_MFCC  Mean_Spectral Rolloff  \\\n",
       "0   -0.302150   -1.253581       -0.627236   0.821527              -1.137651   \n",
       "1    0.373251   -0.399175       -0.335683   1.097614              -1.213548   \n",
       "2   -0.061413   -0.846215       -0.557911   0.953337              -1.400217   \n",
       "3   -0.038130   -0.462855       -0.548667   0.877752              -1.300183   \n",
       "4    0.159550   -0.844016       -0.522477   0.980334              -1.435716   \n",
       "..        ...         ...             ...        ...                    ...   \n",
       "601  1.695678    1.569890       -0.577553   0.458927              -1.172240   \n",
       "602  3.211052    1.749604        0.753217   0.090813               0.185017   \n",
       "603  5.410373    1.692621        0.351660   0.587486              -0.367884   \n",
       "604  3.412455    0.155712       -0.546154   0.163645              -0.894312   \n",
       "605  1.440493    0.158290       -0.276174   0.152928              -0.310422   \n",
       "\n",
       "     Mean_Melspectrogram  Mean_Spectral Contrast  Mean_Chromagram  \\\n",
       "0              -0.238886               -0.135234         0.330343   \n",
       "1              -0.057318                0.016933        -0.257340   \n",
       "2              -0.199837                0.124721        -0.458477   \n",
       "3              -0.177357               -0.141480         0.296804   \n",
       "4              -0.145668                0.202517        -0.817708   \n",
       "..                   ...                     ...              ...   \n",
       "601             0.782396                1.185597        -1.401070   \n",
       "602             4.013036                1.545689        -1.258973   \n",
       "603             8.225368                1.209885        -0.996199   \n",
       "604             2.939548                1.882738        -2.132262   \n",
       "605             1.602560                0.437002         0.439353   \n",
       "\n",
       "     Mean_Tempogram  Mean_Tonnetz  Partials  Mean RMS      Sex    Age  \\\n",
       "0         -0.822152     -0.922610 -0.424178 -0.316481  Unknown  Adult   \n",
       "1         -0.923002     -0.954407  0.291424  0.336062  Unknown  Adult   \n",
       "2          0.787031      0.254189 -0.198198 -0.072508  Unknown  Adult   \n",
       "3         -0.309274      0.091535 -0.085208 -0.066355  Unknown  Adult   \n",
       "4          0.473492     -0.100777 -0.311188  0.152876  Unknown  Adult   \n",
       "..              ...           ...       ...       ...      ...    ...   \n",
       "601        0.418225     -0.234203  2.701873  1.566768     Male  Adult   \n",
       "602        0.323122     -0.085715  4.735690  3.009221     Male  Adult   \n",
       "603        0.293001     -0.597020  3.191496  5.149242     Male  Adult   \n",
       "604        1.000131      0.303535  0.931700  3.041052     Male  Adult   \n",
       "605        0.598617     -0.851177  2.475894  1.361157     Male  Adult   \n",
       "\n",
       "        Species   Call  \n",
       "0    A. jubatus  growl  \n",
       "1    A. jubatus    NaN  \n",
       "2    A. jubatus  growl  \n",
       "3    A. jubatus    NaN  \n",
       "4    A. jubatus  growl  \n",
       "..          ...    ...  \n",
       "601        Lion   roar  \n",
       "602        Lion   roar  \n",
       "603        Lion   roar  \n",
       "604        Lion   roar  \n",
       "605        Lion   roar  \n",
       "\n",
       "[606 rows x 20 columns]"
      ]
     },
     "execution_count": 5,
     "metadata": {},
     "output_type": "execute_result"
    }
   ],
   "source": [
    "df = pd.read_csv('features_cleaned2.csv')\n",
    "df"
   ]
  },
  {
   "cell_type": "code",
   "execution_count": 6,
   "metadata": {},
   "outputs": [
    {
     "data": {
      "text/plain": [
       "(606, 20)"
      ]
     },
     "execution_count": 6,
     "metadata": {},
     "output_type": "execute_result"
    }
   ],
   "source": [
    "df.shape"
   ]
  },
  {
   "cell_type": "code",
   "execution_count": 7,
   "metadata": {},
   "outputs": [],
   "source": [
    "\"Pull records containing 'Clouded leopard','Jaguar','Leopard','Lion' but not Snow Leopard due to unbalanced data\"\n",
    "\n",
    "df = df[df.Species.isin(['Clouded leopard','Jaguar','Leopard','Lion'])]\n",
    "\n",
    "\"Remove records with mew, hiss, puff\"\n",
    "df = df[df.Call.isin(['roar','prusten','growl'])]"
   ]
  },
  {
   "cell_type": "code",
   "execution_count": 8,
   "metadata": {},
   "outputs": [
    {
     "data": {
      "text/plain": [
       "(125, 20)"
      ]
     },
     "execution_count": 8,
     "metadata": {},
     "output_type": "execute_result"
    }
   ],
   "source": [
    "df.shape"
   ]
  },
  {
   "cell_type": "markdown",
   "metadata": {},
   "source": [
    "l= ['Duration_in_Sec', 'Zero_Crossings', 'Amp_range',\n",
    "       'Avg_amp', 'Freq_range', 'Pulses_per_Sec', 'Mean_MFCC',\n",
    "       'Mean_Spectral Rolloff', 'Mean_Melspectrogram',\n",
    "       'Mean_Spectral Contrast', 'Mean_Chromagram', 'Mean_Tempogram',\n",
    "       'Mean_Tonnetz', 'Partials','Mean RMS']\n",
    "\n",
    "plt.figure(figsize=(25,30))\n",
    "for i in range(len(l)):\n",
    "    plt.subplot(8,2,i+1)\n",
    "    sns.scatterplot(df[l[i]], df['Species'], hue=df['Call'], legend='brief', palette='deep') \n",
    "plt.savefig('Species Clusters By Features.pdf')\n",
    "plt.show()"
   ]
  },
  {
   "cell_type": "markdown",
   "metadata": {},
   "source": [
    "l= ['Duration_in_Sec', 'Zero_Crossings', 'Amp_range',\n",
    "       'Avg_amp', 'Freq_range', 'Pulses_per_Sec', 'Mean_MFCC',\n",
    "       'Mean_Spectral Rolloff', 'Mean_Melspectrogram',\n",
    "       'Mean_Spectral Contrast', 'Mean_Chromagram', 'Mean_Tempogram',\n",
    "       'Mean_Tonnetz', 'Partials','Mean RMS']\n",
    "\n",
    "plt.figure(figsize=(25,30))\n",
    "for i in range(len(l)):\n",
    "    plt.subplot(8,2,i+1)\n",
    "    sns.scatterplot(df[l[i]], df['Call'], hue=df['Species'], legend='brief', palette='deep') \n",
    "plt.savefig('Call Clusters By Features.pdf')\n",
    "plt.show()"
   ]
  },
  {
   "cell_type": "code",
   "execution_count": 9,
   "metadata": {},
   "outputs": [
    {
     "data": {
      "text/plain": [
       "Index(['File Name', 'Duration_in_Sec', 'Zero_Crossings', 'Amp_range',\n",
       "       'Avg_amp', 'Freq_range', 'Pulses_per_Sec', 'Mean_MFCC',\n",
       "       'Mean_Spectral Rolloff', 'Mean_Melspectrogram',\n",
       "       'Mean_Spectral Contrast', 'Mean_Chromagram', 'Mean_Tempogram',\n",
       "       'Mean_Tonnetz', 'Partials', 'Mean RMS', 'Sex', 'Age', 'Species',\n",
       "       'Call'],\n",
       "      dtype='object')"
      ]
     },
     "execution_count": 9,
     "metadata": {},
     "output_type": "execute_result"
    }
   ],
   "source": [
    "df.columns"
   ]
  },
  {
   "cell_type": "code",
   "execution_count": 10,
   "metadata": {},
   "outputs": [],
   "source": [
    "X = df[pd.notnull(df['Call'])][['Duration_in_Sec','Zero_Crossings', 'Amp_range',\n",
    "       'Avg_amp', 'Freq_range', 'Pulses_per_Sec', 'Mean_MFCC',\n",
    "       'Mean_Spectral Rolloff', 'Mean_Melspectrogram',\n",
    "       'Mean_Spectral Contrast', 'Mean_Chromagram', 'Mean_Tempogram', 'Mean RMS']]\n",
    "y = df[pd.notnull(df['Call'])][['Call','Species']]"
   ]
  },
  {
   "cell_type": "code",
   "execution_count": 11,
   "metadata": {},
   "outputs": [],
   "source": [
    "X_train, X_test, y_train, y_test = train_test_split(X, y, test_size = 0.30, random_state=42)"
   ]
  },
  {
   "cell_type": "code",
   "execution_count": 12,
   "metadata": {
    "scrolled": true
   },
   "outputs": [
    {
     "name": "stdout",
     "output_type": "stream",
     "text": [
      "(87, 13)\n",
      "(38, 13)\n",
      "(87, 2)\n",
      "(38, 2)\n"
     ]
    }
   ],
   "source": [
    "print(X_train.shape)\n",
    "print(X_test.shape)\n",
    "print(y_train.shape)\n",
    "print(y_test.shape)"
   ]
  },
  {
   "cell_type": "code",
   "execution_count": 13,
   "metadata": {},
   "outputs": [
    {
     "name": "stdout",
     "output_type": "stream",
     "text": [
      "Total Call Values\n",
      "roar       65\n",
      "prusten    40\n",
      "growl      20\n",
      "Name: Call, dtype: int64\n",
      "\n",
      "\n",
      "Call values for Training\n",
      "roar       46\n",
      "prusten    26\n",
      "growl      15\n",
      "Name: Call, dtype: int64\n",
      "\n",
      "\n",
      "Call values for Testing\n",
      "roar       19\n",
      "prusten    14\n",
      "growl       5\n",
      "Name: Call, dtype: int64\n"
     ]
    }
   ],
   "source": [
    "print('Total Call Values')\n",
    "print(df['Call'].value_counts())\n",
    "print('\\n')\n",
    "print('Call values for Training')\n",
    "print(y_train.Call.value_counts())\n",
    "print('\\n')\n",
    "print('Call values for Testing')\n",
    "print(y_test.Call.value_counts())"
   ]
  },
  {
   "cell_type": "code",
   "execution_count": 14,
   "metadata": {},
   "outputs": [
    {
     "name": "stdout",
     "output_type": "stream",
     "text": [
      "Calls trained for but not tested for\n",
      "set()\n",
      "Calls test for but not trained for\n",
      "set()\n"
     ]
    }
   ],
   "source": [
    "print('Calls trained for but not tested for')\n",
    "print(set(np.unique(y_train.Call))-set(np.unique(y_test.Call)))\n",
    "print('Calls test for but not trained for')\n",
    "print(set(np.unique(y_test.Call))-set(np.unique(y_train.Call)))"
   ]
  },
  {
   "cell_type": "code",
   "execution_count": 15,
   "metadata": {},
   "outputs": [
    {
     "name": "stdout",
     "output_type": "stream",
     "text": [
      "Total Species values\n",
      "Leopard            41\n",
      "Lion               33\n",
      "Clouded leopard    29\n",
      "Jaguar             22\n",
      "Name: Species, dtype: int64\n",
      "\n",
      "\n",
      "Species values for Training\n",
      "Leopard            30\n",
      "Lion               25\n",
      "Clouded leopard    17\n",
      "Jaguar             15\n",
      "Name: Species, dtype: int64\n",
      "\n",
      "\n",
      "Species values for Testing\n",
      "Clouded leopard    12\n",
      "Leopard            11\n",
      "Lion                8\n",
      "Jaguar              7\n",
      "Name: Species, dtype: int64\n"
     ]
    }
   ],
   "source": [
    "print('Total Species values')\n",
    "print(df['Species'].value_counts())\n",
    "print('\\n')\n",
    "print('Species values for Training')\n",
    "print(y_train.Species.value_counts())\n",
    "print('\\n')\n",
    "print('Species values for Testing')\n",
    "print(y_test.Species.value_counts())"
   ]
  },
  {
   "cell_type": "code",
   "execution_count": 16,
   "metadata": {},
   "outputs": [
    {
     "name": "stdout",
     "output_type": "stream",
     "text": [
      "Species trained for but not tested for\n",
      "set()\n",
      "Species test for but not trained for\n",
      "set()\n"
     ]
    }
   ],
   "source": [
    "print('Species trained for but not tested for')\n",
    "print(set(np.unique(y_train.Species))-set(np.unique(y_test.Species)))\n",
    "print('Species test for but not trained for')\n",
    "print(set(np.unique(y_test.Species))-set(np.unique(y_train.Species)))"
   ]
  },
  {
   "cell_type": "markdown",
   "metadata": {},
   "source": [
    "# Vocalization Classification"
   ]
  },
  {
   "cell_type": "markdown",
   "metadata": {},
   "source": [
    "## Splitting data"
   ]
  },
  {
   "cell_type": "code",
   "execution_count": 17,
   "metadata": {},
   "outputs": [],
   "source": [
    "y_train_call = y_train.Call\n",
    "y_test_call = y_test.Call"
   ]
  },
  {
   "cell_type": "markdown",
   "metadata": {},
   "source": [
    "## XGBoost Classifier"
   ]
  },
  {
   "cell_type": "code",
   "execution_count": 18,
   "metadata": {},
   "outputs": [],
   "source": [
    "parameters = dict(\n",
    "    objective='multi:softprob',\n",
    "    random_state = 42,\n",
    "    max_depth=9,\n",
    "    learning_rate=0.01,\n",
    "    subsample=0.8,\n",
    "    colsample_bytree=0.4,\n",
    "    tree_method='gpu_hist')\n",
    "#eval_metric='mlogloss'\n",
    "\n",
    "clf1 = XGBClassifier(n_estimators=1200)"
   ]
  },
  {
   "cell_type": "code",
   "execution_count": 19,
   "metadata": {},
   "outputs": [
    {
     "name": "stdout",
     "output_type": "stream",
     "text": [
      "[21:25:48] WARNING: C:/Users/Administrator/workspace/xgboost-win64_release_1.4.0/src/learner.cc:1095: Starting in XGBoost 1.3.0, the default evaluation metric used with the objective 'multi:softprob' was changed from 'merror' to 'mlogloss'. Explicitly set eval_metric if you'd like to restore the old behavior.\n"
     ]
    },
    {
     "data": {
      "text/html": [
       "<style>#sk-container-id-1 {color: black;background-color: white;}#sk-container-id-1 pre{padding: 0;}#sk-container-id-1 div.sk-toggleable {background-color: white;}#sk-container-id-1 label.sk-toggleable__label {cursor: pointer;display: block;width: 100%;margin-bottom: 0;padding: 0.3em;box-sizing: border-box;text-align: center;}#sk-container-id-1 label.sk-toggleable__label-arrow:before {content: \"▸\";float: left;margin-right: 0.25em;color: #696969;}#sk-container-id-1 label.sk-toggleable__label-arrow:hover:before {color: black;}#sk-container-id-1 div.sk-estimator:hover label.sk-toggleable__label-arrow:before {color: black;}#sk-container-id-1 div.sk-toggleable__content {max-height: 0;max-width: 0;overflow: hidden;text-align: left;background-color: #f0f8ff;}#sk-container-id-1 div.sk-toggleable__content pre {margin: 0.2em;color: black;border-radius: 0.25em;background-color: #f0f8ff;}#sk-container-id-1 input.sk-toggleable__control:checked~div.sk-toggleable__content {max-height: 200px;max-width: 100%;overflow: auto;}#sk-container-id-1 input.sk-toggleable__control:checked~label.sk-toggleable__label-arrow:before {content: \"▾\";}#sk-container-id-1 div.sk-estimator input.sk-toggleable__control:checked~label.sk-toggleable__label {background-color: #d4ebff;}#sk-container-id-1 div.sk-label input.sk-toggleable__control:checked~label.sk-toggleable__label {background-color: #d4ebff;}#sk-container-id-1 input.sk-hidden--visually {border: 0;clip: rect(1px 1px 1px 1px);clip: rect(1px, 1px, 1px, 1px);height: 1px;margin: -1px;overflow: hidden;padding: 0;position: absolute;width: 1px;}#sk-container-id-1 div.sk-estimator {font-family: monospace;background-color: #f0f8ff;border: 1px dotted black;border-radius: 0.25em;box-sizing: border-box;margin-bottom: 0.5em;}#sk-container-id-1 div.sk-estimator:hover {background-color: #d4ebff;}#sk-container-id-1 div.sk-parallel-item::after {content: \"\";width: 100%;border-bottom: 1px solid gray;flex-grow: 1;}#sk-container-id-1 div.sk-label:hover label.sk-toggleable__label {background-color: #d4ebff;}#sk-container-id-1 div.sk-serial::before {content: \"\";position: absolute;border-left: 1px solid gray;box-sizing: border-box;top: 0;bottom: 0;left: 50%;z-index: 0;}#sk-container-id-1 div.sk-serial {display: flex;flex-direction: column;align-items: center;background-color: white;padding-right: 0.2em;padding-left: 0.2em;position: relative;}#sk-container-id-1 div.sk-item {position: relative;z-index: 1;}#sk-container-id-1 div.sk-parallel {display: flex;align-items: stretch;justify-content: center;background-color: white;position: relative;}#sk-container-id-1 div.sk-item::before, #sk-container-id-1 div.sk-parallel-item::before {content: \"\";position: absolute;border-left: 1px solid gray;box-sizing: border-box;top: 0;bottom: 0;left: 50%;z-index: -1;}#sk-container-id-1 div.sk-parallel-item {display: flex;flex-direction: column;z-index: 1;position: relative;background-color: white;}#sk-container-id-1 div.sk-parallel-item:first-child::after {align-self: flex-end;width: 50%;}#sk-container-id-1 div.sk-parallel-item:last-child::after {align-self: flex-start;width: 50%;}#sk-container-id-1 div.sk-parallel-item:only-child::after {width: 0;}#sk-container-id-1 div.sk-dashed-wrapped {border: 1px dashed gray;margin: 0 0.4em 0.5em 0.4em;box-sizing: border-box;padding-bottom: 0.4em;background-color: white;}#sk-container-id-1 div.sk-label label {font-family: monospace;font-weight: bold;display: inline-block;line-height: 1.2em;}#sk-container-id-1 div.sk-label-container {text-align: center;}#sk-container-id-1 div.sk-container {/* jupyter's `normalize.less` sets `[hidden] { display: none; }` but bootstrap.min.css set `[hidden] { display: none !important; }` so we also need the `!important` here to be able to override the default hidden behavior on the sphinx rendered scikit-learn.org. See: https://github.com/scikit-learn/scikit-learn/issues/21755 */display: inline-block !important;position: relative;}#sk-container-id-1 div.sk-text-repr-fallback {display: none;}</style><div id=\"sk-container-id-1\" class=\"sk-top-container\"><div class=\"sk-text-repr-fallback\"><pre>XGBClassifier(base_score=0.5, booster=&#x27;gbtree&#x27;, colsample_bylevel=1,\n",
       "              colsample_bynode=1, colsample_bytree=1, gamma=0, gpu_id=-1,\n",
       "              importance_type=&#x27;gain&#x27;, interaction_constraints=&#x27;&#x27;,\n",
       "              learning_rate=0.300000012, max_delta_step=0, max_depth=6,\n",
       "              min_child_weight=1, missing=nan, monotone_constraints=&#x27;()&#x27;,\n",
       "              n_estimators=1200, n_jobs=12, num_parallel_tree=1,\n",
       "              objective=&#x27;multi:softprob&#x27;, random_state=0, reg_alpha=0,\n",
       "              reg_lambda=1, scale_pos_weight=None, subsample=1,\n",
       "              tree_method=&#x27;exact&#x27;, validate_parameters=1, verbosity=None)</pre><b>In a Jupyter environment, please rerun this cell to show the HTML representation or trust the notebook. <br />On GitHub, the HTML representation is unable to render, please try loading this page with nbviewer.org.</b></div><div class=\"sk-container\" hidden><div class=\"sk-item\"><div class=\"sk-estimator sk-toggleable\"><input class=\"sk-toggleable__control sk-hidden--visually\" id=\"sk-estimator-id-1\" type=\"checkbox\" checked><label for=\"sk-estimator-id-1\" class=\"sk-toggleable__label sk-toggleable__label-arrow\">XGBClassifier</label><div class=\"sk-toggleable__content\"><pre>XGBClassifier(base_score=0.5, booster=&#x27;gbtree&#x27;, colsample_bylevel=1,\n",
       "              colsample_bynode=1, colsample_bytree=1, gamma=0, gpu_id=-1,\n",
       "              importance_type=&#x27;gain&#x27;, interaction_constraints=&#x27;&#x27;,\n",
       "              learning_rate=0.300000012, max_delta_step=0, max_depth=6,\n",
       "              min_child_weight=1, missing=nan, monotone_constraints=&#x27;()&#x27;,\n",
       "              n_estimators=1200, n_jobs=12, num_parallel_tree=1,\n",
       "              objective=&#x27;multi:softprob&#x27;, random_state=0, reg_alpha=0,\n",
       "              reg_lambda=1, scale_pos_weight=None, subsample=1,\n",
       "              tree_method=&#x27;exact&#x27;, validate_parameters=1, verbosity=None)</pre></div></div></div></div></div>"
      ],
      "text/plain": [
       "XGBClassifier(base_score=0.5, booster='gbtree', colsample_bylevel=1,\n",
       "              colsample_bynode=1, colsample_bytree=1, gamma=0, gpu_id=-1,\n",
       "              importance_type='gain', interaction_constraints='',\n",
       "              learning_rate=0.300000012, max_delta_step=0, max_depth=6,\n",
       "              min_child_weight=1, missing=nan, monotone_constraints='()',\n",
       "              n_estimators=1200, n_jobs=12, num_parallel_tree=1,\n",
       "              objective='multi:softprob', random_state=0, reg_alpha=0,\n",
       "              reg_lambda=1, scale_pos_weight=None, subsample=1,\n",
       "              tree_method='exact', validate_parameters=1, verbosity=None)"
      ]
     },
     "execution_count": 19,
     "metadata": {},
     "output_type": "execute_result"
    }
   ],
   "source": [
    "clf1.fit(X_train, y_train_call)"
   ]
  },
  {
   "cell_type": "code",
   "execution_count": 20,
   "metadata": {},
   "outputs": [
    {
     "data": {
      "text/plain": [
       "0.9210526315789473"
      ]
     },
     "execution_count": 20,
     "metadata": {},
     "output_type": "execute_result"
    }
   ],
   "source": [
    "clf1.score(X_test, y_test_call)"
   ]
  },
  {
   "cell_type": "code",
   "execution_count": 21,
   "metadata": {},
   "outputs": [],
   "source": [
    "y_clf1 = clf1.predict(X_test)\n",
    "prob_clf1 = clf1.predict_proba(X_test)"
   ]
  },
  {
   "cell_type": "code",
   "execution_count": 22,
   "metadata": {},
   "outputs": [
    {
     "name": "stdout",
     "output_type": "stream",
     "text": [
      "1. Tested Calls\n",
      "['growl' 'prusten' 'roar']\n",
      "2. Predicted Calls\n",
      "['growl' 'prusten' 'roar']\n",
      "3. Not tested for but predicted\n",
      "set()\n",
      "4. Tested for but not predicted\n",
      "set()\n"
     ]
    }
   ],
   "source": [
    "print('1. Tested Calls')\n",
    "print(np.unique(y_test_call))\n",
    "print('2. Predicted Calls')\n",
    "print(np.unique(y_clf1))\n",
    "print('3. Not tested for but predicted')\n",
    "print(set(np.unique(y_clf1))-set(np.unique(y_test_call)))\n",
    "print('4. Tested for but not predicted')\n",
    "print(set(np.unique(y_test_call))-set(np.unique(y_clf1)))"
   ]
  },
  {
   "cell_type": "code",
   "execution_count": 23,
   "metadata": {},
   "outputs": [
    {
     "data": {
      "image/png": "[encoded data removed]",
      "text/plain": [
       "<Figure size 432x288 with 1 Axes>"
      ]
     },
     "metadata": {
      "needs_background": "light"
     },
     "output_type": "display_data"
    }
   ],
   "source": [
    "importances = clf1.feature_importances_\n",
    "imp = np.argsort(importances)[::-1]\n",
    "\n",
    "\n",
    "plt.title('Feature Importance')\n",
    "plt.bar(range(X_train.shape[1]), importances[imp], align='center')\n",
    "plt.xticks(range(X_train.shape[1]), X_train.columns[imp], rotation=90)\n",
    "plt.tight_layout()\n",
    "plt.savefig('Feature Importance in Call Classification With XGBoost.png')\n",
    "plt.show()"
   ]
  },
  {
   "cell_type": "code",
   "execution_count": 24,
   "metadata": {},
   "outputs": [
    {
     "name": "stdout",
     "output_type": "stream",
     "text": [
      "Accuracy 0.9210526315789473\n"
     ]
    },
    {
     "data": {
      "image/png": "[encoded data removed]",
      "text/plain": [
       "<Figure size 576x288 with 2 Axes>"
      ]
     },
     "metadata": {
      "needs_background": "light"
     },
     "output_type": "display_data"
    }
   ],
   "source": [
    "names_rf = sorted(list(set(np.unique(y_test_call)).union(set(y_clf1))))\n",
    "cnf = confusion_matrix(y_test_call, y_clf1)\n",
    "fig, ax = plt.subplots(figsize=(8,4))\n",
    "\n",
    "print('Accuracy',clf1.score(X_test, y_test_call))\n",
    "\n",
    "sns.heatmap(cnf, annot=True, xticklabels=names_rf, yticklabels=names_rf,cmap= \"YlOrBr\")\n",
    "plt.title('XGBoost')\n",
    "ax.xaxis.set_label_position('top')\n",
    "plt.ylabel('Actual')\n",
    "plt.xlabel('Predicted')\n",
    "#plt.savefig('RF.png')\n",
    "plt.show(block=False)\n"
   ]
  },
  {
   "cell_type": "code",
   "execution_count": 25,
   "metadata": {},
   "outputs": [
    {
     "name": "stdout",
     "output_type": "stream",
     "text": [
      "[21:25:49] WARNING: C:/Users/Administrator/workspace/xgboost-win64_release_1.4.0/src/learner.cc:1095: Starting in XGBoost 1.3.0, the default evaluation metric used with the objective 'binary:logistic' was changed from 'error' to 'logloss'. Explicitly set eval_metric if you'd like to restore the old behavior.\n",
      "[21:25:49] WARNING: C:/Users/Administrator/workspace/xgboost-win64_release_1.4.0/src/learner.cc:1095: Starting in XGBoost 1.3.0, the default evaluation metric used with the objective 'binary:logistic' was changed from 'error' to 'logloss'. Explicitly set eval_metric if you'd like to restore the old behavior.\n",
      "[21:25:49] WARNING: C:/Users/Administrator/workspace/xgboost-win64_release_1.4.0/src/learner.cc:1095: Starting in XGBoost 1.3.0, the default evaluation metric used with the objective 'binary:logistic' was changed from 'error' to 'logloss'. Explicitly set eval_metric if you'd like to restore the old behavior.\n"
     ]
    },
    {
     "data": {
      "image/png": "[encoded data removed]",
      "text/plain": [
       "<Figure size 864x576 with 1 Axes>"
      ]
     },
     "metadata": {
      "needs_background": "light"
     },
     "output_type": "display_data"
    }
   ],
   "source": [
    "import numpy as np\n",
    "import matplotlib.pyplot as plt\n",
    "from sklearn import svm, datasets\n",
    "from sklearn.metrics import roc_curve, auc\n",
    "from sklearn.preprocessing import label_binarize\n",
    "from sklearn.multiclass import OneVsRestClassifier\n",
    "\n",
    "X = df[pd.notnull(df['Call'])][['Duration_in_Sec','Zero_Crossings', 'Amp_range',\n",
    "       'Avg_amp', 'Freq_range', 'Pulses_per_Sec', 'Mean_MFCC',\n",
    "       'Mean_Spectral Rolloff', 'Mean_Melspectrogram',\n",
    "       'Mean_Spectral Contrast', 'Mean_Chromagram', 'Mean_Tempogram', 'Mean RMS']]\n",
    "df['Call'] = df['Call'].astype('category')\n",
    "df['Call'] = df['Call'].cat.codes\n",
    "y = df[pd.notnull(df['Call'])]['Call']\n",
    "\n",
    "# Binarize the output\n",
    "y = label_binarize(y, classes=[0, 1, 2])\n",
    "n_classes = y.shape[1]\n",
    "\n",
    "# shuffle and split training and test sets\n",
    "X_train_roc, X_test_roc, y_train_roc, y_test_roc = train_test_split(X, y, test_size=.30, random_state=42)\n",
    "\n",
    "# Learn to predict each class against the other\n",
    "classifier = OneVsRestClassifier(XGBClassifier(n_estimators=1200))\n",
    "y_score = classifier.fit(X_train_roc, y_train_roc).predict_proba(X_test_roc)\n",
    "\n",
    "# Compute ROC curve and ROC area for each class\n",
    "fpr = dict()\n",
    "tpr = dict()\n",
    "roc_auc = dict()\n",
    "for i in range(n_classes):\n",
    "    fpr[i], tpr[i], _ = roc_curve(y_test_roc[:, i], y_score[:, i])\n",
    "    roc_auc[i] = auc(fpr[i], tpr[i])\n",
    "\n",
    "# Compute micro-average ROC curve and ROC area\n",
    "fpr[\"micro\"], tpr[\"micro\"], _ = roc_curve(y_test_roc.ravel(), y_score.ravel())\n",
    "roc_auc[\"micro\"] = auc(fpr[\"micro\"], tpr[\"micro\"])\n",
    "\n",
    "\n",
    "# Plot ROC curve\n",
    "plt.figure(figsize=(12,8))\n",
    "plt.plot(fpr[\"micro\"], tpr[\"micro\"],\n",
    "         label='micro-average ROC curve (area = {0:0.2f})'\n",
    "               ''.format(roc_auc[\"micro\"]))\n",
    "\n",
    "\n",
    "for i in range(n_classes):\n",
    "    plt.plot(fpr[i], tpr[i], label='ROC curve of class {0} (area = {1:0.2f})'\n",
    "                                   ''.format(i, roc_auc[i]))\n",
    "\n",
    "plt.plot([0, 1], [0, 1], 'k--')\n",
    "plt.xlim([0.0, 1.0])\n",
    "plt.ylim([0.0, 1.05])\n",
    "plt.xlabel('False Positive Rate', fontsize=14)\n",
    "plt.ylabel('True Positive Rate', fontsize=14)\n",
    "plt.title('ROC Curves for Species Classification')\n",
    "\n",
    "plt.xticks(fontsize=14)\n",
    "plt.yticks(fontsize=14)\n",
    "\n",
    "L = plt.legend(loc=\"lower right\", prop={'size': 12})\n",
    "\n",
    "\n",
    "L.get_texts()[1].set_text('ROC curve of Growl (area = 0.96)')\n",
    "L.get_texts()[2].set_text('ROC curve of Prusten (area = 1.00)')\n",
    "L.get_texts()[3].set_text('ROC curve of Roar (area = 0.98)')\n",
    "\n",
    "\n",
    "plt.savefig('ROC Call071722.png')\n",
    "plt.show()"
   ]
  },
  {
   "cell_type": "markdown",
   "metadata": {},
   "source": [
    "# Species Classification"
   ]
  },
  {
   "cell_type": "markdown",
   "metadata": {},
   "source": [
    "## Splitting data"
   ]
  },
  {
   "cell_type": "code",
   "execution_count": 26,
   "metadata": {},
   "outputs": [],
   "source": [
    "y_train_species = y_train.Species\n",
    "y_test_species = y_test.Species"
   ]
  },
  {
   "cell_type": "markdown",
   "metadata": {},
   "source": [
    "## XGBoost Classifier"
   ]
  },
  {
   "cell_type": "code",
   "execution_count": 27,
   "metadata": {},
   "outputs": [],
   "source": [
    "parameters = dict(\n",
    "    objective='multi:softprob',\n",
    "    random_state = 42,\n",
    "    max_depth=9,\n",
    "    learning_rate=0.01,\n",
    "    subsample=0.8,\n",
    "    colsample_bytree=0.4,\n",
    "    tree_method='gpu_hist',\n",
    "    num_class=2)\n",
    "#eval_metric='mlogloss'\n",
    "\n",
    "clf1 = XGBClassifier(**parameters,n_estimators=1200)"
   ]
  },
  {
   "cell_type": "code",
   "execution_count": 28,
   "metadata": {},
   "outputs": [
    {
     "name": "stdout",
     "output_type": "stream",
     "text": [
      "[21:25:50] WARNING: C:/Users/Administrator/workspace/xgboost-win64_release_1.4.0/src/learner.cc:1095: Starting in XGBoost 1.3.0, the default evaluation metric used with the objective 'multi:softprob' was changed from 'merror' to 'mlogloss'. Explicitly set eval_metric if you'd like to restore the old behavior.\n"
     ]
    },
    {
     "data": {
      "text/html": [
       "<style>#sk-container-id-2 {color: black;background-color: white;}#sk-container-id-2 pre{padding: 0;}#sk-container-id-2 div.sk-toggleable {background-color: white;}#sk-container-id-2 label.sk-toggleable__label {cursor: pointer;display: block;width: 100%;margin-bottom: 0;padding: 0.3em;box-sizing: border-box;text-align: center;}#sk-container-id-2 label.sk-toggleable__label-arrow:before {content: \"▸\";float: left;margin-right: 0.25em;color: #696969;}#sk-container-id-2 label.sk-toggleable__label-arrow:hover:before {color: black;}#sk-container-id-2 div.sk-estimator:hover label.sk-toggleable__label-arrow:before {color: black;}#sk-container-id-2 div.sk-toggleable__content {max-height: 0;max-width: 0;overflow: hidden;text-align: left;background-color: #f0f8ff;}#sk-container-id-2 div.sk-toggleable__content pre {margin: 0.2em;color: black;border-radius: 0.25em;background-color: #f0f8ff;}#sk-container-id-2 input.sk-toggleable__control:checked~div.sk-toggleable__content {max-height: 200px;max-width: 100%;overflow: auto;}#sk-container-id-2 input.sk-toggleable__control:checked~label.sk-toggleable__label-arrow:before {content: \"▾\";}#sk-container-id-2 div.sk-estimator input.sk-toggleable__control:checked~label.sk-toggleable__label {background-color: #d4ebff;}#sk-container-id-2 div.sk-label input.sk-toggleable__control:checked~label.sk-toggleable__label {background-color: #d4ebff;}#sk-container-id-2 input.sk-hidden--visually {border: 0;clip: rect(1px 1px 1px 1px);clip: rect(1px, 1px, 1px, 1px);height: 1px;margin: -1px;overflow: hidden;padding: 0;position: absolute;width: 1px;}#sk-container-id-2 div.sk-estimator {font-family: monospace;background-color: #f0f8ff;border: 1px dotted black;border-radius: 0.25em;box-sizing: border-box;margin-bottom: 0.5em;}#sk-container-id-2 div.sk-estimator:hover {background-color: #d4ebff;}#sk-container-id-2 div.sk-parallel-item::after {content: \"\";width: 100%;border-bottom: 1px solid gray;flex-grow: 1;}#sk-container-id-2 div.sk-label:hover label.sk-toggleable__label {background-color: #d4ebff;}#sk-container-id-2 div.sk-serial::before {content: \"\";position: absolute;border-left: 1px solid gray;box-sizing: border-box;top: 0;bottom: 0;left: 50%;z-index: 0;}#sk-container-id-2 div.sk-serial {display: flex;flex-direction: column;align-items: center;background-color: white;padding-right: 0.2em;padding-left: 0.2em;position: relative;}#sk-container-id-2 div.sk-item {position: relative;z-index: 1;}#sk-container-id-2 div.sk-parallel {display: flex;align-items: stretch;justify-content: center;background-color: white;position: relative;}#sk-container-id-2 div.sk-item::before, #sk-container-id-2 div.sk-parallel-item::before {content: \"\";position: absolute;border-left: 1px solid gray;box-sizing: border-box;top: 0;bottom: 0;left: 50%;z-index: -1;}#sk-container-id-2 div.sk-parallel-item {display: flex;flex-direction: column;z-index: 1;position: relative;background-color: white;}#sk-container-id-2 div.sk-parallel-item:first-child::after {align-self: flex-end;width: 50%;}#sk-container-id-2 div.sk-parallel-item:last-child::after {align-self: flex-start;width: 50%;}#sk-container-id-2 div.sk-parallel-item:only-child::after {width: 0;}#sk-container-id-2 div.sk-dashed-wrapped {border: 1px dashed gray;margin: 0 0.4em 0.5em 0.4em;box-sizing: border-box;padding-bottom: 0.4em;background-color: white;}#sk-container-id-2 div.sk-label label {font-family: monospace;font-weight: bold;display: inline-block;line-height: 1.2em;}#sk-container-id-2 div.sk-label-container {text-align: center;}#sk-container-id-2 div.sk-container {/* jupyter's `normalize.less` sets `[hidden] { display: none; }` but bootstrap.min.css set `[hidden] { display: none !important; }` so we also need the `!important` here to be able to override the default hidden behavior on the sphinx rendered scikit-learn.org. See: https://github.com/scikit-learn/scikit-learn/issues/21755 */display: inline-block !important;position: relative;}#sk-container-id-2 div.sk-text-repr-fallback {display: none;}</style><div id=\"sk-container-id-2\" class=\"sk-top-container\"><div class=\"sk-text-repr-fallback\"><pre>XGBClassifier(base_score=0.5, booster=&#x27;gbtree&#x27;, colsample_bylevel=1,\n",
       "              colsample_bynode=1, colsample_bytree=0.4, gamma=0, gpu_id=0,\n",
       "              importance_type=&#x27;gain&#x27;, interaction_constraints=&#x27;&#x27;,\n",
       "              learning_rate=0.01, max_delta_step=0, max_depth=9,\n",
       "              min_child_weight=1, missing=nan, monotone_constraints=&#x27;()&#x27;,\n",
       "              n_estimators=1200, n_jobs=12, num_class=2, num_parallel_tree=1,\n",
       "              objective=&#x27;multi:softprob&#x27;, random_state=42, reg_alpha=0,\n",
       "              reg_lambda=1, scale_pos_weight=None, subsample=0.8,\n",
       "              tree_method=&#x27;gpu_hist&#x27;, validate_parameters=1, verbosity=None)</pre><b>In a Jupyter environment, please rerun this cell to show the HTML representation or trust the notebook. <br />On GitHub, the HTML representation is unable to render, please try loading this page with nbviewer.org.</b></div><div class=\"sk-container\" hidden><div class=\"sk-item\"><div class=\"sk-estimator sk-toggleable\"><input class=\"sk-toggleable__control sk-hidden--visually\" id=\"sk-estimator-id-2\" type=\"checkbox\" checked><label for=\"sk-estimator-id-2\" class=\"sk-toggleable__label sk-toggleable__label-arrow\">XGBClassifier</label><div class=\"sk-toggleable__content\"><pre>XGBClassifier(base_score=0.5, booster=&#x27;gbtree&#x27;, colsample_bylevel=1,\n",
       "              colsample_bynode=1, colsample_bytree=0.4, gamma=0, gpu_id=0,\n",
       "              importance_type=&#x27;gain&#x27;, interaction_constraints=&#x27;&#x27;,\n",
       "              learning_rate=0.01, max_delta_step=0, max_depth=9,\n",
       "              min_child_weight=1, missing=nan, monotone_constraints=&#x27;()&#x27;,\n",
       "              n_estimators=1200, n_jobs=12, num_class=2, num_parallel_tree=1,\n",
       "              objective=&#x27;multi:softprob&#x27;, random_state=42, reg_alpha=0,\n",
       "              reg_lambda=1, scale_pos_weight=None, subsample=0.8,\n",
       "              tree_method=&#x27;gpu_hist&#x27;, validate_parameters=1, verbosity=None)</pre></div></div></div></div></div>"
      ],
      "text/plain": [
       "XGBClassifier(base_score=0.5, booster='gbtree', colsample_bylevel=1,\n",
       "              colsample_bynode=1, colsample_bytree=0.4, gamma=0, gpu_id=0,\n",
       "              importance_type='gain', interaction_constraints='',\n",
       "              learning_rate=0.01, max_delta_step=0, max_depth=9,\n",
       "              min_child_weight=1, missing=nan, monotone_constraints='()',\n",
       "              n_estimators=1200, n_jobs=12, num_class=2, num_parallel_tree=1,\n",
       "              objective='multi:softprob', random_state=42, reg_alpha=0,\n",
       "              reg_lambda=1, scale_pos_weight=None, subsample=0.8,\n",
       "              tree_method='gpu_hist', validate_parameters=1, verbosity=None)"
      ]
     },
     "execution_count": 28,
     "metadata": {},
     "output_type": "execute_result"
    }
   ],
   "source": [
    "clf1.fit(X_train, y_train_species)"
   ]
  },
  {
   "cell_type": "code",
   "execution_count": 29,
   "metadata": {},
   "outputs": [
    {
     "data": {
      "text/plain": [
       "0.8421052631578947"
      ]
     },
     "execution_count": 29,
     "metadata": {},
     "output_type": "execute_result"
    }
   ],
   "source": [
    "clf1.score(X_test, y_test_species)"
   ]
  },
  {
   "cell_type": "code",
   "execution_count": 30,
   "metadata": {},
   "outputs": [],
   "source": [
    "y_clf1 = clf1.predict(X_test)\n",
    "prob_clf1 = clf1.predict_proba(X_test)"
   ]
  },
  {
   "cell_type": "code",
   "execution_count": 31,
   "metadata": {},
   "outputs": [
    {
     "name": "stdout",
     "output_type": "stream",
     "text": [
      "1. Tested Calls\n",
      "['Clouded leopard' 'Jaguar' 'Leopard' 'Lion']\n",
      "2. Predicted Calls\n",
      "['Clouded leopard' 'Jaguar' 'Leopard' 'Lion']\n",
      "3. Not tested for but predicted\n",
      "set()\n",
      "4. Tested for but not predicted\n",
      "set()\n"
     ]
    }
   ],
   "source": [
    "print('1. Tested Calls')\n",
    "print(np.unique(y_test_species))\n",
    "print('2. Predicted Calls')\n",
    "print(np.unique(y_clf1))\n",
    "print('3. Not tested for but predicted')\n",
    "print(set(np.unique(y_clf1))-set(np.unique(y_test_species)))\n",
    "print('4. Tested for but not predicted')\n",
    "print(set(np.unique(y_test_species))-set(np.unique(y_clf1)))"
   ]
  },
  {
   "cell_type": "code",
   "execution_count": 32,
   "metadata": {},
   "outputs": [
    {
     "data": {
      "image/png": "[encoded data removed]",
      "text/plain": [
       "<Figure size 432x288 with 1 Axes>"
      ]
     },
     "metadata": {
      "needs_background": "light"
     },
     "output_type": "display_data"
    }
   ],
   "source": [
    "importances = clf1.feature_importances_\n",
    "imp = np.argsort(importances)[::-1]\n",
    "\n",
    "\n",
    "plt.title('Feature Importance')\n",
    "plt.bar(range(X_train.shape[1]), importances[imp], align='center')\n",
    "plt.xticks(range(X_train.shape[1]), X_train.columns[imp], rotation=90)\n",
    "plt.tight_layout()\n",
    "#plt.savefig('Feature Importance in Call Classification With XGBoost.png')\n",
    "plt.show()"
   ]
  },
  {
   "cell_type": "code",
   "execution_count": 33,
   "metadata": {},
   "outputs": [
    {
     "name": "stdout",
     "output_type": "stream",
     "text": [
      "Accuracy 0.8421052631578947\n"
     ]
    },
    {
     "data": {
      "image/png": "[encoded data removed]",
      "text/plain": [
       "<Figure size 576x288 with 2 Axes>"
      ]
     },
     "metadata": {
      "needs_background": "light"
     },
     "output_type": "display_data"
    }
   ],
   "source": [
    "names_rf = sorted(list(set(np.unique(y_test_species)).union(set(y_clf1))))\n",
    "cnf = confusion_matrix(y_test_species, y_clf1)\n",
    "fig, ax = plt.subplots(figsize=(8,4))\n",
    "\n",
    "print('Accuracy',clf1.score(X_test, y_test_species))\n",
    "\n",
    "sns.heatmap(cnf, annot=True, xticklabels=names_rf, yticklabels=names_rf,cmap= \"YlOrBr\")\n",
    "plt.title('XGBoost')\n",
    "ax.xaxis.set_label_position('top')\n",
    "plt.ylabel('Actual')\n",
    "plt.xlabel('Predicted')\n",
    "#plt.savefig('RF.png')\n",
    "plt.show(block=False)\n"
   ]
  },
  {
   "cell_type": "code",
   "execution_count": 34,
   "metadata": {},
   "outputs": [
    {
     "name": "stdout",
     "output_type": "stream",
     "text": [
      "[21:25:59] WARNING: C:/Users/Administrator/workspace/xgboost-win64_release_1.4.0/src/learner.cc:1095: Starting in XGBoost 1.3.0, the default evaluation metric used with the objective 'multi:softprob' was changed from 'merror' to 'mlogloss'. Explicitly set eval_metric if you'd like to restore the old behavior.\n",
      "[21:26:04] WARNING: C:/Users/Administrator/workspace/xgboost-win64_release_1.4.0/src/learner.cc:1095: Starting in XGBoost 1.3.0, the default evaluation metric used with the objective 'multi:softprob' was changed from 'merror' to 'mlogloss'. Explicitly set eval_metric if you'd like to restore the old behavior.\n",
      "[21:26:09] WARNING: C:/Users/Administrator/workspace/xgboost-win64_release_1.4.0/src/learner.cc:1095: Starting in XGBoost 1.3.0, the default evaluation metric used with the objective 'multi:softprob' was changed from 'merror' to 'mlogloss'. Explicitly set eval_metric if you'd like to restore the old behavior.\n",
      "[21:26:14] WARNING: C:/Users/Administrator/workspace/xgboost-win64_release_1.4.0/src/learner.cc:1095: Starting in XGBoost 1.3.0, the default evaluation metric used with the objective 'multi:softprob' was changed from 'merror' to 'mlogloss'. Explicitly set eval_metric if you'd like to restore the old behavior.\n"
     ]
    },
    {
     "data": {
      "image/png": "[encoded data removed]",
      "text/plain": [
       "<Figure size 864x576 with 1 Axes>"
      ]
     },
     "metadata": {
      "needs_background": "light"
     },
     "output_type": "display_data"
    }
   ],
   "source": [
    "import numpy as np\n",
    "import matplotlib.pyplot as plt\n",
    "from sklearn import svm, datasets\n",
    "from sklearn.metrics import roc_curve, auc\n",
    "from sklearn.preprocessing import label_binarize\n",
    "from sklearn.multiclass import OneVsRestClassifier\n",
    "\n",
    "X = df[pd.notnull(df['Call'])][['Duration_in_Sec','Zero_Crossings', 'Amp_range',\n",
    "       'Avg_amp', 'Freq_range', 'Pulses_per_Sec', 'Mean_MFCC',\n",
    "       'Mean_Spectral Rolloff', 'Mean_Melspectrogram',\n",
    "       'Mean_Spectral Contrast', 'Mean_Chromagram', 'Mean_Tempogram', 'Mean RMS']]\n",
    "df['Species'] = df['Species'].astype('category')\n",
    "df['Species'] = df['Species'].cat.codes\n",
    "y = df[pd.notnull(df['Species'])]['Species']\n",
    "\n",
    "# Binarize the output\n",
    "y = label_binarize(y, classes=[0, 1, 2, 3])\n",
    "n_classes = y.shape[1]\n",
    "\n",
    "# shuffle and split training and test sets\n",
    "X_train_roc, X_test_roc, y_train_roc, y_test_roc = train_test_split(X, y, test_size=.30, random_state=42)\n",
    "\n",
    "# Learn to predict each class against the other\n",
    "classifier = OneVsRestClassifier(XGBClassifier(**parameters, n_estimators=1200))\n",
    "y_score = classifier.fit(X_train_roc, y_train_roc).predict_proba(X_test_roc)\n",
    "\n",
    "# Compute ROC curve and ROC area for each class\n",
    "fpr = dict()\n",
    "tpr = dict()\n",
    "roc_auc = dict()\n",
    "for i in range(n_classes):\n",
    "    fpr[i], tpr[i], _ = roc_curve(y_test_roc[:, i], y_score[:, i])\n",
    "    roc_auc[i] = auc(fpr[i], tpr[i])\n",
    "\n",
    "# Compute micro-average ROC curve and ROC area\n",
    "fpr[\"micro\"], tpr[\"micro\"], _ = roc_curve(y_test_roc.ravel(), y_score.ravel())\n",
    "roc_auc[\"micro\"] = auc(fpr[\"micro\"], tpr[\"micro\"])\n",
    "\n",
    "\n",
    "# Plot ROC curve\n",
    "plt.figure(figsize=(12,8))\n",
    "plt.plot(fpr[\"micro\"], tpr[\"micro\"],\n",
    "         label='micro-average ROC curve (area = {0:0.2f})'\n",
    "               ''.format(roc_auc[\"micro\"]))\n",
    "\n",
    "\n",
    "for i in range(n_classes):\n",
    "    plt.plot(fpr[i], tpr[i], label='ROC curve of class {0} (area = {1:0.2f})'\n",
    "                                   ''.format(i, roc_auc[i]))\n",
    "\n",
    "plt.plot([0, 1], [0, 1], 'k--')\n",
    "plt.xlim([0.0, 1.0])\n",
    "plt.ylim([0.0, 1.05])\n",
    "plt.xlabel('False Positive Rate', fontsize=14)\n",
    "plt.ylabel('True Positive Rate', fontsize=14)\n",
    "plt.title('ROC Curves for Species Classification')\n",
    "\n",
    "plt.xticks(fontsize=14)\n",
    "plt.yticks(fontsize=14)\n",
    "\n",
    "L = plt.legend(loc=\"lower right\", prop={'size': 12})\n",
    "\n",
    "L.get_texts()[1].set_text('ROC curve of Clouded Leopard (area = 1.00)')\n",
    "L.get_texts()[2].set_text('ROC curve of Jaguar (area = 0,69)')\n",
    "L.get_texts()[3].set_text('ROC curve of Leopard (area = 0.96)')\n",
    "L.get_texts()[3].set_text('ROC curve of Lion (area = 0.89)')\n",
    "\n",
    "\n",
    "plt.savefig('ROC Species071722.png')\n",
    "plt.show()"
   ]
  },
  {
   "cell_type": "code",
   "execution_count": null,
   "metadata": {},
   "outputs": [],
   "source": []
  }
 ],
 "metadata": {
  "kernelspec": {
   "display_name": "Python 3",
   "language": "python",
   "name": "python3"
  },
  "language_info": {
   "codemirror_mode": {
    "name": "ipython",
    "version": 3
   },
   "file_extension": ".py",
   "mimetype": "text/x-python",
   "name": "python",
   "nbconvert_exporter": "python",
   "pygments_lexer": "ipython3",
   "version": "3.8.8"
  }
 },
 "nbformat": 4,
 "nbformat_minor": 4
}
