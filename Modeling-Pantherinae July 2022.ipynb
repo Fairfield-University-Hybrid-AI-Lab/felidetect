{
 "cells": [
  {
   "cell_type": "code",
   "execution_count": 35,
   "metadata": {},
   "outputs": [],
   "source": [
    "import pandas as pd\n",
    "import numpy as np\n",
    "import matplotlib.pyplot as plt\n",
    "%matplotlib inline\n",
    "import seaborn as sns\n",
    "from sklearn.metrics import confusion_matrix\n",
    "\n",
    "from sklearn.model_selection import train_test_split\n",
    "from sklearn.preprocessing import StandardScaler, MinMaxScaler, OneHotEncoder\n",
    "\n",
    "from xgboost import XGBClassifier\n",
    "from sklearn.svm import SVC\n",
    "from sklearn.naive_bayes import GaussianNB, CategoricalNB\n",
    "from sklearn.linear_model import LogisticRegression\n",
    "from sklearn.neighbors import KNeighborsClassifier\n",
    "from sklearn.tree import DecisionTreeClassifier\n",
    "from sklearn.ensemble import RandomForestClassifier\n",
    "\n",
    "from sklearn import metrics\n",
    "\n",
    "from xgboost import plot_importance\n",
    "\n",
    "from sklearn.metrics import RocCurveDisplay\n",
    "\n",
    "import warnings\n",
    "warnings.filterwarnings('ignore')\n",
    "\n",
    "pd.set_option('display.max_columns', 50)"
   ]
  },
  {
   "cell_type": "code",
   "execution_count": 36,
   "metadata": {},
   "outputs": [
    {
     "data": {
      "text/html": [
       "<div>\n",
       "<style scoped>\n",
       "    .dataframe tbody tr th:only-of-type {\n",
       "        vertical-align: middle;\n",
       "    }\n",
       "\n",
       "    .dataframe tbody tr th {\n",
       "        vertical-align: top;\n",
       "    }\n",
       "\n",
       "    .dataframe thead th {\n",
       "        text-align: right;\n",
       "    }\n",
       "</style>\n",
       "<table border=\"1\" class=\"dataframe\">\n",
       "  <thead>\n",
       "    <tr style=\"text-align: right;\">\n",
       "      <th></th>\n",
       "      <th>File Name</th>\n",
       "      <th>Source</th>\n",
       "      <th>Duration_in_Sec</th>\n",
       "      <th>Zero_Crossings</th>\n",
       "      <th>Amp_range</th>\n",
       "      <th>Avg_amp</th>\n",
       "      <th>Freq_range</th>\n",
       "      <th>Pulses_per_Sec</th>\n",
       "      <th>Mean_MFCC</th>\n",
       "      <th>Mean_Spectral Rolloff</th>\n",
       "      <th>Mean_Melspectrogram</th>\n",
       "      <th>Mean_Spectral Contrast</th>\n",
       "      <th>Mean_Chromagram</th>\n",
       "      <th>Mean_Tempogram</th>\n",
       "      <th>Mean_Tonnetz</th>\n",
       "      <th>Partials</th>\n",
       "      <th>Mean RMS</th>\n",
       "      <th>Species</th>\n",
       "      <th>Call</th>\n",
       "    </tr>\n",
       "  </thead>\n",
       "  <tbody>\n",
       "    <tr>\n",
       "      <th>0</th>\n",
       "      <td>CL-Hiss</td>\n",
       "      <td>wildside sabrina tiktok</td>\n",
       "      <td>2</td>\n",
       "      <td>3052</td>\n",
       "      <td>0.068885</td>\n",
       "      <td>0.006089</td>\n",
       "      <td>3921.000000</td>\n",
       "      <td>404.500000</td>\n",
       "      <td>-7.268548</td>\n",
       "      <td>3364.872373</td>\n",
       "      <td>0.019104</td>\n",
       "      <td>19.925640</td>\n",
       "      <td>0.810778</td>\n",
       "      <td>0.160065</td>\n",
       "      <td>-0.001847</td>\n",
       "      <td>3</td>\n",
       "      <td>0.007630</td>\n",
       "      <td>Clouded leopard</td>\n",
       "      <td>hiss</td>\n",
       "    </tr>\n",
       "    <tr>\n",
       "      <th>1</th>\n",
       "      <td>CL-Hiss</td>\n",
       "      <td>wildside sabrina tiktok</td>\n",
       "      <td>1</td>\n",
       "      <td>1649</td>\n",
       "      <td>0.067508</td>\n",
       "      <td>0.008768</td>\n",
       "      <td>2364.000000</td>\n",
       "      <td>546.000000</td>\n",
       "      <td>-6.702535</td>\n",
       "      <td>3613.418302</td>\n",
       "      <td>0.033583</td>\n",
       "      <td>19.957274</td>\n",
       "      <td>0.821026</td>\n",
       "      <td>0.126885</td>\n",
       "      <td>-0.003948</td>\n",
       "      <td>3</td>\n",
       "      <td>0.010948</td>\n",
       "      <td>Clouded leopard</td>\n",
       "      <td>hiss</td>\n",
       "    </tr>\n",
       "    <tr>\n",
       "      <th>2</th>\n",
       "      <td>CL-Hiss</td>\n",
       "      <td>wildside sabrina tiktok</td>\n",
       "      <td>1</td>\n",
       "      <td>1265</td>\n",
       "      <td>0.177508</td>\n",
       "      <td>0.009763</td>\n",
       "      <td>2137.000000</td>\n",
       "      <td>461.000000</td>\n",
       "      <td>-6.511350</td>\n",
       "      <td>2918.727805</td>\n",
       "      <td>0.061539</td>\n",
       "      <td>20.534935</td>\n",
       "      <td>0.800632</td>\n",
       "      <td>0.156785</td>\n",
       "      <td>-0.021016</td>\n",
       "      <td>2</td>\n",
       "      <td>0.012784</td>\n",
       "      <td>Clouded leopard</td>\n",
       "      <td>hiss</td>\n",
       "    </tr>\n",
       "    <tr>\n",
       "      <th>3</th>\n",
       "      <td>CL-Hiss</td>\n",
       "      <td>wildside sabrina tiktok</td>\n",
       "      <td>1</td>\n",
       "      <td>2671</td>\n",
       "      <td>0.047844</td>\n",
       "      <td>0.007377</td>\n",
       "      <td>4015.000000</td>\n",
       "      <td>987.000000</td>\n",
       "      <td>-6.980524</td>\n",
       "      <td>3696.125377</td>\n",
       "      <td>0.018213</td>\n",
       "      <td>20.329560</td>\n",
       "      <td>0.823546</td>\n",
       "      <td>0.140679</td>\n",
       "      <td>-0.011690</td>\n",
       "      <td>3</td>\n",
       "      <td>0.009123</td>\n",
       "      <td>Clouded leopard</td>\n",
       "      <td>hiss</td>\n",
       "    </tr>\n",
       "    <tr>\n",
       "      <th>4</th>\n",
       "      <td>CL-Hiss</td>\n",
       "      <td>wildside sabrina tiktok</td>\n",
       "      <td>1</td>\n",
       "      <td>1744</td>\n",
       "      <td>0.063522</td>\n",
       "      <td>0.007763</td>\n",
       "      <td>2487.000000</td>\n",
       "      <td>628.000000</td>\n",
       "      <td>-5.948235</td>\n",
       "      <td>3509.912109</td>\n",
       "      <td>0.021703</td>\n",
       "      <td>20.561726</td>\n",
       "      <td>0.807700</td>\n",
       "      <td>0.144186</td>\n",
       "      <td>-0.013389</td>\n",
       "      <td>2</td>\n",
       "      <td>0.009595</td>\n",
       "      <td>Clouded leopard</td>\n",
       "      <td>hiss</td>\n",
       "    </tr>\n",
       "    <tr>\n",
       "      <th>...</th>\n",
       "      <td>...</td>\n",
       "      <td>...</td>\n",
       "      <td>...</td>\n",
       "      <td>...</td>\n",
       "      <td>...</td>\n",
       "      <td>...</td>\n",
       "      <td>...</td>\n",
       "      <td>...</td>\n",
       "      <td>...</td>\n",
       "      <td>...</td>\n",
       "      <td>...</td>\n",
       "      <td>...</td>\n",
       "      <td>...</td>\n",
       "      <td>...</td>\n",
       "      <td>...</td>\n",
       "      <td>...</td>\n",
       "      <td>...</td>\n",
       "      <td>...</td>\n",
       "      <td>...</td>\n",
       "    </tr>\n",
       "    <tr>\n",
       "      <th>138</th>\n",
       "      <td>Lion Roaring Sequence_17</td>\n",
       "      <td>YouTube</td>\n",
       "      <td>40</td>\n",
       "      <td>22436</td>\n",
       "      <td>0.652970</td>\n",
       "      <td>0.073732</td>\n",
       "      <td>10092.625000</td>\n",
       "      <td>295.250000</td>\n",
       "      <td>-4.387553</td>\n",
       "      <td>1458.415228</td>\n",
       "      <td>3.050521</td>\n",
       "      <td>20.184006</td>\n",
       "      <td>0.580697</td>\n",
       "      <td>0.190296</td>\n",
       "      <td>-0.000172</td>\n",
       "      <td>85</td>\n",
       "      <td>0.088674</td>\n",
       "      <td>Lion</td>\n",
       "      <td>roar</td>\n",
       "    </tr>\n",
       "    <tr>\n",
       "      <th>139</th>\n",
       "      <td>Lion Roaring Sequence_18</td>\n",
       "      <td>YouTube</td>\n",
       "      <td>45</td>\n",
       "      <td>127303</td>\n",
       "      <td>1.039453</td>\n",
       "      <td>0.117559</td>\n",
       "      <td>10681.044444</td>\n",
       "      <td>1159.066667</td>\n",
       "      <td>-5.522057</td>\n",
       "      <td>4116.969550</td>\n",
       "      <td>12.378446</td>\n",
       "      <td>20.695561</td>\n",
       "      <td>0.593314</td>\n",
       "      <td>0.184751</td>\n",
       "      <td>0.001714</td>\n",
       "      <td>139</td>\n",
       "      <td>0.141392</td>\n",
       "      <td>Lion</td>\n",
       "      <td>roar</td>\n",
       "    </tr>\n",
       "    <tr>\n",
       "      <th>140</th>\n",
       "      <td>Lion Roaring Sequence_18</td>\n",
       "      <td>YouTube</td>\n",
       "      <td>17</td>\n",
       "      <td>32072</td>\n",
       "      <td>1.021872</td>\n",
       "      <td>0.181167</td>\n",
       "      <td>10494.470588</td>\n",
       "      <td>898.411765</td>\n",
       "      <td>-3.991339</td>\n",
       "      <td>3033.963691</td>\n",
       "      <td>24.540840</td>\n",
       "      <td>20.218510</td>\n",
       "      <td>0.616647</td>\n",
       "      <td>0.182995</td>\n",
       "      <td>-0.004780</td>\n",
       "      <td>98</td>\n",
       "      <td>0.219604</td>\n",
       "      <td>Lion</td>\n",
       "      <td>roar</td>\n",
       "    </tr>\n",
       "    <tr>\n",
       "      <th>141</th>\n",
       "      <td>Lion Roaring Sequence_19</td>\n",
       "      <td>YouTube</td>\n",
       "      <td>19</td>\n",
       "      <td>23112</td>\n",
       "      <td>0.747216</td>\n",
       "      <td>0.123384</td>\n",
       "      <td>5462.315789</td>\n",
       "      <td>315.631579</td>\n",
       "      <td>-5.297592</td>\n",
       "      <td>2002.811373</td>\n",
       "      <td>9.278934</td>\n",
       "      <td>21.174380</td>\n",
       "      <td>0.515771</td>\n",
       "      <td>0.224227</td>\n",
       "      <td>0.006657</td>\n",
       "      <td>38</td>\n",
       "      <td>0.142555</td>\n",
       "      <td>Lion</td>\n",
       "      <td>roar</td>\n",
       "    </tr>\n",
       "    <tr>\n",
       "      <th>142</th>\n",
       "      <td>Lion Roaring Sequence_19</td>\n",
       "      <td>YouTube</td>\n",
       "      <td>41</td>\n",
       "      <td>101920</td>\n",
       "      <td>0.770082</td>\n",
       "      <td>0.066351</td>\n",
       "      <td>5470.756098</td>\n",
       "      <td>490.878049</td>\n",
       "      <td>-5.330621</td>\n",
       "      <td>3146.517969</td>\n",
       "      <td>5.418606</td>\n",
       "      <td>19.120536</td>\n",
       "      <td>0.744117</td>\n",
       "      <td>0.200815</td>\n",
       "      <td>-0.008008</td>\n",
       "      <td>79</td>\n",
       "      <td>0.081159</td>\n",
       "      <td>Lion</td>\n",
       "      <td>roar</td>\n",
       "    </tr>\n",
       "  </tbody>\n",
       "</table>\n",
       "<p>143 rows × 19 columns</p>\n",
       "</div>"
      ],
      "text/plain": [
       "                    File Name                   Source  Duration_in_Sec  \\\n",
       "0                     CL-Hiss  wildside sabrina tiktok                2   \n",
       "1                     CL-Hiss  wildside sabrina tiktok                1   \n",
       "2                     CL-Hiss  wildside sabrina tiktok                1   \n",
       "3                     CL-Hiss  wildside sabrina tiktok                1   \n",
       "4                     CL-Hiss  wildside sabrina tiktok                1   \n",
       "..                        ...                      ...              ...   \n",
       "138  Lion Roaring Sequence_17                  YouTube               40   \n",
       "139  Lion Roaring Sequence_18                  YouTube               45   \n",
       "140  Lion Roaring Sequence_18                  YouTube               17   \n",
       "141  Lion Roaring Sequence_19                  YouTube               19   \n",
       "142  Lion Roaring Sequence_19                  YouTube               41   \n",
       "\n",
       "     Zero_Crossings  Amp_range   Avg_amp    Freq_range  Pulses_per_Sec  \\\n",
       "0              3052   0.068885  0.006089   3921.000000      404.500000   \n",
       "1              1649   0.067508  0.008768   2364.000000      546.000000   \n",
       "2              1265   0.177508  0.009763   2137.000000      461.000000   \n",
       "3              2671   0.047844  0.007377   4015.000000      987.000000   \n",
       "4              1744   0.063522  0.007763   2487.000000      628.000000   \n",
       "..              ...        ...       ...           ...             ...   \n",
       "138           22436   0.652970  0.073732  10092.625000      295.250000   \n",
       "139          127303   1.039453  0.117559  10681.044444     1159.066667   \n",
       "140           32072   1.021872  0.181167  10494.470588      898.411765   \n",
       "141           23112   0.747216  0.123384   5462.315789      315.631579   \n",
       "142          101920   0.770082  0.066351   5470.756098      490.878049   \n",
       "\n",
       "     Mean_MFCC  Mean_Spectral Rolloff  Mean_Melspectrogram  \\\n",
       "0    -7.268548            3364.872373             0.019104   \n",
       "1    -6.702535            3613.418302             0.033583   \n",
       "2    -6.511350            2918.727805             0.061539   \n",
       "3    -6.980524            3696.125377             0.018213   \n",
       "4    -5.948235            3509.912109             0.021703   \n",
       "..         ...                    ...                  ...   \n",
       "138  -4.387553            1458.415228             3.050521   \n",
       "139  -5.522057            4116.969550            12.378446   \n",
       "140  -3.991339            3033.963691            24.540840   \n",
       "141  -5.297592            2002.811373             9.278934   \n",
       "142  -5.330621            3146.517969             5.418606   \n",
       "\n",
       "     Mean_Spectral Contrast  Mean_Chromagram  Mean_Tempogram  Mean_Tonnetz  \\\n",
       "0                 19.925640         0.810778        0.160065     -0.001847   \n",
       "1                 19.957274         0.821026        0.126885     -0.003948   \n",
       "2                 20.534935         0.800632        0.156785     -0.021016   \n",
       "3                 20.329560         0.823546        0.140679     -0.011690   \n",
       "4                 20.561726         0.807700        0.144186     -0.013389   \n",
       "..                      ...              ...             ...           ...   \n",
       "138               20.184006         0.580697        0.190296     -0.000172   \n",
       "139               20.695561         0.593314        0.184751      0.001714   \n",
       "140               20.218510         0.616647        0.182995     -0.004780   \n",
       "141               21.174380         0.515771        0.224227      0.006657   \n",
       "142               19.120536         0.744117        0.200815     -0.008008   \n",
       "\n",
       "     Partials  Mean RMS          Species  Call  \n",
       "0           3  0.007630  Clouded leopard  hiss  \n",
       "1           3  0.010948  Clouded leopard  hiss  \n",
       "2           2  0.012784  Clouded leopard  hiss  \n",
       "3           3  0.009123  Clouded leopard  hiss  \n",
       "4           2  0.009595  Clouded leopard  hiss  \n",
       "..        ...       ...              ...   ...  \n",
       "138        85  0.088674             Lion  roar  \n",
       "139       139  0.141392             Lion  roar  \n",
       "140        98  0.219604             Lion  roar  \n",
       "141        38  0.142555             Lion  roar  \n",
       "142        79  0.081159             Lion  roar  \n",
       "\n",
       "[143 rows x 19 columns]"
      ]
     },
     "execution_count": 36,
     "metadata": {},
     "output_type": "execute_result"
    }
   ],
   "source": [
    "df_raw = pd.read_csv('features_cleaned_not_standardized.csv').drop(['Sex','Age'], axis=1)\n",
    "df_raw"
   ]
  },
  {
   "cell_type": "code",
   "execution_count": 37,
   "metadata": {},
   "outputs": [
    {
     "name": "stdout",
     "output_type": "stream",
     "text": [
      "<class 'pandas.core.frame.DataFrame'>\n",
      "Int64Index: 125 entries, 6 to 142\n",
      "Data columns (total 19 columns):\n",
      " #   Column                  Non-Null Count  Dtype  \n",
      "---  ------                  --------------  -----  \n",
      " 0   File Name               125 non-null    object \n",
      " 1   Source                  125 non-null    object \n",
      " 2   Duration_in_Sec         125 non-null    int64  \n",
      " 3   Zero_Crossings          125 non-null    int64  \n",
      " 4   Amp_range               125 non-null    float64\n",
      " 5   Avg_amp                 125 non-null    float64\n",
      " 6   Freq_range              125 non-null    float64\n",
      " 7   Pulses_per_Sec          125 non-null    float64\n",
      " 8   Mean_MFCC               125 non-null    float64\n",
      " 9   Mean_Spectral Rolloff   125 non-null    float64\n",
      " 10  Mean_Melspectrogram     125 non-null    float64\n",
      " 11  Mean_Spectral Contrast  125 non-null    float64\n",
      " 12  Mean_Chromagram         125 non-null    float64\n",
      " 13  Mean_Tempogram          125 non-null    float64\n",
      " 14  Mean_Tonnetz            125 non-null    float64\n",
      " 15  Partials                125 non-null    int64  \n",
      " 16  Mean RMS                125 non-null    float64\n",
      " 17  Species                 125 non-null    object \n",
      " 18  Call                    125 non-null    object \n",
      "dtypes: float64(12), int64(3), object(4)\n",
      "memory usage: 19.5+ KB\n"
     ]
    }
   ],
   "source": [
    "\"Pull records containing 'Clouded leopard','Jaguar','Leopard','Lion' but not Snow Leopard due to unbalanced data\"\n",
    "\n",
    "df_raw = df_raw[df_raw.Species.isin(['Clouded leopard','Jaguar','Leopard','Lion'])]\n",
    "\n",
    "\"Remove records with mew, hiss, puff\"\n",
    "df_raw = df_raw[df_raw.Call.isin(['roar','prusten','growl'])]\n",
    "\n",
    "df_raw.info()"
   ]
  },
  {
   "cell_type": "code",
   "execution_count": 38,
   "metadata": {},
   "outputs": [],
   "source": [
    "df_raw.groupby('Call').describe().to_csv('Table for journal2.csv')"
   ]
  },
  {
   "cell_type": "code",
   "execution_count": 39,
   "metadata": {},
   "outputs": [
    {
     "data": {
      "text/html": [
       "<div>\n",
       "<style scoped>\n",
       "    .dataframe tbody tr th:only-of-type {\n",
       "        vertical-align: middle;\n",
       "    }\n",
       "\n",
       "    .dataframe tbody tr th {\n",
       "        vertical-align: top;\n",
       "    }\n",
       "\n",
       "    .dataframe thead th {\n",
       "        text-align: right;\n",
       "    }\n",
       "</style>\n",
       "<table border=\"1\" class=\"dataframe\">\n",
       "  <thead>\n",
       "    <tr style=\"text-align: right;\">\n",
       "      <th></th>\n",
       "      <th>File Name</th>\n",
       "      <th>Source</th>\n",
       "      <th>Duration_in_Sec</th>\n",
       "      <th>Zero_Crossings</th>\n",
       "      <th>Amp_range</th>\n",
       "      <th>Avg_amp</th>\n",
       "      <th>Freq_range</th>\n",
       "      <th>Pulses_per_Sec</th>\n",
       "      <th>Mean_MFCC</th>\n",
       "      <th>Mean_Spectral Rolloff</th>\n",
       "      <th>Mean_Melspectrogram</th>\n",
       "      <th>Mean_Spectral Contrast</th>\n",
       "      <th>Mean_Chromagram</th>\n",
       "      <th>Mean_Tempogram</th>\n",
       "      <th>Mean_Tonnetz</th>\n",
       "      <th>Partials</th>\n",
       "      <th>Mean RMS</th>\n",
       "      <th>Sex</th>\n",
       "      <th>Age</th>\n",
       "      <th>Species</th>\n",
       "      <th>Call</th>\n",
       "    </tr>\n",
       "  </thead>\n",
       "  <tbody>\n",
       "    <tr>\n",
       "      <th>0</th>\n",
       "      <td>Jaguar-Prusten-1</td>\n",
       "      <td>YouTube</td>\n",
       "      <td>-0.886060</td>\n",
       "      <td>-0.769406</td>\n",
       "      <td>0.059570</td>\n",
       "      <td>-0.281491</td>\n",
       "      <td>-0.323300</td>\n",
       "      <td>0.893591</td>\n",
       "      <td>1.634774</td>\n",
       "      <td>0.609362</td>\n",
       "      <td>-0.285455</td>\n",
       "      <td>-0.663664</td>\n",
       "      <td>1.314330</td>\n",
       "      <td>-0.913667</td>\n",
       "      <td>-0.329467</td>\n",
       "      <td>-0.505398</td>\n",
       "      <td>-0.289135</td>\n",
       "      <td>Unknown</td>\n",
       "      <td>Unknown</td>\n",
       "      <td>Jaguar</td>\n",
       "      <td>prusten</td>\n",
       "    </tr>\n",
       "    <tr>\n",
       "      <th>1</th>\n",
       "      <td>Jaguar-Prusten-1</td>\n",
       "      <td>YouTube</td>\n",
       "      <td>-0.886060</td>\n",
       "      <td>-0.705032</td>\n",
       "      <td>-1.678013</td>\n",
       "      <td>-1.035294</td>\n",
       "      <td>-0.685931</td>\n",
       "      <td>-0.099558</td>\n",
       "      <td>-0.949633</td>\n",
       "      <td>1.739482</td>\n",
       "      <td>-0.518010</td>\n",
       "      <td>-1.144383</td>\n",
       "      <td>1.307833</td>\n",
       "      <td>-0.726898</td>\n",
       "      <td>-1.144173</td>\n",
       "      <td>-0.784713</td>\n",
       "      <td>-1.074775</td>\n",
       "      <td>Unknown</td>\n",
       "      <td>Unknown</td>\n",
       "      <td>Jaguar</td>\n",
       "      <td>prusten</td>\n",
       "    </tr>\n",
       "    <tr>\n",
       "      <th>2</th>\n",
       "      <td>Jaguar-Prusten-1</td>\n",
       "      <td>YouTube</td>\n",
       "      <td>-0.886060</td>\n",
       "      <td>-0.770326</td>\n",
       "      <td>-1.844081</td>\n",
       "      <td>-1.066887</td>\n",
       "      <td>-2.365467</td>\n",
       "      <td>-1.044900</td>\n",
       "      <td>-0.510765</td>\n",
       "      <td>1.371723</td>\n",
       "      <td>-0.519109</td>\n",
       "      <td>-1.445473</td>\n",
       "      <td>1.669668</td>\n",
       "      <td>-0.479114</td>\n",
       "      <td>-0.489322</td>\n",
       "      <td>-0.803334</td>\n",
       "      <td>-1.110032</td>\n",
       "      <td>Unknown</td>\n",
       "      <td>Unknown</td>\n",
       "      <td>Jaguar</td>\n",
       "      <td>prusten</td>\n",
       "    </tr>\n",
       "    <tr>\n",
       "      <th>3</th>\n",
       "      <td>Jaguar-Prusten-1</td>\n",
       "      <td>YouTube</td>\n",
       "      <td>-0.886060</td>\n",
       "      <td>-0.774429</td>\n",
       "      <td>-1.690616</td>\n",
       "      <td>-0.983828</td>\n",
       "      <td>-2.382128</td>\n",
       "      <td>-1.063406</td>\n",
       "      <td>0.012620</td>\n",
       "      <td>0.895415</td>\n",
       "      <td>-0.514872</td>\n",
       "      <td>-1.052163</td>\n",
       "      <td>0.981955</td>\n",
       "      <td>-0.815647</td>\n",
       "      <td>-1.161936</td>\n",
       "      <td>-0.803334</td>\n",
       "      <td>-1.025160</td>\n",
       "      <td>Unknown</td>\n",
       "      <td>Unknown</td>\n",
       "      <td>Jaguar</td>\n",
       "      <td>prusten</td>\n",
       "    </tr>\n",
       "    <tr>\n",
       "      <th>4</th>\n",
       "      <td>Jaguar-Prusten-1</td>\n",
       "      <td>YouTube</td>\n",
       "      <td>-0.886060</td>\n",
       "      <td>-0.801873</td>\n",
       "      <td>-1.642058</td>\n",
       "      <td>-0.879312</td>\n",
       "      <td>-0.737875</td>\n",
       "      <td>-0.468133</td>\n",
       "      <td>1.125727</td>\n",
       "      <td>0.842231</td>\n",
       "      <td>-0.511389</td>\n",
       "      <td>-0.862449</td>\n",
       "      <td>0.942801</td>\n",
       "      <td>-0.973142</td>\n",
       "      <td>1.183957</td>\n",
       "      <td>-0.803334</td>\n",
       "      <td>-0.928300</td>\n",
       "      <td>Unknown</td>\n",
       "      <td>Unknown</td>\n",
       "      <td>Jaguar</td>\n",
       "      <td>prusten</td>\n",
       "    </tr>\n",
       "    <tr>\n",
       "      <th>...</th>\n",
       "      <td>...</td>\n",
       "      <td>...</td>\n",
       "      <td>...</td>\n",
       "      <td>...</td>\n",
       "      <td>...</td>\n",
       "      <td>...</td>\n",
       "      <td>...</td>\n",
       "      <td>...</td>\n",
       "      <td>...</td>\n",
       "      <td>...</td>\n",
       "      <td>...</td>\n",
       "      <td>...</td>\n",
       "      <td>...</td>\n",
       "      <td>...</td>\n",
       "      <td>...</td>\n",
       "      <td>...</td>\n",
       "      <td>...</td>\n",
       "      <td>...</td>\n",
       "      <td>...</td>\n",
       "      <td>...</td>\n",
       "      <td>...</td>\n",
       "    </tr>\n",
       "    <tr>\n",
       "      <th>138</th>\n",
       "      <td>Snow Leopard Mew 1</td>\n",
       "      <td>NaN</td>\n",
       "      <td>0.902671</td>\n",
       "      <td>0.717177</td>\n",
       "      <td>0.975744</td>\n",
       "      <td>1.177608</td>\n",
       "      <td>1.103918</td>\n",
       "      <td>0.240912</td>\n",
       "      <td>-0.318395</td>\n",
       "      <td>-1.140843</td>\n",
       "      <td>1.325604</td>\n",
       "      <td>1.356603</td>\n",
       "      <td>-1.540563</td>\n",
       "      <td>1.139624</td>\n",
       "      <td>0.995818</td>\n",
       "      <td>0.738179</td>\n",
       "      <td>1.169363</td>\n",
       "      <td>Unknown</td>\n",
       "      <td>Unknown</td>\n",
       "      <td>Snow leopard</td>\n",
       "      <td>Mew</td>\n",
       "    </tr>\n",
       "    <tr>\n",
       "      <th>139</th>\n",
       "      <td>Snow Leopard Prusten_1</td>\n",
       "      <td>NaN</td>\n",
       "      <td>-0.820610</td>\n",
       "      <td>-0.922977</td>\n",
       "      <td>-0.330372</td>\n",
       "      <td>-0.234358</td>\n",
       "      <td>-0.367184</td>\n",
       "      <td>0.955595</td>\n",
       "      <td>2.127712</td>\n",
       "      <td>-0.326837</td>\n",
       "      <td>-0.589206</td>\n",
       "      <td>1.269603</td>\n",
       "      <td>0.330863</td>\n",
       "      <td>-0.787992</td>\n",
       "      <td>-2.240807</td>\n",
       "      <td>-0.660691</td>\n",
       "      <td>-0.230673</td>\n",
       "      <td>Unknown</td>\n",
       "      <td>Unknown</td>\n",
       "      <td>Snow leopard</td>\n",
       "      <td>prusten</td>\n",
       "    </tr>\n",
       "    <tr>\n",
       "      <th>140</th>\n",
       "      <td>Snow Leopard Prusten_2</td>\n",
       "      <td>NaN</td>\n",
       "      <td>-0.820610</td>\n",
       "      <td>-0.740076</td>\n",
       "      <td>-0.962303</td>\n",
       "      <td>-0.966192</td>\n",
       "      <td>-0.616071</td>\n",
       "      <td>0.136892</td>\n",
       "      <td>-0.524594</td>\n",
       "      <td>1.404542</td>\n",
       "      <td>-0.889485</td>\n",
       "      <td>-0.003547</td>\n",
       "      <td>1.001841</td>\n",
       "      <td>-1.253511</td>\n",
       "      <td>0.411657</td>\n",
       "      <td>-0.889078</td>\n",
       "      <td>-0.964313</td>\n",
       "      <td>Unknown</td>\n",
       "      <td>Unknown</td>\n",
       "      <td>Snow leopard</td>\n",
       "      <td>prusten</td>\n",
       "    </tr>\n",
       "    <tr>\n",
       "      <th>141</th>\n",
       "      <td>Snow Leopard Prusten_2</td>\n",
       "      <td>NaN</td>\n",
       "      <td>-0.820610</td>\n",
       "      <td>-0.746980</td>\n",
       "      <td>-1.032937</td>\n",
       "      <td>-1.029990</td>\n",
       "      <td>-1.411419</td>\n",
       "      <td>-1.431687</td>\n",
       "      <td>-0.679099</td>\n",
       "      <td>1.227809</td>\n",
       "      <td>-0.896254</td>\n",
       "      <td>0.294294</td>\n",
       "      <td>1.112512</td>\n",
       "      <td>-0.181128</td>\n",
       "      <td>0.073450</td>\n",
       "      <td>-0.889078</td>\n",
       "      <td>-1.033277</td>\n",
       "      <td>Unknown</td>\n",
       "      <td>Unknown</td>\n",
       "      <td>Snow leopard</td>\n",
       "      <td>prusten</td>\n",
       "    </tr>\n",
       "    <tr>\n",
       "      <th>142</th>\n",
       "      <td>Snow Leopard Prusten_2</td>\n",
       "      <td>NaN</td>\n",
       "      <td>-0.820610</td>\n",
       "      <td>-0.789490</td>\n",
       "      <td>-1.035024</td>\n",
       "      <td>-1.020297</td>\n",
       "      <td>-0.915937</td>\n",
       "      <td>-1.587458</td>\n",
       "      <td>-1.204077</td>\n",
       "      <td>0.659865</td>\n",
       "      <td>-0.894821</td>\n",
       "      <td>-1.374089</td>\n",
       "      <td>0.822662</td>\n",
       "      <td>-1.017315</td>\n",
       "      <td>-0.377468</td>\n",
       "      <td>-0.860529</td>\n",
       "      <td>-1.022187</td>\n",
       "      <td>Unknown</td>\n",
       "      <td>Unknown</td>\n",
       "      <td>Snow leopard</td>\n",
       "      <td>prusten</td>\n",
       "    </tr>\n",
       "  </tbody>\n",
       "</table>\n",
       "<p>143 rows × 21 columns</p>\n",
       "</div>"
      ],
      "text/plain": [
       "                  File Name   Source  Duration_in_Sec  Zero_Crossings  \\\n",
       "0          Jaguar-Prusten-1  YouTube        -0.886060       -0.769406   \n",
       "1          Jaguar-Prusten-1  YouTube        -0.886060       -0.705032   \n",
       "2          Jaguar-Prusten-1  YouTube        -0.886060       -0.770326   \n",
       "3          Jaguar-Prusten-1  YouTube        -0.886060       -0.774429   \n",
       "4          Jaguar-Prusten-1  YouTube        -0.886060       -0.801873   \n",
       "..                      ...      ...              ...             ...   \n",
       "138      Snow Leopard Mew 1      NaN         0.902671        0.717177   \n",
       "139  Snow Leopard Prusten_1      NaN        -0.820610       -0.922977   \n",
       "140  Snow Leopard Prusten_2      NaN        -0.820610       -0.740076   \n",
       "141  Snow Leopard Prusten_2      NaN        -0.820610       -0.746980   \n",
       "142  Snow Leopard Prusten_2      NaN        -0.820610       -0.789490   \n",
       "\n",
       "     Amp_range   Avg_amp  Freq_range  Pulses_per_Sec  Mean_MFCC  \\\n",
       "0     0.059570 -0.281491   -0.323300        0.893591   1.634774   \n",
       "1    -1.678013 -1.035294   -0.685931       -0.099558  -0.949633   \n",
       "2    -1.844081 -1.066887   -2.365467       -1.044900  -0.510765   \n",
       "3    -1.690616 -0.983828   -2.382128       -1.063406   0.012620   \n",
       "4    -1.642058 -0.879312   -0.737875       -0.468133   1.125727   \n",
       "..         ...       ...         ...             ...        ...   \n",
       "138   0.975744  1.177608    1.103918        0.240912  -0.318395   \n",
       "139  -0.330372 -0.234358   -0.367184        0.955595   2.127712   \n",
       "140  -0.962303 -0.966192   -0.616071        0.136892  -0.524594   \n",
       "141  -1.032937 -1.029990   -1.411419       -1.431687  -0.679099   \n",
       "142  -1.035024 -1.020297   -0.915937       -1.587458  -1.204077   \n",
       "\n",
       "     Mean_Spectral Rolloff  Mean_Melspectrogram  Mean_Spectral Contrast  \\\n",
       "0                 0.609362            -0.285455               -0.663664   \n",
       "1                 1.739482            -0.518010               -1.144383   \n",
       "2                 1.371723            -0.519109               -1.445473   \n",
       "3                 0.895415            -0.514872               -1.052163   \n",
       "4                 0.842231            -0.511389               -0.862449   \n",
       "..                     ...                  ...                     ...   \n",
       "138              -1.140843             1.325604                1.356603   \n",
       "139              -0.326837            -0.589206                1.269603   \n",
       "140               1.404542            -0.889485               -0.003547   \n",
       "141               1.227809            -0.896254                0.294294   \n",
       "142               0.659865            -0.894821               -1.374089   \n",
       "\n",
       "     Mean_Chromagram  Mean_Tempogram  Mean_Tonnetz  Partials  Mean RMS  \\\n",
       "0           1.314330       -0.913667     -0.329467 -0.505398 -0.289135   \n",
       "1           1.307833       -0.726898     -1.144173 -0.784713 -1.074775   \n",
       "2           1.669668       -0.479114     -0.489322 -0.803334 -1.110032   \n",
       "3           0.981955       -0.815647     -1.161936 -0.803334 -1.025160   \n",
       "4           0.942801       -0.973142      1.183957 -0.803334 -0.928300   \n",
       "..               ...             ...           ...       ...       ...   \n",
       "138        -1.540563        1.139624      0.995818  0.738179  1.169363   \n",
       "139         0.330863       -0.787992     -2.240807 -0.660691 -0.230673   \n",
       "140         1.001841       -1.253511      0.411657 -0.889078 -0.964313   \n",
       "141         1.112512       -0.181128      0.073450 -0.889078 -1.033277   \n",
       "142         0.822662       -1.017315     -0.377468 -0.860529 -1.022187   \n",
       "\n",
       "         Sex      Age       Species     Call  \n",
       "0    Unknown  Unknown        Jaguar  prusten  \n",
       "1    Unknown  Unknown        Jaguar  prusten  \n",
       "2    Unknown  Unknown        Jaguar  prusten  \n",
       "3    Unknown  Unknown        Jaguar  prusten  \n",
       "4    Unknown  Unknown        Jaguar  prusten  \n",
       "..       ...      ...           ...      ...  \n",
       "138  Unknown  Unknown  Snow leopard      Mew  \n",
       "139  Unknown  Unknown  Snow leopard  prusten  \n",
       "140  Unknown  Unknown  Snow leopard  prusten  \n",
       "141  Unknown  Unknown  Snow leopard  prusten  \n",
       "142  Unknown  Unknown  Snow leopard  prusten  \n",
       "\n",
       "[143 rows x 21 columns]"
      ]
     },
     "execution_count": 39,
     "metadata": {},
     "output_type": "execute_result"
    }
   ],
   "source": [
    "df = pd.read_csv('features_cleaned.csv')\n",
    "df"
   ]
  },
  {
   "cell_type": "code",
   "execution_count": 40,
   "metadata": {},
   "outputs": [
    {
     "data": {
      "text/plain": [
       "(143, 21)"
      ]
     },
     "execution_count": 40,
     "metadata": {},
     "output_type": "execute_result"
    }
   ],
   "source": [
    "df.shape"
   ]
  },
  {
   "cell_type": "code",
   "execution_count": 41,
   "metadata": {},
   "outputs": [],
   "source": [
    "\"Pull records containing 'Clouded leopard','Jaguar','Leopard','Lion' but not Snow Leopard due to unbalanced data\"\n",
    "\n",
    "df = df[df.Species.isin(['Clouded leopard','Jaguar','Leopard','Lion'])]\n",
    "\n",
    "\"Remove records with mew, hiss, puff\"\n",
    "df = df[df.Call.isin(['roar','prusten','growl'])]"
   ]
  },
  {
   "cell_type": "code",
   "execution_count": 42,
   "metadata": {},
   "outputs": [
    {
     "data": {
      "text/plain": [
       "(125, 21)"
      ]
     },
     "execution_count": 42,
     "metadata": {},
     "output_type": "execute_result"
    }
   ],
   "source": [
    "df.shape"
   ]
  },
  {
   "cell_type": "markdown",
   "metadata": {},
   "source": [
    "l= ['Duration_in_Sec', 'Zero_Crossings', 'Amp_range',\n",
    "       'Avg_amp', 'Freq_range', 'Pulses_per_Sec', 'Mean_MFCC',\n",
    "       'Mean_Spectral Rolloff', 'Mean_Melspectrogram',\n",
    "       'Mean_Spectral Contrast', 'Mean_Chromagram', 'Mean_Tempogram',\n",
    "       'Mean_Tonnetz', 'Partials','Mean RMS']\n",
    "\n",
    "plt.figure(figsize=(25,30))\n",
    "for i in range(len(l)):\n",
    "    plt.subplot(8,2,i+1)\n",
    "    sns.scatterplot(df[l[i]], df['Species'], hue=df['Call'], legend='brief', palette='deep') \n",
    "plt.savefig('Species Clusters By Features.pdf')\n",
    "plt.show()"
   ]
  },
  {
   "cell_type": "markdown",
   "metadata": {},
   "source": [
    "l= ['Duration_in_Sec', 'Zero_Crossings', 'Amp_range',\n",
    "       'Avg_amp', 'Freq_range', 'Pulses_per_Sec', 'Mean_MFCC',\n",
    "       'Mean_Spectral Rolloff', 'Mean_Melspectrogram',\n",
    "       'Mean_Spectral Contrast', 'Mean_Chromagram', 'Mean_Tempogram',\n",
    "       'Mean_Tonnetz', 'Partials','Mean RMS']\n",
    "\n",
    "plt.figure(figsize=(25,30))\n",
    "for i in range(len(l)):\n",
    "    plt.subplot(8,2,i+1)\n",
    "    sns.scatterplot(df[l[i]], df['Call'], hue=df['Species'], legend='brief', palette='deep') \n",
    "plt.savefig('Call Clusters By Features.pdf')\n",
    "plt.show()"
   ]
  },
  {
   "cell_type": "code",
   "execution_count": 43,
   "metadata": {},
   "outputs": [
    {
     "data": {
      "text/plain": [
       "Index(['File Name', 'Source', 'Duration_in_Sec', 'Zero_Crossings', 'Amp_range',\n",
       "       'Avg_amp', 'Freq_range', 'Pulses_per_Sec', 'Mean_MFCC',\n",
       "       'Mean_Spectral Rolloff', 'Mean_Melspectrogram',\n",
       "       'Mean_Spectral Contrast', 'Mean_Chromagram', 'Mean_Tempogram',\n",
       "       'Mean_Tonnetz', 'Partials', 'Mean RMS', 'Sex', 'Age', 'Species',\n",
       "       'Call'],\n",
       "      dtype='object')"
      ]
     },
     "execution_count": 43,
     "metadata": {},
     "output_type": "execute_result"
    }
   ],
   "source": [
    "df.columns"
   ]
  },
  {
   "cell_type": "code",
   "execution_count": 44,
   "metadata": {},
   "outputs": [],
   "source": [
    "X = df[pd.notnull(df['Call'])][['Duration_in_Sec','Zero_Crossings', 'Amp_range',\n",
    "       'Avg_amp', 'Freq_range', 'Pulses_per_Sec', 'Mean_MFCC',\n",
    "       'Mean_Spectral Rolloff', 'Mean_Melspectrogram',\n",
    "       'Mean_Spectral Contrast', 'Mean_Chromagram', 'Mean_Tempogram', 'Mean RMS']]\n",
    "y = df[pd.notnull(df['Call'])][['Call','Species']]"
   ]
  },
  {
   "cell_type": "code",
   "execution_count": 45,
   "metadata": {},
   "outputs": [],
   "source": [
    "X_train, X_test, y_train, y_test = train_test_split(X, y, test_size = 0.30, random_state=42)"
   ]
  },
  {
   "cell_type": "code",
   "execution_count": 46,
   "metadata": {
    "scrolled": true
   },
   "outputs": [
    {
     "name": "stdout",
     "output_type": "stream",
     "text": [
      "(87, 13)\n",
      "(38, 13)\n",
      "(87, 2)\n",
      "(38, 2)\n"
     ]
    }
   ],
   "source": [
    "print(X_train.shape)\n",
    "print(X_test.shape)\n",
    "print(y_train.shape)\n",
    "print(y_test.shape)"
   ]
  },
  {
   "cell_type": "code",
   "execution_count": 47,
   "metadata": {},
   "outputs": [
    {
     "name": "stdout",
     "output_type": "stream",
     "text": [
      "Total Call Values\n",
      "roar       65\n",
      "prusten    40\n",
      "growl      20\n",
      "Name: Call, dtype: int64\n",
      "\n",
      "\n",
      "Call values for Training\n",
      "roar       43\n",
      "prusten    30\n",
      "growl      14\n",
      "Name: Call, dtype: int64\n",
      "\n",
      "\n",
      "Call values for Testing\n",
      "roar       22\n",
      "prusten    10\n",
      "growl       6\n",
      "Name: Call, dtype: int64\n"
     ]
    }
   ],
   "source": [
    "print('Total Call Values')\n",
    "print(df['Call'].value_counts())\n",
    "print('\\n')\n",
    "print('Call values for Training')\n",
    "print(y_train.Call.value_counts())\n",
    "print('\\n')\n",
    "print('Call values for Testing')\n",
    "print(y_test.Call.value_counts())"
   ]
  },
  {
   "cell_type": "code",
   "execution_count": 48,
   "metadata": {},
   "outputs": [
    {
     "name": "stdout",
     "output_type": "stream",
     "text": [
      "Calls trained for but not tested for\n",
      "set()\n",
      "Calls test for but not trained for\n",
      "set()\n"
     ]
    }
   ],
   "source": [
    "print('Calls trained for but not tested for')\n",
    "print(set(np.unique(y_train.Call))-set(np.unique(y_test.Call)))\n",
    "print('Calls test for but not trained for')\n",
    "print(set(np.unique(y_test.Call))-set(np.unique(y_train.Call)))"
   ]
  },
  {
   "cell_type": "code",
   "execution_count": 49,
   "metadata": {},
   "outputs": [
    {
     "name": "stdout",
     "output_type": "stream",
     "text": [
      "Total Species values\n",
      "Leopard            41\n",
      "Lion               33\n",
      "Clouded leopard    29\n",
      "Jaguar             22\n",
      "Name: Species, dtype: int64\n",
      "\n",
      "\n",
      "Species values for Training\n",
      "Leopard            26\n",
      "Lion               25\n",
      "Clouded leopard    22\n",
      "Jaguar             14\n",
      "Name: Species, dtype: int64\n",
      "\n",
      "\n",
      "Species values for Testing\n",
      "Leopard            15\n",
      "Lion                8\n",
      "Jaguar              8\n",
      "Clouded leopard     7\n",
      "Name: Species, dtype: int64\n"
     ]
    }
   ],
   "source": [
    "print('Total Species values')\n",
    "print(df['Species'].value_counts())\n",
    "print('\\n')\n",
    "print('Species values for Training')\n",
    "print(y_train.Species.value_counts())\n",
    "print('\\n')\n",
    "print('Species values for Testing')\n",
    "print(y_test.Species.value_counts())"
   ]
  },
  {
   "cell_type": "code",
   "execution_count": 50,
   "metadata": {},
   "outputs": [
    {
     "name": "stdout",
     "output_type": "stream",
     "text": [
      "Species trained for but not tested for\n",
      "set()\n",
      "Species test for but not trained for\n",
      "set()\n"
     ]
    }
   ],
   "source": [
    "print('Species trained for but not tested for')\n",
    "print(set(np.unique(y_train.Species))-set(np.unique(y_test.Species)))\n",
    "print('Species test for but not trained for')\n",
    "print(set(np.unique(y_test.Species))-set(np.unique(y_train.Species)))"
   ]
  },
  {
   "cell_type": "markdown",
   "metadata": {},
   "source": [
    "# Vocalization Classification"
   ]
  },
  {
   "cell_type": "markdown",
   "metadata": {},
   "source": [
    "## Splitting data"
   ]
  },
  {
   "cell_type": "code",
   "execution_count": 51,
   "metadata": {},
   "outputs": [],
   "source": [
    "y_train_call = y_train.Call\n",
    "y_test_call = y_test.Call"
   ]
  },
  {
   "cell_type": "markdown",
   "metadata": {},
   "source": [
    "## XGBoost Classifier"
   ]
  },
  {
   "cell_type": "code",
   "execution_count": 52,
   "metadata": {},
   "outputs": [],
   "source": [
    "parameters = dict(\n",
    "    objective='multi:softprob',\n",
    "    random_state = 42,\n",
    "    max_depth=9,\n",
    "    learning_rate=0.01,\n",
    "    subsample=0.8,\n",
    "    colsample_bytree=0.4,\n",
    "    tree_method='gpu_hist')\n",
    "#eval_metric='mlogloss'\n",
    "\n",
    "clf1 = XGBClassifier(n_estimators=1200)"
   ]
  },
  {
   "cell_type": "code",
   "execution_count": 53,
   "metadata": {},
   "outputs": [
    {
     "name": "stdout",
     "output_type": "stream",
     "text": [
      "[21:39:22] WARNING: C:/Users/Administrator/workspace/xgboost-win64_release_1.4.0/src/learner.cc:1095: Starting in XGBoost 1.3.0, the default evaluation metric used with the objective 'multi:softprob' was changed from 'merror' to 'mlogloss'. Explicitly set eval_metric if you'd like to restore the old behavior.\n"
     ]
    },
    {
     "data": {
      "text/html": [
       "<style>#sk-container-id-3 {color: black;background-color: white;}#sk-container-id-3 pre{padding: 0;}#sk-container-id-3 div.sk-toggleable {background-color: white;}#sk-container-id-3 label.sk-toggleable__label {cursor: pointer;display: block;width: 100%;margin-bottom: 0;padding: 0.3em;box-sizing: border-box;text-align: center;}#sk-container-id-3 label.sk-toggleable__label-arrow:before {content: \"▸\";float: left;margin-right: 0.25em;color: #696969;}#sk-container-id-3 label.sk-toggleable__label-arrow:hover:before {color: black;}#sk-container-id-3 div.sk-estimator:hover label.sk-toggleable__label-arrow:before {color: black;}#sk-container-id-3 div.sk-toggleable__content {max-height: 0;max-width: 0;overflow: hidden;text-align: left;background-color: #f0f8ff;}#sk-container-id-3 div.sk-toggleable__content pre {margin: 0.2em;color: black;border-radius: 0.25em;background-color: #f0f8ff;}#sk-container-id-3 input.sk-toggleable__control:checked~div.sk-toggleable__content {max-height: 200px;max-width: 100%;overflow: auto;}#sk-container-id-3 input.sk-toggleable__control:checked~label.sk-toggleable__label-arrow:before {content: \"▾\";}#sk-container-id-3 div.sk-estimator input.sk-toggleable__control:checked~label.sk-toggleable__label {background-color: #d4ebff;}#sk-container-id-3 div.sk-label input.sk-toggleable__control:checked~label.sk-toggleable__label {background-color: #d4ebff;}#sk-container-id-3 input.sk-hidden--visually {border: 0;clip: rect(1px 1px 1px 1px);clip: rect(1px, 1px, 1px, 1px);height: 1px;margin: -1px;overflow: hidden;padding: 0;position: absolute;width: 1px;}#sk-container-id-3 div.sk-estimator {font-family: monospace;background-color: #f0f8ff;border: 1px dotted black;border-radius: 0.25em;box-sizing: border-box;margin-bottom: 0.5em;}#sk-container-id-3 div.sk-estimator:hover {background-color: #d4ebff;}#sk-container-id-3 div.sk-parallel-item::after {content: \"\";width: 100%;border-bottom: 1px solid gray;flex-grow: 1;}#sk-container-id-3 div.sk-label:hover label.sk-toggleable__label {background-color: #d4ebff;}#sk-container-id-3 div.sk-serial::before {content: \"\";position: absolute;border-left: 1px solid gray;box-sizing: border-box;top: 0;bottom: 0;left: 50%;z-index: 0;}#sk-container-id-3 div.sk-serial {display: flex;flex-direction: column;align-items: center;background-color: white;padding-right: 0.2em;padding-left: 0.2em;position: relative;}#sk-container-id-3 div.sk-item {position: relative;z-index: 1;}#sk-container-id-3 div.sk-parallel {display: flex;align-items: stretch;justify-content: center;background-color: white;position: relative;}#sk-container-id-3 div.sk-item::before, #sk-container-id-3 div.sk-parallel-item::before {content: \"\";position: absolute;border-left: 1px solid gray;box-sizing: border-box;top: 0;bottom: 0;left: 50%;z-index: -1;}#sk-container-id-3 div.sk-parallel-item {display: flex;flex-direction: column;z-index: 1;position: relative;background-color: white;}#sk-container-id-3 div.sk-parallel-item:first-child::after {align-self: flex-end;width: 50%;}#sk-container-id-3 div.sk-parallel-item:last-child::after {align-self: flex-start;width: 50%;}#sk-container-id-3 div.sk-parallel-item:only-child::after {width: 0;}#sk-container-id-3 div.sk-dashed-wrapped {border: 1px dashed gray;margin: 0 0.4em 0.5em 0.4em;box-sizing: border-box;padding-bottom: 0.4em;background-color: white;}#sk-container-id-3 div.sk-label label {font-family: monospace;font-weight: bold;display: inline-block;line-height: 1.2em;}#sk-container-id-3 div.sk-label-container {text-align: center;}#sk-container-id-3 div.sk-container {/* jupyter's `normalize.less` sets `[hidden] { display: none; }` but bootstrap.min.css set `[hidden] { display: none !important; }` so we also need the `!important` here to be able to override the default hidden behavior on the sphinx rendered scikit-learn.org. See: https://github.com/scikit-learn/scikit-learn/issues/21755 */display: inline-block !important;position: relative;}#sk-container-id-3 div.sk-text-repr-fallback {display: none;}</style><div id=\"sk-container-id-3\" class=\"sk-top-container\"><div class=\"sk-text-repr-fallback\"><pre>XGBClassifier(base_score=0.5, booster=&#x27;gbtree&#x27;, colsample_bylevel=1,\n",
       "              colsample_bynode=1, colsample_bytree=1, gamma=0, gpu_id=-1,\n",
       "              importance_type=&#x27;gain&#x27;, interaction_constraints=&#x27;&#x27;,\n",
       "              learning_rate=0.300000012, max_delta_step=0, max_depth=6,\n",
       "              min_child_weight=1, missing=nan, monotone_constraints=&#x27;()&#x27;,\n",
       "              n_estimators=1200, n_jobs=12, num_parallel_tree=1,\n",
       "              objective=&#x27;multi:softprob&#x27;, random_state=0, reg_alpha=0,\n",
       "              reg_lambda=1, scale_pos_weight=None, subsample=1,\n",
       "              tree_method=&#x27;exact&#x27;, validate_parameters=1, verbosity=None)</pre><b>In a Jupyter environment, please rerun this cell to show the HTML representation or trust the notebook. <br />On GitHub, the HTML representation is unable to render, please try loading this page with nbviewer.org.</b></div><div class=\"sk-container\" hidden><div class=\"sk-item\"><div class=\"sk-estimator sk-toggleable\"><input class=\"sk-toggleable__control sk-hidden--visually\" id=\"sk-estimator-id-3\" type=\"checkbox\" checked><label for=\"sk-estimator-id-3\" class=\"sk-toggleable__label sk-toggleable__label-arrow\">XGBClassifier</label><div class=\"sk-toggleable__content\"><pre>XGBClassifier(base_score=0.5, booster=&#x27;gbtree&#x27;, colsample_bylevel=1,\n",
       "              colsample_bynode=1, colsample_bytree=1, gamma=0, gpu_id=-1,\n",
       "              importance_type=&#x27;gain&#x27;, interaction_constraints=&#x27;&#x27;,\n",
       "              learning_rate=0.300000012, max_delta_step=0, max_depth=6,\n",
       "              min_child_weight=1, missing=nan, monotone_constraints=&#x27;()&#x27;,\n",
       "              n_estimators=1200, n_jobs=12, num_parallel_tree=1,\n",
       "              objective=&#x27;multi:softprob&#x27;, random_state=0, reg_alpha=0,\n",
       "              reg_lambda=1, scale_pos_weight=None, subsample=1,\n",
       "              tree_method=&#x27;exact&#x27;, validate_parameters=1, verbosity=None)</pre></div></div></div></div></div>"
      ],
      "text/plain": [
       "XGBClassifier(base_score=0.5, booster='gbtree', colsample_bylevel=1,\n",
       "              colsample_bynode=1, colsample_bytree=1, gamma=0, gpu_id=-1,\n",
       "              importance_type='gain', interaction_constraints='',\n",
       "              learning_rate=0.300000012, max_delta_step=0, max_depth=6,\n",
       "              min_child_weight=1, missing=nan, monotone_constraints='()',\n",
       "              n_estimators=1200, n_jobs=12, num_parallel_tree=1,\n",
       "              objective='multi:softprob', random_state=0, reg_alpha=0,\n",
       "              reg_lambda=1, scale_pos_weight=None, subsample=1,\n",
       "              tree_method='exact', validate_parameters=1, verbosity=None)"
      ]
     },
     "execution_count": 53,
     "metadata": {},
     "output_type": "execute_result"
    }
   ],
   "source": [
    "clf1.fit(X_train, y_train_call)"
   ]
  },
  {
   "cell_type": "code",
   "execution_count": 54,
   "metadata": {},
   "outputs": [
    {
     "data": {
      "text/plain": [
       "0.9210526315789473"
      ]
     },
     "execution_count": 54,
     "metadata": {},
     "output_type": "execute_result"
    }
   ],
   "source": [
    "clf1.score(X_test, y_test_call)"
   ]
  },
  {
   "cell_type": "code",
   "execution_count": 55,
   "metadata": {},
   "outputs": [],
   "source": [
    "y_clf1 = clf1.predict(X_test)\n",
    "prob_clf1 = clf1.predict_proba(X_test)"
   ]
  },
  {
   "cell_type": "code",
   "execution_count": 56,
   "metadata": {},
   "outputs": [
    {
     "name": "stdout",
     "output_type": "stream",
     "text": [
      "1. Tested Calls\n",
      "['growl' 'prusten' 'roar']\n",
      "2. Predicted Calls\n",
      "['growl' 'prusten' 'roar']\n",
      "3. Not tested for but predicted\n",
      "set()\n",
      "4. Tested for but not predicted\n",
      "set()\n"
     ]
    }
   ],
   "source": [
    "print('1. Tested Calls')\n",
    "print(np.unique(y_test_call))\n",
    "print('2. Predicted Calls')\n",
    "print(np.unique(y_clf1))\n",
    "print('3. Not tested for but predicted')\n",
    "print(set(np.unique(y_clf1))-set(np.unique(y_test_call)))\n",
    "print('4. Tested for but not predicted')\n",
    "print(set(np.unique(y_test_call))-set(np.unique(y_clf1)))"
   ]
  },
  {
   "cell_type": "code",
   "execution_count": 57,
   "metadata": {},
   "outputs": [
    {
     "data": {
      "image/png": "[encoded data removed]",
      "text/plain": [
       "<Figure size 432x288 with 1 Axes>"
      ]
     },
     "metadata": {
      "needs_background": "light"
     },
     "output_type": "display_data"
    }
   ],
   "source": [
    "importances = clf1.feature_importances_\n",
    "imp = np.argsort(importances)[::-1]\n",
    "\n",
    "\n",
    "plt.title('Feature Importance')\n",
    "plt.bar(range(X_train.shape[1]), importances[imp], align='center')\n",
    "plt.xticks(range(X_train.shape[1]), X_train.columns[imp], rotation=90)\n",
    "plt.tight_layout()\n",
    "plt.savefig('Feature Importance in Call Classification With XGBoost.png')\n",
    "plt.show()"
   ]
  },
  {
   "cell_type": "code",
   "execution_count": 58,
   "metadata": {},
   "outputs": [
    {
     "name": "stdout",
     "output_type": "stream",
     "text": [
      "Accuracy 0.9210526315789473\n"
     ]
    },
    {
     "data": {
      "image/png": "[encoded data removed]",
      "text/plain": [
       "<Figure size 576x288 with 2 Axes>"
      ]
     },
     "metadata": {
      "needs_background": "light"
     },
     "output_type": "display_data"
    }
   ],
   "source": [
    "names_rf = sorted(list(set(np.unique(y_test_call)).union(set(y_clf1))))\n",
    "cnf = confusion_matrix(y_test_call, y_clf1)\n",
    "fig, ax = plt.subplots(figsize=(8,4))\n",
    "\n",
    "print('Accuracy',clf1.score(X_test, y_test_call))\n",
    "\n",
    "sns.heatmap(cnf, annot=True, xticklabels=names_rf, yticklabels=names_rf,cmap= \"YlOrBr\")\n",
    "plt.title('XGBoost')\n",
    "ax.xaxis.set_label_position('top')\n",
    "plt.ylabel('Actual')\n",
    "plt.xlabel('Predicted')\n",
    "#plt.savefig('RF.png')\n",
    "plt.show(block=False)\n"
   ]
  },
  {
   "cell_type": "code",
   "execution_count": 59,
   "metadata": {},
   "outputs": [
    {
     "name": "stdout",
     "output_type": "stream",
     "text": [
      "[21:39:39] WARNING: C:/Users/Administrator/workspace/xgboost-win64_release_1.4.0/src/learner.cc:1095: Starting in XGBoost 1.3.0, the default evaluation metric used with the objective 'binary:logistic' was changed from 'error' to 'logloss'. Explicitly set eval_metric if you'd like to restore the old behavior.\n",
      "[21:39:39] WARNING: C:/Users/Administrator/workspace/xgboost-win64_release_1.4.0/src/learner.cc:1095: Starting in XGBoost 1.3.0, the default evaluation metric used with the objective 'binary:logistic' was changed from 'error' to 'logloss'. Explicitly set eval_metric if you'd like to restore the old behavior.\n",
      "[21:39:40] WARNING: C:/Users/Administrator/workspace/xgboost-win64_release_1.4.0/src/learner.cc:1095: Starting in XGBoost 1.3.0, the default evaluation metric used with the objective 'binary:logistic' was changed from 'error' to 'logloss'. Explicitly set eval_metric if you'd like to restore the old behavior.\n"
     ]
    },
    {
     "data": {
      "image/png": "[encoded data removed]",
      "text/plain": [
       "<Figure size 864x576 with 1 Axes>"
      ]
     },
     "metadata": {
      "needs_background": "light"
     },
     "output_type": "display_data"
    }
   ],
   "source": [
    "import numpy as np\n",
    "import matplotlib.pyplot as plt\n",
    "from sklearn import svm, datasets\n",
    "from sklearn.metrics import roc_curve, auc\n",
    "from sklearn.preprocessing import label_binarize\n",
    "from sklearn.multiclass import OneVsRestClassifier\n",
    "\n",
    "X = df[pd.notnull(df['Call'])][['Duration_in_Sec','Zero_Crossings', 'Amp_range',\n",
    "       'Avg_amp', 'Freq_range', 'Pulses_per_Sec', 'Mean_MFCC',\n",
    "       'Mean_Spectral Rolloff', 'Mean_Melspectrogram',\n",
    "       'Mean_Spectral Contrast', 'Mean_Chromagram', 'Mean_Tempogram', 'Mean RMS']]\n",
    "df['Call'] = df['Call'].astype('category')\n",
    "df['Call'] = df['Call'].cat.codes\n",
    "y = df[pd.notnull(df['Call'])]['Call']\n",
    "\n",
    "# Binarize the output\n",
    "y = label_binarize(y, classes=[0, 1, 2])\n",
    "n_classes = y.shape[1]\n",
    "\n",
    "# shuffle and split training and test sets\n",
    "X_train_roc, X_test_roc, y_train_roc, y_test_roc = train_test_split(X, y, test_size=.30, random_state=42)\n",
    "\n",
    "# Learn to predict each class against the other\n",
    "classifier = OneVsRestClassifier(XGBClassifier(n_estimators=1200))\n",
    "y_score = classifier.fit(X_train_roc, y_train_roc).predict_proba(X_test_roc)\n",
    "\n",
    "# Compute ROC curve and ROC area for each class\n",
    "fpr = dict()\n",
    "tpr = dict()\n",
    "roc_auc = dict()\n",
    "for i in range(n_classes):\n",
    "    fpr[i], tpr[i], _ = roc_curve(y_test_roc[:, i], y_score[:, i])\n",
    "    roc_auc[i] = auc(fpr[i], tpr[i])\n",
    "\n",
    "# Compute micro-average ROC curve and ROC area\n",
    "fpr[\"micro\"], tpr[\"micro\"], _ = roc_curve(y_test_roc.ravel(), y_score.ravel())\n",
    "roc_auc[\"micro\"] = auc(fpr[\"micro\"], tpr[\"micro\"])\n",
    "\n",
    "\n",
    "# Plot ROC curve\n",
    "plt.figure(figsize=(12,8))\n",
    "plt.plot(fpr[\"micro\"], tpr[\"micro\"],\n",
    "         label='micro-average ROC curve (area = {0:0.2f})'\n",
    "               ''.format(roc_auc[\"micro\"]))\n",
    "\n",
    "\n",
    "for i in range(n_classes):\n",
    "    plt.plot(fpr[i], tpr[i], label='ROC curve of class {0} (area = {1:0.2f})'\n",
    "                                   ''.format(i, roc_auc[i]))\n",
    "\n",
    "plt.plot([0, 1], [0, 1], 'k--')\n",
    "plt.xlim([0.0, 1.0])\n",
    "plt.ylim([0.0, 1.05])\n",
    "plt.xlabel('False Positive Rate', fontsize=14)\n",
    "plt.ylabel('True Positive Rate', fontsize=14)\n",
    "plt.title('ROC Curves for Species Classification')\n",
    "\n",
    "plt.xticks(fontsize=14)\n",
    "plt.yticks(fontsize=14)\n",
    "\n",
    "L = plt.legend(loc=\"lower right\", prop={'size': 12})\n",
    "\n",
    "\n",
    "L.get_texts()[1].set_text('ROC curve of Growl (area = 0.96)')\n",
    "L.get_texts()[2].set_text('ROC curve of Prusten (area = 1.00)')\n",
    "L.get_texts()[3].set_text('ROC curve of Roar (area = 0.98)')\n",
    "\n",
    "\n",
    "plt.savefig('ROC Call071722.png')\n",
    "plt.show()"
   ]
  },
  {
   "cell_type": "markdown",
   "metadata": {},
   "source": [
    "# Species Classification"
   ]
  },
  {
   "cell_type": "markdown",
   "metadata": {},
   "source": [
    "## Splitting data"
   ]
  },
  {
   "cell_type": "code",
   "execution_count": 60,
   "metadata": {},
   "outputs": [],
   "source": [
    "y_train_species = y_train.Species\n",
    "y_test_species = y_test.Species"
   ]
  },
  {
   "cell_type": "markdown",
   "metadata": {},
   "source": [
    "## XGBoost Classifier"
   ]
  },
  {
   "cell_type": "code",
   "execution_count": 61,
   "metadata": {},
   "outputs": [],
   "source": [
    "parameters = dict(\n",
    "    objective='multi:softprob',\n",
    "    random_state = 42,\n",
    "    max_depth=9,\n",
    "    learning_rate=0.01,\n",
    "    subsample=0.8,\n",
    "    colsample_bytree=0.4,\n",
    "    tree_method='gpu_hist',\n",
    "    num_class=2)\n",
    "#eval_metric='mlogloss'\n",
    "\n",
    "clf1 = XGBClassifier(**parameters,n_estimators=1200)"
   ]
  },
  {
   "cell_type": "code",
   "execution_count": 62,
   "metadata": {},
   "outputs": [
    {
     "name": "stdout",
     "output_type": "stream",
     "text": [
      "[21:39:47] WARNING: C:/Users/Administrator/workspace/xgboost-win64_release_1.4.0/src/learner.cc:1095: Starting in XGBoost 1.3.0, the default evaluation metric used with the objective 'multi:softprob' was changed from 'merror' to 'mlogloss'. Explicitly set eval_metric if you'd like to restore the old behavior.\n"
     ]
    },
    {
     "data": {
      "text/html": [
       "<style>#sk-container-id-4 {color: black;background-color: white;}#sk-container-id-4 pre{padding: 0;}#sk-container-id-4 div.sk-toggleable {background-color: white;}#sk-container-id-4 label.sk-toggleable__label {cursor: pointer;display: block;width: 100%;margin-bottom: 0;padding: 0.3em;box-sizing: border-box;text-align: center;}#sk-container-id-4 label.sk-toggleable__label-arrow:before {content: \"▸\";float: left;margin-right: 0.25em;color: #696969;}#sk-container-id-4 label.sk-toggleable__label-arrow:hover:before {color: black;}#sk-container-id-4 div.sk-estimator:hover label.sk-toggleable__label-arrow:before {color: black;}#sk-container-id-4 div.sk-toggleable__content {max-height: 0;max-width: 0;overflow: hidden;text-align: left;background-color: #f0f8ff;}#sk-container-id-4 div.sk-toggleable__content pre {margin: 0.2em;color: black;border-radius: 0.25em;background-color: #f0f8ff;}#sk-container-id-4 input.sk-toggleable__control:checked~div.sk-toggleable__content {max-height: 200px;max-width: 100%;overflow: auto;}#sk-container-id-4 input.sk-toggleable__control:checked~label.sk-toggleable__label-arrow:before {content: \"▾\";}#sk-container-id-4 div.sk-estimator input.sk-toggleable__control:checked~label.sk-toggleable__label {background-color: #d4ebff;}#sk-container-id-4 div.sk-label input.sk-toggleable__control:checked~label.sk-toggleable__label {background-color: #d4ebff;}#sk-container-id-4 input.sk-hidden--visually {border: 0;clip: rect(1px 1px 1px 1px);clip: rect(1px, 1px, 1px, 1px);height: 1px;margin: -1px;overflow: hidden;padding: 0;position: absolute;width: 1px;}#sk-container-id-4 div.sk-estimator {font-family: monospace;background-color: #f0f8ff;border: 1px dotted black;border-radius: 0.25em;box-sizing: border-box;margin-bottom: 0.5em;}#sk-container-id-4 div.sk-estimator:hover {background-color: #d4ebff;}#sk-container-id-4 div.sk-parallel-item::after {content: \"\";width: 100%;border-bottom: 1px solid gray;flex-grow: 1;}#sk-container-id-4 div.sk-label:hover label.sk-toggleable__label {background-color: #d4ebff;}#sk-container-id-4 div.sk-serial::before {content: \"\";position: absolute;border-left: 1px solid gray;box-sizing: border-box;top: 0;bottom: 0;left: 50%;z-index: 0;}#sk-container-id-4 div.sk-serial {display: flex;flex-direction: column;align-items: center;background-color: white;padding-right: 0.2em;padding-left: 0.2em;position: relative;}#sk-container-id-4 div.sk-item {position: relative;z-index: 1;}#sk-container-id-4 div.sk-parallel {display: flex;align-items: stretch;justify-content: center;background-color: white;position: relative;}#sk-container-id-4 div.sk-item::before, #sk-container-id-4 div.sk-parallel-item::before {content: \"\";position: absolute;border-left: 1px solid gray;box-sizing: border-box;top: 0;bottom: 0;left: 50%;z-index: -1;}#sk-container-id-4 div.sk-parallel-item {display: flex;flex-direction: column;z-index: 1;position: relative;background-color: white;}#sk-container-id-4 div.sk-parallel-item:first-child::after {align-self: flex-end;width: 50%;}#sk-container-id-4 div.sk-parallel-item:last-child::after {align-self: flex-start;width: 50%;}#sk-container-id-4 div.sk-parallel-item:only-child::after {width: 0;}#sk-container-id-4 div.sk-dashed-wrapped {border: 1px dashed gray;margin: 0 0.4em 0.5em 0.4em;box-sizing: border-box;padding-bottom: 0.4em;background-color: white;}#sk-container-id-4 div.sk-label label {font-family: monospace;font-weight: bold;display: inline-block;line-height: 1.2em;}#sk-container-id-4 div.sk-label-container {text-align: center;}#sk-container-id-4 div.sk-container {/* jupyter's `normalize.less` sets `[hidden] { display: none; }` but bootstrap.min.css set `[hidden] { display: none !important; }` so we also need the `!important` here to be able to override the default hidden behavior on the sphinx rendered scikit-learn.org. See: https://github.com/scikit-learn/scikit-learn/issues/21755 */display: inline-block !important;position: relative;}#sk-container-id-4 div.sk-text-repr-fallback {display: none;}</style><div id=\"sk-container-id-4\" class=\"sk-top-container\"><div class=\"sk-text-repr-fallback\"><pre>XGBClassifier(base_score=0.5, booster=&#x27;gbtree&#x27;, colsample_bylevel=1,\n",
       "              colsample_bynode=1, colsample_bytree=0.4, gamma=0, gpu_id=0,\n",
       "              importance_type=&#x27;gain&#x27;, interaction_constraints=&#x27;&#x27;,\n",
       "              learning_rate=0.01, max_delta_step=0, max_depth=9,\n",
       "              min_child_weight=1, missing=nan, monotone_constraints=&#x27;()&#x27;,\n",
       "              n_estimators=1200, n_jobs=12, num_class=2, num_parallel_tree=1,\n",
       "              objective=&#x27;multi:softprob&#x27;, random_state=42, reg_alpha=0,\n",
       "              reg_lambda=1, scale_pos_weight=None, subsample=0.8,\n",
       "              tree_method=&#x27;gpu_hist&#x27;, validate_parameters=1, verbosity=None)</pre><b>In a Jupyter environment, please rerun this cell to show the HTML representation or trust the notebook. <br />On GitHub, the HTML representation is unable to render, please try loading this page with nbviewer.org.</b></div><div class=\"sk-container\" hidden><div class=\"sk-item\"><div class=\"sk-estimator sk-toggleable\"><input class=\"sk-toggleable__control sk-hidden--visually\" id=\"sk-estimator-id-4\" type=\"checkbox\" checked><label for=\"sk-estimator-id-4\" class=\"sk-toggleable__label sk-toggleable__label-arrow\">XGBClassifier</label><div class=\"sk-toggleable__content\"><pre>XGBClassifier(base_score=0.5, booster=&#x27;gbtree&#x27;, colsample_bylevel=1,\n",
       "              colsample_bynode=1, colsample_bytree=0.4, gamma=0, gpu_id=0,\n",
       "              importance_type=&#x27;gain&#x27;, interaction_constraints=&#x27;&#x27;,\n",
       "              learning_rate=0.01, max_delta_step=0, max_depth=9,\n",
       "              min_child_weight=1, missing=nan, monotone_constraints=&#x27;()&#x27;,\n",
       "              n_estimators=1200, n_jobs=12, num_class=2, num_parallel_tree=1,\n",
       "              objective=&#x27;multi:softprob&#x27;, random_state=42, reg_alpha=0,\n",
       "              reg_lambda=1, scale_pos_weight=None, subsample=0.8,\n",
       "              tree_method=&#x27;gpu_hist&#x27;, validate_parameters=1, verbosity=None)</pre></div></div></div></div></div>"
      ],
      "text/plain": [
       "XGBClassifier(base_score=0.5, booster='gbtree', colsample_bylevel=1,\n",
       "              colsample_bynode=1, colsample_bytree=0.4, gamma=0, gpu_id=0,\n",
       "              importance_type='gain', interaction_constraints='',\n",
       "              learning_rate=0.01, max_delta_step=0, max_depth=9,\n",
       "              min_child_weight=1, missing=nan, monotone_constraints='()',\n",
       "              n_estimators=1200, n_jobs=12, num_class=2, num_parallel_tree=1,\n",
       "              objective='multi:softprob', random_state=42, reg_alpha=0,\n",
       "              reg_lambda=1, scale_pos_weight=None, subsample=0.8,\n",
       "              tree_method='gpu_hist', validate_parameters=1, verbosity=None)"
      ]
     },
     "execution_count": 62,
     "metadata": {},
     "output_type": "execute_result"
    }
   ],
   "source": [
    "clf1.fit(X_train, y_train_species)"
   ]
  },
  {
   "cell_type": "code",
   "execution_count": 63,
   "metadata": {},
   "outputs": [
    {
     "data": {
      "text/plain": [
       "0.7631578947368421"
      ]
     },
     "execution_count": 63,
     "metadata": {},
     "output_type": "execute_result"
    }
   ],
   "source": [
    "clf1.score(X_test, y_test_species)"
   ]
  },
  {
   "cell_type": "code",
   "execution_count": 64,
   "metadata": {},
   "outputs": [],
   "source": [
    "y_clf1 = clf1.predict(X_test)\n",
    "prob_clf1 = clf1.predict_proba(X_test)"
   ]
  },
  {
   "cell_type": "code",
   "execution_count": 65,
   "metadata": {},
   "outputs": [
    {
     "name": "stdout",
     "output_type": "stream",
     "text": [
      "1. Tested Calls\n",
      "['Clouded leopard' 'Jaguar' 'Leopard' 'Lion']\n",
      "2. Predicted Calls\n",
      "['Clouded leopard' 'Jaguar' 'Leopard' 'Lion']\n",
      "3. Not tested for but predicted\n",
      "set()\n",
      "4. Tested for but not predicted\n",
      "set()\n"
     ]
    }
   ],
   "source": [
    "print('1. Tested Calls')\n",
    "print(np.unique(y_test_species))\n",
    "print('2. Predicted Calls')\n",
    "print(np.unique(y_clf1))\n",
    "print('3. Not tested for but predicted')\n",
    "print(set(np.unique(y_clf1))-set(np.unique(y_test_species)))\n",
    "print('4. Tested for but not predicted')\n",
    "print(set(np.unique(y_test_species))-set(np.unique(y_clf1)))"
   ]
  },
  {
   "cell_type": "code",
   "execution_count": 66,
   "metadata": {},
   "outputs": [
    {
     "data": {
      "image/png": "[encoded data removed]",
      "text/plain": [
       "<Figure size 432x288 with 1 Axes>"
      ]
     },
     "metadata": {
      "needs_background": "light"
     },
     "output_type": "display_data"
    }
   ],
   "source": [
    "importances = clf1.feature_importances_\n",
    "imp = np.argsort(importances)[::-1]\n",
    "\n",
    "\n",
    "plt.title('Feature Importance')\n",
    "plt.bar(range(X_train.shape[1]), importances[imp], align='center')\n",
    "plt.xticks(range(X_train.shape[1]), X_train.columns[imp], rotation=90)\n",
    "plt.tight_layout()\n",
    "#plt.savefig('Feature Importance in Call Classification With XGBoost.png')\n",
    "plt.show()"
   ]
  },
  {
   "cell_type": "code",
   "execution_count": 67,
   "metadata": {},
   "outputs": [
    {
     "name": "stdout",
     "output_type": "stream",
     "text": [
      "Accuracy 0.7631578947368421\n"
     ]
    },
    {
     "data": {
      "image/png": "[encoded data removed]",
      "text/plain": [
       "<Figure size 576x288 with 2 Axes>"
      ]
     },
     "metadata": {
      "needs_background": "light"
     },
     "output_type": "display_data"
    }
   ],
   "source": [
    "names_rf = sorted(list(set(np.unique(y_test_species)).union(set(y_clf1))))\n",
    "cnf = confusion_matrix(y_test_species, y_clf1)\n",
    "fig, ax = plt.subplots(figsize=(8,4))\n",
    "\n",
    "print('Accuracy',clf1.score(X_test, y_test_species))\n",
    "\n",
    "sns.heatmap(cnf, annot=True, xticklabels=names_rf, yticklabels=names_rf,cmap= \"YlOrBr\")\n",
    "plt.title('XGBoost')\n",
    "ax.xaxis.set_label_position('top')\n",
    "plt.ylabel('Actual')\n",
    "plt.xlabel('Predicted')\n",
    "#plt.savefig('RF.png')\n",
    "plt.show(block=False)\n"
   ]
  },
  {
   "cell_type": "code",
   "execution_count": null,
   "metadata": {},
   "outputs": [
    {
     "name": "stdout",
     "output_type": "stream",
     "text": [
      "[21:39:57] WARNING: C:/Users/Administrator/workspace/xgboost-win64_release_1.4.0/src/learner.cc:1095: Starting in XGBoost 1.3.0, the default evaluation metric used with the objective 'multi:softprob' was changed from 'merror' to 'mlogloss'. Explicitly set eval_metric if you'd like to restore the old behavior.\n",
      "[21:40:02] WARNING: C:/Users/Administrator/workspace/xgboost-win64_release_1.4.0/src/learner.cc:1095: Starting in XGBoost 1.3.0, the default evaluation metric used with the objective 'multi:softprob' was changed from 'merror' to 'mlogloss'. Explicitly set eval_metric if you'd like to restore the old behavior.\n",
      "[21:40:07] WARNING: C:/Users/Administrator/workspace/xgboost-win64_release_1.4.0/src/learner.cc:1095: Starting in XGBoost 1.3.0, the default evaluation metric used with the objective 'multi:softprob' was changed from 'merror' to 'mlogloss'. Explicitly set eval_metric if you'd like to restore the old behavior.\n"
     ]
    }
   ],
   "source": [
    "import numpy as np\n",
    "import matplotlib.pyplot as plt\n",
    "from sklearn import svm, datasets\n",
    "from sklearn.metrics import roc_curve, auc\n",
    "from sklearn.preprocessing import label_binarize\n",
    "from sklearn.multiclass import OneVsRestClassifier\n",
    "\n",
    "X = df[pd.notnull(df['Call'])][['Duration_in_Sec','Zero_Crossings', 'Amp_range',\n",
    "       'Avg_amp', 'Freq_range', 'Pulses_per_Sec', 'Mean_MFCC',\n",
    "       'Mean_Spectral Rolloff', 'Mean_Melspectrogram',\n",
    "       'Mean_Spectral Contrast', 'Mean_Chromagram', 'Mean_Tempogram', 'Mean RMS']]\n",
    "df['Species'] = df['Species'].astype('category')\n",
    "df['Species'] = df['Species'].cat.codes\n",
    "y = df[pd.notnull(df['Species'])]['Species']\n",
    "\n",
    "# Binarize the output\n",
    "y = label_binarize(y, classes=[0, 1, 2, 3])\n",
    "n_classes = y.shape[1]\n",
    "\n",
    "# shuffle and split training and test sets\n",
    "X_train_roc, X_test_roc, y_train_roc, y_test_roc = train_test_split(X, y, test_size=.30, random_state=42)\n",
    "\n",
    "# Learn to predict each class against the other\n",
    "classifier = OneVsRestClassifier(XGBClassifier(**parameters, n_estimators=1200))\n",
    "y_score = classifier.fit(X_train_roc, y_train_roc).predict_proba(X_test_roc)\n",
    "\n",
    "# Compute ROC curve and ROC area for each class\n",
    "fpr = dict()\n",
    "tpr = dict()\n",
    "roc_auc = dict()\n",
    "for i in range(n_classes):\n",
    "    fpr[i], tpr[i], _ = roc_curve(y_test_roc[:, i], y_score[:, i])\n",
    "    roc_auc[i] = auc(fpr[i], tpr[i])\n",
    "\n",
    "# Compute micro-average ROC curve and ROC area\n",
    "fpr[\"micro\"], tpr[\"micro\"], _ = roc_curve(y_test_roc.ravel(), y_score.ravel())\n",
    "roc_auc[\"micro\"] = auc(fpr[\"micro\"], tpr[\"micro\"])\n",
    "\n",
    "\n",
    "# Plot ROC curve\n",
    "plt.figure(figsize=(12,8))\n",
    "plt.plot(fpr[\"micro\"], tpr[\"micro\"],\n",
    "         label='micro-average ROC curve (area = {0:0.2f})'\n",
    "               ''.format(roc_auc[\"micro\"]))\n",
    "\n",
    "\n",
    "for i in range(n_classes):\n",
    "    plt.plot(fpr[i], tpr[i], label='ROC curve of class {0} (area = {1:0.2f})'\n",
    "                                   ''.format(i, roc_auc[i]))\n",
    "\n",
    "plt.plot([0, 1], [0, 1], 'k--')\n",
    "plt.xlim([0.0, 1.0])\n",
    "plt.ylim([0.0, 1.05])\n",
    "plt.xlabel('False Positive Rate', fontsize=14)\n",
    "plt.ylabel('True Positive Rate', fontsize=14)\n",
    "plt.title('ROC Curves for Species Classification')\n",
    "\n",
    "plt.xticks(fontsize=14)\n",
    "plt.yticks(fontsize=14)\n",
    "\n",
    "L = plt.legend(loc=\"lower right\", prop={'size': 12})\n",
    "\n",
    "L.get_texts()[1].set_text('ROC curve of Clouded Leopard (area = 1.00)')\n",
    "L.get_texts()[2].set_text('ROC curve of Jaguar (area = 0,69)')\n",
    "L.get_texts()[3].set_text('ROC curve of Leopard (area = 0.96)')\n",
    "L.get_texts()[3].set_text('ROC curve of Lion (area = 0.89)')\n",
    "\n",
    "\n",
    "plt.savefig('ROC Species071722.png')\n",
    "plt.show()"
   ]
  },
  {
   "cell_type": "code",
   "execution_count": null,
   "metadata": {},
   "outputs": [],
   "source": []
  }
 ],
 "metadata": {
  "kernelspec": {
   "display_name": "Python 3",
   "language": "python",
   "name": "python3"
  },
  "language_info": {
   "codemirror_mode": {
    "name": "ipython",
    "version": 3
   },
   "file_extension": ".py",
   "mimetype": "text/x-python",
   "name": "python",
   "nbconvert_exporter": "python",
   "pygments_lexer": "ipython3",
   "version": "3.8.8"
  }
 },
 "nbformat": 4,
 "nbformat_minor": 4
}
