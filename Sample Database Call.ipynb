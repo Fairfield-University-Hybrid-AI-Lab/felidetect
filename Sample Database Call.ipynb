{
 "cells": [
  {
   "cell_type": "code",
   "execution_count": 1,
   "metadata": {},
   "outputs": [
    {
     "name": "stdout",
     "output_type": "stream",
     "text": [
      "('Caracal Carcal', 'Male', 'Adult', Decimal('0.000'), Decimal('4.000'), 'Growl', 0, None)\n",
      "('Caracal Carcal', 'Male', 'Adult', Decimal('4.000'), Decimal('6.000'), 'Hiss', 0, None)\n",
      "('Caracal Carcal', 'Male', 'Adult', Decimal('53.240'), Decimal('54.160'), 'Loud rumble/roar', 2, None)\n"
     ]
    }
   ],
   "source": [
    "import pyodbc \n",
    "conn = pyodbc.connect('Driver={SQL Server};'\n",
    "                      'Server=LAPTOP-VKIQRIFA;'\n",
    "                      'Database=FairfieldUDW;'\n",
    "                      'Trusted_Connection=yes;')\n",
    "\n",
    "cursor = conn.cursor()\n",
    "cursor.execute('SELECT * FROM sample')\n",
    "\n",
    "for row in cursor:\n",
    "    print(row)"
   ]
  },
  {
   "cell_type": "code",
   "execution_count": null,
   "metadata": {},
   "outputs": [],
   "source": []
  }
 ],
 "metadata": {
  "kernelspec": {
   "display_name": "Python 3",
   "language": "python",
   "name": "python3"
  },
  "language_info": {
   "codemirror_mode": {
    "name": "ipython",
    "version": 3
   },
   "file_extension": ".py",
   "mimetype": "text/x-python",
   "name": "python",
   "nbconvert_exporter": "python",
   "pygments_lexer": "ipython3",
   "version": "3.8.5"
  }
 },
 "nbformat": 4,
 "nbformat_minor": 4
}
